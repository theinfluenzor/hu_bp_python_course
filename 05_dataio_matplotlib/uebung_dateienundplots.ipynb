{
 "cells": [
  {
   "cell_type": "code",
   "execution_count": 1,
   "metadata": {
    "collapsed": true
   },
   "outputs": [],
   "source": [
    "import cPickle as pickle\n"
   ]
  },
  {
   "cell_type": "code",
   "execution_count": 9,
   "metadata": {
    "collapsed": false
   },
   "outputs": [
    {
     "name": "stdout",
     "output_type": "stream",
     "text": [
      "ATGTCTGCTGCTGCTGATAGATTAAACTTAACTTCCGGCCACTTGAATGCTGGTAGAAAGAGAAGTTCCTCTTCTGTTTCTTTGAAGGCTGCCGAAAAGCCTTTCAAGGTTACTGTGATTGGATCTGGTAACTGGGGTACTACTATTGCCAAGGTGGTTGCCGAAAATTGTAAGGGATACCCAGAAGTTTTCGCTCCAATAGTACAAATGTGGGTGTTCGAAGAAGAGATCAATGGTGAAAAATTGACTGAAATCATAAATACTAGACATCAAAACGTGAAATACTTGCCTGGCATCACTCTACCCGACAATTTGGTTGCTAATCCAGACTTGATTGATTCAGTCAAGGATGTCGACATCATCGTTTTCAACATTCCACATCAATTTTTGCCCCGTATCTGTAGCCAATTGAAAGGTCATGTTGATTCACACGTCAGAGCTATCTCCTGTCTAAAGGGTTTTGAAGTTGGTGCTAAAGGTGTCCAATTGCTATCCTCTTACATCACTGAGGAACTAGGTATTCAATGTGGTGCTCTATCTGGTGCTAACATTGCCACCGAAGTCGCTCAAGAACACTGGTCTGAAACAACAGTTGCTTACCACATTCCAAAGGATTTCAGAGGCGAGGGCAAGGACGTCGACCATAAGGTTCTAAAGGCCTTGTTCCACAGACCTTACTTCCACGTTAGTGTCATCGAAGATGTTGCTGGTATCTCCATCTGTGGTGCTTTGAAGAACGTTGTTGCCTTAGGTTGTGGTTTCGTCGAAGGTCTAGGCTGGGGTAACAACGCTTCTGCTGCCATCCAAAGAGTCGGTTTGGGTGAGATCATCAGATTCGGTCAAATGTTTTTCCCAGAATCTAGAGAAGAAACATACTACCAAGAGTCTGCTGGTGTTGCTGATTTGATCACCACCTGCGCTGGTGGTAGAAACGTCAAGGTTGCTAGGCTAATGGCTACTTCTGGTAAGGACGCCTGGGAATGTGAAAAGGAGTTGTTGAATGGCCAATCCGCTCAAGGTTTAATTACCTGCAAAGAAGTTCACGAATGGTTGGAAACATGTGGCTCTGTCGAAGACTTCCCATTATTTGAAGCCGTATACCAAATCGTTTACAACAACTACCCAATGAAGAACCTGCCGGACATGATTGAAGAATTAGATCTACATGAAGATTAG\n"
     ]
    }
   ],
   "source": [
    "with open('GPD1_seq.fasta', 'r') as f: \n",
    "    lines = f.readlines()\n",
    "seq=''\n",
    "for line in lines:\n",
    "    if line.startswith('>'): \n",
    "        continue\n",
    "    else:        \n",
    "        seq=seq + line.rstrip()\n",
    "print seq\n",
    "\n"
   ]
  },
  {
   "cell_type": "code",
   "execution_count": 14,
   "metadata": {
    "collapsed": false
   },
   "outputs": [],
   "source": [
    "def compute_nt_composition( sequence ):\n",
    "    base_dict = {'A':0,'C':0,'G':0,'T':0}\n",
    "    for elem in sequence:\n",
    "        base_dict[elem]+=1\n",
    "    return base_dict"
   ]
  },
  {
   "cell_type": "code",
   "execution_count": 20,
   "metadata": {
    "collapsed": false
   },
   "outputs": [
    {
     "name": "stdout",
     "output_type": "stream",
     "text": [
      "{'A': 324, 'C': 240, 'T': 336, 'G': 276}\n"
     ]
    }
   ],
   "source": [
    "result = compute_nt_composition(seq)\n",
    "print result"
   ]
  },
  {
   "cell_type": "code",
   "execution_count": 18,
   "metadata": {
    "collapsed": false
   },
   "outputs": [],
   "source": [
    "with open('save.p', 'w') as f:\n",
    "    pickle.dump(result, f)"
   ]
  },
  {
   "cell_type": "code",
   "execution_count": 22,
   "metadata": {
    "collapsed": true
   },
   "outputs": [],
   "source": [
    "%matplotlib inline \n",
    "from pylab import *"
   ]
  },
  {
   "cell_type": "code",
   "execution_count": 35,
   "metadata": {
    "collapsed": false
   },
   "outputs": [
    {
     "data": {
      "text/plain": [
       "[None, None, None, None, None, None, None, None]"
      ]
     },
     "execution_count": 35,
     "metadata": {},
     "output_type": "execute_result"
    },
    {
     "data": {
      "image/png": "[encoded data removed]",
      "text/plain": [
       "<matplotlib.figure.Figure at 0x7f9eca7ac410>"
      ]
     },
     "metadata": {},
     "output_type": "display_data"
    }
   ],
   "source": [
    "xv=[0.7,1.7,2.7,3.7]; yv=[324,240,336,276]\n",
    "mybar=bar(xv,yv,width=0.7)\n",
    "xticks(range(1,5),['A','B','C','D'])\n",
    "setp(mybar,color='g',edgecolor='k')"
   ]
  },
  {
   "cell_type": "code",
   "execution_count": null,
   "metadata": {
    "collapsed": true
   },
   "outputs": [],
   "source": []
  }
 ],
 "metadata": {
  "kernelspec": {
   "display_name": "Python 2",
   "language": "python",
   "name": "python2"
  },
  "language_info": {
   "codemirror_mode": {
    "name": "ipython",
    "version": 2
   },
   "file_extension": ".py",
   "mimetype": "text/x-python",
   "name": "python",
   "nbconvert_exporter": "python",
   "pygments_lexer": "ipython2",
   "version": "2.7.6"
  }
 },
 "nbformat": 4,
 "nbformat_minor": 0
}
