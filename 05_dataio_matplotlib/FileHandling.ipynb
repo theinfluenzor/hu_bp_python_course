{
 "metadata": {
  "name": "",
  "signature": "sha256:c95ca5fcc0e637597b777e648f3d98fb685b9f856700285e72cc7dabb636175b"
 },
 "nbformat": 3,
 "nbformat_minor": 0,
 "worksheets": [
  {
   "cells": [
    {
     "cell_type": "heading",
     "level": 1,
     "metadata": {},
     "source": [
      "File handling"
     ]
    },
    {
     "cell_type": "heading",
     "level": 3,
     "metadata": {},
     "source": [
      "Input/Output"
     ]
    },
    {
     "cell_type": "code",
     "collapsed": false,
     "input": [
      "# raw input function reads from standard in and returns a string\n",
      "answer = raw_input(\"enter your name:\")\n",
      "print answer\n",
      "\n",
      "# input function takes python code as input !attention!\n",
      "answer = input(\"python input:\")\n",
      "print answer"
     ],
     "language": "python",
     "metadata": {},
     "outputs": [
      {
       "name": "stdout",
       "output_type": "stream",
       "stream": "stdout",
       "text": [
        "enter your name:Jannis\n"
       ]
      },
      {
       "output_type": "stream",
       "stream": "stdout",
       "text": [
        "Jannis\n"
       ]
      },
      {
       "name": "stdout",
       "output_type": "stream",
       "stream": "stdout",
       "text": [
        "python input:range(12)\n"
       ]
      },
      {
       "output_type": "stream",
       "stream": "stdout",
       "text": [
        "[0, 1, 2, 3, 4, 5, 6, 7, 8, 9, 10, 11]\n"
       ]
      }
     ],
     "prompt_number": 2
    },
    {
     "cell_type": "heading",
     "level": 3,
     "metadata": {},
     "source": [
      "Simple file operations"
     ]
    },
    {
     "cell_type": "heading",
     "level": 5,
     "metadata": {},
     "source": [
      "writing to files"
     ]
    },
    {
     "cell_type": "code",
     "collapsed": false,
     "input": [
      "# files can be opened using the open function, which creates a file object\n",
      "f = open( 'new_file.txt', 'w' ) # attention overwrites existing file\n",
      "# importan functions: read, write, readlines, writelines\n",
      "#dir(f) \n",
      "f.write(\"Hallo Welt!\")\n",
      "f.close()"
     ],
     "language": "python",
     "metadata": {},
     "outputs": [],
     "prompt_number": 4
    },
    {
     "cell_type": "code",
     "collapsed": false,
     "input": [
      "# writelines\n",
      "lines  = []\n",
      "for i in range(12):\n",
      "    lines.append(\"Number: \" + str(i) + '\\n')\n",
      "print lines\n",
      "\n",
      "\n",
      "f = open( 'new_file.txt', 'a' )  # open file and append to it\n",
      "f.writelines(lines)\n",
      "f.close()"
     ],
     "language": "python",
     "metadata": {},
     "outputs": [
      {
       "output_type": "stream",
       "stream": "stdout",
       "text": [
        "['Number: 0\\n', 'Number: 1\\n', 'Number: 2\\n', 'Number: 3\\n', 'Number: 4\\n', 'Number: 5\\n', 'Number: 6\\n', 'Number: 7\\n', 'Number: 8\\n', 'Number: 9\\n', 'Number: 10\\n', 'Number: 11\\n']\n"
       ]
      }
     ],
     "prompt_number": 5
    },
    {
     "cell_type": "heading",
     "level": 5,
     "metadata": {},
     "source": [
      "reading from files"
     ]
    },
    {
     "cell_type": "code",
     "collapsed": false,
     "input": [
      "# usage of with to open files is recommended in python\n",
      "with open('new_file.txt', 'r') as f: # open file for reading\n",
      "    content = f.read() # get the whole content of a file into a string\n",
      "\n",
      "print content\n"
     ],
     "language": "python",
     "metadata": {},
     "outputs": [
      {
       "output_type": "stream",
       "stream": "stdout",
       "text": [
        "Hallo Welt!Number: 0\n",
        "Number: 1\n",
        "Number: 2\n",
        "Number: 3\n",
        "Number: 4\n",
        "Number: 5\n",
        "Number: 6\n",
        "Number: 7\n",
        "Number: 8\n",
        "Number: 9\n",
        "Number: 10\n",
        "Number: 11\n",
        "\n"
       ]
      }
     ],
     "prompt_number": 6
    },
    {
     "cell_type": "code",
     "collapsed": false,
     "input": [
      "with open('new_file.txt', 'r') as f: # open file for reading\n",
      "    lines = f.readlines()\n",
      "print lines\n",
      "f.close()"
     ],
     "language": "python",
     "metadata": {},
     "outputs": [
      {
       "output_type": "stream",
       "stream": "stdout",
       "text": [
        "['Hallo Welt!Number: 0\\n', 'Number: 1\\n', 'Number: 2\\n', 'Number: 3\\n', 'Number: 4\\n', 'Number: 5\\n', 'Number: 6\\n', 'Number: 7\\n', 'Number: 8\\n', 'Number: 9\\n', 'Number: 10\\n', 'Number: 11\\n']\n"
       ]
      }
     ],
     "prompt_number": 7
    },
    {
     "cell_type": "heading",
     "level": 3,
     "metadata": {},
     "source": [
      "Parsing data "
     ]
    },
    {
     "cell_type": "code",
     "collapsed": false,
     "input": [
      "with open('data.txt', 'r') as f:\n",
      "    lines = f.readlines()\n",
      "#print lines\n",
      "\n",
      "data = {}\n",
      "\n",
      "# iterate over all lines in the file\n",
      "for line in lines:\n",
      "    if line.startswith('#'): # skip comments\n",
      "        continue\n",
      "    left, right = line.split(':') # split splits a string at the occurence of the keyword\n",
      "    data[ left.strip() ] = float(right) # strip removes leading and tailing spaces\n",
      "print data\n"
     ],
     "language": "python",
     "metadata": {},
     "outputs": [
      {
       "ename": "IOError",
       "evalue": "[Errno 2] No such file or directory: 'data.txt'",
       "output_type": "pyerr",
       "traceback": [
        "\u001b[0;31m---------------------------------------------------------------------------\u001b[0m\n\u001b[0;31mIOError\u001b[0m                                   Traceback (most recent call last)",
        "\u001b[0;32m<ipython-input-8-e2931ceb2032>\u001b[0m in \u001b[0;36m<module>\u001b[0;34m()\u001b[0m\n\u001b[0;32m----> 1\u001b[0;31m \u001b[0;32mwith\u001b[0m \u001b[0mopen\u001b[0m\u001b[0;34m(\u001b[0m\u001b[0;34m'data.txt'\u001b[0m\u001b[0;34m,\u001b[0m \u001b[0;34m'r'\u001b[0m\u001b[0;34m)\u001b[0m \u001b[0;32mas\u001b[0m \u001b[0mf\u001b[0m\u001b[0;34m:\u001b[0m\u001b[0;34m\u001b[0m\u001b[0m\n\u001b[0m\u001b[1;32m      2\u001b[0m     \u001b[0mlines\u001b[0m \u001b[0;34m=\u001b[0m \u001b[0mf\u001b[0m\u001b[0;34m.\u001b[0m\u001b[0mreadlines\u001b[0m\u001b[0;34m(\u001b[0m\u001b[0;34m)\u001b[0m\u001b[0;34m\u001b[0m\u001b[0m\n\u001b[1;32m      3\u001b[0m \u001b[0;31m#print lines\u001b[0m\u001b[0;34m\u001b[0m\u001b[0;34m\u001b[0m\u001b[0m\n\u001b[1;32m      4\u001b[0m \u001b[0;34m\u001b[0m\u001b[0m\n\u001b[1;32m      5\u001b[0m \u001b[0mdata\u001b[0m \u001b[0;34m=\u001b[0m \u001b[0;34m{\u001b[0m\u001b[0;34m}\u001b[0m\u001b[0;34m\u001b[0m\u001b[0m\n",
        "\u001b[0;31mIOError\u001b[0m: [Errno 2] No such file or directory: 'data.txt'"
       ]
      }
     ],
     "prompt_number": 8
    },
    {
     "cell_type": "heading",
     "level": 3,
     "metadata": {},
     "source": [
      "Object serialization using pickle"
     ]
    },
    {
     "cell_type": "code",
     "collapsed": false,
     "input": [
      "# the pickle class is used to serialize python variables (convert them to bytestrings)\n",
      "# cPickle is written in C and a lot faster as normal pickle, but cannot be subclassed\n",
      "import cPickle as pickle"
     ],
     "language": "python",
     "metadata": {},
     "outputs": [],
     "prompt_number": 9
    },
    {
     "cell_type": "heading",
     "level": 5,
     "metadata": {},
     "source": [
      "how pickle converts objects to strings"
     ]
    },
    {
     "cell_type": "code",
     "collapsed": false,
     "input": [
      "d = { 1: 'green', 2: 'blue', 3: 'red' }\n",
      "pickle.dumps( d ) "
     ],
     "language": "python",
     "metadata": {},
     "outputs": [
      {
       "metadata": {},
       "output_type": "pyout",
       "prompt_number": 10,
       "text": [
        "\"(dp1\\nI1\\nS'green'\\np2\\nsI2\\nS'blue'\\np3\\nsI3\\nS'red'\\np4\\ns.\""
       ]
      }
     ],
     "prompt_number": 10
    },
    {
     "cell_type": "heading",
     "level": 5,
     "metadata": {},
     "source": [
      "how to save objects to a file"
     ]
    },
    {
     "cell_type": "code",
     "collapsed": false,
     "input": [
      "with open('save.p', 'w') as f:\n",
      "    pickle.dump(d, f)"
     ],
     "language": "python",
     "metadata": {},
     "outputs": [],
     "prompt_number": 11
    },
    {
     "cell_type": "code",
     "collapsed": false,
     "input": [
      "with open('save.p', 'r') as f:\n",
      "    loaded_data = pickle.load(f)\n",
      "print loaded_data"
     ],
     "language": "python",
     "metadata": {},
     "outputs": [
      {
       "output_type": "stream",
       "stream": "stdout",
       "text": [
        "{1: 'green', 2: 'blue', 3: 'red'}\n"
       ]
      }
     ],
     "prompt_number": 12
    },
    {
     "cell_type": "heading",
     "level": 3,
     "metadata": {},
     "source": [
      "Organizing files in folders"
     ]
    },
    {
     "cell_type": "code",
     "collapsed": false,
     "input": [
      "# create a folder for the data files\n",
      "import os\n",
      "\n",
      "# get current working directory\n",
      "work_path = os.getcwd()\n",
      "print work_path"
     ],
     "language": "python",
     "metadata": {},
     "outputs": [
      {
       "output_type": "stream",
       "stream": "stdout",
       "text": [
        "/home/uhlendorf/Documents/python_course/fachkurs_2015/hu_bp_python_course/05_dataio_matplotlib\n"
       ]
      }
     ],
     "prompt_number": 13
    },
    {
     "cell_type": "code",
     "collapsed": false,
     "input": [
      "# define path for data files\n",
      "data_path = os.path.join(work_path, 'data/')\n",
      "\n",
      "# check if folder exists already\n",
      "if not os.path.exists(data_path): \n",
      "    os.mkdir(data_path)"
     ],
     "language": "python",
     "metadata": {},
     "outputs": [],
     "prompt_number": 14
    },
    {
     "cell_type": "heading",
     "level": 3,
     "metadata": {},
     "source": [
      "Comma separated value (CSV) files"
     ]
    },
    {
     "cell_type": "heading",
     "level": 3,
     "metadata": {},
     "source": [
      "reading tabular data using pandas"
     ]
    },
    {
     "cell_type": "code",
     "collapsed": false,
     "input": [
      "with open('real_estate.csv', 'r') as f:\n",
      "    f.readlines()"
     ],
     "language": "python",
     "metadata": {},
     "outputs": [],
     "prompt_number": 17
    },
    {
     "cell_type": "code",
     "collapsed": false,
     "input": [
      "import pandas as pd\n",
      "df = pd.read_csv( 'real_estate.csv' )\n",
      "print df\n",
      "#print df.values.tolist()"
     ],
     "language": "python",
     "metadata": {},
     "outputs": [
      {
       "output_type": "stream",
       "stream": "stdout",
       "text": [
        "                              street             city    zip state  beds  \\\n",
        "0                       3526 HIGH ST       SACRAMENTO  95838    CA     2   \n",
        "1                        51 OMAHA CT       SACRAMENTO  95823    CA     3   \n",
        "2                     2796 BRANCH ST       SACRAMENTO  95815    CA     2   \n",
        "3                   2805 JANETTE WAY       SACRAMENTO  95815    CA     2   \n",
        "4                    6001 MCMAHON DR       SACRAMENTO  95824    CA     2   \n",
        "5                 5828 PEPPERMILL CT       SACRAMENTO  95841    CA     3   \n",
        "6                6048 OGDEN NASH WAY       SACRAMENTO  95842    CA     3   \n",
        "7                      2561 19TH AVE       SACRAMENTO  95820    CA     3   \n",
        "8    11150 TRINITY RIVER DR Unit 114   RANCHO CORDOVA  95670    CA     2   \n",
        "9                       7325 10TH ST        RIO LINDA  95673    CA     3   \n",
        "10                  645 MORRISON AVE       SACRAMENTO  95838    CA     3   \n",
        "11                     4085 FAWN CIR       SACRAMENTO  95823    CA     3   \n",
        "12                   2930 LA ROSA RD       SACRAMENTO  95815    CA     1   \n",
        "13                     2113 KIRK WAY       SACRAMENTO  95822    CA     3   \n",
        "14               4533 LOCH HAVEN WAY       SACRAMENTO  95842    CA     2   \n",
        "15                    7340 HAMDEN PL       SACRAMENTO  95842    CA     2   \n",
        "16                       6715 6TH ST        RIO LINDA  95673    CA     2   \n",
        "17           6236 LONGFORD DR Unit 1   CITRUS HEIGHTS  95621    CA     2   \n",
        "18                   250 PERALTA AVE       SACRAMENTO  95833    CA     2   \n",
        "19                   113 LEEWILL AVE        RIO LINDA  95673    CA     3   \n",
        "20                6118 STONEHAND AVE   CITRUS HEIGHTS  95621    CA     3   \n",
        "21                 4882 BANDALIN WAY       SACRAMENTO  95823    CA     4   \n",
        "22                   7511 OAKVALE CT  NORTH HIGHLANDS  95660    CA     4   \n",
        "23                      9 PASTURE CT       SACRAMENTO  95834    CA     3   \n",
        "24                3729 BAINBRIDGE DR  NORTH HIGHLANDS  95660    CA     3   \n",
        "25                3828 BLACKFOOT WAY         ANTELOPE  95843    CA     3   \n",
        "26                   4108 NORTON WAY       SACRAMENTO  95820    CA     3   \n",
        "27                  1469 JANRICK AVE       SACRAMENTO  95832    CA     3   \n",
        "28                     9861 CULP WAY       SACRAMENTO  95827    CA     4   \n",
        "29             7825 CREEK VALLEY CIR       SACRAMENTO  95828    CA     3   \n",
        "..                               ...              ...    ...   ...   ...   \n",
        "955                  2100 BEATTY WAY        ROSEVILLE  95747    CA     3   \n",
        "956              6920 GILLINGHAM WAY  NORTH HIGHLANDS  95660    CA     3   \n",
        "957                 82 WILDFLOWER DR             GALT  95632    CA     3   \n",
        "958                  8652 BANTON CIR        ELK GROVE  95624    CA     4   \n",
        "959              8428 MISTY PASS WAY         ANTELOPE  95843    CA     3   \n",
        "960                7958 ROSEVIEW WAY       SACRAMENTO  95828    CA     3   \n",
        "961                    9020 LUKEN CT        ELK GROVE  95624    CA     3   \n",
        "962              7809 VALLECITOS WAY       SACRAMENTO  95828    CA     3   \n",
        "963               8445 OLD AUBURN RD   CITRUS HEIGHTS  95610    CA     3   \n",
        "964                  10085 ATKINS DR        ELK GROVE  95757    CA     3   \n",
        "965              9185 CERROLINDA CIR        ELK GROVE  95758    CA     3   \n",
        "966                 9197 CORTINA CIR        ROSEVILLE  95678    CA     3   \n",
        "967                  5429 HESPER WAY       CARMICHAEL  95608    CA     4   \n",
        "968                 1178 WARMWOOD CT             GALT  95632    CA     4   \n",
        "969                    4900 ELUDE CT       SACRAMENTO  95842    CA     4   \n",
        "970                    3557 SODA WAY       SACRAMENTO  95834    CA     0   \n",
        "971             3528 SAINT GEORGE DR       SACRAMENTO  95821    CA     3   \n",
        "972                7381 WASHBURN WAY  NORTH HIGHLANDS  95660    CA     3   \n",
        "973             2181 WINTERHAVEN CIR     CAMERON PARK  95682    CA     3   \n",
        "974                 7540 HICKORY AVE       ORANGEVALE  95662    CA     3   \n",
        "975              5024 CHAMBERLIN CIR        ELK GROVE  95757    CA     3   \n",
        "976                2400 INVERNESS DR          LINCOLN  95648    CA     3   \n",
        "977                  5 BISHOPGATE CT       SACRAMENTO  95823    CA     4   \n",
        "978                 5601 REXLEIGH DR       SACRAMENTO  95823    CA     4   \n",
        "979                 1909 YARNELL WAY        ELK GROVE  95758    CA     3   \n",
        "980               9169 GARLINGTON CT       SACRAMENTO  95829    CA     4   \n",
        "981                  6932 RUSKUT WAY       SACRAMENTO  95823    CA     3   \n",
        "982                7933 DAFFODIL WAY   CITRUS HEIGHTS  95610    CA     3   \n",
        "983                 8304 RED FOX WAY        ELK GROVE  95758    CA     4   \n",
        "984              3882 YELLOWSTONE LN  EL DORADO HILLS  95762    CA     3   \n",
        "\n",
        "     baths  sq__ft         type                     sale_date   price  \\\n",
        "0        1     836  Residential  Wed May 21 00:00:00 EDT 2008   59222   \n",
        "1        1    1167  Residential  Wed May 21 00:00:00 EDT 2008   68212   \n",
        "2        1     796  Residential  Wed May 21 00:00:00 EDT 2008   68880   \n",
        "3        1     852  Residential  Wed May 21 00:00:00 EDT 2008   69307   \n",
        "4        1     797  Residential  Wed May 21 00:00:00 EDT 2008   81900   \n",
        "5        1    1122        Condo  Wed May 21 00:00:00 EDT 2008   89921   \n",
        "6        2    1104  Residential  Wed May 21 00:00:00 EDT 2008   90895   \n",
        "7        1    1177  Residential  Wed May 21 00:00:00 EDT 2008   91002   \n",
        "8        2     941        Condo  Wed May 21 00:00:00 EDT 2008   94905   \n",
        "9        2    1146  Residential  Wed May 21 00:00:00 EDT 2008   98937   \n",
        "10       2     909  Residential  Wed May 21 00:00:00 EDT 2008  100309   \n",
        "11       2    1289  Residential  Wed May 21 00:00:00 EDT 2008  106250   \n",
        "12       1     871  Residential  Wed May 21 00:00:00 EDT 2008  106852   \n",
        "13       1    1020  Residential  Wed May 21 00:00:00 EDT 2008  107502   \n",
        "14       2    1022  Residential  Wed May 21 00:00:00 EDT 2008  108750   \n",
        "15       2    1134        Condo  Wed May 21 00:00:00 EDT 2008  110700   \n",
        "16       1     844  Residential  Wed May 21 00:00:00 EDT 2008  113263   \n",
        "17       1     795        Condo  Wed May 21 00:00:00 EDT 2008  116250   \n",
        "18       1     588  Residential  Wed May 21 00:00:00 EDT 2008  120000   \n",
        "19       2    1356  Residential  Wed May 21 00:00:00 EDT 2008  121630   \n",
        "20       2    1118  Residential  Wed May 21 00:00:00 EDT 2008  122000   \n",
        "21       2    1329  Residential  Wed May 21 00:00:00 EDT 2008  122682   \n",
        "22       2    1240  Residential  Wed May 21 00:00:00 EDT 2008  123000   \n",
        "23       2    1601  Residential  Wed May 21 00:00:00 EDT 2008  124100   \n",
        "24       2     901  Residential  Wed May 21 00:00:00 EDT 2008  125000   \n",
        "25       2    1088  Residential  Wed May 21 00:00:00 EDT 2008  126640   \n",
        "26       1     963  Residential  Wed May 21 00:00:00 EDT 2008  127281   \n",
        "27       2    1119  Residential  Wed May 21 00:00:00 EDT 2008  129000   \n",
        "28       2    1380  Residential  Wed May 21 00:00:00 EDT 2008  131200   \n",
        "29       2    1248  Residential  Wed May 21 00:00:00 EDT 2008  132000   \n",
        "..     ...     ...          ...                           ...     ...   \n",
        "955      2    1371  Residential  Thu May 15 00:00:00 EDT 2008  208250   \n",
        "956      1    1310  Residential  Thu May 15 00:00:00 EDT 2008  208318   \n",
        "957      2    1262  Residential  Thu May 15 00:00:00 EDT 2008  209347   \n",
        "958      2    1740  Residential  Thu May 15 00:00:00 EDT 2008  211500   \n",
        "959      2    1517  Residential  Thu May 15 00:00:00 EDT 2008  212000   \n",
        "960      2    1450  Residential  Thu May 15 00:00:00 EDT 2008  213000   \n",
        "961      2    1416  Residential  Thu May 15 00:00:00 EDT 2008  216000   \n",
        "962      1     888  Residential  Thu May 15 00:00:00 EDT 2008  216021   \n",
        "963      2    1882  Residential  Thu May 15 00:00:00 EDT 2008  219000   \n",
        "964      2    1302  Residential  Thu May 15 00:00:00 EDT 2008  219794   \n",
        "965      2    1418  Residential  Thu May 15 00:00:00 EDT 2008  220000   \n",
        "966      2       0        Condo  Thu May 15 00:00:00 EDT 2008  220000   \n",
        "967      2    1319  Residential  Thu May 15 00:00:00 EDT 2008  220000   \n",
        "968      2    1770  Residential  Thu May 15 00:00:00 EDT 2008  220000   \n",
        "969      2    1627  Residential  Thu May 15 00:00:00 EDT 2008  223000   \n",
        "970      0       0  Residential  Thu May 15 00:00:00 EDT 2008  224000   \n",
        "971      1    1040  Residential  Thu May 15 00:00:00 EDT 2008  224000   \n",
        "972      1     960  Residential  Thu May 15 00:00:00 EDT 2008  224252   \n",
        "973      2       0  Residential  Thu May 15 00:00:00 EDT 2008  224500   \n",
        "974      1    1456  Residential  Thu May 15 00:00:00 EDT 2008  225000   \n",
        "975      2    1450  Residential  Thu May 15 00:00:00 EDT 2008  228000   \n",
        "976      2    1358  Residential  Thu May 15 00:00:00 EDT 2008  229027   \n",
        "977      2    1329  Residential  Thu May 15 00:00:00 EDT 2008  229500   \n",
        "978      2    1715  Residential  Thu May 15 00:00:00 EDT 2008  230000   \n",
        "979      2    1262  Residential  Thu May 15 00:00:00 EDT 2008  230000   \n",
        "980      3    2280  Residential  Thu May 15 00:00:00 EDT 2008  232425   \n",
        "981      2    1477  Residential  Thu May 15 00:00:00 EDT 2008  234000   \n",
        "982      2    1216  Residential  Thu May 15 00:00:00 EDT 2008  235000   \n",
        "983      2    1685  Residential  Thu May 15 00:00:00 EDT 2008  235301   \n",
        "984      2    1362  Residential  Thu May 15 00:00:00 EDT 2008  235738   \n",
        "\n",
        "      latitude   longitude  \n",
        "0    38.631913 -121.434879  \n",
        "1    38.478902 -121.431028  \n",
        "2    38.618305 -121.443839  \n",
        "3    38.616835 -121.439146  \n",
        "4    38.519470 -121.435768  \n",
        "5    38.662595 -121.327813  \n",
        "6    38.681659 -121.351705  \n",
        "7    38.535092 -121.481367  \n",
        "8    38.621188 -121.270555  \n",
        "9    38.700909 -121.442979  \n",
        "10   38.637663 -121.451520  \n",
        "11   38.470746 -121.458918  \n",
        "12   38.618698 -121.435833  \n",
        "13   38.482215 -121.492603  \n",
        "14   38.672914 -121.359340  \n",
        "15   38.700051 -121.351278  \n",
        "16   38.689591 -121.452239  \n",
        "17   38.679776 -121.314089  \n",
        "18   38.612099 -121.469095  \n",
        "19   38.689999 -121.463220  \n",
        "20   38.707851 -121.320707  \n",
        "21   38.468173 -121.444071  \n",
        "22   38.702792 -121.382210  \n",
        "23   38.628631 -121.488097  \n",
        "24   38.701499 -121.376220  \n",
        "25   38.709740 -121.373770  \n",
        "26   38.537526 -121.478315  \n",
        "27   38.476472 -121.501711  \n",
        "28   38.558423 -121.327948  \n",
        "29   38.472122 -121.404199  \n",
        "..         ...         ...  \n",
        "955  38.737882 -121.308142  \n",
        "956  38.694279 -121.373395  \n",
        "957  38.259708 -121.311616  \n",
        "958  38.444000 -121.370993  \n",
        "959  38.722959 -121.347115  \n",
        "960  38.467836 -121.410366  \n",
        "961  38.451398 -121.366614  \n",
        "962  38.508217 -121.411207  \n",
        "963  38.715423 -121.246743  \n",
        "964  38.390893 -121.437821  \n",
        "965  38.424497 -121.426595  \n",
        "966  38.793152 -121.290025  \n",
        "967  38.665104 -121.315901  \n",
        "968  38.289544 -121.284607  \n",
        "969  38.696740 -121.350519  \n",
        "970  38.631026 -121.501879  \n",
        "971  38.629468 -121.376445  \n",
        "972  38.703550 -121.375103  \n",
        "973  38.697570 -120.995739  \n",
        "974  38.703056 -121.235221  \n",
        "975  38.389756 -121.446246  \n",
        "976  38.897814 -121.324691  \n",
        "977  38.467936 -121.445477  \n",
        "978  38.445342 -121.441504  \n",
        "979  38.417382 -121.484325  \n",
        "980  38.457679 -121.359620  \n",
        "981  38.499893 -121.458890  \n",
        "982  38.708824 -121.256803  \n",
        "983  38.417000 -121.397424  \n",
        "984  38.655245 -121.075915  \n",
        "\n",
        "[985 rows x 12 columns]\n"
       ]
      }
     ],
     "prompt_number": 18
    },
    {
     "cell_type": "markdown",
     "metadata": {},
     "source": [
      "#JavaScript Object Notation (JSON)#\n",
      "\n",
      "*JSON (/\u02c8d\u0292e\u026as\u0259n/ JAY-s\u0259n),[1] or JavaScript Object Notation, is an open standard format that uses human-readable text to transmit data objects consisting of attribute\u2013value pairs. It is used primarily to transmit data between a server and web application, as an alternative to XML.*\n",
      "\n",
      "*Although originally derived from the JavaScript scripting language, JSON is a language-independent data format. Code for parsing and generating JSON data is readily available in many programming languages.*\n",
      "\n",
      "https://en.wikipedia.org/wiki/JSON"
     ]
    },
    {
     "cell_type": "code",
     "collapsed": false,
     "input": [
      "cat employees.json"
     ],
     "language": "python",
     "metadata": {},
     "outputs": [
      {
       "output_type": "stream",
       "stream": "stdout",
       "text": [
        "{\"employees\":[\r\n",
        "    {\"firstName\":\"John\", \"lastName\":\"Doe\"},\r\n",
        "    {\"firstName\":\"Anna\", \"lastName\":\"Smith\"},\r\n",
        "    {\"firstName\":\"Peter\", \"lastName\":\"Jones\"}\r\n",
        "]}\r\n"
       ]
      }
     ],
     "prompt_number": 34
    },
    {
     "cell_type": "code",
     "collapsed": false,
     "input": [
      "import json\n",
      "\n",
      "d = json.load( open('employees.json') ) \n",
      "\n",
      "d['employees'][1] "
     ],
     "language": "python",
     "metadata": {},
     "outputs": [
      {
       "metadata": {},
       "output_type": "pyout",
       "prompt_number": 41,
       "text": [
        "{u'firstName': u'Anna', u'lastName': u'Smith'}"
       ]
      }
     ],
     "prompt_number": 41
    }
   ],
   "metadata": {}
  }
 ]
}