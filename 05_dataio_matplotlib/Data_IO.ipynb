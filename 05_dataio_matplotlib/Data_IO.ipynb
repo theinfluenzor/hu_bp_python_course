{
 "metadata": {
  "celltoolbar": "Slideshow",
  "name": "",
  "signature": "sha256:0953c8f401f9ef7bfd5d5c5f7c1f6fa79582b0ecf80cd4f0245ec811a0ef3206"
 },
 "nbformat": 3,
 "nbformat_minor": 0,
 "worksheets": [
  {
   "cells": [
    {
     "cell_type": "markdown",
     "metadata": {
      "slideshow": {
       "slide_type": "slide"
      }
     },
     "source": [
      "#Serialization or Data I/O#\n",
      "\n",
      "*In computer science, in the context of data storage, serialization is the process of translating data structures or object state into a format that can be stored (for example, in a file or memory buffer, or transmitted across a network connection link) and reconstructed later in the same or another computer environment.[1] When the resulting series of bits is reread according to the serialization format, it can be used to create a semantically identical clone of the original object. For many complex objects, such as those that make extensive use of references, this process is not straightforward. Serialization of object-oriented objects does not include any of their associated methods with which they were previously inextricably linked.*\n",
      "\n",
      "*This process of serializing an object is also called marshalling an object.[2] The opposite operation, extracting a data structure from a series of bytes, is deserialization (which is also called unmarshalling).*\n",
      "\n",
      "https://en.wikipedia.org/wiki/Serialization"
     ]
    },
    {
     "cell_type": "code",
     "collapsed": false,
     "input": [
      "from IPython.display import Image\n",
      "Image(filename='serialization-process.png')"
     ],
     "language": "python",
     "metadata": {
      "slideshow": {
       "slide_type": "fragment"
      }
     },
     "outputs": [
      {
       "metadata": {},
       "output_type": "pyout",
       "png": "[encoded data removed]",
       "prompt_number": 1,
       "text": [
        "<IPython.core.display.Image at 0x7feaa8314310>"
       ]
      }
     ],
     "prompt_number": 1
    },
    {
     "cell_type": "markdown",
     "metadata": {
      "slideshow": {
       "slide_type": "slide"
      }
     },
     "source": [
      "# Pickle #\n",
      "\n",
      "*The pickle module implements a fundamental, but powerful algorithm for serializing and de-serializing a Python object structure. \u201cPickling\u201d is the process whereby a Python object hierarchy is converted into a byte stream, and \u201cunpickling\u201d is the inverse operation, whereby a byte stream is converted back into an object hierarchy. Pickling (and unpickling) is alternatively known as \u201cserialization\u201d, \u201cmarshalling,\u201d [1] or \u201cflattening\u201d, however, to avoid confusion, the terms used here are \u201cpickling\u201d and \u201cunpickling\u201d.* \n",
      "\n",
      "https://docs.python.org/2/library/pickle.html"
     ]
    },
    {
     "cell_type": "heading",
     "level": 3,
     "metadata": {
      "slideshow": {
       "slide_type": "subslide"
      }
     },
     "source": [
      "import the pickle module"
     ]
    },
    {
     "cell_type": "code",
     "collapsed": false,
     "input": [
      "import cPickle as pickle"
     ],
     "language": "python",
     "metadata": {
      "slideshow": {
       "slide_type": "fragment"
      }
     },
     "outputs": [],
     "prompt_number": 2
    },
    {
     "cell_type": "heading",
     "level": 3,
     "metadata": {
      "slideshow": {
       "slide_type": "fragment"
      }
     },
     "source": [
      "Create some objects"
     ]
    },
    {
     "cell_type": "code",
     "collapsed": false,
     "input": [
      "foo = ['a','b','c']\n",
      "bar = {'a':1,'b':2}\n",
      "\n",
      "print foo, bar"
     ],
     "language": "python",
     "metadata": {
      "slideshow": {
       "slide_type": "fragment"
      }
     },
     "outputs": [
      {
       "output_type": "stream",
       "stream": "stdout",
       "text": [
        "['a', 'b', 'c'] {'a': 1, 'b': 2}\n"
       ]
      }
     ],
     "prompt_number": 3
    },
    {
     "cell_type": "heading",
     "level": 3,
     "metadata": {
      "slideshow": {
       "slide_type": "fragment"
      }
     },
     "source": [
      "This is what pickle makes"
     ]
    },
    {
     "cell_type": "code",
     "collapsed": false,
     "input": [
      "pickle.dumps((foo,bar))"
     ],
     "language": "python",
     "metadata": {
      "slideshow": {
       "slide_type": "fragment"
      }
     },
     "outputs": [
      {
       "metadata": {},
       "output_type": "pyout",
       "prompt_number": 4,
       "text": [
        "\"((lp1\\nS'a'\\naS'b'\\naS'c'\\na(dp2\\nS'a'\\nI1\\nsS'b'\\nI2\\nst.\""
       ]
      }
     ],
     "prompt_number": 4
    },
    {
     "cell_type": "heading",
     "level": 3,
     "metadata": {
      "slideshow": {
       "slide_type": "fragment"
      }
     },
     "source": [
      "Save it to a file"
     ]
    },
    {
     "cell_type": "code",
     "collapsed": false,
     "input": [
      "pickle.dump((foo,bar),open('test.pickle','wb'))"
     ],
     "language": "python",
     "metadata": {
      "slideshow": {
       "slide_type": "fragment"
      }
     },
     "outputs": [],
     "prompt_number": 5
    },
    {
     "cell_type": "heading",
     "level": 3,
     "metadata": {
      "slideshow": {
       "slide_type": "fragment"
      }
     },
     "source": [
      "and load it again"
     ]
    },
    {
     "cell_type": "code",
     "collapsed": false,
     "input": [
      "(foo2,bar2) = pickle.load(open('test.pickle','rb'))\n",
      "print foo2, bar2"
     ],
     "language": "python",
     "metadata": {
      "slideshow": {
       "slide_type": "fragment"
      }
     },
     "outputs": [
      {
       "output_type": "stream",
       "stream": "stdout",
       "text": [
        "['a', 'b', 'c'] {'a': 1, 'b': 2}\n"
       ]
      }
     ],
     "prompt_number": 6
    },
    {
     "cell_type": "heading",
     "level": 3,
     "metadata": {
      "slideshow": {
       "slide_type": "subslide"
      }
     },
     "source": [
      "Create two data vectors and plot them"
     ]
    },
    {
     "cell_type": "code",
     "collapsed": false,
     "input": [
      "import numpy as np\n",
      "import matplotlib.pyplot as plt\n",
      "plt.style.use('ggplot')\n",
      "%matplotlib inline\n",
      "\n",
      "\n",
      "t = np.linspace(0,2*np.pi,20)\n",
      "y = np.sin(t)\n",
      "\n",
      "print \"t = \", t, '\\n\\n', \"y = \", y\n",
      "\n",
      "plt.plot(t,y);"
     ],
     "language": "python",
     "metadata": {
      "slideshow": {
       "slide_type": "fragment"
      }
     },
     "outputs": [
      {
       "output_type": "stream",
       "stream": "stdout",
       "text": [
        "t =  [ 0.          0.33069396  0.66138793  0.99208189  1.32277585  1.65346982\n",
        "  1.98416378  2.31485774  2.64555171  2.97624567  3.30693964  3.6376336\n",
        "  3.96832756  4.29902153  4.62971549  4.96040945  5.29110342  5.62179738\n",
        "  5.95249134  6.28318531] \n",
        "\n",
        "y =  [  0.00000000e+00   3.24699469e-01   6.14212713e-01   8.37166478e-01\n",
        "   9.69400266e-01   9.96584493e-01   9.15773327e-01   7.35723911e-01\n",
        "   4.75947393e-01   1.64594590e-01  -1.64594590e-01  -4.75947393e-01\n",
        "  -7.35723911e-01  -9.15773327e-01  -9.96584493e-01  -9.69400266e-01\n",
        "  -8.37166478e-01  -6.14212713e-01  -3.24699469e-01  -2.44929360e-16]\n"
       ]
      },
      {
       "metadata": {},
       "output_type": "display_data",
       "png": "[encoded data removed]",
       "text": [
        "<matplotlib.figure.Figure at 0x7feab07b12d0>"
       ]
      }
     ],
     "prompt_number": 7
    },
    {
     "cell_type": "heading",
     "level": 3,
     "metadata": {
      "slideshow": {
       "slide_type": "subslide"
      }
     },
     "source": [
      "Save them to a \"pickle\" file"
     ]
    },
    {
     "cell_type": "code",
     "collapsed": false,
     "input": [
      "pickle.dump((t,y),open('my_first_pickle.pickle','wb'))"
     ],
     "language": "python",
     "metadata": {
      "slideshow": {
       "slide_type": "fragment"
      }
     },
     "outputs": [],
     "prompt_number": 8
    },
    {
     "cell_type": "heading",
     "level": 3,
     "metadata": {
      "slideshow": {
       "slide_type": "fragment"
      }
     },
     "source": [
      "clear the variables t and y"
     ]
    },
    {
     "cell_type": "code",
     "collapsed": false,
     "input": [
      "del t, y"
     ],
     "language": "python",
     "metadata": {
      "slideshow": {
       "slide_type": "fragment"
      }
     },
     "outputs": [],
     "prompt_number": 9
    },
    {
     "cell_type": "heading",
     "level": 3,
     "metadata": {
      "slideshow": {
       "slide_type": "subslide"
      }
     },
     "source": [
      "Load the variables from the pickle file and plot them again"
     ]
    },
    {
     "cell_type": "code",
     "collapsed": false,
     "input": [
      "(t, y) = pickle.load(open('my_first_pickle.pickle','rb'))\n",
      "plt.plot(t,y);"
     ],
     "language": "python",
     "metadata": {
      "slideshow": {
       "slide_type": "fragment"
      }
     },
     "outputs": [
      {
       "metadata": {},
       "output_type": "display_data",
       "png": "[encoded data removed]",
       "text": [
        "<matplotlib.figure.Figure at 0x7fea8a1ab610>"
       ]
      }
     ],
     "prompt_number": 10
    },
    {
     "cell_type": "heading",
     "level": 2,
     "metadata": {
      "slideshow": {
       "slide_type": "slide"
      }
     },
     "source": [
      "Organizing files in folders"
     ]
    },
    {
     "cell_type": "code",
     "collapsed": false,
     "input": [
      "# create a folder for the data files\n",
      "import os\n",
      "\n",
      "# get current working directory\n",
      "work_path = os.getcwd()\n",
      "\n",
      "# define path for data files\n",
      "data_path = os.path.join(work_path,'data/')\n",
      "\n",
      "# check if folder exists already\n",
      "if not os.path.exists(data_path): \n",
      "    os.mkdir(data_path,0775)"
     ],
     "language": "python",
     "metadata": {
      "slideshow": {
       "slide_type": "fragment"
      }
     },
     "outputs": [],
     "prompt_number": 11
    },
    {
     "cell_type": "markdown",
     "metadata": {
      "slideshow": {
       "slide_type": "slide"
      }
     },
     "source": [
      "#JavaScript Object Notation (JSON)#\n",
      "\n",
      "*JSON (/\u02c8d\u0292e\u026as\u0259n/ JAY-s\u0259n),[1] or JavaScript Object Notation, is an open standard format that uses human-readable text to transmit data objects consisting of attribute\u2013value pairs. It is used primarily to transmit data between a server and web application, as an alternative to XML.*\n",
      "\n",
      "*Although originally derived from the JavaScript scripting language, JSON is a language-independent data format. Code for parsing and generating JSON data is readily available in many programming languages.*\n",
      "\n",
      "https://en.wikipedia.org/wiki/JSON"
     ]
    },
    {
     "cell_type": "markdown",
     "metadata": {
      "slideshow": {
       "slide_type": "subslide"
      }
     },
     "source": [
      "###JSON\n",
      "```\n",
      "{\n",
      "  \"firstName\": \"John\",\n",
      "  \"lastName\": \"Smith\",\n",
      "  \"age\": 25,\n",
      "  \"address\": {\n",
      "    \"city\": \"New York\",\n",
      "    \"state\": \"NY\",\n",
      "  },\n",
      "  \"phoneNumber\": [\n",
      "    {\n",
      "      \"type\": \"home\",\n",
      "      \"number\": \"212 555-1234\"\n",
      "    },\n",
      "    {\n",
      "      \"type\": \"fax\",\n",
      "      \"number\": \"646 555-4567\"\n",
      "    }\n",
      "  ]\n",
      "}\n",
      "```"
     ]
    },
    {
     "cell_type": "markdown",
     "metadata": {
      "slideshow": {
       "slide_type": "fragment"
      }
     },
     "source": [
      "###XML\n",
      "\n",
      "```\n",
      "<person>\n",
      "  <firstName>John</firstName>\n",
      "  <lastName>Smith</lastName>\n",
      "  <age>25</age>\n",
      "  <address>\n",
      "    <city>New York</city>\n",
      "    <state>NY</state>\n",
      "  </address>\n",
      "  <phoneNumbers>\n",
      "    <phoneNumber>\n",
      "      <type>home</type>\n",
      "      <number>212 555-1234</number>\n",
      "    </phoneNumber>\n",
      "    <phoneNumber>\n",
      "      <type>fax</type>\n",
      "      <number>646 555-4567</number>\n",
      "    </phoneNumber>\n",
      "  </phoneNumbers>\n",
      "</person>\n",
      "``` "
     ]
    },
    {
     "cell_type": "heading",
     "level": 3,
     "metadata": {
      "slideshow": {
       "slide_type": "subslide"
      }
     },
     "source": [
      "import JSON module"
     ]
    },
    {
     "cell_type": "code",
     "collapsed": false,
     "input": [
      "import json"
     ],
     "language": "python",
     "metadata": {
      "slideshow": {
       "slide_type": "fragment"
      }
     },
     "outputs": [],
     "prompt_number": 12
    },
    {
     "cell_type": "heading",
     "level": 3,
     "metadata": {
      "slideshow": {
       "slide_type": "fragment"
      }
     },
     "source": [
      "Load JSON from file"
     ]
    },
    {
     "cell_type": "code",
     "collapsed": false,
     "input": [
      "json_name = os.path.join(data_path,'test.json')\n",
      "\n",
      "my_obj = json.load(open(json_name,'rb'))\n",
      "my_obj"
     ],
     "language": "python",
     "metadata": {
      "slideshow": {
       "slide_type": "fragment"
      }
     },
     "outputs": [
      {
       "metadata": {},
       "output_type": "pyout",
       "prompt_number": 13,
       "text": [
        "{u'Deckung': 2000000.0,\n",
        " u'Herausgeber': u'Xema',\n",
        " u'Inhaber': {u'Alter': 42,\n",
        "  u'Hobbys': [u'Reiten', u'Golfen', u'Lesen'],\n",
        "  u'Kinder': [],\n",
        "  u'Name': u'Mustermann',\n",
        "  u'Partner': None,\n",
        "  u'Vorname': u'Max',\n",
        "  u'maennlich': True},\n",
        " u'Nummer': u'1234-5678-9012-3456',\n",
        " u'Waehrung': u'EURO'}"
       ]
      }
     ],
     "prompt_number": 13
    },
    {
     "cell_type": "heading",
     "level": 3,
     "metadata": {
      "slideshow": {
       "slide_type": "subslide"
      }
     },
     "source": [
      "Save JSON to file"
     ]
    },
    {
     "cell_type": "code",
     "collapsed": false,
     "input": [
      "json_name2 = os.path.join(data_path,'test2.json')\n",
      "\n",
      "json.dump(my_obj,open(json_name2,'wb'))\n",
      "print json.dumps(my_obj)"
     ],
     "language": "python",
     "metadata": {
      "slideshow": {
       "slide_type": "fragment"
      }
     },
     "outputs": [
      {
       "output_type": "stream",
       "stream": "stdout",
       "text": [
        "{\"Inhaber\": {\"Hobbys\": [\"Reiten\", \"Golfen\", \"Lesen\"], \"Name\": \"Mustermann\", \"Kinder\": [], \"Vorname\": \"Max\", \"maennlich\": true, \"Partner\": null, \"Alter\": 42}, \"Waehrung\": \"EURO\", \"Herausgeber\": \"Xema\", \"Nummer\": \"1234-5678-9012-3456\", \"Deckung\": 2000000.0}\n"
       ]
      }
     ],
     "prompt_number": 14
    },
    {
     "cell_type": "heading",
     "level": 3,
     "metadata": {
      "slideshow": {
       "slide_type": "subslide"
      }
     },
     "source": [
      "Create an own JSON"
     ]
    },
    {
     "cell_type": "code",
     "collapsed": false,
     "input": [
      "my_obj2 = [{'Student':{'Name': 'Max Mustermann',\n",
      "                        'Fach': ['Biophysik','Philosophie'],\n",
      "                        'Semester': 14,\n",
      "                        'Immatrikuliert':False,\n",
      "                        'Matrikelnummer':342345}},\n",
      "            {'Student':{'Name': 'Michael Meier',\n",
      "                        'Fach': ['Philosophie'],\n",
      "                        'Semester': 3,\n",
      "                        'Immatrikuliert':True,\n",
      "                        'Matrikelnummer':312234}}]\n",
      "\n",
      "my_obj2"
     ],
     "language": "python",
     "metadata": {
      "slideshow": {
       "slide_type": "fragment"
      }
     },
     "outputs": [
      {
       "metadata": {},
       "output_type": "pyout",
       "prompt_number": 15,
       "text": [
        "[{'Student': {'Fach': ['Biophysik', 'Philosophie'],\n",
        "   'Immatrikuliert': False,\n",
        "   'Matrikelnummer': 342345,\n",
        "   'Name': 'Max Mustermann',\n",
        "   'Semester': 14}},\n",
        " {'Student': {'Fach': ['Philosophie'],\n",
        "   'Immatrikuliert': True,\n",
        "   'Matrikelnummer': 312234,\n",
        "   'Name': 'Michael Meier',\n",
        "   'Semester': 3}}]"
       ]
      }
     ],
     "prompt_number": 15
    },
    {
     "cell_type": "heading",
     "level": 3,
     "metadata": {
      "slideshow": {
       "slide_type": "fragment"
      }
     },
     "source": [
      "and save it to a file"
     ]
    },
    {
     "cell_type": "code",
     "collapsed": false,
     "input": [
      "json_name3 = os.path.join(data_path,'test3.json')\n",
      "\n",
      "json.dump(my_obj2,open(json_name3,'wb'))\n",
      "print json.dumps(my_obj2)"
     ],
     "language": "python",
     "metadata": {
      "slideshow": {
       "slide_type": "fragment"
      }
     },
     "outputs": [
      {
       "output_type": "stream",
       "stream": "stdout",
       "text": [
        "[{\"Student\": {\"Fach\": [\"Biophysik\", \"Philosophie\"], \"Immatrikuliert\": false, \"Name\": \"Max Mustermann\", \"Semester\": 14, \"Matrikelnummer\": 342345}}, {\"Student\": {\"Fach\": [\"Philosophie\"], \"Immatrikuliert\": true, \"Name\": \"Michael Meier\", \"Semester\": 3, \"Matrikelnummer\": 312234}}]\n"
       ]
      }
     ],
     "prompt_number": 16
    },
    {
     "cell_type": "markdown",
     "metadata": {
      "slideshow": {
       "slide_type": "subslide"
      }
     },
     "source": [
      "## there are other serialization formats like YAML"
     ]
    },
    {
     "cell_type": "code",
     "collapsed": false,
     "input": [
      "import yaml\n",
      "\n",
      "print yaml.dump(my_obj2)"
     ],
     "language": "python",
     "metadata": {
      "slideshow": {
       "slide_type": "fragment"
      }
     },
     "outputs": [
      {
       "output_type": "stream",
       "stream": "stdout",
       "text": [
        "- Student:\n",
        "    Fach: [Biophysik, Philosophie]\n",
        "    Immatrikuliert: false\n",
        "    Matrikelnummer: 342345\n",
        "    Name: Max Mustermann\n",
        "    Semester: 14\n",
        "- Student:\n",
        "    Fach: [Philosophie]\n",
        "    Immatrikuliert: true\n",
        "    Matrikelnummer: 312234\n",
        "    Name: Michael Meier\n",
        "    Semester: 3\n",
        "\n"
       ]
      }
     ],
     "prompt_number": 17
    },
    {
     "cell_type": "markdown",
     "metadata": {
      "slideshow": {
       "slide_type": "fragment"
      }
     },
     "source": [
      "###optimized for human readability"
     ]
    },
    {
     "cell_type": "markdown",
     "metadata": {
      "slideshow": {
       "slide_type": "slide"
      }
     },
     "source": [
      "#csv and xls"
     ]
    },
    {
     "cell_type": "markdown",
     "metadata": {
      "slideshow": {
       "slide_type": "fragment"
      }
     },
     "source": [
      "###remember the data from the pickle session?"
     ]
    },
    {
     "cell_type": "code",
     "collapsed": false,
     "input": [
      "t = np.linspace(0,2*np.pi,20)\n",
      "y = np.sin(t)\n",
      "print \"t = \", t, '\\n\\n', \"y = \", y\n",
      "\n",
      "plt.plot(t,y);"
     ],
     "language": "python",
     "metadata": {
      "slideshow": {
       "slide_type": "fragment"
      }
     },
     "outputs": [
      {
       "output_type": "stream",
       "stream": "stdout",
       "text": [
        "t =  [ 0.          0.33069396  0.66138793  0.99208189  1.32277585  1.65346982\n",
        "  1.98416378  2.31485774  2.64555171  2.97624567  3.30693964  3.6376336\n",
        "  3.96832756  4.29902153  4.62971549  4.96040945  5.29110342  5.62179738\n",
        "  5.95249134  6.28318531] \n",
        "\n",
        "y =  [  0.00000000e+00   3.24699469e-01   6.14212713e-01   8.37166478e-01\n",
        "   9.69400266e-01   9.96584493e-01   9.15773327e-01   7.35723911e-01\n",
        "   4.75947393e-01   1.64594590e-01  -1.64594590e-01  -4.75947393e-01\n",
        "  -7.35723911e-01  -9.15773327e-01  -9.96584493e-01  -9.69400266e-01\n",
        "  -8.37166478e-01  -6.14212713e-01  -3.24699469e-01  -2.44929360e-16]\n"
       ]
      },
      {
       "metadata": {},
       "output_type": "display_data",
       "png": "[encoded data removed]",
       "text": [
        "<matplotlib.figure.Figure at 0x7fea8a085f50>"
       ]
      }
     ],
     "prompt_number": 18
    },
    {
     "cell_type": "heading",
     "level": 3,
     "metadata": {
      "slideshow": {
       "slide_type": "subslide"
      }
     },
     "source": [
      "First we bring the data into the right format"
     ]
    },
    {
     "cell_type": "code",
     "collapsed": false,
     "input": [
      "# use a list comprehension to arrange data into lines\n",
      "data = [[t[i],y[i]] for i in range(len(t))]\n",
      "\n",
      "## alternative: \n",
      "# data = np.array([t,y]).transpose().tolist()\n",
      "\n",
      "# write column titles\n",
      "header = ['t','y']\n",
      "\n",
      "# insert header into data array\n",
      "data.insert(0,header)\n",
      "data"
     ],
     "language": "python",
     "metadata": {
      "slideshow": {
       "slide_type": "fragment"
      }
     },
     "outputs": [
      {
       "metadata": {},
       "output_type": "pyout",
       "prompt_number": 19,
       "text": [
        "[['t', 'y'],\n",
        " [0.0, 0.0],\n",
        " [0.33069396353576769, 0.32469946920468346],\n",
        " [0.66138792707153538, 0.61421271268966782],\n",
        " [0.99208189060730301, 0.83716647826252855],\n",
        " [1.3227758541430708, 0.96940026593933037],\n",
        " [1.6534698176788385, 0.99658449300666985],\n",
        " [1.984163781214606, 0.91577332665505751],\n",
        " [2.3148577447503738, 0.73572391067313181],\n",
        " [2.6455517082861415, 0.47594739303707367],\n",
        " [2.9762456718219092, 0.16459459028073403],\n",
        " [3.306939635357677, -0.16459459028073378],\n",
        " [3.6376335988934447, -0.47594739303707351],\n",
        " [3.968327562429212, -0.73572391067313125],\n",
        " [4.2990215259649798, -0.91577332665505728],\n",
        " [4.6297154895007475, -0.99658449300666985],\n",
        " [4.9604094530365153, -0.96940026593933049],\n",
        " [5.291103416572283, -0.83716647826252877],\n",
        " [5.6217973801080507, -0.61421271268966804],\n",
        " [5.9524913436438185, -0.32469946920468373],\n",
        " [6.2831853071795862, -2.4492935982947064e-16]]"
       ]
      }
     ],
     "prompt_number": 19
    },
    {
     "cell_type": "heading",
     "level": 3,
     "metadata": {
      "slideshow": {
       "slide_type": "subslide"
      }
     },
     "source": [
      "Now can use the csv module to write data into csv files"
     ]
    },
    {
     "cell_type": "code",
     "collapsed": false,
     "input": [
      "# write to csv using  module\n",
      "import csv\n",
      "\n",
      "csv_name = os.path.join(data_path,'data1.csv')\n",
      "fid = open(csv_name,'wb')\n",
      "csv_writer = csv.writer(fid)\n",
      "\n",
      "# write data rows\n",
      "csv_writer.writerows(data)\n",
      "\n",
      "# close file\n",
      "fid.close()"
     ],
     "language": "python",
     "metadata": {
      "slideshow": {
       "slide_type": "fragment"
      }
     },
     "outputs": [],
     "prompt_number": 20
    },
    {
     "cell_type": "heading",
     "level": 3,
     "metadata": {
      "slideshow": {
       "slide_type": "fragment"
      }
     },
     "source": [
      "Or we do the work manually"
     ]
    },
    {
     "cell_type": "code",
     "collapsed": false,
     "input": [
      "# save data manually to csv-file\n",
      "csv_name = os.path.join(data_path,'data2.csv')\n",
      "fid = open(csv_name,'wb')\n",
      "\n",
      "for line in data:\n",
      "    fid.write(\"%s,%s\\n\" % (line[0],line[1])) # cast to floats?\n",
      "    ## alternative:\n",
      "    # fid.write(\",\".join([str(x) for x in line])+'\\n')\n",
      "            \n",
      "# close file\n",
      "fid.close()"
     ],
     "language": "python",
     "metadata": {
      "slideshow": {
       "slide_type": "fragment"
      }
     },
     "outputs": [],
     "prompt_number": 21
    },
    {
     "cell_type": "heading",
     "level": 3,
     "metadata": {
      "slideshow": {
       "slide_type": "subslide"
      }
     },
     "source": [
      "however, writing tables with many columns gets a bit messy... So we better use **pandas**!"
     ]
    },
    {
     "cell_type": "code",
     "collapsed": false,
     "input": [
      "import pandas as pd\n",
      "\n",
      "# read csv\n",
      "data = pd.read_csv(csv_name)\n",
      "data"
     ],
     "language": "python",
     "metadata": {
      "slideshow": {
       "slide_type": "fragment"
      }
     },
     "outputs": [
      {
       "html": [
        "<div style=\"max-height:1000px;max-width:1500px;overflow:auto;\">\n",
        "<table border=\"1\" class=\"dataframe\">\n",
        "  <thead>\n",
        "    <tr style=\"text-align: right;\">\n",
        "      <th></th>\n",
        "      <th>t</th>\n",
        "      <th>y</th>\n",
        "    </tr>\n",
        "  </thead>\n",
        "  <tbody>\n",
        "    <tr>\n",
        "      <th>0 </th>\n",
        "      <td> 0.000000</td>\n",
        "      <td> 0.000000e+00</td>\n",
        "    </tr>\n",
        "    <tr>\n",
        "      <th>1 </th>\n",
        "      <td> 0.330694</td>\n",
        "      <td> 3.246995e-01</td>\n",
        "    </tr>\n",
        "    <tr>\n",
        "      <th>2 </th>\n",
        "      <td> 0.661388</td>\n",
        "      <td> 6.142127e-01</td>\n",
        "    </tr>\n",
        "    <tr>\n",
        "      <th>3 </th>\n",
        "      <td> 0.992082</td>\n",
        "      <td> 8.371665e-01</td>\n",
        "    </tr>\n",
        "    <tr>\n",
        "      <th>4 </th>\n",
        "      <td> 1.322776</td>\n",
        "      <td> 9.694003e-01</td>\n",
        "    </tr>\n",
        "    <tr>\n",
        "      <th>5 </th>\n",
        "      <td> 1.653470</td>\n",
        "      <td> 9.965845e-01</td>\n",
        "    </tr>\n",
        "    <tr>\n",
        "      <th>6 </th>\n",
        "      <td> 1.984164</td>\n",
        "      <td> 9.157733e-01</td>\n",
        "    </tr>\n",
        "    <tr>\n",
        "      <th>7 </th>\n",
        "      <td> 2.314858</td>\n",
        "      <td> 7.357239e-01</td>\n",
        "    </tr>\n",
        "    <tr>\n",
        "      <th>8 </th>\n",
        "      <td> 2.645552</td>\n",
        "      <td> 4.759474e-01</td>\n",
        "    </tr>\n",
        "    <tr>\n",
        "      <th>9 </th>\n",
        "      <td> 2.976246</td>\n",
        "      <td> 1.645946e-01</td>\n",
        "    </tr>\n",
        "    <tr>\n",
        "      <th>10</th>\n",
        "      <td> 3.306940</td>\n",
        "      <td>-1.645946e-01</td>\n",
        "    </tr>\n",
        "    <tr>\n",
        "      <th>11</th>\n",
        "      <td> 3.637634</td>\n",
        "      <td>-4.759474e-01</td>\n",
        "    </tr>\n",
        "    <tr>\n",
        "      <th>12</th>\n",
        "      <td> 3.968328</td>\n",
        "      <td>-7.357239e-01</td>\n",
        "    </tr>\n",
        "    <tr>\n",
        "      <th>13</th>\n",
        "      <td> 4.299022</td>\n",
        "      <td>-9.157733e-01</td>\n",
        "    </tr>\n",
        "    <tr>\n",
        "      <th>14</th>\n",
        "      <td> 4.629715</td>\n",
        "      <td>-9.965845e-01</td>\n",
        "    </tr>\n",
        "    <tr>\n",
        "      <th>15</th>\n",
        "      <td> 4.960409</td>\n",
        "      <td>-9.694003e-01</td>\n",
        "    </tr>\n",
        "    <tr>\n",
        "      <th>16</th>\n",
        "      <td> 5.291103</td>\n",
        "      <td>-8.371665e-01</td>\n",
        "    </tr>\n",
        "    <tr>\n",
        "      <th>17</th>\n",
        "      <td> 5.621797</td>\n",
        "      <td>-6.142127e-01</td>\n",
        "    </tr>\n",
        "    <tr>\n",
        "      <th>18</th>\n",
        "      <td> 5.952491</td>\n",
        "      <td>-3.246995e-01</td>\n",
        "    </tr>\n",
        "    <tr>\n",
        "      <th>19</th>\n",
        "      <td> 6.283185</td>\n",
        "      <td>-2.449294e-16</td>\n",
        "    </tr>\n",
        "  </tbody>\n",
        "</table>\n",
        "</div>"
       ],
       "metadata": {},
       "output_type": "pyout",
       "prompt_number": 22,
       "text": [
        "           t             y\n",
        "0   0.000000  0.000000e+00\n",
        "1   0.330694  3.246995e-01\n",
        "2   0.661388  6.142127e-01\n",
        "3   0.992082  8.371665e-01\n",
        "4   1.322776  9.694003e-01\n",
        "5   1.653470  9.965845e-01\n",
        "6   1.984164  9.157733e-01\n",
        "7   2.314858  7.357239e-01\n",
        "8   2.645552  4.759474e-01\n",
        "9   2.976246  1.645946e-01\n",
        "10  3.306940 -1.645946e-01\n",
        "11  3.637634 -4.759474e-01\n",
        "12  3.968328 -7.357239e-01\n",
        "13  4.299022 -9.157733e-01\n",
        "14  4.629715 -9.965845e-01\n",
        "15  4.960409 -9.694003e-01\n",
        "16  5.291103 -8.371665e-01\n",
        "17  5.621797 -6.142127e-01\n",
        "18  5.952491 -3.246995e-01\n",
        "19  6.283185 -2.449294e-16"
       ]
      }
     ],
     "prompt_number": 22
    },
    {
     "cell_type": "heading",
     "level": 3,
     "metadata": {
      "slideshow": {
       "slide_type": "subslide"
      }
     },
     "source": [
      "you can also easily write csv and xls files"
     ]
    },
    {
     "cell_type": "code",
     "collapsed": false,
     "input": [
      "# write csv\n",
      "csv_name = os.path.join(data_path,'data3.csv')\n",
      "data.to_csv(csv_name,index=False)\n",
      "\n",
      "# write xlsx\n",
      "xls_name = os.path.join(data_path,'data2.xls')\n",
      "data.to_excel(xls_name,index=False)"
     ],
     "language": "python",
     "metadata": {
      "slideshow": {
       "slide_type": "fragment"
      }
     },
     "outputs": [],
     "prompt_number": 23
    },
    {
     "cell_type": "heading",
     "level": 1,
     "metadata": {
      "slideshow": {
       "slide_type": "subslide"
      }
     },
     "source": [
      "More about pandas this afternoon!"
     ]
    },
    {
     "cell_type": "heading",
     "level": 1,
     "metadata": {
      "slideshow": {
       "slide_type": "slide"
      }
     },
     "source": [
      "Questions?"
     ]
    }
   ],
   "metadata": {}
  }
 ]
}