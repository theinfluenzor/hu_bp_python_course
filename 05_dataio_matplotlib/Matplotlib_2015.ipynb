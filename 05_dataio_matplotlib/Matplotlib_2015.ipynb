{
 "metadata": {
  "name": "",
  "signature": "sha256:e7376451e7b4614f1cd96e54a6ed83848c9f53ee0bc3352106392b304ff8e431"
 },
 "nbformat": 3,
 "nbformat_minor": 0,
 "worksheets": [
  {
   "cells": [
    {
     "cell_type": "markdown",
     "metadata": {},
     "source": [
      "\n",
      "Matplotlib 2015\n",
      "---------------\n",
      "\n",
      "- requires ipython and ipyton-notebook packages\n",
      "- execute: ipython notebook\n",
      "- check out this resource for Matplotlib: http://matplotlib.org/gallery.html"
     ]
    },
    {
     "cell_type": "code",
     "collapsed": false,
     "input": [
      "%matplotlib inline \n",
      "from pylab import *"
     ],
     "language": "python",
     "metadata": {},
     "outputs": []
    },
    {
     "cell_type": "markdown",
     "metadata": {},
     "source": [
      "Above commands enable pylab environment => direct access to numpy, scipy and matplotlib. The option 'inline' results in plot outputs to be directly embedded in the Notebook. If this causes problems, remove the option 'inline'."
     ]
    },
    {
     "cell_type": "code",
     "collapsed": false,
     "input": [
      "xv=[1,2,3,4]; yv=[5,1,4,0]\n",
      "plot(xv,yv)"
     ],
     "language": "python",
     "metadata": {},
     "outputs": []
    },
    {
     "cell_type": "markdown",
     "metadata": {},
     "source": [
      "A simple plotting example. Maybe some variations:"
     ]
    },
    {
     "cell_type": "code",
     "collapsed": false,
     "input": [
      "plot(xv,yv,'ro')"
     ],
     "language": "python",
     "metadata": {},
     "outputs": []
    },
    {
     "cell_type": "code",
     "collapsed": false,
     "input": [
      "myplot=plot(xv,yv,'k--')\n",
      "setp(myplot,linewidth=3.0,marker='+',markersize=30)"
     ],
     "language": "python",
     "metadata": {},
     "outputs": []
    },
    {
     "cell_type": "markdown",
     "metadata": {},
     "source": [
      "Alternatively, Matplotlib understands the MATLAB syntax, e.g., for the above command (does not work with 'inline' enabled):"
     ]
    },
    {
     "cell_type": "code",
     "collapsed": false,
     "input": [
      "myplot=plot(xv,yv,'k--')\n",
      "setp(myplot,'linewidth',3.0,'marker','+','markersize',30)"
     ],
     "language": "python",
     "metadata": {},
     "outputs": []
    },
    {
     "cell_type": "markdown",
     "metadata": {},
     "source": [
      "Available settings for a plot can be found this way (does not work with 'inline' enabled):"
     ]
    },
    {
     "cell_type": "code",
     "collapsed": true,
     "input": [
      "setp(myplot)"
     ],
     "language": "python",
     "metadata": {},
     "outputs": []
    },
    {
     "cell_type": "markdown",
     "metadata": {},
     "source": [
      "Some more commands for plot formatting:"
     ]
    },
    {
     "cell_type": "code",
     "collapsed": false,
     "input": [
      "axis()"
     ],
     "language": "python",
     "metadata": {},
     "outputs": []
    },
    {
     "cell_type": "code",
     "collapsed": false,
     "input": [
      "axis([0.5,4.5,-0.5,5.5])"
     ],
     "language": "python",
     "metadata": {},
     "outputs": []
    },
    {
     "cell_type": "code",
     "collapsed": false,
     "input": [
      "ti=title('Very important data')\n",
      "xl=xlabel('time'); yl=ylabel('value')\n",
      "setp(xl,fontweight='bold')"
     ],
     "language": "python",
     "metadata": {},
     "outputs": []
    },
    {
     "cell_type": "markdown",
     "metadata": {},
     "source": [
      "Figures can be saved in a number of output formats such as Postscript:"
     ]
    },
    {
     "cell_type": "code",
     "collapsed": true,
     "input": [
      "savefig('foo.ps', dpi=600, format='ps',orientation='landscape')"
     ],
     "language": "python",
     "metadata": {},
     "outputs": []
    },
    {
     "cell_type": "markdown",
     "metadata": {},
     "source": [
      "Alternatively, you can also save figures in PNG bitmap and PDF vector formats. (Note that some export formats may not be supported on your platform.)"
     ]
    },
    {
     "cell_type": "code",
     "collapsed": true,
     "input": [
      "savefig('foo.png', dpi=600, format='png',orientation='landscape')\n",
      "savefig('foo.pdf', dpi=600, format='pdf',orientation='landscape')"
     ],
     "language": "python",
     "metadata": {},
     "outputs": []
    },
    {
     "cell_type": "markdown",
     "metadata": {},
     "source": [
      "Get a handle to current figure and close it:"
     ]
    },
    {
     "cell_type": "code",
     "collapsed": true,
     "input": [
      "myfig=gcf()\n",
      "close(myfig)"
     ],
     "language": "python",
     "metadata": {},
     "outputs": []
    },
    {
     "cell_type": "markdown",
     "metadata": {},
     "source": [
      "Or in MATLAB style, close all open figures:"
     ]
    },
    {
     "cell_type": "code",
     "collapsed": true,
     "input": [
      "close('all')"
     ],
     "language": "python",
     "metadata": {},
     "outputs": []
    },
    {
     "cell_type": "markdown",
     "metadata": {},
     "source": [
      "Let's do a figure with several subpanels:"
     ]
    },
    {
     "cell_type": "code",
     "collapsed": false,
     "input": [
      "fig2=figure()\n",
      "subplot(2,1,1)\n",
      "plot(xv,yv,'b-')\n",
      "subplot(2,1,2)\n",
      "plot(yv,xv,'ro')"
     ],
     "language": "python",
     "metadata": {},
     "outputs": []
    },
    {
     "cell_type": "code",
     "collapsed": true,
     "input": [
      "close(fig2)"
     ],
     "language": "python",
     "metadata": {},
     "outputs": []
    },
    {
     "cell_type": "markdown",
     "metadata": {},
     "source": [
      "Especially for figures with multiple subpanels it may be advisable to increase the figure size somewhat. Do this by using function arguments in the figure() call:"
     ]
    },
    {
     "cell_type": "code",
     "collapsed": false,
     "input": [
      "fig2=figure(figsize=(10,10))\n",
      "subplot(2,1,1)\n",
      "plot(xv,yv,'b-')\n",
      "subplot(2,1,2)\n",
      "plot(yv,xv,'ro')"
     ],
     "language": "python",
     "metadata": {},
     "outputs": []
    },
    {
     "cell_type": "markdown",
     "metadata": {},
     "source": [
      "By using Numpy arrays, Matplotlib can conveniently be used as a function ploting program:"
     ]
    },
    {
     "cell_type": "code",
     "collapsed": true,
     "input": [
      "xv=np.arange(-10,10.5,0.5); xv"
     ],
     "language": "python",
     "metadata": {},
     "outputs": []
    },
    {
     "cell_type": "code",
     "collapsed": false,
     "input": [
      "plot(xv,2*xv**3-5*xv**2+7*xv)\n",
      "plot(xv,2000*cos(xv),'r--')\n",
      "text(-10,-2800,'curve A')\n",
      "text(3,1500,'curve B')"
     ],
     "language": "python",
     "metadata": {},
     "outputs": []
    },
    {
     "cell_type": "markdown",
     "metadata": {},
     "source": [
      "Certainly, you can do plots with logarithmic scale:"
     ]
    },
    {
     "cell_type": "code",
     "collapsed": false,
     "input": [
      "close('all'); xv_lin=np.arange(-3,3.01,0.02)\n",
      "xv=10.**xv_lin\n",
      "semilogx(xv,exp(-xv/0.01)+0.5*exp(-xv/10)+0.2* exp(-xv/200))"
     ],
     "language": "python",
     "metadata": {},
     "outputs": []
    },
    {
     "cell_type": "markdown",
     "metadata": {},
     "source": [
      "Let's add grid lines:"
     ]
    },
    {
     "cell_type": "code",
     "collapsed": true,
     "input": [
      "semilogx(xv,exp(-xv/0.01)+0.5*exp(-xv/10)+0.2* exp(-xv/200))\n",
      "grid(color='k')"
     ],
     "language": "python",
     "metadata": {},
     "outputs": []
    },
    {
     "cell_type": "markdown",
     "metadata": {},
     "source": [
      "Analogously, you can use semilogy() and loglog() for plots with log y-axis and loglog plots."
     ]
    },
    {
     "cell_type": "code",
     "collapsed": true,
     "input": [
      "semilogy(xv,exp(-xv/0.01)+0.5*exp(-xv/10)+0.2* exp(-xv/200))"
     ],
     "language": "python",
     "metadata": {},
     "outputs": []
    },
    {
     "cell_type": "markdown",
     "metadata": {},
     "source": [
      "Anybody bar charts?"
     ]
    },
    {
     "cell_type": "code",
     "collapsed": false,
     "input": [
      "close('all')\n",
      "xv=[0.5,1.5,2.5,3.5]; yv=[2,5,1,6]\n",
      "mybar=bar(xv, yv, width=1, yerr=0.5)"
     ],
     "language": "python",
     "metadata": {},
     "outputs": []
    },
    {
     "cell_type": "markdown",
     "metadata": {},
     "source": [
      "Let's pimp the plot a little:"
     ]
    },
    {
     "cell_type": "code",
     "collapsed": true,
     "input": [
      "mybar=bar(xv, yv, width=1, yerr=0.5)\n",
      "xticks(xv, ['A','B','C','D'])\n",
      "setp(mybar, color='r',\n",
      "edgecolor='k')"
     ],
     "language": "python",
     "metadata": {},
     "outputs": []
    },
    {
     "cell_type": "markdown",
     "metadata": {},
     "source": [
      "For horizontal bar charts, you would use barh()."
     ]
    },
    {
     "cell_type": "markdown",
     "metadata": {},
     "source": [
      "Where there are bars, there should be pies:"
     ]
    },
    {
     "cell_type": "code",
     "collapsed": false,
     "input": [
      "close('all')\n",
      "figure(figsize=(5,5))\n",
      "handles=pie([1,2,3,4], explode=[0.2,0,0,0], shadow=True, labels=['A','B','C','D'])\n",
      "handles"
     ],
     "language": "python",
     "metadata": {},
     "outputs": []
    },
    {
     "cell_type": "markdown",
     "metadata": {},
     "source": [
      "As you will have seen, we retrieved handles to the individual pie slices. Let's do something with them:"
     ]
    },
    {
     "cell_type": "code",
     "collapsed": true,
     "input": [
      "figure(figsize=(5,5))\n",
      "handles=pie([1,2,3,4], explode=[0.2,0,0,0], shadow=True, labels=['A','B','C','D'])\n",
      "setp(handles[0] [0], color='y')\n",
      "setp(handles[1] [0], text='Blubber')"
     ],
     "language": "python",
     "metadata": {},
     "outputs": []
    },
    {
     "cell_type": "markdown",
     "metadata": {},
     "source": [
      "Matplotlib also offers quiver() plots which are illustrated in the following example (taken from http://www.loria.fr/~rougier/teaching/matplotlib/):"
     ]
    },
    {
     "cell_type": "code",
     "collapsed": false,
     "input": [
      "close('all')\n",
      "n=8; X,Y=np.mgrid[0:n,0:n]\n",
      "T=np.arctan2(Y-n/2.0,X-n/2.0)\n",
      "R=10+np.sqrt((Y-n/2.0)**2+(X-n/2.0)**2)\n",
      "U,V=R*np.cos(T),R*np.sin(T)\n",
      "axes([0.025,0.025,0.95,0.95])\n",
      "quiver(X,Y,U,V,R,alpha=.5)\n",
      "quiver(X,Y,U,V, edgecolor='k', facecolor= 'None', linewidth=.5)\n",
      "show()"
     ],
     "language": "python",
     "metadata": {},
     "outputs": []
    },
    {
     "cell_type": "markdown",
     "metadata": {},
     "source": [
      "Polar plots are also nicely illustrated on the very same homepage:"
     ]
    },
    {
     "cell_type": "code",
     "collapsed": false,
     "input": [
      "close('all')\n",
      "ax=axes([0.025,0.025,0.95,0.95],polar=True)\n",
      "N=20; theta=np.arange(0.0,2*np.pi,2*np.pi/N)\n",
      "radii=10*np.random.rand(N)\n",
      "width=np.pi/4*np.random.rand(N)\n",
      "bars=bar(theta,radii,width=width,bottom=0.0)\n",
      "for r,bar in zip(radii,bars):\n",
      "    bar.set_facecolor( cm.jet(r/10.))\n",
      "    bar.set_alpha(0.5)\n",
      "show()"
     ],
     "language": "python",
     "metadata": {},
     "outputs": []
    },
    {
     "cell_type": "markdown",
     "metadata": {},
     "source": [
      "Contour plots are well suited for visualization of three-dimensional data sets:"
     ]
    },
    {
     "cell_type": "code",
     "collapsed": false,
     "input": [
      "close('all')\n",
      "xv=linspace(-10,10,100); yv=xv\n",
      "X,Y=meshgrid(xv,yv)\n",
      "Z=exp(-((X-1)**2/2/0.5**2)-((Y+2)**2/2/3**2))\n",
      "Z=Z+1.5*exp(-((X-5)**2/2/4**2)-((Y-6)**2/2/3**2))\n",
      "contourf(X,Y,Z,10,alpha=0.5,cmap=cm.hot)\n",
      "C=contour(X,Y,Z,10,colors='black', linewidth=0.5)\n",
      "clabel(C,inline=1,fontsize=10)"
     ],
     "language": "python",
     "metadata": {},
     "outputs": []
    },
    {
     "cell_type": "markdown",
     "metadata": {},
     "source": [
      "A similar yet distint representation is provided by pcolormesh()."
     ]
    },
    {
     "cell_type": "code",
     "collapsed": false,
     "input": [
      "figure()\n",
      "pcolormesh(X,Y,Z,alpha=0.5,cmap=cm.hot)\n",
      "axis([-5,10,-8,10])"
     ],
     "language": "python",
     "metadata": {},
     "outputs": []
    },
    {
     "cell_type": "markdown",
     "metadata": {},
     "source": [
      "Compare the two figures, spot the similarities and differences."
     ]
    },
    {
     "cell_type": "markdown",
     "metadata": {},
     "source": [
      "Matplotlib sports an add-on module for 3D graphics as detailed below. First, we need to import this module."
     ]
    },
    {
     "cell_type": "code",
     "collapsed": true,
     "input": [
      "from mpl_toolkits.mplot3d import Axes3D"
     ],
     "language": "python",
     "metadata": {},
     "outputs": []
    },
    {
     "cell_type": "markdown",
     "metadata": {},
     "source": [
      "Let's switch to the Qt backend for 3D plotting"
     ]
    },
    {
     "cell_type": "code",
     "collapsed": false,
     "input": [
      "%matplotlib"
     ],
     "language": "python",
     "metadata": {},
     "outputs": []
    },
    {
     "cell_type": "markdown",
     "metadata": {},
     "source": [
      "Then, we can play around."
     ]
    },
    {
     "cell_type": "code",
     "collapsed": false,
     "input": [
      "close('all')\n",
      "fig=figure(); ax=Axes3D(fig)"
     ],
     "language": "python",
     "metadata": {},
     "outputs": []
    },
    {
     "cell_type": "markdown",
     "metadata": {},
     "source": [
      "Try moving and rotating the (so far empty) plot in three dimensions. Once you have calmed down, let's populate the plot with some data:"
     ]
    },
    {
     "cell_type": "code",
     "collapsed": false,
     "input": [
      "close('all')\n",
      "fig=figure(); ax=Axes3D(fig)\n",
      "import random as rn\n",
      "xv=[]; yv=[]; zv=[]\n",
      "for c in range(100):\n",
      "   xv.append(rn.random()); yv.append(rn.random())\n",
      "   zv.append(rn.random())\n",
      "ax.scatter(xv,yv,zv)"
     ],
     "language": "python",
     "metadata": {},
     "outputs": []
    },
    {
     "cell_type": "markdown",
     "metadata": {},
     "source": [
      "In addition to the above 3D scatter plot, other plot types are supported, such as 3D surface plots:"
     ]
    },
    {
     "cell_type": "code",
     "collapsed": false,
     "input": [
      "close('all'); fig=figure()\n",
      "ax=Axes3D(fig)\n",
      "xv=linspace(-10,10,100); yv=linspace(-10,10,100)\n",
      "cx,cy=meshgrid(xv,yv)\n",
      "cz=0.5*cx+exp(-cy**2)\n",
      "tilt=ax.plot_surface(cx,cy,cz,linewidth=0, cmap=cm.jet)"
     ],
     "language": "python",
     "metadata": {},
     "outputs": []
    },
    {
     "cell_type": "markdown",
     "metadata": {},
     "source": [
      "Try some other colormaps such as cm.bone, cm.spring or cm.cool (once more, these are the MATLAB color schemes)."
     ]
    },
    {
     "cell_type": "markdown",
     "metadata": {},
     "source": [
      "We do one more example that shows the use of 3D surface and 3D contour plots (as opposed to the 2D contour plots above)."
     ]
    },
    {
     "cell_type": "code",
     "collapsed": false,
     "input": [
      "close('all'); fig=figure()\n",
      "ax=Axes3D(fig)\n",
      "xv=linspace(-10,10,100); yv=linspace(-10,10,100)\n",
      "cx,cy=meshgrid(xv,yv)\n",
      "cz=0*cx\n",
      "\n",
      "def gauss2D(x0,y0,sigx=1,sigy=1,height=1):\n",
      "   z=height*exp(-((cx-x0)**2/2/sigx**2)-((cy-y0)**2/2/sigy**2))\n",
      "   return z\n",
      "\n",
      "cz=cz+gauss2D(-2,3)\n",
      "cz=cz+gauss2D(2,4,2,3)\n",
      "ax.plot_surface(cx,cy,cz,linewidth=0,cstride=2, rstride=2,cmap=cm.jet)"
     ],
     "language": "python",
     "metadata": {},
     "outputs": []
    },
    {
     "cell_type": "markdown",
     "metadata": {},
     "source": [
      "Let's display the same data in contour representation:"
     ]
    },
    {
     "cell_type": "code",
     "collapsed": false,
     "input": [
      "close('all'); fig=figure()\n",
      "ax=Axes3D(fig)\n",
      "ax.contour(cx,cy,cz,cstride=2,rstride=2, cmap=cm.jet)"
     ],
     "language": "python",
     "metadata": {},
     "outputs": []
    },
    {
     "cell_type": "heading",
     "level": 1,
     "metadata": {},
     "source": [
      "Style sheets"
     ]
    },
    {
     "cell_type": "code",
     "collapsed": false,
     "input": [
      "%matplotlib inline\n",
      "close('all')"
     ],
     "language": "python",
     "metadata": {},
     "outputs": []
    },
    {
     "cell_type": "markdown",
     "metadata": {},
     "source": [
      "There are several predefinded style sheets for matplotlib. You can show all availible styles by typing"
     ]
    },
    {
     "cell_type": "code",
     "collapsed": false,
     "input": [
      "style.available"
     ],
     "language": "python",
     "metadata": {},
     "outputs": []
    },
    {
     "cell_type": "markdown",
     "metadata": {},
     "source": [
      "to pick one of them, type e.g."
     ]
    },
    {
     "cell_type": "code",
     "collapsed": false,
     "input": [
      "style.use('ggplot')"
     ],
     "language": "python",
     "metadata": {},
     "outputs": []
    },
    {
     "cell_type": "markdown",
     "metadata": {},
     "source": [
      "and your plots will look similar to those created with [ggplot2 in R](https://en.wikipedia.org/wiki/Ggplot2)"
     ]
    },
    {
     "cell_type": "code",
     "collapsed": false,
     "input": [
      "x = np.linspace(0,10,100)\n",
      "y = np.sin(x)\n",
      "plot(x,y)"
     ],
     "language": "python",
     "metadata": {},
     "outputs": []
    },
    {
     "cell_type": "heading",
     "level": 1,
     "metadata": {},
     "source": [
      "Exercises for Numpy and Matplotlib"
     ]
    },
    {
     "cell_type": "heading",
     "level": 3,
     "metadata": {},
     "source": [
      "Exercise 1"
     ]
    },
    {
     "cell_type": "markdown",
     "metadata": {},
     "source": [
      "Plot the following functions into individual subplots:\n",
      "\n",
      "$f(x) = e^{-\\alpha x^2},\\quad g(x) = \\alpha x^3-5x^2, \\quad h(x) = \\mathrm{erf}(x)$\n",
      "\n",
      "\n",
      "with $\\alpha \\in \\{0.1,0.5,1\\}$\n",
      "\n",
      "hint: use scipy for the definition of $\\mathrm{erf}(x)$"
     ]
    },
    {
     "cell_type": "code",
     "collapsed": false,
     "input": [
      "%matplotlib inline\n"
     ],
     "language": "python",
     "metadata": {},
     "outputs": []
    },
    {
     "cell_type": "heading",
     "level": 3,
     "metadata": {},
     "source": [
      "Exercise 2"
     ]
    },
    {
     "cell_type": "markdown",
     "metadata": {},
     "source": [
      "generate two 1D-arrays $A$ and $B$ of size $N$ containing Gaussian random numbers "
     ]
    },
    {
     "cell_type": "code",
     "collapsed": false,
     "input": [
      "N = 1e4"
     ],
     "language": "python",
     "metadata": {},
     "outputs": []
    },
    {
     "cell_type": "markdown",
     "metadata": {},
     "source": [
      "Check whether they are correlated using a scatter plot"
     ]
    },
    {
     "cell_type": "code",
     "collapsed": false,
     "input": [
      "%matplotlib inline\n"
     ],
     "language": "python",
     "metadata": {},
     "outputs": []
    },
    {
     "cell_type": "markdown",
     "metadata": {},
     "source": [
      "Plot their 2D density as a contour plot (hint: the density can be obtained from a histogram)"
     ]
    },
    {
     "cell_type": "code",
     "collapsed": false,
     "input": [],
     "language": "python",
     "metadata": {},
     "outputs": []
    },
    {
     "cell_type": "markdown",
     "metadata": {},
     "source": [
      "Plot the density as 3D surface plot"
     ]
    },
    {
     "cell_type": "code",
     "collapsed": false,
     "input": [
      "%matplotlib\n"
     ],
     "language": "python",
     "metadata": {},
     "outputs": []
    }
   ],
   "metadata": {}
  }
 ]
}