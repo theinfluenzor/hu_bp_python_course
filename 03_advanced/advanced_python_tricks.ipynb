{
 "cells": [
  {
   "cell_type": "markdown",
   "metadata": {
    "slideshow": {
     "slide_type": "slide"
    }
   },
   "source": [
    "# Retrospective  \n",
    "\n",
    "- Interpreter\n",
    "- Basic Calculations\n",
    "- Data Structures\n",
    "- Control flow\n",
    "- Functions\n",
    "- Documentation"
   ]
  },
  {
   "cell_type": "markdown",
   "metadata": {
    "slideshow": {
     "slide_type": "slide"
    }
   },
   "source": [
    "# Packages\n",
    "\n",
    "Packages are folders containing Modules. If you are lucky, these modules also work together in a way. The folder needs to contain an `__init__.py` file that will tell python what to do with the package."
   ]
  },
  {
   "cell_type": "code",
   "execution_count": 17,
   "metadata": {
    "collapsed": false,
    "slideshow": {
     "slide_type": "fragment"
    }
   },
   "outputs": [
    {
     "data": {
      "text/plain": [
       "19"
      ]
     },
     "execution_count": 17,
     "metadata": {},
     "output_type": "execute_result"
    }
   ],
   "source": [
    "import time\n",
    "\n",
    "t = time.localtime()\n",
    "t.tm_mday"
   ]
  },
  {
   "cell_type": "markdown",
   "metadata": {
    "slideshow": {
     "slide_type": "fragment"
    }
   },
   "source": [
    "## Pypi\n",
    "\n",
    "Python has a very active development community and the [**Py**thon **p**ackage **i**ndex](www.pypi.python.org) contains a myriad of packages for every need."
   ]
  },
  {
   "cell_type": "markdown",
   "metadata": {
    "slideshow": {
     "slide_type": "fragment"
    }
   },
   "source": [
    "These can be install by using `pip` which is installed with newer python versions:\n",
    "```\n",
    "pip install numpy\n",
    "```"
   ]
  },
  {
   "cell_type": "markdown",
   "metadata": {
    "slideshow": {
     "slide_type": "slide"
    }
   },
   "source": [
    "# Object Orientation\n",
    "\n",
    "![](http://www.codercaste.com/wp-content/uploads/2011/01/animals.png)"
   ]
  },
  {
   "cell_type": "markdown",
   "metadata": {
    "slideshow": {
     "slide_type": "subslide"
    }
   },
   "source": [
    "# Programming Paradigms\n",
    "\n",
    "![](http://academic.udayton.edu/SaverioPerugini/courses/cps343/lecture_notes/images/summary.png)"
   ]
  },
  {
   "cell_type": "markdown",
   "metadata": {
    "slideshow": {
     "slide_type": "slide"
    }
   },
   "source": [
    "# Object orientation in Python\n",
    "\n",
    "- everything is a object (even functions)\n",
    "\n",
    "You can define your own objects by using the `class` keyword:"
   ]
  },
  {
   "cell_type": "code",
   "execution_count": 90,
   "metadata": {
    "collapsed": false,
    "slideshow": {
     "slide_type": "fragment"
    }
   },
   "outputs": [
    {
     "data": {
      "text/plain": [
       "__main__.Dog"
      ]
     },
     "execution_count": 90,
     "metadata": {},
     "output_type": "execute_result"
    }
   ],
   "source": [
    "class Dog(object):\n",
    "    color = \"yellow\"\n",
    "    def __init__(self, name):\n",
    "            self.name = name\n",
    "            \n",
    "Dog"
   ]
  },
  {
   "cell_type": "markdown",
   "metadata": {
    "slideshow": {
     "slide_type": "subslide"
    }
   },
   "source": [
    "# Instances\n",
    "\n",
    "Classes can be used to create objects with certain attributes and behavior:"
   ]
  },
  {
   "cell_type": "code",
   "execution_count": 91,
   "metadata": {
    "collapsed": false,
    "slideshow": {
     "slide_type": "fragment"
    }
   },
   "outputs": [
    {
     "name": "stdout",
     "output_type": "stream",
     "text": [
      "whoof, whoof!\n"
     ]
    }
   ],
   "source": [
    "class Dog(object):\n",
    "    color = \"yellow\"\n",
    "    def __init__(self, name, size):\n",
    "            self.name = name\n",
    "            self.size = size\n",
    "    def bark(self):\n",
    "        print 'whoof, whoof!'\n",
    "\n",
    "b = Dog(\"blitzer\", 100)\n",
    "b.bark()"
   ]
  },
  {
   "cell_type": "markdown",
   "metadata": {
    "slideshow": {
     "slide_type": "subslide"
    }
   },
   "source": [
    "# Inheritance\n",
    "\n",
    "Classes can inherit traits (and even **skills**) from other classes:"
   ]
  },
  {
   "cell_type": "code",
   "execution_count": 92,
   "metadata": {
    "collapsed": false,
    "slideshow": {
     "slide_type": "fragment"
    }
   },
   "outputs": [
    {
     "name": "stdout",
     "output_type": "stream",
     "text": [
      "whoof, whoof!\n"
     ]
    }
   ],
   "source": [
    "class Dachshund(Dog):\n",
    "    color = \"brownish\"\n",
    "    def __init__(self, name):\n",
    "        super(Dachshund, self).__init__(name, 20)\n",
    "        \n",
    "d = Dachshund('bello')\n",
    "d.bark()"
   ]
  },
  {
   "cell_type": "markdown",
   "metadata": {
    "slideshow": {
     "slide_type": "subslide"
    }
   },
   "source": [
    "#Shadowing\n",
    "\n",
    "Classes can alter functionality of their parents:"
   ]
  },
  {
   "cell_type": "code",
   "execution_count": 93,
   "metadata": {
    "collapsed": false,
    "slideshow": {
     "slide_type": "fragment"
    }
   },
   "outputs": [
    {
     "name": "stdout",
     "output_type": "stream",
     "text": [
      "whif.\n"
     ]
    }
   ],
   "source": [
    "class Pekingese(Dog):\n",
    "    color = \"brownish\"\n",
    "    def __init__(self, name):\n",
    "        super(Pekingese, self).__init__(name, 15)\n",
    "        \n",
    "    def bark(self):\n",
    "        print 'whif.'\n",
    "        \n",
    "d = Pekingese('tiny')\n",
    "d.bark()"
   ]
  },
  {
   "cell_type": "markdown",
   "metadata": {
    "slideshow": {
     "slide_type": "subslide"
    }
   },
   "source": [
    "# Special methods"
   ]
  },
  {
   "cell_type": "code",
   "execution_count": 96,
   "metadata": {
    "collapsed": true,
    "slideshow": {
     "slide_type": "fragment"
    }
   },
   "outputs": [],
   "source": [
    "class Pekingese(Dog):\n",
    "    color = \"brownish\"\n",
    "    def __init__(self, name):\n",
    "        super(Pekingese, self).__init__(name, 15)\n",
    "\n",
    "    def __len__(self):\n",
    "        return self.size\n",
    "        \n",
    "    def bark(self):\n",
    "        print 'whif.'"
   ]
  },
  {
   "cell_type": "code",
   "execution_count": 97,
   "metadata": {
    "collapsed": false,
    "slideshow": {
     "slide_type": "fragment"
    }
   },
   "outputs": [
    {
     "data": {
      "text/plain": [
       "15"
      ]
     },
     "execution_count": 97,
     "metadata": {},
     "output_type": "execute_result"
    }
   ],
   "source": [
    "p = Pekingese(\"wang\")\n",
    "len(p)"
   ]
  },
  {
   "cell_type": "markdown",
   "metadata": {},
   "source": [
    "# Mating"
   ]
  },
  {
   "cell_type": "code",
   "execution_count": 95,
   "metadata": {
    "collapsed": false,
    "slideshow": {
     "slide_type": "fragment"
    }
   },
   "outputs": [],
   "source": [
    "class Dog(object):\n",
    "    color = \"yellow\"\n",
    "    def __init__(self, name, size):\n",
    "            self.name = name\n",
    "            self.size = size\n",
    "            \n",
    "    def __add__(self, dog):\n",
    "        if not isinstance(dog, Dog):\n",
    "            raise TypeError\n",
    "        return Dog(self.name + \" \" + dog.name, (self.size + dog.size)/2)\n",
    "    \n",
    "    def bark(self):\n",
    "        print 'whoof, whoof!'"
   ]
  },
  {
   "cell_type": "code",
   "execution_count": 98,
   "metadata": {
    "collapsed": false,
    "slideshow": {
     "slide_type": "fragment"
    }
   },
   "outputs": [
    {
     "name": "stdout",
     "output_type": "stream",
     "text": [
      "whoof, whoof!\n",
      "blitzer wang\n",
      "57\n"
     ]
    }
   ],
   "source": [
    "b = Dog(\"blitzer\", 100)\n",
    "dog = b + p\n",
    "dog.bark()\n",
    "print dog.name\n",
    "print dog.size"
   ]
  },
  {
   "cell_type": "markdown",
   "metadata": {
    "slideshow": {
     "slide_type": "subslide"
    }
   },
   "source": [
    "# Why do I need this?\n",
    "\n",
    "OOP facilitates some desirable features in software projects:\n",
    "\n",
    "- code organization\n",
    "- encapsulation\n",
    "- DRY principle\n",
    "- modularization"
   ]
  },
  {
   "cell_type": "markdown",
   "metadata": {
    "slideshow": {
     "slide_type": "subslide"
    }
   },
   "source": [
    "# How we will use it\n",
    "\n",
    "Our project will make extensive use of object orientation and inheritance.\n",
    "![Class diagramm](http://1.bp.blogspot.com/-tWAOmi7yyRs/T-6x2UB0NZI/AAAAAAAAAMI/fOivujFWstE/s1600/CLASS+DIAGRAM.png)"
   ]
  },
  {
   "cell_type": "markdown",
   "metadata": {
    "slideshow": {
     "slide_type": "notes"
    }
   },
   "source": [
    "- classes use each other to run the model\n",
    "- each process knows which species to update, makes modularization possible\n",
    "- simulation class manages everything, registers processes\n",
    "- states/processes inherit from base class"
   ]
  },
  {
   "cell_type": "markdown",
   "metadata": {
    "slideshow": {
     "slide_type": "slide"
    }
   },
   "source": [
    "#Decorators\n",
    "\n",
    "Some helpful syntax"
   ]
  },
  {
   "cell_type": "markdown",
   "metadata": {
    "slideshow": {
     "slide_type": "subslide"
    }
   },
   "source": [
    "# Nested Functions\n",
    "\n",
    "Functions can contain other functions:"
   ]
  },
  {
   "cell_type": "code",
   "execution_count": 22,
   "metadata": {
    "collapsed": false
   },
   "outputs": [
    {
     "name": "stdout",
     "output_type": "stream",
     "text": [
      "out here\n",
      "in room 1\n",
      "in room 2\n"
     ]
    }
   ],
   "source": [
    "def outer_function():\n",
    "    print \"out here\"\n",
    "    def inner_1():\n",
    "        return \"in room 1\"\n",
    "        \n",
    "    def inner_2():\n",
    "        return \"in room 2\"\n",
    "        \n",
    "    print inner_1()\n",
    "    print inner_2()\n",
    "        \n",
    "outer_function()"
   ]
  },
  {
   "cell_type": "markdown",
   "metadata": {
    "slideshow": {
     "slide_type": "notes"
    }
   },
   "source": [
    "- try to call inner_1"
   ]
  },
  {
   "cell_type": "markdown",
   "metadata": {
    "slideshow": {
     "slide_type": "subslide"
    }
   },
   "source": [
    "##Wrappers\n",
    "Decorators are functions wrapped around functions:"
   ]
  },
  {
   "cell_type": "code",
   "execution_count": 23,
   "metadata": {
    "collapsed": false,
    "slideshow": {
     "slide_type": "fragment"
    }
   },
   "outputs": [],
   "source": [
    "def greetings(some_function):\n",
    "    def wrapper(args):\n",
    "        print \"Hello!\"\n",
    "        some_function(args)\n",
    "        print \"Goodbye!\"\n",
    "    return wrapper\n",
    "\n",
    "def say_something(sentence):\n",
    "    print \"Say: {0}\".format(sentence)"
   ]
  },
  {
   "cell_type": "code",
   "execution_count": 24,
   "metadata": {
    "collapsed": false,
    "slideshow": {
     "slide_type": "fragment"
    }
   },
   "outputs": [
    {
     "name": "stdout",
     "output_type": "stream",
     "text": [
      "Hello!\n",
      "Say: Good to see you\n",
      "Goodbye!\n"
     ]
    }
   ],
   "source": [
    "polite_talker = greetings(say_something)\n",
    "\n",
    "polite_talker(\"Good to see you\")"
   ]
  },
  {
   "cell_type": "markdown",
   "metadata": {
    "slideshow": {
     "slide_type": "subslide"
    }
   },
   "source": [
    "# Decorator Syntax "
   ]
  },
  {
   "cell_type": "code",
   "execution_count": 25,
   "metadata": {
    "collapsed": true,
    "slideshow": {
     "slide_type": "fragment"
    }
   },
   "outputs": [],
   "source": [
    "@greetings\n",
    "def shout(sentence):\n",
    "    print sentence.upper()"
   ]
  },
  {
   "cell_type": "code",
   "execution_count": 26,
   "metadata": {
    "collapsed": false,
    "slideshow": {
     "slide_type": "fragment"
    }
   },
   "outputs": [
    {
     "name": "stdout",
     "output_type": "stream",
     "text": [
      "Hello!\n",
      "AM I POLITE, OR WHAT?!\n",
      "Goodbye!\n"
     ]
    }
   ],
   "source": [
    "shout(\"Am I polite, or what?!\")"
   ]
  },
  {
   "cell_type": "markdown",
   "metadata": {
    "slideshow": {
     "slide_type": "subslide"
    }
   },
   "source": [
    "# How will we use it?"
   ]
  },
  {
   "cell_type": "code",
   "execution_count": 27,
   "metadata": {
    "collapsed": false,
    "slideshow": {
     "slide_type": "fragment"
    }
   },
   "outputs": [],
   "source": [
    "class Molecule(object):\n",
    "    def __init__(self, mass):\n",
    "        self.mass = mass\n",
    "        \n",
    "    @property\n",
    "    def mass(self):\n",
    "        return self.__mass\n",
    "    \n",
    "    @mass.setter\n",
    "    def mass(self, value):\n",
    "        if not isinstance(value, int):\n",
    "            raise TypeError(\"Mass must be Integer.\")\n",
    "        self.__mass = value"
   ]
  },
  {
   "cell_type": "code",
   "execution_count": 28,
   "metadata": {
    "collapsed": false,
    "slideshow": {
     "slide_type": "fragment"
    }
   },
   "outputs": [],
   "source": [
    "m = Molecule(1)"
   ]
  },
  {
   "cell_type": "code",
   "execution_count": 29,
   "metadata": {
    "collapsed": false,
    "slideshow": {
     "slide_type": "fragment"
    }
   },
   "outputs": [
    {
     "ename": "TypeError",
     "evalue": "Mass must be Integer.",
     "output_type": "error",
     "traceback": [
      "\u001b[1;31m---------------------------------------------------------------------------\u001b[0m",
      "\u001b[1;31mTypeError\u001b[0m                                 Traceback (most recent call last)",
      "\u001b[1;32m<ipython-input-29-045978fabf9a>\u001b[0m in \u001b[0;36m<module>\u001b[1;34m()\u001b[0m\n\u001b[1;32m----> 1\u001b[1;33m \u001b[0mm\u001b[0m\u001b[1;33m.\u001b[0m\u001b[0mmass\u001b[0m \u001b[1;33m=\u001b[0m \u001b[1;34m\"two\"\u001b[0m\u001b[1;33m\u001b[0m\u001b[0m\n\u001b[0m",
      "\u001b[1;32m<ipython-input-27-dca2e1068b33>\u001b[0m in \u001b[0;36mmass\u001b[1;34m(self, value)\u001b[0m\n\u001b[0;32m     10\u001b[0m     \u001b[1;32mdef\u001b[0m \u001b[0mmass\u001b[0m\u001b[1;33m(\u001b[0m\u001b[0mself\u001b[0m\u001b[1;33m,\u001b[0m \u001b[0mvalue\u001b[0m\u001b[1;33m)\u001b[0m\u001b[1;33m:\u001b[0m\u001b[1;33m\u001b[0m\u001b[0m\n\u001b[0;32m     11\u001b[0m         \u001b[1;32mif\u001b[0m \u001b[1;32mnot\u001b[0m \u001b[0misinstance\u001b[0m\u001b[1;33m(\u001b[0m\u001b[0mvalue\u001b[0m\u001b[1;33m,\u001b[0m \u001b[0mint\u001b[0m\u001b[1;33m)\u001b[0m\u001b[1;33m:\u001b[0m\u001b[1;33m\u001b[0m\u001b[0m\n\u001b[1;32m---> 12\u001b[1;33m             \u001b[1;32mraise\u001b[0m \u001b[0mTypeError\u001b[0m\u001b[1;33m(\u001b[0m\u001b[1;34m\"Mass must be Integer.\"\u001b[0m\u001b[1;33m)\u001b[0m\u001b[1;33m\u001b[0m\u001b[0m\n\u001b[0m\u001b[0;32m     13\u001b[0m         \u001b[0mself\u001b[0m\u001b[1;33m.\u001b[0m\u001b[0m__mass\u001b[0m \u001b[1;33m=\u001b[0m \u001b[0mvalue\u001b[0m\u001b[1;33m\u001b[0m\u001b[0m\n",
      "\u001b[1;31mTypeError\u001b[0m: Mass must be Integer."
     ]
    }
   ],
   "source": [
    "m.mass = \"two\""
   ]
  },
  {
   "cell_type": "markdown",
   "metadata": {
    "slideshow": {
     "slide_type": "notes"
    }
   },
   "source": [
    "- getter and setter methods"
   ]
  },
  {
   "cell_type": "markdown",
   "metadata": {
    "slideshow": {
     "slide_type": "skip"
    }
   },
   "source": [
    "# Further Tricks\n",
    "## Some python specialties you should know about"
   ]
  },
  {
   "cell_type": "markdown",
   "metadata": {
    "slideshow": {
     "slide_type": "skip"
    }
   },
   "source": [
    "## Copy"
   ]
  },
  {
   "cell_type": "markdown",
   "metadata": {
    "slideshow": {
     "slide_type": "skip"
    }
   },
   "source": [
    "### By Reference/Value"
   ]
  },
  {
   "cell_type": "markdown",
   "metadata": {
    "slideshow": {
     "slide_type": "skip"
    }
   },
   "source": [
    "As you might know you can assign values of one variable to an other like:"
   ]
  },
  {
   "cell_type": "code",
   "execution_count": 30,
   "metadata": {
    "collapsed": false,
    "slideshow": {
     "slide_type": "skip"
    }
   },
   "outputs": [
    {
     "name": "stdout",
     "output_type": "stream",
     "text": [
      "[5]\n"
     ]
    }
   ],
   "source": [
    "A = [5]\n",
    "B = A\n",
    "print B"
   ]
  },
  {
   "cell_type": "markdown",
   "metadata": {},
   "source": [
    "But if you change the value of variable A as it is done blow, variable B changes, too. "
   ]
  },
  {
   "cell_type": "code",
   "execution_count": 31,
   "metadata": {
    "collapsed": false
   },
   "outputs": [
    {
     "name": "stdout",
     "output_type": "stream",
     "text": [
      "[1]\n"
     ]
    }
   ],
   "source": [
    "A[0] = 1\n",
    "print B"
   ]
  },
  {
   "cell_type": "markdown",
   "metadata": {},
   "source": [
    "The problem is that variables are just names referring to an object. Assigning the object of a variable to an other does not create a copy of this object. It creates a new variable B which refers to the same object A refers to. Hence, there is only one object but two variables are referring to this one. This holds only for mutable objects like lists, sets, dictionaries and so on.\n",
    "\n",
    "There are also immutable objects like inits, floats, strings, tuple and so on. "
   ]
  },
  {
   "cell_type": "code",
   "execution_count": 32,
   "metadata": {
    "collapsed": false
   },
   "outputs": [
    {
     "name": "stdout",
     "output_type": "stream",
     "text": [
      "1\n"
     ]
    }
   ],
   "source": [
    "A = 1\n",
    "B = A\n",
    "A += 1\n",
    "print B"
   ]
  },
  {
   "cell_type": "markdown",
   "metadata": {},
   "source": [
    "The difference in this example is, that we are not incrementing the value of A, but instead we are creating a new object and assigning this new object to our variable A. After this we have two objects the Integer 1 and the Integer 2 and two variables B and A referring to the objects, respectively.\n",
    "\n",
    "Some operations change the object instead creating a copy of the object assigned to a variable."
   ]
  },
  {
   "cell_type": "code",
   "execution_count": 33,
   "metadata": {
    "collapsed": false
   },
   "outputs": [
    {
     "name": "stdout",
     "output_type": "stream",
     "text": [
      "[[2, 3, 1, 4]]\n",
      "[[1, 2, 3, 4]]\n"
     ]
    }
   ],
   "source": [
    "A = [[2,3,1]]\n",
    "B = A\n",
    "A[0].append(4)\n",
    "print B\n",
    "A[0].sort()\n",
    "print B"
   ]
  },
  {
   "cell_type": "markdown",
   "metadata": {},
   "source": [
    "However, some operations directly create new objects."
   ]
  },
  {
   "cell_type": "code",
   "execution_count": 34,
   "metadata": {
    "collapsed": false
   },
   "outputs": [
    {
     "name": "stdout",
     "output_type": "stream",
     "text": [
      "[[2, 3, 1]]\n",
      "[1, 2, 3]\n",
      "[[2, 3, 1]]\n"
     ]
    }
   ],
   "source": [
    "A = [[2,3,1]]\n",
    "B = A\n",
    "A = A + [4]\n",
    "print B\n",
    "print sorted(A[0])\n",
    "print B"
   ]
  },
  {
   "cell_type": "markdown",
   "metadata": {},
   "source": [
    "So we end up with two objects and two variables referring to these objects, respectively.\n",
    "\n",
    "But we have to pay attention when we use operations like +=. The behaviour of this kind of operations depends on the object it is applied on."
   ]
  },
  {
   "cell_type": "code",
   "execution_count": 35,
   "metadata": {
    "collapsed": false
   },
   "outputs": [
    {
     "name": "stdout",
     "output_type": "stream",
     "text": [
      "A:  (1, 2, 3, 3, 4, 5)\n",
      "B:  (1, 2, 3)\n"
     ]
    }
   ],
   "source": [
    "A = ((1,2,3))  # assigning a immutable tuple object to A\n",
    "B = A\n",
    "A += (3,4,5)\n",
    "print \"A: \", A\n",
    "print \"B: \", B"
   ]
  },
  {
   "cell_type": "markdown",
   "metadata": {},
   "source": [
    "If we apply this operation on a variable referring to an immutable object - a new object is created, but if we apply this to an object referring to a mutable object like lists, sets and so on we are just changing the object."
   ]
  },
  {
   "cell_type": "code",
   "execution_count": 36,
   "metadata": {
    "collapsed": false
   },
   "outputs": [
    {
     "name": "stdout",
     "output_type": "stream",
     "text": [
      "A:  [1, 2, 3, 1]\n",
      "B:  [1, 2, 3, 1]\n"
     ]
    }
   ],
   "source": [
    "A = [1,2,3]  # assigning a mutable list object to A\n",
    "B = A\n",
    "A += [1]\n",
    "print \"A: \", A\n",
    "print \"B: \", B"
   ]
  },
  {
   "cell_type": "markdown",
   "metadata": {},
   "source": [
    "In this case the += operation on a list is equivalent to the A.extend([1]) operation."
   ]
  },
  {
   "cell_type": "markdown",
   "metadata": {},
   "source": [
    "###Copy"
   ]
  },
  {
   "cell_type": "markdown",
   "metadata": {},
   "source": [
    "The copy operation can be used to make copies of an object. Like"
   ]
  },
  {
   "cell_type": "code",
   "execution_count": 37,
   "metadata": {
    "collapsed": false
   },
   "outputs": [
    {
     "name": "stdout",
     "output_type": "stream",
     "text": [
      "A:  [1]\n",
      "B:  [5]\n"
     ]
    }
   ],
   "source": [
    "import copy\n",
    "A = [5]\n",
    "B = copy.copy(A)\n",
    "A[0] = 1\n",
    "print \"A: \", A\n",
    "print \"B: \", B"
   ]
  },
  {
   "cell_type": "markdown",
   "metadata": {},
   "source": [
    "The copy operation creates a copy of the object (in this case a list) assigned to variable A and set references of the inner objects. The inner object (integer 1) is immutable, hence, the variable B will not change if we change A. But if we have something like "
   ]
  },
  {
   "cell_type": "code",
   "execution_count": 38,
   "metadata": {
    "collapsed": false
   },
   "outputs": [
    {
     "name": "stdout",
     "output_type": "stream",
     "text": [
      "A:  [[1]]\n",
      "B:  [[1]]\n"
     ]
    }
   ],
   "source": [
    "A = [[5]]\n",
    "B = copy.copy(A)\n",
    "A[0][0] = 1\n",
    "print \"A: \", A\n",
    "print \"B: \", B"
   ]
  },
  {
   "cell_type": "markdown",
   "metadata": {},
   "source": [
    "We will change variable B if we change the inner object of variable A. This is because we have a copy of the first object (outer list) and just set a reference of the inner object. This brings us back to the problem we discussed above."
   ]
  },
  {
   "cell_type": "markdown",
   "metadata": {},
   "source": [
    "### Deepcopy"
   ]
  },
  {
   "cell_type": "markdown",
   "metadata": {},
   "source": [
    "To avoid this we have the possibility to make a deepcopy of our object assigned to a variable."
   ]
  },
  {
   "cell_type": "code",
   "execution_count": 39,
   "metadata": {
    "collapsed": false
   },
   "outputs": [
    {
     "name": "stdout",
     "output_type": "stream",
     "text": [
      "A:  [[1]]\n",
      "B:  [[5]]\n"
     ]
    }
   ],
   "source": [
    "import copy\n",
    "A = [[5]]\n",
    "B = copy.deepcopy(A)\n",
    "A[0][0] = 1\n",
    "print \"A: \", A\n",
    "print \"B: \", B"
   ]
  },
  {
   "cell_type": "markdown",
   "metadata": {},
   "source": [
    "With this operation we are creating a new object of the first object and for all nested objects, too. This means that the entire structure is copied and we end up with two objects (containing arbitray nested objects) assigned to two variables."
   ]
  },
  {
   "cell_type": "markdown",
   "metadata": {},
   "source": [
    "###Zipping unzipping lists and iterables"
   ]
  },
  {
   "cell_type": "code",
   "execution_count": 40,
   "metadata": {
    "collapsed": false
   },
   "outputs": [
    {
     "name": "stdout",
     "output_type": "stream",
     "text": [
      "zipping:  [(1, 'a'), (2, 'b'), (3, 'c')]\n",
      "unzipping:  [(1, 2, 3), ('a', 'b', 'c')]\n"
     ]
    }
   ],
   "source": [
    "A = [1, 2, 3]\n",
    "B = ['a', 'b', 'c']\n",
    "z = zip(A, B)\n",
    "print \"zipping: \", z\n",
    "print \"unzipping: \", zip(*z)"
   ]
  },
  {
   "cell_type": "markdown",
   "metadata": {},
   "source": [
    "## Dictionaries"
   ]
  },
  {
   "cell_type": "markdown",
   "metadata": {},
   "source": [
    "###Creating dictionaries"
   ]
  },
  {
   "cell_type": "code",
   "execution_count": 41,
   "metadata": {
    "collapsed": false
   },
   "outputs": [
    {
     "name": "stdout",
     "output_type": "stream",
     "text": [
      "dictionary comprehension:  {'a': 0, 'c': 4, 'b': 1, 'e': 16, 'd': 9}\n"
     ]
    }
   ],
   "source": [
    "# dictionary comprehension\n",
    "name_space = \"a\",\"b\",\"c\",\"d\",\"e\"\n",
    "dictionary = {name_space[x]: x**2 for x in range(len(name_space))}\n",
    "print \"dictionary comprehension: \", dictionary"
   ]
  },
  {
   "cell_type": "code",
   "execution_count": 42,
   "metadata": {
    "collapsed": false
   },
   "outputs": [
    {
     "name": "stdout",
     "output_type": "stream",
     "text": [
      "dictionary:  {'A': 1, 'C': 3, 'B': 2}\n"
     ]
    }
   ],
   "source": [
    "# creating a dictionary using zip function\n",
    "dictionary = dict(zip(['A', 'B', 'C'], [1, 2, 3]))\n",
    "print \"dictionary: \", dictionary"
   ]
  },
  {
   "cell_type": "code",
   "execution_count": 43,
   "metadata": {
    "collapsed": false
   },
   "outputs": [
    {
     "name": "stdout",
     "output_type": "stream",
     "text": [
      "default dictionary:  defaultdict(<type 'int'>, {'a': 1})\n"
     ]
    },
    {
     "ename": "KeyError",
     "evalue": "'a'",
     "output_type": "error",
     "traceback": [
      "\u001b[1;31m---------------------------------------------------------------------------\u001b[0m",
      "\u001b[1;31mKeyError\u001b[0m                                  Traceback (most recent call last)",
      "\u001b[1;32m<ipython-input-43-c4f0387b3348>\u001b[0m in \u001b[0;36m<module>\u001b[1;34m()\u001b[0m\n\u001b[0;32m      7\u001b[0m \u001b[1;31m# normal dictionary initialisation\u001b[0m\u001b[1;33m\u001b[0m\u001b[1;33m\u001b[0m\u001b[0m\n\u001b[0;32m      8\u001b[0m \u001b[0mno_default\u001b[0m \u001b[1;33m=\u001b[0m \u001b[0mdict\u001b[0m\u001b[1;33m(\u001b[0m\u001b[1;33m)\u001b[0m\u001b[1;33m\u001b[0m\u001b[0m\n\u001b[1;32m----> 9\u001b[1;33m \u001b[0mno_default\u001b[0m\u001b[1;33m[\u001b[0m\u001b[1;34m'a'\u001b[0m\u001b[1;33m]\u001b[0m \u001b[1;33m+=\u001b[0m \u001b[1;36m1\u001b[0m\u001b[1;33m\u001b[0m\u001b[0m\n\u001b[0m",
      "\u001b[1;31mKeyError\u001b[0m: 'a'"
     ]
    }
   ],
   "source": [
    "# default dictionary\n",
    "from collections import defaultdict\n",
    "default_dict = defaultdict(int)\n",
    "default_dict['a'] += 1  # increasing the value of key \"a\" directly during the initialisation of the key\n",
    "print \"default dictionary: \", default_dict\n",
    "\n",
    "# normal dictionary initialisation\n",
    "no_default = dict()\n",
    "no_default['a'] += 1"
   ]
  },
  {
   "cell_type": "markdown",
   "metadata": {},
   "source": [
    "### Inverting dictionaries"
   ]
  },
  {
   "cell_type": "code",
   "execution_count": 44,
   "metadata": {
    "collapsed": false
   },
   "outputs": [
    {
     "name": "stdout",
     "output_type": "stream",
     "text": [
      "dictionary:  {'a': 1, 'c': 3, 'b': 2}\n",
      "inverted dict:  {1: 'a', 2: 'b', 3: 'c'}\n"
     ]
    }
   ],
   "source": [
    "dictionary = dict(a=1, b=2, c=3)  # normal dict generation\n",
    "print \"dictionary: \", dictionary\n",
    "\n",
    "# inverting dictionary using zip function\n",
    "inverted_dict = dict(zip(dictionary.values(), dictionary.keys()))\n",
    "print \"inverted dict: \", inverted_dict"
   ]
  },
  {
   "cell_type": "markdown",
   "metadata": {},
   "source": [
    "### Ordered dictionaries"
   ]
  },
  {
   "cell_type": "code",
   "execution_count": 45,
   "metadata": {
    "collapsed": false
   },
   "outputs": [
    {
     "name": "stdout",
     "output_type": "stream",
     "text": [
      "ordered dictionary:  OrderedDict([('a', 0), ('b', 1), ('c', 4), ('d', 9), ('e', 16)])\n"
     ]
    }
   ],
   "source": [
    "from collections import OrderedDict\n",
    "ordered_dict = OrderedDict((name_space[x], x**2) for x in range(len(name_space)))\n",
    "print \"ordered dictionary: \", ordered_dict"
   ]
  },
  {
   "cell_type": "markdown",
   "metadata": {},
   "source": [
    "## Itertools"
   ]
  },
  {
   "cell_type": "markdown",
   "metadata": {},
   "source": [
    "### Sliding window"
   ]
  },
  {
   "cell_type": "code",
   "execution_count": 46,
   "metadata": {
    "collapsed": false
   },
   "outputs": [
    {
     "data": {
      "text/plain": [
       "[('H', 'e', 'l'),\n",
       " ('e', 'l', 'l'),\n",
       " ('l', 'l', 'o'),\n",
       " ('l', 'o', 'W'),\n",
       " ('o', 'W', 'o'),\n",
       " ('W', 'o', 'r'),\n",
       " ('o', 'r', 'l'),\n",
       " ('r', 'l', 'd')]"
      ]
     },
     "execution_count": 46,
     "metadata": {},
     "output_type": "execute_result"
    }
   ],
   "source": [
    "import itertools\n",
    "def k_mer(word, size):\n",
    "    z = (itertools.islice(word, i, None) for i in range(size))\n",
    "    return zip(*z)\n",
    "\n",
    "string = \"HelloWorld\"\n",
    "k_mer(string,3)"
   ]
  },
  {
   "cell_type": "markdown",
   "metadata": {},
   "source": [
    "### Permutations"
   ]
  },
  {
   "cell_type": "code",
   "execution_count": 47,
   "metadata": {
    "collapsed": false
   },
   "outputs": [
    {
     "name": "stdout",
     "output_type": "stream",
     "text": [
      "permutations:  (1, 2, 3)\n",
      "permutations:  (1, 3, 2)\n",
      "permutations:  (2, 1, 3)\n",
      "permutations:  (2, 3, 1)\n",
      "permutations:  (3, 1, 2)\n",
      "permutations:  (3, 2, 1)\n"
     ]
    }
   ],
   "source": [
    "import itertools\n",
    "for p in itertools.permutations([1,2,3]):\n",
    "    print \"permutations: \", p"
   ]
  },
  {
   "cell_type": "markdown",
   "metadata": {},
   "source": [
    "##Flatting Lists"
   ]
  },
  {
   "cell_type": "code",
   "execution_count": 48,
   "metadata": {
    "collapsed": false
   },
   "outputs": [
    {
     "name": "stdout",
     "output_type": "stream",
     "text": [
      "a_flatted_list:  [1, 2, 3, 4, 5, 6]\n"
     ]
    }
   ],
   "source": [
    "import itertools\n",
    "a_list = [[1,2],[3,4],[5,6]]\n",
    "\n",
    "a_flatted_list = [x for i in a_list for x in i]\n",
    "print \"a_flatted_list: \", a_flatted_list\n"
   ]
  }
 ],
 "metadata": {
  "celltoolbar": "Slideshow",
  "kernelspec": {
   "display_name": "Python 2",
   "language": "python",
   "name": "python2"
  },
  "language_info": {
   "codemirror_mode": {
    "name": "ipython",
    "version": 2
   },
   "file_extension": ".py",
   "mimetype": "text/x-python",
   "name": "python",
   "nbconvert_exporter": "python",
   "pygments_lexer": "ipython2",
   "version": "2.7.6"
  }
 },
 "nbformat": 4,
 "nbformat_minor": 0
}
