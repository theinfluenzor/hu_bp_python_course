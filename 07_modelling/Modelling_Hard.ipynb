{
 "cells": [
  {
   "cell_type": "markdown",
   "metadata": {},
   "source": [
    "# Solution for different modelling mechanisms\n",
    "## Reaction: A + B = C\n",
    "##### Jens Hahn - 21/05/2015"
   ]
  },
  {
   "cell_type": "markdown",
   "metadata": {},
   "source": [
    "## 1. Deterministic Simulation (ODE)\n",
    "#### Ordinary differential equations\n",
    "### Kinetic Rate Law: Mass Action"
   ]
  },
  {
   "cell_type": "markdown",
   "metadata": {},
   "source": [
    "Initial Values\n",
    "$$[A](0) = 3.0 \\textrm{ mM}$$\n",
    "$$[B](0) = 2.0 \\textrm{ mM}$$\n",
    "$$[C](0) = 2.5 \\textrm{ mM}$$\n",
    "\n",
    "$$\\textrm{k}_1 = 0.2 \\ \\frac{1}{\\textrm{mM}\\times\\textrm{s}}$$\n",
    "\n",
    "$$\\textrm{k}_2 = 0.1 \\ \\frac{1}{\\textrm{mM}}$$\n",
    "\n",
    "\n",
    "Reactions\n",
    "$$\\textrm{v}_1 = \\textrm{k}_1 \\times [A](\\textrm{t}) \\times [B](\\textrm{t})$$\n",
    "\n",
    "$$\\textrm{v}_2 = \\textrm{k}_2 \\times [C](\\textrm{t})$$\n",
    "\n",
    "Differential Equations\n",
    "$$\\frac{\\textrm{d}[A]}{\\textrm{dt}} = - \\textrm{v}_1 + \\textrm{v}_2$$\n",
    "\n",
    "$$\\frac{\\textrm{d}[B]}{\\textrm{dt}} = - \\textrm{v}_1 + \\textrm{v}_2$$\n",
    "\n",
    "$$\\frac{\\textrm{d}[C]}{\\textrm{dt}} = + \\textrm{v}_1 - \\textrm{v}_2$$"
   ]
  },
  {
   "cell_type": "code",
   "execution_count": 1,
   "metadata": {
    "collapsed": true
   },
   "outputs": [],
   "source": [
    "# initial values\n",
    "time_range = range(0,100)\n",
    "k1 = 0.2\n",
    "k2 = 0.1\n",
    "conc_A = 3.0\n",
    "conc_B = 2.0\n",
    "conc_C = 2.5\n",
    "\n",
    "# function to return changes\n",
    "def eval_change():\n",
    "    # reactions\n",
    "    v1 = k1 * conc_A * conc_B\n",
    "    v2 = k2 * conc_C\n",
    "    dadt = -v1 + v2\n",
    "    dbdt = -v1 + v2\n",
    "    dcdt = v1 - v2\n",
    "    return dadt, dbdt, dcdt\n",
    "\n",
    "# solutions for plotting\n",
    "solution_ODE = {}\n",
    "solution_ODE['time'] = time_range\n",
    "solution_ODE['A'] = []\n",
    "solution_ODE['B'] = []\n",
    "solution_ODE['C'] = []\n",
    "\n",
    "# simulation\n",
    "for time in time_range:\n",
    "    solution_ODE['A'].append(conc_A)\n",
    "    solution_ODE['B'].append(conc_B)\n",
    "    solution_ODE['C'].append(conc_C)\n",
    "    \n",
    "    dadt, dbdt, dcdt = eval_change()\n",
    "    conc_A += dadt\n",
    "    conc_B += dbdt\n",
    "    conc_C += dcdt"
   ]
  },
  {
   "cell_type": "markdown",
   "metadata": {},
   "source": [
    "###Create Plot"
   ]
  },
  {
   "cell_type": "code",
   "execution_count": 2,
   "metadata": {
    "collapsed": false
   },
   "outputs": [],
   "source": [
    "import matplotlib.pyplot as plt\n",
    "plt.title('My ODE solution')\n",
    "plt.plot(solution_ODE['time'], solution_ODE['A'], label='[A]')\n",
    "plt.plot(solution_ODE['time'], solution_ODE['B'], label='[B]')\n",
    "plt.plot(solution_ODE['time'], solution_ODE['C'], label='[C]')\n",
    "plt.xlabel('time [sec]')\n",
    "plt.ylabel('concentration [mM]')\n",
    "plt.legend(loc='best', prop={'size': 10})\n",
    "plt.show()"
   ]
  },
  {
   "cell_type": "markdown",
   "metadata": {},
   "source": [
    "## 2. Stochastic Simulation (Gillespie SSA)\n",
    "#### Gillespie Stochastic Simulation Algorithm"
   ]
  },
  {
   "cell_type": "markdown",
   "metadata": {},
   "source": [
    "#### Inital values\n",
    "$$A = 30$$\n",
    "$$B = 20$$\n",
    "$$C = 25$$\n",
    "####Combinations *h* (dependent on molecules involved):\n",
    "Reactions     \n",
    "R1: second order    \n",
    "$\\textrm{A} + \\textrm{B} \\Rightarrow \\textrm{h}_1 = \\textrm{N}_A \\times \\textrm{N}_B$\n",
    "\n",
    "R2: first order     \n",
    "$\\textrm{C} \\phantom{ + \\textrm{B}} \\Rightarrow \\textrm{h}_2 = \\textrm{N}_C$\n",
    "\n",
    "#### Propensity *a* = h k\n",
    "$$\\textrm{k}_1 = 0.2$$\n",
    "$$\\textrm{k}_2 = 0.1$$\n",
    "\n",
    "$$\\textrm{a}_1 = \\textrm{k}_1 * \\textrm{h}_1$$\n",
    "$$\\textrm{a}_2 = \\textrm{k}_2 * \\textrm{h}_2$$\n"
   ]
  },
  {
   "cell_type": "code",
   "execution_count": 4,
   "metadata": {
    "collapsed": false
   },
   "outputs": [],
   "source": [
    "import random\n",
    "import math\n",
    "\n",
    "# initial values\n",
    "t_start = 0.\n",
    "t_end = 100.\n",
    "num_A = 30\n",
    "num_B = 20\n",
    "num_C = 25\n",
    "k1 = 0.2\n",
    "k2 = 0.1\n",
    "\n",
    "solution_SSA = {}\n",
    "solution_SSA['time'] = []\n",
    "solution_SSA['A'] = []\n",
    "solution_SSA['B'] = []\n",
    "solution_SSA['C'] = []\n",
    "\n",
    "# simulation\n",
    "time = t_start\n",
    "while time <= t_end:\n",
    "    a1 = num_A * num_B * k1\n",
    "    a2 = num_C * k2\n",
    "    a = a1 + a2\n",
    "    norm_a1 = a1/a\n",
    "    norm_a2 = a2/a\n",
    "    \n",
    "    # plotting\n",
    "    solution_SSA['time'].append(time)\n",
    "    solution_SSA['A'].append(num_A)\n",
    "    solution_SSA['B'].append(num_B)\n",
    "    solution_SSA['C'].append(num_C)\n",
    "    \n",
    "    n1 = random.random()\n",
    "    \n",
    "    if n1 <= norm_a1:\n",
    "        num_A -= 1\n",
    "        num_B -= 1\n",
    "        num_C += 1\n",
    "    else:\n",
    "        num_A += 1\n",
    "        num_B += 1\n",
    "        num_C -= 1\n",
    "        \n",
    "    n2 = random.random()\n",
    "    time += -(1/a) * math.log(n2)"
   ]
  },
  {
   "cell_type": "markdown",
   "metadata": {},
   "source": [
    "###Create Plot"
   ]
  },
  {
   "cell_type": "code",
   "execution_count": 5,
   "metadata": {
    "collapsed": false
   },
   "outputs": [],
   "source": [
    "import matplotlib.pyplot as plt\n",
    "plt.title('My Gillespie solution')\n",
    "plt.plot(solution_SSA['time'], solution_SSA['A'], label='[A]')\n",
    "plt.plot(solution_SSA['time'], solution_SSA['B'], label='[B]')\n",
    "plt.plot(solution_SSA['time'], solution_SSA['C'], label='[C]')\n",
    "plt.xlabel('time [sec]')\n",
    "plt.ylabel('number of molecules')\n",
    "plt.legend(loc='best', prop={'size': 10})\n",
    "plt.show()"
   ]
  },
  {
   "cell_type": "code",
   "execution_count": null,
   "metadata": {
    "collapsed": true
   },
   "outputs": [],
   "source": []
  }
 ],
 "metadata": {
  "kernelspec": {
   "display_name": "Python 2",
   "language": "python",
   "name": "python2"
  },
  "language_info": {
   "codemirror_mode": {
    "name": "ipython",
    "version": 2
   },
   "file_extension": ".py",
   "mimetype": "text/x-python",
   "name": "python",
   "nbconvert_exporter": "python",
   "pygments_lexer": "ipython2",
   "version": "2.7.6"
  }
 },
 "nbformat": 4,
 "nbformat_minor": 0
}
