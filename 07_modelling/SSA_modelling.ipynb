{
 "cells": [
  {
   "cell_type": "markdown",
   "metadata": {},
   "source": [
    "# Modelling with Python\n",
    "## 21/05/2015 \n",
    "### Jens Hahn"
   ]
  },
  {
   "cell_type": "markdown",
   "metadata": {},
   "source": [
    "## 2. Discrete stochastic modelling\n",
    "### Gillespie Algorithm (SSA)"
   ]
  },
  {
   "cell_type": "markdown",
   "metadata": {},
   "source": [
    "This time we want to have a look on a stochastic model. These models are not deterministc, so every simulation will give you a slightly different result. Furthermore, these models are discrete, so you're looking on the behaviour of single molecules. \n",
    "Since these models describe single molecules, they are quite slow, but surely more accurate for the simulation of systems with only few particles, e.g. *gene regulation*."
   ]
  },
  {
   "cell_type": "markdown",
   "metadata": {},
   "source": [
    "### Let's start\n",
    "We will use the same reaction as in the ODE part before, a molecule A and a molecule B react to a molecule C in a reversible reaction:\n",
    "$$\\textrm{A} + \\textrm{B} \\rightleftharpoons \\textrm{C}$$"
   ]
  },
  {
   "cell_type": "markdown",
   "metadata": {},
   "source": [
    "#### Reaction propensities\n",
    "In this formalism we have to define reaction propensities for every reaction. They consist basically of two parts:\n",
    "\n",
    "Firstly, the actual probability for the reaction to occur when 2 molecules meet Let's call them $\\textrm{k}_1$ and\n",
    "$\\textrm{k}_2$.\n",
    "\n",
    "Secondly, we need to think about the fact that there are several molecules per species. Quite similar to the mass action rate law, only here its about possibilities of pairs (permutations), **h**. \n",
    "\n",
    "The actual reaction propensity is the product of the probability and the permutation term.     \n",
    "\n",
    "Here:      \n",
    "R1: second order    \n",
    "$\\textrm{A} + \\textrm{B} \\Rightarrow \\textrm{h}_1 = \\textrm{N}_A \\times \\textrm{N}_B$\n",
    "\n",
    "R2: first order     \n",
    "$\\textrm{C} \\phantom{ + \\textrm{B}} \\Rightarrow \\textrm{h}_2 = \\textrm{N}_C$\n",
    "\n",
    "#### Propensity *a* = h k\n",
    "$$\\textrm{k}_1 = 0.2$$\n",
    "$$\\textrm{k}_2 = 0.1$$\n",
    "\n",
    "$$\\textrm{a}_1 = \\textrm{k}_1 * \\textrm{h}_1$$\n",
    "$$\\textrm{a}_2 = \\textrm{k}_2 * \\textrm{h}_2$$\n",
    "\n",
    "**These propensities will give as the information which reaction actually occurs.**"
   ]
  },
  {
   "cell_type": "markdown",
   "metadata": {},
   "source": [
    "#### Time step\n",
    "We need also the information at what time a reaction occurs. Therefore, we will use this formula:\n",
    "$$\\tau = - \\frac{1}{a}\\ln(\\textrm{ran_num})$$\n",
    "In this formula, a is the sum of the reaction propensities and *ran_num* is a random number between 0 and 1.  \n",
    "The formula basically describes, that with increasing time without any reaction, the probability for any reaction to occur also increases (exponentially)."
   ]
  },
  {
   "cell_type": "markdown",
   "metadata": {},
   "source": [
    "#### Simulation algoritm\n",
    "*Gillespie* SSA:    \n",
    "This algorithm consists of two random numbers between 0 and 1. One will tell you which reaction occurs (use normalised propensities!) and the other one will tell you when the reaction occurs.  "
   ]
  },
  {
   "cell_type": "markdown",
   "metadata": {},
   "source": [
    "#### Python\n",
    "Let's start the simulation. We begin with defining the initial states and the paramters:"
   ]
  },
  {
   "cell_type": "code",
   "execution_count": null,
   "metadata": {
    "collapsed": true
   },
   "outputs": [],
   "source": [
    "import random\n",
    "import math \n",
    "\n",
    "# initial parameters\n",
    "\n",
    "# initialise solutions for plotting\n",
    "\n",
    "# while loop for simulation\n",
    "\n",
    "# plotting of results\n"
   ]
  },
  {
   "cell_type": "markdown",
   "metadata": {},
   "source": [
    "Now it's your turn! What do we need to simulate our model for... let's say 100 seconds?\n",
    "\n",
    "Here some help:\n",
    "1. The simulation time\n",
    "2. Lists to save the simulation results\n",
    "3. A while loop with two random numbers\n",
    "4. Some matplotlib to visuali"
   ]
  },
  {
   "cell_type": "code",
   "execution_count": null,
   "metadata": {
    "collapsed": true
   },
   "outputs": [],
   "source": []
  }
 ],
 "metadata": {
  "kernelspec": {
   "display_name": "Python 2",
   "language": "python",
   "name": "python2"
  },
  "language_info": {
   "codemirror_mode": {
    "name": "ipython",
    "version": 2
   },
   "file_extension": ".py",
   "mimetype": "text/x-python",
   "name": "python",
   "nbconvert_exporter": "python",
   "pygments_lexer": "ipython2",
   "version": "2.7.9"
  }
 },
 "nbformat": 4,
 "nbformat_minor": 0
}
