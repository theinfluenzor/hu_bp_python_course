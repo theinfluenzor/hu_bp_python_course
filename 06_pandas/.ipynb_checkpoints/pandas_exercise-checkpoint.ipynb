{
 "cells": [
  {
   "cell_type": "markdown",
   "metadata": {},
   "source": [
    "# Exercises"
   ]
  },
  {
   "cell_type": "code",
<<<<<<< HEAD
   "execution_count": 97,
=======
   "execution_count": 2,
>>>>>>> upstream/master
   "metadata": {
    "collapsed": false
   },
   "outputs": [],
   "source": [
    "import pandas as pd\n",
    "from matplotlib import pyplot as plt\n",
    "plt.style.use('ggplot')\n",
    "%matplotlib inline\n",
    "diamonds = pd.read_csv('diamonds.csv',index_col=0)"
   ]
  },
  {
   "cell_type": "markdown",
   "metadata": {},
   "source": [
    "### Task 1: Find all the diamonds with more than 2 carat and plot their price distribution in a histogram"
   ]
  },
  {
   "cell_type": "code",
<<<<<<< HEAD
   "execution_count": 14,
=======
   "execution_count": 180,
>>>>>>> upstream/master
   "metadata": {
    "collapsed": false
   },
   "outputs": [
    {
     "data": {
      "text/plain": [
<<<<<<< HEAD
       "<matplotlib.axes._subplots.AxesSubplot at 0x7f2609d989d0>"
      ]
     },
     "execution_count": 14,
=======
       "<matplotlib.axes._subplots.AxesSubplot at 0x7fd12f09a610>"
      ]
     },
     "execution_count": 180,
>>>>>>> upstream/master
     "metadata": {},
     "output_type": "execute_result"
    },
    {
     "data": {
      "image/png": "iVBORw0KGgoAAAANSUhEUgAAAZgAAAEECAYAAAAVnyJtAAAABHNCSVQICAgIfAhkiAAAAAlwSFlz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\nxjT8Nz8AAAAASUVORK5CYII=\n",
      "text/plain": [
<<<<<<< HEAD
       "<matplotlib.figure.Figure at 0x7f2609d98f10>"
=======
       "<matplotlib.figure.Figure at 0x7fd12f0666d0>"
>>>>>>> upstream/master
      ]
     },
     "metadata": {},
     "output_type": "display_data"
    }
   ],
   "source": [
<<<<<<< HEAD
    "df2 = diamonds[diamonds['carat']>2]\n",
    "df2.head()\n",
    "df2['price'].plot(kind='hist')"
=======
    "diamonds[diamonds['carat'] >2]['price'].plot(kind='hist')\n",
    "#diamonds"
>>>>>>> upstream/master
   ]
  },
  {
   "cell_type": "markdown",
   "metadata": {},
   "source": [
    "### Task 2: compute and plot the standard deviation of the x dimension for the different cuts"
   ]
  },
  {
   "cell_type": "code",
<<<<<<< HEAD
   "execution_count": 26,
=======
   "execution_count": 15,
>>>>>>> upstream/master
   "metadata": {
    "collapsed": false
   },
   "outputs": [
    {
     "data": {
      "text/plain": [
<<<<<<< HEAD
       "<matplotlib.axes._subplots.AxesSubplot at 0x7f26131a0350>"
      ]
     },
     "execution_count": 26,
=======
       "<matplotlib.axes._subplots.AxesSubplot at 0x7fd132707bd0>"
      ]
     },
     "execution_count": 15,
>>>>>>> upstream/master
     "metadata": {},
     "output_type": "execute_result"
    },
    {
     "data": {
<<<<<<< HEAD
      "image/png": "iVBORw0KGgoAAAANSUhEUgAAAZMAAAEWCAYAAACjYXoKAAAABHNCSVQICAgIfAhkiAAAAAlwSFlz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\n6WMyUnwAAAAASUVORK5CYII=\n",
      "text/plain": [
       "<matplotlib.figure.Figure at 0x7f2609d98090>"
=======
      "image/png": "iVBORw0KGgoAAAANSUhEUgAAAbAAAAD/CAYAAACQN4MnAAAABHNCSVQICAgIfAhkiAAAAAlwSFlz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\nmfQqWMdsXAAAAABJRU5ErkJggg==\n",
      "text/plain": [
       "<matplotlib.figure.Figure at 0x7fd1327dc990>"
>>>>>>> upstream/master
      ]
     },
     "metadata": {},
     "output_type": "display_data"
    }
   ],
   "source": [
<<<<<<< HEAD
    "diamonds.head()\n",
    "df3 = diamonds.groupby('cut')['x'].std()\n",
    "df3.plot()"
=======
    "diamonds.groupby(\"cut\").std()['x'].plot(kind='barh')"
>>>>>>> upstream/master
   ]
  },
  {
   "cell_type": "markdown",
   "metadata": {},
   "source": [
    "###Task 3: Import the \"Kernmerkmale Bevölkerung (Geschlecht, Deutsche/Ausländer, 5 Altersgruppen)\" data set\n",
    "\n",
    "https://www.destatis.de/DE/PresseService/Presse/Pressekonferenzen/2013/Zensus2011/zensus_pk.html\n",
    "\n",
    "download the excel file and use the `read_excel` method in pandas (hint: useful arguments are `sheetname`, `header` and `index_col`"
   ]
  },
  {
   "cell_type": "code",
<<<<<<< HEAD
   "execution_count": 118,
=======
   "execution_count": 107,
>>>>>>> upstream/master
   "metadata": {
    "collapsed": false
   },
   "outputs": [
    {
     "data": {
      "text/html": [
       "<div style=\"max-height:1000px;max-width:1500px;overflow:auto;\">\n",
       "<table border=\"1\" class=\"dataframe\">\n",
       "  <thead>\n",
       "    <tr style=\"text-align: right;\">\n",
       "      <th></th>\n",
       "      <th>SATZART</th>\n",
<<<<<<< HEAD
       "      <th>NAME</th>\n",
=======
       "      <th>AGS</th>\n",
>>>>>>> upstream/master
       "      <th>EWZ</th>\n",
       "      <th>EW_M</th>\n",
       "      <th>EW_W</th>\n",
       "      <th>EW_D</th>\n",
       "      <th>EW_A</th>\n",
       "      <th>ALTER_1</th>\n",
       "      <th>ALTER_2</th>\n",
       "      <th>ALTER_3</th>\n",
       "      <th>ALTER_4</th>\n",
       "      <th>ALTER_5</th>\n",
       "    </tr>\n",
       "    <tr>\n",
<<<<<<< HEAD
       "      <th>AGS</th>\n",
=======
       "      <th>NAME</th>\n",
>>>>>>> upstream/master
       "      <th></th>\n",
       "      <th></th>\n",
       "      <th></th>\n",
       "      <th></th>\n",
       "      <th></th>\n",
       "      <th></th>\n",
       "      <th></th>\n",
       "      <th></th>\n",
       "      <th></th>\n",
       "      <th></th>\n",
       "      <th></th>\n",
       "      <th></th>\n",
       "    </tr>\n",
       "  </thead>\n",
       "  <tbody>\n",
       "    <tr>\n",
<<<<<<< HEAD
       "      <th>0       </th>\n",
       "      <td>  0</td>\n",
       "      <td>                             Deutschland</td>\n",
=======
       "      <th>Deutschland</th>\n",
       "      <td>  0</td>\n",
       "      <td>        0</td>\n",
>>>>>>> upstream/master
       "      <td> 80219695</td>\n",
       "      <td> 39153540</td>\n",
       "      <td> 41066140</td>\n",
       "      <td> 74050320</td>\n",
       "      <td> 6169360</td>\n",
       "      <td> 13138580</td>\n",
       "      <td> 11391700</td>\n",
       "      <td> 22838880</td>\n",
       "      <td> 16333080</td>\n",
       "      <td> 16517450</td>\n",
       "    </tr>\n",
       "    <tr>\n",
<<<<<<< HEAD
       "      <th>1       </th>\n",
       "      <td> 10</td>\n",
       "      <td>                      Schleswig-Holstein</td>\n",
=======
       "      <th>Schleswig-Holstein</th>\n",
       "      <td> 10</td>\n",
       "      <td>        1</td>\n",
>>>>>>> upstream/master
       "      <td>  2800119</td>\n",
       "      <td>  1360530</td>\n",
       "      <td>  1439590</td>\n",
       "      <td>  2683670</td>\n",
       "      <td>  116450</td>\n",
       "      <td>   477010</td>\n",
       "      <td>   362390</td>\n",
       "      <td>   790060</td>\n",
       "      <td>   563490</td>\n",
       "      <td>   607170</td>\n",
       "    </tr>\n",
       "    <tr>\n",
<<<<<<< HEAD
       "      <th>10      </th>\n",
       "      <td> 20</td>\n",
       "      <td> Schleswig-Holstein (fiktiver Reg.-Bez.)</td>\n",
=======
       "      <th>Schleswig-Holstein (fiktiver Reg.-Bez.)</th>\n",
       "      <td> 20</td>\n",
       "      <td>       10</td>\n",
>>>>>>> upstream/master
       "      <td>  2800119</td>\n",
       "      <td>  1360530</td>\n",
       "      <td>  1439590</td>\n",
       "      <td>  2683670</td>\n",
       "      <td>  116450</td>\n",
       "      <td>   477010</td>\n",
       "      <td>   362390</td>\n",
       "      <td>   790060</td>\n",
       "      <td>   563490</td>\n",
       "      <td>   607170</td>\n",
       "    </tr>\n",
       "    <tr>\n",
<<<<<<< HEAD
       "      <th>1001    </th>\n",
       "      <td> 40</td>\n",
       "      <td>                        Flensburg, Stadt</td>\n",
=======
       "      <th>Flensburg, Stadt</th>\n",
       "      <td> 40</td>\n",
       "      <td>     1001</td>\n",
>>>>>>> upstream/master
       "      <td>    82258</td>\n",
       "      <td>    40660</td>\n",
       "      <td>    41590</td>\n",
       "      <td>    77140</td>\n",
       "      <td>    5120</td>\n",
       "      <td>    12150</td>\n",
       "      <td>    15640</td>\n",
       "      <td>    22130</td>\n",
       "      <td>    15560</td>\n",
       "      <td>    16770</td>\n",
       "    </tr>\n",
       "    <tr>\n",
<<<<<<< HEAD
       "      <th>10010000</th>\n",
       "      <td> 50</td>\n",
       "      <td>                        Flensburg, Stadt</td>\n",
=======
       "      <th>Flensburg, Stadt</th>\n",
       "      <td> 50</td>\n",
       "      <td> 10010000</td>\n",
>>>>>>> upstream/master
       "      <td>    82258</td>\n",
       "      <td>    40660</td>\n",
       "      <td>    41590</td>\n",
       "      <td>    77140</td>\n",
       "      <td>    5120</td>\n",
       "      <td>    12150</td>\n",
       "      <td>    15640</td>\n",
       "      <td>    22130</td>\n",
       "      <td>    15560</td>\n",
       "      <td>    16770</td>\n",
       "    </tr>\n",
       "  </tbody>\n",
       "</table>\n",
       "</div>"
      ],
      "text/plain": [
<<<<<<< HEAD
       "          SATZART                                     NAME       EWZ  \\\n",
       "AGS                                                                    \n",
       "0               0                              Deutschland  80219695   \n",
       "1              10                       Schleswig-Holstein   2800119   \n",
       "10             20  Schleswig-Holstein (fiktiver Reg.-Bez.)   2800119   \n",
       "1001           40                         Flensburg, Stadt     82258   \n",
       "10010000       50                         Flensburg, Stadt     82258   \n",
       "\n",
       "              EW_M      EW_W      EW_D     EW_A   ALTER_1   ALTER_2   ALTER_3  \\\n",
       "AGS                                                                             \n",
       "0         39153540  41066140  74050320  6169360  13138580  11391700  22838880   \n",
       "1          1360530   1439590   2683670   116450    477010    362390    790060   \n",
       "10         1360530   1439590   2683670   116450    477010    362390    790060   \n",
       "1001         40660     41590     77140     5120     12150     15640     22130   \n",
       "10010000     40660     41590     77140     5120     12150     15640     22130   \n",
       "\n",
       "           ALTER_4   ALTER_5  \n",
       "AGS                           \n",
       "0         16333080  16517450  \n",
       "1           563490    607170  \n",
       "10          563490    607170  \n",
       "1001         15560     16770  \n",
       "10010000     15560     16770  "
      ]
     },
     "execution_count": 118,
=======
       "                                         SATZART       AGS       EWZ  \\\n",
       "NAME                                                                   \n",
       "Deutschland                                    0         0  80219695   \n",
       "Schleswig-Holstein                            10         1   2800119   \n",
       "Schleswig-Holstein (fiktiver Reg.-Bez.)       20        10   2800119   \n",
       "Flensburg, Stadt                              40      1001     82258   \n",
       "Flensburg, Stadt                              50  10010000     82258   \n",
       "\n",
       "                                             EW_M      EW_W      EW_D  \\\n",
       "NAME                                                                    \n",
       "Deutschland                              39153540  41066140  74050320   \n",
       "Schleswig-Holstein                        1360530   1439590   2683670   \n",
       "Schleswig-Holstein (fiktiver Reg.-Bez.)   1360530   1439590   2683670   \n",
       "Flensburg, Stadt                            40660     41590     77140   \n",
       "Flensburg, Stadt                            40660     41590     77140   \n",
       "\n",
       "                                            EW_A   ALTER_1   ALTER_2  \\\n",
       "NAME                                                                   \n",
       "Deutschland                              6169360  13138580  11391700   \n",
       "Schleswig-Holstein                        116450    477010    362390   \n",
       "Schleswig-Holstein (fiktiver Reg.-Bez.)   116450    477010    362390   \n",
       "Flensburg, Stadt                            5120     12150     15640   \n",
       "Flensburg, Stadt                            5120     12150     15640   \n",
       "\n",
       "                                          ALTER_3   ALTER_4   ALTER_5  \n",
       "NAME                                                                   \n",
       "Deutschland                              22838880  16333080  16517450  \n",
       "Schleswig-Holstein                         790060    563490    607170  \n",
       "Schleswig-Holstein (fiktiver Reg.-Bez.)    790060    563490    607170  \n",
       "Flensburg, Stadt                            22130     15560     16770  \n",
       "Flensburg, Stadt                            22130     15560     16770  "
      ]
     },
     "execution_count": 107,
>>>>>>> upstream/master
     "metadata": {},
     "output_type": "execute_result"
    }
   ],
   "source": [
<<<<<<< HEAD
    "kernel = pd.read_excel('demo_excel.xls', sheetname='Demographie', header = 3, index_col=1)\n",
    "kernel.head()"
=======
    " z = pd.read_excel('demo_excel.xls', sheetname=2, header=3, index_col=2)\n",
    "z.head()"
>>>>>>> upstream/master
   ]
  },
  {
   "cell_type": "markdown",
   "metadata": {},
   "source": [
    "### Task 4: Create a new DataFrame containing only the \"Bundesländer\" (hint: use the corresponding SATZART key)"
   ]
  },
  {
   "cell_type": "code",
<<<<<<< HEAD
   "execution_count": 35,
=======
   "execution_count": 108,
>>>>>>> upstream/master
   "metadata": {
    "collapsed": false
   },
   "outputs": [
    {
     "data": {
      "text/html": [
       "<div style=\"max-height:1000px;max-width:1500px;overflow:auto;\">\n",
       "<table border=\"1\" class=\"dataframe\">\n",
       "  <thead>\n",
       "    <tr style=\"text-align: right;\">\n",
       "      <th></th>\n",
<<<<<<< HEAD
       "      <th>SATZART</th>\n",
       "      <th>NAME</th>\n",
       "      <th>EWZ</th>\n",
       "      <th>EW_M</th>\n",
       "      <th>EW_W</th>\n",
       "      <th>EW_D</th>\n",
       "      <th>EW_A</th>\n",
=======
>>>>>>> upstream/master
       "      <th>ALTER_1</th>\n",
       "      <th>ALTER_2</th>\n",
       "      <th>ALTER_3</th>\n",
       "      <th>ALTER_4</th>\n",
       "      <th>ALTER_5</th>\n",
       "    </tr>\n",
       "    <tr>\n",
<<<<<<< HEAD
       "      <th>AGS</th>\n",
       "      <th></th>\n",
       "      <th></th>\n",
       "      <th></th>\n",
       "      <th></th>\n",
       "      <th></th>\n",
       "      <th></th>\n",
       "      <th></th>\n",
=======
       "      <th>NAME</th>\n",
>>>>>>> upstream/master
       "      <th></th>\n",
       "      <th></th>\n",
       "      <th></th>\n",
       "      <th></th>\n",
       "      <th></th>\n",
       "    </tr>\n",
       "  </thead>\n",
       "  <tbody>\n",
       "    <tr>\n",
<<<<<<< HEAD
       "      <th>1 </th>\n",
       "      <td> 10</td>\n",
       "      <td>     Schleswig-Holstein</td>\n",
       "      <td>  2800119</td>\n",
       "      <td> 1360530</td>\n",
       "      <td> 1439590</td>\n",
       "      <td>  2683670</td>\n",
       "      <td>  116450</td>\n",
=======
       "      <th>Schleswig-Holstein</th>\n",
>>>>>>> upstream/master
       "      <td>  477010</td>\n",
       "      <td>  362390</td>\n",
       "      <td>  790060</td>\n",
       "      <td>  563490</td>\n",
       "      <td>  607170</td>\n",
       "    </tr>\n",
       "    <tr>\n",
<<<<<<< HEAD
       "      <th>2 </th>\n",
       "      <td> 10</td>\n",
       "      <td>                Hamburg</td>\n",
       "      <td>  1706696</td>\n",
       "      <td>  826140</td>\n",
       "      <td>  880560</td>\n",
       "      <td>  1495810</td>\n",
       "      <td>  210890</td>\n",
=======
       "      <th>Hamburg</th>\n",
>>>>>>> upstream/master
       "      <td>  267800</td>\n",
       "      <td>  275420</td>\n",
       "      <td>  537600</td>\n",
       "      <td>  301700</td>\n",
       "      <td>  324180</td>\n",
       "    </tr>\n",
       "    <tr>\n",
<<<<<<< HEAD
       "      <th>3 </th>\n",
       "      <td> 10</td>\n",
       "      <td>          Niedersachsen</td>\n",
       "      <td>  7777992</td>\n",
       "      <td> 3804410</td>\n",
       "      <td> 3973590</td>\n",
       "      <td>  7351250</td>\n",
       "      <td>  426750</td>\n",
=======
       "      <th>Niedersachsen</th>\n",
>>>>>>> upstream/master
       "      <td> 1356370</td>\n",
       "      <td> 1049040</td>\n",
       "      <td> 2188170</td>\n",
       "      <td> 1569480</td>\n",
       "      <td> 1614940</td>\n",
       "    </tr>\n",
       "    <tr>\n",
<<<<<<< HEAD
       "      <th>4 </th>\n",
       "      <td> 10</td>\n",
       "      <td>                 Bremen</td>\n",
       "      <td>   650863</td>\n",
       "      <td>  316110</td>\n",
       "      <td>  334750</td>\n",
       "      <td>   580340</td>\n",
       "      <td>   70520</td>\n",
=======
       "      <th>Bremen</th>\n",
>>>>>>> upstream/master
       "      <td>   98850</td>\n",
       "      <td>  105260</td>\n",
       "      <td>  181880</td>\n",
       "      <td>  126940</td>\n",
       "      <td>  137940</td>\n",
       "    </tr>\n",
       "    <tr>\n",
<<<<<<< HEAD
       "      <th>5 </th>\n",
       "      <td> 10</td>\n",
       "      <td>    Nordrhein-Westfalen</td>\n",
       "      <td> 17538251</td>\n",
       "      <td> 8521230</td>\n",
       "      <td> 9017020</td>\n",
       "      <td> 15931170</td>\n",
       "      <td> 1607080</td>\n",
=======
       "      <th>Nordrhein-Westfalen</th>\n",
>>>>>>> upstream/master
       "      <td> 2984650</td>\n",
       "      <td> 2481470</td>\n",
       "      <td> 4993250</td>\n",
       "      <td> 3525620</td>\n",
       "      <td> 3553260</td>\n",
       "    </tr>\n",
       "    <tr>\n",
<<<<<<< HEAD
       "      <th>6 </th>\n",
       "      <td> 10</td>\n",
       "      <td>                 Hessen</td>\n",
       "      <td>  5971816</td>\n",
       "      <td> 2914740</td>\n",
       "      <td> 3057080</td>\n",
       "      <td>  5311720</td>\n",
       "      <td>  660090</td>\n",
=======
       "      <th>Hessen</th>\n",
>>>>>>> upstream/master
       "      <td> 1005660</td>\n",
       "      <td>  834310</td>\n",
       "      <td> 1746430</td>\n",
       "      <td> 1205160</td>\n",
       "      <td> 1180260</td>\n",
       "    </tr>\n",
       "    <tr>\n",
<<<<<<< HEAD
       "      <th>7 </th>\n",
       "      <td> 10</td>\n",
       "      <td>        Rheinland-Pfalz</td>\n",
       "      <td>  3989808</td>\n",
       "      <td> 1950420</td>\n",
       "      <td> 2039380</td>\n",
       "      <td>  3718250</td>\n",
       "      <td>  271560</td>\n",
=======
       "      <th>Rheinland-Pfalz</th>\n",
>>>>>>> upstream/master
       "      <td>  664260</td>\n",
       "      <td>  562230</td>\n",
       "      <td> 1109500</td>\n",
       "      <td>  841540</td>\n",
       "      <td>  812270</td>\n",
       "    </tr>\n",
       "    <tr>\n",
<<<<<<< HEAD
       "      <th>8 </th>\n",
       "      <td> 10</td>\n",
       "      <td>      Baden-Württemberg</td>\n",
       "      <td> 10486660</td>\n",
       "      <td> 5133480</td>\n",
       "      <td> 5353190</td>\n",
       "      <td>  9353030</td>\n",
       "      <td> 1133630</td>\n",
=======
       "      <th>Baden-Württemberg</th>\n",
>>>>>>> upstream/master
       "      <td> 1853540</td>\n",
       "      <td> 1547500</td>\n",
       "      <td> 2997710</td>\n",
       "      <td> 2053400</td>\n",
       "      <td> 2034520</td>\n",
       "    </tr>\n",
       "    <tr>\n",
<<<<<<< HEAD
       "      <th>9 </th>\n",
       "      <td> 10</td>\n",
       "      <td>                 Bayern</td>\n",
       "      <td> 12397614</td>\n",
       "      <td> 6062910</td>\n",
       "      <td> 6334700</td>\n",
       "      <td> 11383180</td>\n",
       "      <td> 1014430</td>\n",
=======
       "      <th>Bayern</th>\n",
>>>>>>> upstream/master
       "      <td> 2112190</td>\n",
       "      <td> 1797760</td>\n",
       "      <td> 3613220</td>\n",
       "      <td> 2459360</td>\n",
       "      <td> 2415070</td>\n",
       "    </tr>\n",
       "    <tr>\n",
<<<<<<< HEAD
       "      <th>10</th>\n",
       "      <td> 10</td>\n",
       "      <td>               Saarland</td>\n",
       "      <td>   999623</td>\n",
       "      <td>  485380</td>\n",
       "      <td>  514240</td>\n",
       "      <td>   933360</td>\n",
       "      <td>   66270</td>\n",
=======
       "      <th>Saarland</th>\n",
>>>>>>> upstream/master
       "      <td>  148980</td>\n",
       "      <td>  135930</td>\n",
       "      <td>  269470</td>\n",
       "      <td>  224680</td>\n",
       "      <td>  220560</td>\n",
       "    </tr>\n",
       "    <tr>\n",
<<<<<<< HEAD
       "      <th>11</th>\n",
       "      <td> 10</td>\n",
       "      <td>                 Berlin</td>\n",
       "      <td>  3292365</td>\n",
       "      <td> 1599840</td>\n",
       "      <td> 1692530</td>\n",
       "      <td>  2920090</td>\n",
       "      <td>  372280</td>\n",
=======
       "      <th>Berlin</th>\n",
>>>>>>> upstream/master
       "      <td>  494150</td>\n",
       "      <td>  535310</td>\n",
       "      <td> 1004770</td>\n",
       "      <td>  624090</td>\n",
       "      <td>  634030</td>\n",
       "    </tr>\n",
       "    <tr>\n",
<<<<<<< HEAD
       "      <th>12</th>\n",
       "      <td> 10</td>\n",
       "      <td>            Brandenburg</td>\n",
       "      <td>  2455780</td>\n",
       "      <td> 1207850</td>\n",
       "      <td> 1247920</td>\n",
       "      <td>  2413580</td>\n",
       "      <td>   42190</td>\n",
=======
       "      <th>Brandenburg</th>\n",
>>>>>>> upstream/master
       "      <td>  337040</td>\n",
       "      <td>  309010</td>\n",
       "      <td>  691800</td>\n",
       "      <td>  562490</td>\n",
       "      <td>  555430</td>\n",
       "    </tr>\n",
       "    <tr>\n",
<<<<<<< HEAD
       "      <th>13</th>\n",
       "      <td> 10</td>\n",
       "      <td> Mecklenburg-Vorpommern</td>\n",
       "      <td>  1609982</td>\n",
       "      <td>  793310</td>\n",
       "      <td>  816670</td>\n",
       "      <td>  1582250</td>\n",
       "      <td>   27730</td>\n",
=======
       "      <th>Mecklenburg-Vorpommern</th>\n",
>>>>>>> upstream/master
       "      <td>  215300</td>\n",
       "      <td>  228240</td>\n",
       "      <td>  434590</td>\n",
       "      <td>  375550</td>\n",
       "      <td>  356300</td>\n",
       "    </tr>\n",
       "    <tr>\n",
<<<<<<< HEAD
       "      <th>14</th>\n",
       "      <td> 10</td>\n",
       "      <td>                Sachsen</td>\n",
       "      <td>  4056799</td>\n",
       "      <td> 1978040</td>\n",
       "      <td> 2078760</td>\n",
       "      <td>  3979760</td>\n",
       "      <td>   77030</td>\n",
=======
       "      <th>Sachsen</th>\n",
>>>>>>> upstream/master
       "      <td>  543160</td>\n",
       "      <td>  558590</td>\n",
       "      <td> 1077560</td>\n",
       "      <td>  870980</td>\n",
       "      <td> 1006500</td>\n",
       "    </tr>\n",
       "    <tr>\n",
<<<<<<< HEAD
       "      <th>15</th>\n",
       "      <td> 10</td>\n",
       "      <td>         Sachsen-Anhalt</td>\n",
       "      <td>  2287040</td>\n",
       "      <td> 1116850</td>\n",
       "      <td> 1170190</td>\n",
       "      <td>  2247810</td>\n",
       "      <td>   39230</td>\n",
=======
       "      <th>Sachsen-Anhalt</th>\n",
>>>>>>> upstream/master
       "      <td>  290700</td>\n",
       "      <td>  304600</td>\n",
       "      <td>  610810</td>\n",
       "      <td>  524660</td>\n",
       "      <td>  556270</td>\n",
       "    </tr>\n",
       "    <tr>\n",
<<<<<<< HEAD
       "      <th>16</th>\n",
       "      <td> 10</td>\n",
       "      <td>              Thüringen</td>\n",
       "      <td>  2188589</td>\n",
       "      <td> 1076410</td>\n",
       "      <td> 1112180</td>\n",
       "      <td>  2155360</td>\n",
       "      <td>   33230</td>\n",
=======
       "      <th>Thüringen</th>\n",
>>>>>>> upstream/master
       "      <td>  286960</td>\n",
       "      <td>  303570</td>\n",
       "      <td>  587720</td>\n",
       "      <td>  501650</td>\n",
       "      <td>  508700</td>\n",
       "    </tr>\n",
       "  </tbody>\n",
       "</table>\n",
       "</div>"
      ],
      "text/plain": [
<<<<<<< HEAD
       "     SATZART                    NAME       EWZ     EW_M     EW_W      EW_D  \\\n",
       "AGS                                                                          \n",
       "1         10      Schleswig-Holstein   2800119  1360530  1439590   2683670   \n",
       "2         10                 Hamburg   1706696   826140   880560   1495810   \n",
       "3         10           Niedersachsen   7777992  3804410  3973590   7351250   \n",
       "4         10                  Bremen    650863   316110   334750    580340   \n",
       "5         10     Nordrhein-Westfalen  17538251  8521230  9017020  15931170   \n",
       "6         10                  Hessen   5971816  2914740  3057080   5311720   \n",
       "7         10         Rheinland-Pfalz   3989808  1950420  2039380   3718250   \n",
       "8         10       Baden-Württemberg  10486660  5133480  5353190   9353030   \n",
       "9         10                  Bayern  12397614  6062910  6334700  11383180   \n",
       "10        10                Saarland    999623   485380   514240    933360   \n",
       "11        10                  Berlin   3292365  1599840  1692530   2920090   \n",
       "12        10             Brandenburg   2455780  1207850  1247920   2413580   \n",
       "13        10  Mecklenburg-Vorpommern   1609982   793310   816670   1582250   \n",
       "14        10                 Sachsen   4056799  1978040  2078760   3979760   \n",
       "15        10          Sachsen-Anhalt   2287040  1116850  1170190   2247810   \n",
       "16        10               Thüringen   2188589  1076410  1112180   2155360   \n",
       "\n",
       "        EW_A  ALTER_1  ALTER_2  ALTER_3  ALTER_4  ALTER_5  \n",
       "AGS                                                        \n",
       "1     116450   477010   362390   790060   563490   607170  \n",
       "2     210890   267800   275420   537600   301700   324180  \n",
       "3     426750  1356370  1049040  2188170  1569480  1614940  \n",
       "4      70520    98850   105260   181880   126940   137940  \n",
       "5    1607080  2984650  2481470  4993250  3525620  3553260  \n",
       "6     660090  1005660   834310  1746430  1205160  1180260  \n",
       "7     271560   664260   562230  1109500   841540   812270  \n",
       "8    1133630  1853540  1547500  2997710  2053400  2034520  \n",
       "9    1014430  2112190  1797760  3613220  2459360  2415070  \n",
       "10     66270   148980   135930   269470   224680   220560  \n",
       "11    372280   494150   535310  1004770   624090   634030  \n",
       "12     42190   337040   309010   691800   562490   555430  \n",
       "13     27730   215300   228240   434590   375550   356300  \n",
       "14     77030   543160   558590  1077560   870980  1006500  \n",
       "15     39230   290700   304600   610810   524660   556270  \n",
       "16     33230   286960   303570   587720   501650   508700  "
      ]
     },
     "execution_count": 35,
=======
       "                        ALTER_1  ALTER_2  ALTER_3  ALTER_4  ALTER_5\n",
       "NAME                                                               \n",
       "Schleswig-Holstein       477010   362390   790060   563490   607170\n",
       "Hamburg                  267800   275420   537600   301700   324180\n",
       "Niedersachsen           1356370  1049040  2188170  1569480  1614940\n",
       "Bremen                    98850   105260   181880   126940   137940\n",
       "Nordrhein-Westfalen     2984650  2481470  4993250  3525620  3553260\n",
       "Hessen                  1005660   834310  1746430  1205160  1180260\n",
       "Rheinland-Pfalz          664260   562230  1109500   841540   812270\n",
       "Baden-Württemberg       1853540  1547500  2997710  2053400  2034520\n",
       "Bayern                  2112190  1797760  3613220  2459360  2415070\n",
       "Saarland                 148980   135930   269470   224680   220560\n",
       "Berlin                   494150   535310  1004770   624090   634030\n",
       "Brandenburg              337040   309010   691800   562490   555430\n",
       "Mecklenburg-Vorpommern   215300   228240   434590   375550   356300\n",
       "Sachsen                  543160   558590  1077560   870980  1006500\n",
       "Sachsen-Anhalt           290700   304600   610810   524660   556270\n",
       "Thüringen                286960   303570   587720   501650   508700"
      ]
     },
     "execution_count": 108,
>>>>>>> upstream/master
     "metadata": {},
     "output_type": "execute_result"
    }
   ],
   "source": [
<<<<<<< HEAD
    "bdl = kernel[kernel['SATZART']==10]\n",
    "bdl"
=======
    "dataframe=z[z['SATZART']==10]\n",
    "dataframe\n",
    "a=dataframe.filter(regex='ALT')\n",
    "a\n",
    "#dataframe.iloc[0].iloc[7:12].plot(kind='bar')\n",
    "#dataframe.iloc[1].iloc[7:12].plot(kind='bar', color='blue')"
>>>>>>> upstream/master
   ]
  },
  {
   "cell_type": "markdown",
   "metadata": {},
   "source": [
    "### Task 5: Plot the age composition of the different Bundesländer"
   ]
  },
  {
   "cell_type": "code",
<<<<<<< HEAD
   "execution_count": 50,
=======
   "execution_count": 124,
>>>>>>> upstream/master
   "metadata": {
    "collapsed": false
   },
   "outputs": [
    {
     "data": {
<<<<<<< HEAD
      "text/html": [
       "<div style=\"max-height:1000px;max-width:1500px;overflow:auto;\">\n",
       "<table border=\"1\" class=\"dataframe\">\n",
       "  <thead>\n",
       "    <tr style=\"text-align: right;\">\n",
       "      <th></th>\n",
       "      <th>ALTER_1</th>\n",
       "      <th>ALTER_2</th>\n",
       "      <th>ALTER_3</th>\n",
       "      <th>ALTER_4</th>\n",
       "      <th>ALTER_5</th>\n",
       "    </tr>\n",
       "    <tr>\n",
       "      <th>NAME</th>\n",
       "      <th></th>\n",
       "      <th></th>\n",
       "      <th></th>\n",
       "      <th></th>\n",
       "      <th></th>\n",
       "    </tr>\n",
       "  </thead>\n",
       "  <tbody>\n",
       "    <tr>\n",
       "      <th>Baden-Württemberg</th>\n",
       "      <td> 1853540</td>\n",
       "      <td> 1547500</td>\n",
       "      <td> 2997710</td>\n",
       "      <td> 2053400</td>\n",
       "      <td> 2034520</td>\n",
       "    </tr>\n",
       "    <tr>\n",
       "      <th>Bayern</th>\n",
       "      <td> 2112190</td>\n",
       "      <td> 1797760</td>\n",
       "      <td> 3613220</td>\n",
       "      <td> 2459360</td>\n",
       "      <td> 2415070</td>\n",
       "    </tr>\n",
       "    <tr>\n",
       "      <th>Berlin</th>\n",
       "      <td>  494150</td>\n",
       "      <td>  535310</td>\n",
       "      <td> 1004770</td>\n",
       "      <td>  624090</td>\n",
       "      <td>  634030</td>\n",
       "    </tr>\n",
       "    <tr>\n",
       "      <th>Brandenburg</th>\n",
       "      <td>  337040</td>\n",
       "      <td>  309010</td>\n",
       "      <td>  691800</td>\n",
       "      <td>  562490</td>\n",
       "      <td>  555430</td>\n",
       "    </tr>\n",
       "    <tr>\n",
       "      <th>Bremen</th>\n",
       "      <td>   98850</td>\n",
       "      <td>  105260</td>\n",
       "      <td>  181880</td>\n",
       "      <td>  126940</td>\n",
       "      <td>  137940</td>\n",
       "    </tr>\n",
       "    <tr>\n",
       "      <th>Hamburg</th>\n",
       "      <td>  267800</td>\n",
       "      <td>  275420</td>\n",
       "      <td>  537600</td>\n",
       "      <td>  301700</td>\n",
       "      <td>  324180</td>\n",
       "    </tr>\n",
       "    <tr>\n",
       "      <th>Hessen</th>\n",
       "      <td> 1005660</td>\n",
       "      <td>  834310</td>\n",
       "      <td> 1746430</td>\n",
       "      <td> 1205160</td>\n",
       "      <td> 1180260</td>\n",
       "    </tr>\n",
       "    <tr>\n",
       "      <th>Mecklenburg-Vorpommern</th>\n",
       "      <td>  215300</td>\n",
       "      <td>  228240</td>\n",
       "      <td>  434590</td>\n",
       "      <td>  375550</td>\n",
       "      <td>  356300</td>\n",
       "    </tr>\n",
       "    <tr>\n",
       "      <th>Niedersachsen</th>\n",
       "      <td> 1356370</td>\n",
       "      <td> 1049040</td>\n",
       "      <td> 2188170</td>\n",
       "      <td> 1569480</td>\n",
       "      <td> 1614940</td>\n",
       "    </tr>\n",
       "    <tr>\n",
       "      <th>Nordrhein-Westfalen</th>\n",
       "      <td> 2984650</td>\n",
       "      <td> 2481470</td>\n",
       "      <td> 4993250</td>\n",
       "      <td> 3525620</td>\n",
       "      <td> 3553260</td>\n",
       "    </tr>\n",
       "    <tr>\n",
       "      <th>Rheinland-Pfalz</th>\n",
       "      <td>  664260</td>\n",
       "      <td>  562230</td>\n",
       "      <td> 1109500</td>\n",
       "      <td>  841540</td>\n",
       "      <td>  812270</td>\n",
       "    </tr>\n",
       "    <tr>\n",
       "      <th>Saarland</th>\n",
       "      <td>  148980</td>\n",
       "      <td>  135930</td>\n",
       "      <td>  269470</td>\n",
       "      <td>  224680</td>\n",
       "      <td>  220560</td>\n",
       "    </tr>\n",
       "    <tr>\n",
       "      <th>Sachsen</th>\n",
       "      <td>  543160</td>\n",
       "      <td>  558590</td>\n",
       "      <td> 1077560</td>\n",
       "      <td>  870980</td>\n",
       "      <td> 1006500</td>\n",
       "    </tr>\n",
       "    <tr>\n",
       "      <th>Sachsen-Anhalt</th>\n",
       "      <td>  290700</td>\n",
       "      <td>  304600</td>\n",
       "      <td>  610810</td>\n",
       "      <td>  524660</td>\n",
       "      <td>  556270</td>\n",
       "    </tr>\n",
       "    <tr>\n",
       "      <th>Schleswig-Holstein</th>\n",
       "      <td>  477010</td>\n",
       "      <td>  362390</td>\n",
       "      <td>  790060</td>\n",
       "      <td>  563490</td>\n",
       "      <td>  607170</td>\n",
       "    </tr>\n",
       "    <tr>\n",
       "      <th>Thüringen</th>\n",
       "      <td>  286960</td>\n",
       "      <td>  303570</td>\n",
       "      <td>  587720</td>\n",
       "      <td>  501650</td>\n",
       "      <td>  508700</td>\n",
       "    </tr>\n",
       "  </tbody>\n",
       "</table>\n",
       "</div>"
      ],
      "text/plain": [
       "                        ALTER_1  ALTER_2  ALTER_3  ALTER_4  ALTER_5\n",
       "NAME                                                               \n",
       "Baden-Württemberg       1853540  1547500  2997710  2053400  2034520\n",
       "Bayern                  2112190  1797760  3613220  2459360  2415070\n",
       "Berlin                   494150   535310  1004770   624090   634030\n",
       "Brandenburg              337040   309010   691800   562490   555430\n",
       "Bremen                    98850   105260   181880   126940   137940\n",
       "Hamburg                  267800   275420   537600   301700   324180\n",
       "Hessen                  1005660   834310  1746430  1205160  1180260\n",
       "Mecklenburg-Vorpommern   215300   228240   434590   375550   356300\n",
       "Niedersachsen           1356370  1049040  2188170  1569480  1614940\n",
       "Nordrhein-Westfalen     2984650  2481470  4993250  3525620  3553260\n",
       "Rheinland-Pfalz          664260   562230  1109500   841540   812270\n",
       "Saarland                 148980   135930   269470   224680   220560\n",
       "Sachsen                  543160   558590  1077560   870980  1006500\n",
       "Sachsen-Anhalt           290700   304600   610810   524660   556270\n",
       "Schleswig-Holstein       477010   362390   790060   563490   607170\n",
       "Thüringen                286960   303570   587720   501650   508700"
      ]
     },
     "execution_count": 50,
=======
      "text/plain": [
       "<matplotlib.axes._subplots.AxesSubplot at 0x7fd12f074710>"
      ]
     },
     "execution_count": 124,
>>>>>>> upstream/master
     "metadata": {},
     "output_type": "execute_result"
    },
    {
     "data": {
<<<<<<< HEAD
      "image/png": "iVBORw0KGgoAAAANSUhEUgAAAgAAAAEMCAYAAACyUg4cAAAABHNCSVQICAgIfAhkiAAAAAlwSFlz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\nhgF5z68AAAAASUVORK5CYII=\n",
      "text/plain": [
       "<matplotlib.figure.Figure at 0x7f260e68a7d0>"
=======
      "image/png": "iVBORw0KGgoAAAANSUhEUgAAAXoAAAGOCAYAAACZo8ifAAAABHNCSVQICAgIfAhkiAAAAAlwSFlz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\nd5dvZwAAAABJRU5ErkJggg==\n",
      "text/plain": [
       "<matplotlib.figure.Figure at 0x7fd12f0dc6d0>"
>>>>>>> upstream/master
      ]
     },
     "metadata": {},
     "output_type": "display_data"
    }
   ],
   "source": [
<<<<<<< HEAD
    "alter = [x for x in bdl.columns if 'ALTER' in x]\n",
    "ages = bdl.groupby('NAME')[alter].sum()\n",
    "ages.plot(kind='barh', stacked=True)\n",
    "ages"
=======
    "b=dataframe.filter(regex='ALT').div(dataframe['EWZ'],axis=0)\n",
    "b.plot(kind='bar')"
>>>>>>> upstream/master
   ]
  },
  {
   "cell_type": "markdown",
   "metadata": {},
   "source": [
    "### Task 6: ...and now relative to the population in each Bundesland"
   ]
  },
  {
   "cell_type": "code",
<<<<<<< HEAD
   "execution_count": 152,
=======
   "execution_count": 181,
>>>>>>> upstream/master
   "metadata": {
    "collapsed": false
   },
   "outputs": [
    {
     "data": {
<<<<<<< HEAD
      "text/html": [
       "<div style=\"max-height:1000px;max-width:1500px;overflow:auto;\">\n",
       "<table border=\"1\" class=\"dataframe\">\n",
       "  <thead>\n",
       "    <tr style=\"text-align: right;\">\n",
       "      <th></th>\n",
       "      <th>ALTER_1</th>\n",
       "      <th>ALTER_2</th>\n",
       "      <th>ALTER_3</th>\n",
       "      <th>ALTER_4</th>\n",
       "      <th>ALTER_5</th>\n",
       "    </tr>\n",
       "    <tr>\n",
       "      <th>NAME</th>\n",
       "      <th></th>\n",
       "      <th></th>\n",
       "      <th></th>\n",
       "      <th></th>\n",
       "      <th></th>\n",
       "    </tr>\n",
       "  </thead>\n",
       "  <tbody>\n",
       "    <tr>\n",
       "      <th>Baden-Württemberg</th>\n",
       "      <td> 0.176752</td>\n",
       "      <td> 0.147568</td>\n",
       "      <td> 0.285859</td>\n",
       "      <td> 0.195811</td>\n",
       "      <td> 0.194010</td>\n",
       "    </tr>\n",
       "    <tr>\n",
       "      <th>Bayern</th>\n",
       "      <td> 0.170371</td>\n",
       "      <td> 0.145009</td>\n",
       "      <td> 0.291445</td>\n",
       "      <td> 0.198374</td>\n",
       "      <td> 0.194801</td>\n",
       "    </tr>\n",
       "    <tr>\n",
       "      <th>Berlin</th>\n",
       "      <td> 0.150090</td>\n",
       "      <td> 0.162591</td>\n",
       "      <td> 0.305182</td>\n",
       "      <td> 0.189557</td>\n",
       "      <td> 0.192576</td>\n",
       "    </tr>\n",
       "    <tr>\n",
       "      <th>Brandenburg</th>\n",
       "      <td> 0.137244</td>\n",
       "      <td> 0.125830</td>\n",
       "      <td> 0.281703</td>\n",
       "      <td> 0.229047</td>\n",
       "      <td> 0.226173</td>\n",
       "    </tr>\n",
       "    <tr>\n",
       "      <th>Bremen</th>\n",
       "      <td> 0.151875</td>\n",
       "      <td> 0.161724</td>\n",
       "      <td> 0.279444</td>\n",
       "      <td> 0.195033</td>\n",
       "      <td> 0.211934</td>\n",
       "    </tr>\n",
       "    <tr>\n",
       "      <th>Hamburg</th>\n",
       "      <td> 0.156911</td>\n",
       "      <td> 0.161376</td>\n",
       "      <td> 0.314995</td>\n",
       "      <td> 0.176774</td>\n",
       "      <td> 0.189946</td>\n",
       "    </tr>\n",
       "    <tr>\n",
       "      <th>Hessen</th>\n",
       "      <td> 0.168401</td>\n",
       "      <td> 0.139708</td>\n",
       "      <td> 0.292445</td>\n",
       "      <td> 0.201808</td>\n",
       "      <td> 0.197638</td>\n",
       "    </tr>\n",
       "    <tr>\n",
       "      <th>Mecklenburg-Vorpommern</th>\n",
       "      <td> 0.133728</td>\n",
       "      <td> 0.141766</td>\n",
       "      <td> 0.269935</td>\n",
       "      <td> 0.233263</td>\n",
       "      <td> 0.221307</td>\n",
       "    </tr>\n",
       "    <tr>\n",
       "      <th>Niedersachsen</th>\n",
       "      <td> 0.174386</td>\n",
       "      <td> 0.134873</td>\n",
       "      <td> 0.281328</td>\n",
       "      <td> 0.201785</td>\n",
       "      <td> 0.207629</td>\n",
       "    </tr>\n",
       "    <tr>\n",
       "      <th>Nordrhein-Westfalen</th>\n",
       "      <td> 0.170179</td>\n",
       "      <td> 0.141489</td>\n",
       "      <td> 0.284706</td>\n",
       "      <td> 0.201025</td>\n",
       "      <td> 0.202601</td>\n",
       "    </tr>\n",
       "    <tr>\n",
       "      <th>Rheinland-Pfalz</th>\n",
       "      <td> 0.166489</td>\n",
       "      <td> 0.140917</td>\n",
       "      <td> 0.278084</td>\n",
       "      <td> 0.210922</td>\n",
       "      <td> 0.203586</td>\n",
       "    </tr>\n",
       "    <tr>\n",
       "      <th>Saarland</th>\n",
       "      <td> 0.149036</td>\n",
       "      <td> 0.135981</td>\n",
       "      <td> 0.269572</td>\n",
       "      <td> 0.224765</td>\n",
       "      <td> 0.220643</td>\n",
       "    </tr>\n",
       "    <tr>\n",
       "      <th>Sachsen</th>\n",
       "      <td> 0.133889</td>\n",
       "      <td> 0.137692</td>\n",
       "      <td> 0.265618</td>\n",
       "      <td> 0.214696</td>\n",
       "      <td> 0.248102</td>\n",
       "    </tr>\n",
       "    <tr>\n",
       "      <th>Sachsen-Anhalt</th>\n",
       "      <td> 0.127108</td>\n",
       "      <td> 0.133185</td>\n",
       "      <td> 0.267074</td>\n",
       "      <td> 0.229406</td>\n",
       "      <td> 0.243227</td>\n",
       "    </tr>\n",
       "    <tr>\n",
       "      <th>Schleswig-Holstein</th>\n",
       "      <td> 0.170353</td>\n",
       "      <td> 0.129419</td>\n",
       "      <td> 0.282152</td>\n",
       "      <td> 0.201238</td>\n",
       "      <td> 0.216837</td>\n",
       "    </tr>\n",
       "    <tr>\n",
       "      <th>Thüringen</th>\n",
       "      <td> 0.131116</td>\n",
       "      <td> 0.138706</td>\n",
       "      <td> 0.268538</td>\n",
       "      <td> 0.229212</td>\n",
       "      <td> 0.232433</td>\n",
       "    </tr>\n",
       "  </tbody>\n",
       "</table>\n",
       "</div>"
      ],
      "text/plain": [
       "                         ALTER_1   ALTER_2   ALTER_3   ALTER_4   ALTER_5\n",
       "NAME                                                                    \n",
       "Baden-Württemberg       0.176752  0.147568  0.285859  0.195811  0.194010\n",
       "Bayern                  0.170371  0.145009  0.291445  0.198374  0.194801\n",
       "Berlin                  0.150090  0.162591  0.305182  0.189557  0.192576\n",
       "Brandenburg             0.137244  0.125830  0.281703  0.229047  0.226173\n",
       "Bremen                  0.151875  0.161724  0.279444  0.195033  0.211934\n",
       "Hamburg                 0.156911  0.161376  0.314995  0.176774  0.189946\n",
       "Hessen                  0.168401  0.139708  0.292445  0.201808  0.197638\n",
       "Mecklenburg-Vorpommern  0.133728  0.141766  0.269935  0.233263  0.221307\n",
       "Niedersachsen           0.174386  0.134873  0.281328  0.201785  0.207629\n",
       "Nordrhein-Westfalen     0.170179  0.141489  0.284706  0.201025  0.202601\n",
       "Rheinland-Pfalz         0.166489  0.140917  0.278084  0.210922  0.203586\n",
       "Saarland                0.149036  0.135981  0.269572  0.224765  0.220643\n",
       "Sachsen                 0.133889  0.137692  0.265618  0.214696  0.248102\n",
       "Sachsen-Anhalt          0.127108  0.133185  0.267074  0.229406  0.243227\n",
       "Schleswig-Holstein      0.170353  0.129419  0.282152  0.201238  0.216837\n",
       "Thüringen               0.131116  0.138706  0.268538  0.229212  0.232433"
      ]
     },
     "execution_count": 152,
=======
      "text/plain": [
       "<matplotlib.axes._subplots.AxesSubplot at 0x7fd12f1dc3d0>"
      ]
     },
     "execution_count": 181,
>>>>>>> upstream/master
     "metadata": {},
     "output_type": "execute_result"
    },
    {
     "data": {
<<<<<<< HEAD
      "image/png": "iVBORw0KGgoAAAANSUhEUgAAAf8AAAD/CAYAAAD/ht8KAAAABHNCSVQICAgIfAhkiAAAAAlwSFlz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\n",
      "text/plain": [
       "<matplotlib.figure.Figure at 0x7f260c6c6990>"
=======
      "image/png": "iVBORw0KGgoAAAANSUhEUgAAAZoAAAGOCAYAAACuQcXuAAAABHNCSVQICAgIfAhkiAAAAAlwSFlz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\nYII=\n",
      "text/plain": [
       "<matplotlib.figure.Figure at 0x7fd12ef7c2d0>"
>>>>>>> upstream/master
      ]
     },
     "metadata": {},
     "output_type": "display_data"
    }
   ],
   "source": [
<<<<<<< HEAD
    "named_bdl = bdl.set_index('NAME')\n",
    "rel_ages = ages[alter].div(named_bdl['EWZ'], axis=0)\n",
    "rel_ages.plot(kind='barh', stacked=True)\n",
    "rel_ages"
=======
    "b.div(dataframe['EWZ'],axis=0).plot(kind='bar',stacked =True)\n",
    "#dataframe['EWZ'].iloc[0]\n",
    "#b=a.div(dataframe['EWZ'],axis=0)\n",
    "#b\n",
    "#dataframe[7:12].div(dataframe['EWZ']).plot(kind='bar')"
>>>>>>> upstream/master
   ]
  },
  {
   "cell_type": "markdown",
   "metadata": {},
   "source": [
    "### Task 7: Plot pie charts of the relative age distribution in Berlin and Sachsen"
   ]
  },
  {
   "cell_type": "code",
<<<<<<< HEAD
   "execution_count": 112,
=======
   "execution_count": 126,
>>>>>>> upstream/master
   "metadata": {
    "collapsed": false
   },
   "outputs": [
    {
     "data": {
      "text/plain": [
<<<<<<< HEAD
       "ALTER_1    0.133889\n",
       "ALTER_2    0.137692\n",
       "ALTER_3    0.265618\n",
       "ALTER_4    0.214696\n",
       "ALTER_5    0.248102\n",
       "Name: Sachsen, dtype: float64"
      ]
     },
     "execution_count": 112,
=======
       "<matplotlib.axes._subplots.AxesSubplot at 0x7fd12f284c90>"
      ]
     },
     "execution_count": 126,
>>>>>>> upstream/master
     "metadata": {},
     "output_type": "execute_result"
    },
    {
     "data": {
<<<<<<< HEAD
      "image/png": "iVBORw0KGgoAAAANSUhEUgAAAXYAAADtCAYAAACriF5RAAAABHNCSVQICAgIfAhkiAAAAAlwSFlz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\nKQm2jjo2VgAAAABJRU5ErkJggg==\n",
      "text/plain": [
       "<matplotlib.figure.Figure at 0x7f260e49a790>"
=======
      "image/png": "iVBORw0KGgoAAAANSUhEUgAAAXMAAADtCAYAAABNoZUVAAAABHNCSVQICAgIfAhkiAAAAAlwSFlz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\n",
      "text/plain": [
       "<matplotlib.figure.Figure at 0x7fd12f2709d0>"
>>>>>>> upstream/master
      ]
     },
     "metadata": {},
     "output_type": "display_data"
    }
   ],
   "source": [
<<<<<<< HEAD
    "berlin_ages = rel_ages.loc['Berlin']\n",
    "sachsen_ages = rel_ages.loc['Sachsen']\n",
    "\n",
    "\n",
    "sachsen_ages.plot(kind='pie')\n",
    "sachsen_ages"
=======
    "ber=b.iloc[10]\n",
    "ber.plot(kind='pie')"
>>>>>>> upstream/master
   ]
  },
  {
   "cell_type": "code",
<<<<<<< HEAD
   "execution_count": 104,
=======
   "execution_count": 127,
>>>>>>> upstream/master
   "metadata": {
    "collapsed": false
   },
   "outputs": [
    {
     "data": {
      "text/plain": [
<<<<<<< HEAD
       "<matplotlib.axes._subplots.AxesSubplot at 0x7f260b40ac90>"
      ]
     },
     "execution_count": 104,
=======
       "<matplotlib.axes._subplots.AxesSubplot at 0x7fd12f2a8b10>"
      ]
     },
     "execution_count": 127,
>>>>>>> upstream/master
     "metadata": {},
     "output_type": "execute_result"
    },
    {
     "data": {
<<<<<<< HEAD
      "image/png": "iVBORw0KGgoAAAANSUhEUgAAAXMAAADtCAYAAABNoZUVAAAABHNCSVQICAgIfAhkiAAAAAlwSFlz\nAAALEgAACxIB0t1+/AAAIABJREFUeJzt3Xd8W9XdP/DP0Z62r2fseGU6myRkk0ECtPQpAcpwgdJC\ngZbRQaGFUmhYpdBCH3i6aYG2v7ZAIwhhJ0ASSBPIggyc6djx3raObF1t6Z7fH3FaYzI8JF+N7/v1\n0iuypXvv14710dG5557DhBAghBCS2DRqF0AIIWT4KMwJISQJUJgTQkgSoDAnhJAkQGFOCCFJgMKc\nEEKSAIU5IYQkAQpzQghJAhTmhBCSBCjMCSEkCVCYE0JIEqAwJ4SQJEBhTgghSYDCnBBCkgCFOSGE\nJAEKc0IISQIU5oREEWPsUsaYwhgr6/26lDFW0Xs/izG2p/fWwhhr7L2/mzGmZ4xF+jy+hzF2d+92\nHzDGDjPG9jLGtjHGppzm+GbG2FuMsUOMsf2MscdG5icnatOpXQAhSeZqAG/2/vtg3weEEF0AZgEA\nY+wBAG4hxJMnHmeMeYUQs06yTwHgGiHEbsbY9QB+CWDlaWp4XAixmTGmB7CRMXahEGL9MH4mkgCo\nZU5IlDDGbADmA/gugK8OZJMhHGY7gHGnelAI4RNCbO69HwKwG8DoIRyHJBgKc0Ki5xIA64UQ9QA6\nGGOzB7m9uV83y5V9HjsR/BcC2D+QnTHGMnC8Bb9xkHWQBETdLIREz9UAnuq9/1Lv178bxPa+U3Sz\nMADPM8YMACQA08+0I8aYDsCLAH4thKgdRA0kQVGYExIFjLFMAMsBTGOMCQBaAAqA30dh9337zJ8A\ncBeA28+wzZ8BHBFC/CYKxycJgLpZCImOKwD8XQhRKoQYI4QoBlALoDhK+z/RzbIKwKWMsVPulzH2\nCIA0AHdE6dgkAVCYExIdVwFY2+97awDcA6CMMdbQ53ZF7+Oi3/P795k/2ucxAQBCCD+AXwO492RF\nMMYKex+bDGB3735uGN6PRhIBE6L/3xMhhJBEQy1zQghJAnQClJAExRjbDsDY79vXCiEOqFEPURd1\ns5Ckwzm3AsgFoMfxT58nu7HTPRaKKFoATK/VuAG4em9ckqTgyP40hAwMhTlJCJxzI44H9CjuDZVw\nf3hiOCJK/WElwxeK2PxhxeoPK7ZQRNh6AmFzpydkCYYVrSIEUwTYiX8FoFGEgDj+PU2fxzRCCCYE\nmNLndWHWa4PpJp03w6Tzp5t1QZNOE9BrmF+nZX69RuM36pjXpNN6LAaNW6thjVa9tio/zVgFoBVA\nGwBZkiR6kZGYozAncYFzbgYwuZ77l3lCkbPlQCTNH1bsgbBiDUQUmzcYsbbJQXOHHLJ3eoMm7g3D\n5Q8jrMTH3y8DkGbSQTLrkGXRh3KseneuzeDNMOu9VoPGmWbUdaSZdA0ZZt2WHKvhEwDHJEmKqF03\nSR4U5mREcc51AMa1ycEFLl9ocbc/PLrHH8nlvlD2oXZvdnWX19rqDn5uzF4yMOk0KEo3Yny2xTku\ny8xtRm1HOoU8iRIKcxIznHOLJxiZ39ITuLgnEBnb4w/ndgfCOVWd3syjnT6pweVHKE5a1mrqH/J2\no64zzahtTzPpGiWzbku21bANQB1115DToTAnUcM5L2jpCXzB6Qt9scsTKm73BAt2N7nzD7V7jZ4g\nNTYH60TIT8mzdpblWJuyrfr6TIv+g+IM0xpJkurUro/EFwpzMmSc89Ja7rvK6Q2d0+UNF9U4faN2\nN7lza7mPUYM7NgrSjJhXlNYxMdvSlGPT12VZ9JsK001rJUlqULs2oi4KczJgnHOr1xO5jPuDNx7h\nvrTDHd7C7XXdOa0yjdZTS2G6EfOK0tonZFuacqz6ukyL/r3ecG9RuzYysijMyWlxzse6nKFvej2R\nRe6e8JjGWn/xmEkW36qdx2wdnpDa5ZF+ijKMOKcko2VCtuXYKLvhkzGS+Wmdlh2m/vbkR2FOPoNz\nzvy+yDKPO3KTxxOZ1NkeLGmq82f7vMp/nmMwMkxdYnd/Z32lXcVSyRnYjVqcU5rBZxXYakbZjQeK\n0k3P2ozaD2m0THKiMCcAAM55Ee8K/cjdE17SUOuf0NLgtynKqZ8/rszs+TDco3/zSJdh5KokQ6XX\nMpw92u49pySjdnS68UBRhum36SbdVmqxJw8K8xTGOTe7u8PXyXL4qx2twbKaSl9+IHCaBO9n4fkZ\n8q3vHrYFB74JiQM6DcOC4jT3kjFSVUGaYXtZjvV/JUmqVrsuMjwU5imGc84CfuWcnu7wD7p5aMax\nSu8YlzM8pAnX7OnacM5ZRt+9m45Rd0uCshm0OH9CZsesAntlfpphXalk/oMkSVztusjgUZinCM55\nAe8K/Uh2h5c11PonNNf77afrRhmo6XPs8jM1zZb9bR6aTjnB5dsN+PLk7NpJOdZ9pZLpsZL8nB1q\n10QGjsI8iXHOTe6e8LUed+SajrZg2bFKb0HAH90+EY0WmHdehnzT24dtUd0xUY1Ow7BsbIZr2Vjp\n0Og04wtFGaZnJEkKqF0XOT0K8yTEObe4nKH7XDx06dGD3om8KxTTeetHFRj8rlGRyO92NlljeRwy\n8sZlmcOXTsk5WiKZtk7Ktf6MLk6KXxTmSYRzbuddoftdztBFBz+VyzzuCDvzVtExd2m6fN/2alun\nNzxShyQjyG7UYuXk7OazC9N2l0qmVcWjcvaqXRP5LArzJMA5T+ddoYednaELD30qT/B6Ri7ETzCa\nNJi82CZ/d30ldbckMb2G4cKyrM4lYzL2jc80/a0oP/efatdEjqMwT2Cc80xnZ/ARZ2fogkOfyuP7\nXtijhnGTLZ5/+136dUedNPY8iRm0DPefW+iZtu/dsGHC5N2a/KL7s8ZN2Kp2XamOwjwBcc5znJ3B\nRzvbQysOV8hj/b74Gei98PwM+eZ3D9vC8VMSiSKrQYuHlxV4xv55lUXUVTEwDXSLz+O6xRfs1owu\nXpU1Zvw2tWtMVRTmCYRzPqqrI/iLzrbgssMVntLBXOAzUtIydOHM6Qb/T98/Rt0tSUYy6/Dw0nzP\n6CfvtKKj3zxeTAPdkgucusXn79aMLrk3q3TsLnWqTF0U5gmAc25xdgafbGsJXnikQi4JBuP7/2zG\nXLv8x6om66EO74j33ZPYyLcbIg8szPbnPnqbFXLPqZ+o0UC3/Mud+sXnb9JOmHKrJEnOkasytVGY\nx7m62o5rup2hn+zd1TPV51USIhy1WmDOeRnyt2jseVIYl2kO/WSWPZj5s29bERzgdMc2O4xXfatS\nM37y77WFpb+lOWBij8I8TnV2OoudnaFnj+yX5zc3BNLUrmew8kcbfR25IfH0rmaL2rWQoZsxyuq/\nY6IunP7IrTYM4ZJhTdk0n+Gyb3yiLR57S2Zx6YEYlEh6UZjHGc65nneFHmltDnz14F53SSSBJyud\nuzRd/sm2apvTR2PPE9GS0nTvt3I9Edvjdw5v7h2tFvovlzfr5ix+XTt24p2SJPmiVCLpg8I8jjTU\nd3yhxxX+xb6Pe6a7uyMxvWpzJJjMGpSdY5O/R2PPE86XyzLlq3WNsPz+waj937GsXGH82s0HNEVj\nf5Y1ZbojWvslx1GYxwHOeVZne/CZY5XeZbVVvky164mm8VMsno0ern+vmtPY8wTxtbNy5Yuce2H8\nx//F5E1YO2dxj+FLl32kLZt+kyRJTbE4RiqiMFdZXW3HV3hn6LHdO7rLQnE+SmWoFl6QId/8Do09\nTwS3zcuXzz3ynkb32t9je67DaILh8utqtVNn/VNbMu4hSZKoL26YKMxVwjk3OTuDf6o67L0o2Vrj\n/aVLunD6VL3//g9qqLslTmkY8KNzRstztzyv125+2zhixy0sDRu+8Z2PtROmlGfm5tEkXsNAYa6C\n5qbO2S5n6NlPtvXMVGMeFTXMmGeXf3ek0VrZ5UuJnzeR6LUMq5YWeqau/Y2B7d2mH/kCDDB+47tV\n2rKp92RNPWvNiB8/SVCYjyDOOeNdoYca6/w3HK6QR6fSr57Gnscns16Dh5YVeib89UGLqD6s6hut\n7twvderPX/mitnTCHbTo9OBRmI8Qzrm9qz24eu+unnO7OkJmtetRQ0GR0deaGRR//qSFxp7HgQyT\nDg8ty/cU/d+PrGiLj/OQmqIxIeP13/tIWzb9SkmSOtSuJ5HQUl8joLmpc1pzg3/r1o38S6ka5ADQ\n3BAwz8lIUzJMCT/qMuHl2vTKY8vyPEW/+E7cBDkAKA01et+vfrostO39LV2HD5yndj2JhFrmMVZX\n035Na1Pw0X0f95TQr/r42POJi6zu779zlBaBVkmJZAr/dE66P+tnt9jgj9/rd/RfurxVd875z2lL\nx6+i6QDOjMI8Rnr7xx+vOuz5Zs1RX5ba9cSTiVOtnvXuLsOmY66RP9mW4qbmWgM/nGIIZTx8qw1K\n/I8G1EyY6jNee8s67bhJV0uSNMCJYVIThXkMcM51zs7gP/bs7Lmkqz11u1VOhTFgwfkZnpvfOWyl\nsecjZ0FRmvfWwoBif+z2hDoJzXLzI6ab796qLZt2sSRJp5myMbVRmEcZ59zc1RF8dedW13J3d4Ra\nnqeQkakL2ybr/A9urk2oYElUX5wgea41twvrb+5LzN+3zQ7Tbffu1k6acXFmXl78dPLHEToBGkWc\n88z21sDGDzfxCyjIT8/lDOuyw3qMyzKpXUrSK5+WI18XqUzcIAcA2Q3/Uw/MDn/y4YauY1Uz1S4n\nHlHLPEo6O51F7S2BN7b/23VWsl6WH206HcPsFenyt2nsecx8e84o+bzazRr9y88lx3BQpoHxuu/U\naqfPuT5r0tTNapcTTyjMo6C9rau0rTnw9vYtrskKXeowKKNLjL6GtCD+sqeFzi1EEQNw5zmj5QU7\nXtZpN6xNuo8/hmtvrdPNXnh9VtmUD9SuJV5QN8swdXY6C9tagm9t/zcF+VA01QXMC7LSIuk09jxq\ndBqG+88t8ix652lTMgY5AAT/+ceS8O5tf+s6cvBctWuJF9QyHwbOeX5Tvf/dbZv5NAryoTNbNBi3\n0Cr/4J2j1N0yTCadBg+eO9oz8e8/N6Nyf9I31gzX3lKnm7nghqzJ0zapXYvakv4/O1Y453nNDf71\n2ynIh83nVRBqV7C0NCP+Bz7HMbtRi8dWFHrK/niPNRWCHACC/3y6JLxn21+6Dh9YFs39MsYuZYwp\njLGy3q9LGWMVvfezGGN7em8tjLHG3vu7GWN6xlikz+N7GGN39273AWPsMGNsL2NsG2Nsyhlq+Dlj\nrJ4x5h5QzdQyHzzOudTS5N/00fuumZEw/f6ioXfsufytdYdtNPR88LKtevHQ4jxv/hPft8LZqXY5\nI854053VurmL/yezsLgyGvtjjK0GYAawWwjxIGOsFMAbQojp/Z73AAC3EOLJPt9zCyE+d4UzY+x9\nAD8UQuxmjF0P4HIhxMrT1DAPQD2AoyfbX38p8e4dTZxzQ0db8LXtmynIo0kI4PBu2Xjf0lJZ7VoS\nTWG6MfzzRdne/IdvSskgB4DAX389LnK44hXOec5w98UYswGYD+C7AL46kE2GcJjtAMad7glCiJ1C\niNaB7pDCfBA458zZGXx+5xbXIhp+GH28K6zPUwyiVErKc3YxUZZtCT50ts2f88A3rfB51S5HPZEI\n/H/8xdTwwb1vcM6HOwzzEgDrhRD1ADoYY7MHub25XzfLlX0eOxH8FwLYP8w6P4PCfBB4V+jxPTt7\n/scjR7Rq15Ks9n/stv9kQQm1zgdgzmi77ydlLCjdf6MNYTrdAL8PgT88Nj9y9OArnPPhvEavBvBS\n7/2Xer8eTOvNJ4SY1ed2Yl8MwPOMsWMAHgBw5zBq/BwK8wGqPdb+rcoDnhu62kPJcfFFnAqHBVqO\nBrTfmDkqhZuZZ3be2AzP9/N6wmk//w6NAOpDuJwIPPvkikhN5Z+Gsj1jLBPAcgDPMcZqANwF4EoM\nrSvlc+UBuEYIMRbAs737jhoK8wFobuqc3VTvv7/uWHKv1RkvGmv95iU5GUqagf48T+YrU7LkG3S1\nwvbkj2ka4ZNQmur0oTdWX9ZVseemIWx+BYC/CyFKhRBjhBDFAGoBFEepvBNvCqsAXMoYi9Z+KczP\nhHNu5V2hvxzYKxeqXUsqqdjZY33o3HEDGpKVSr45O0/+qvNjZv7zo9QiP43wzn9L4X27Vjnra6cO\nctOrAKzt9701AO4BUMYYa+hzu6L38f5dMP37zB/t85gAACGEH8CvAdx7qkIYY48zxhp699fAGLv/\ndIXT0MQzqKpsW/PhJn6Z30cD5kbapBlWeW1np+nD+u6UvzyUAfj+wgJ58d7Xtdp1Dpr6YCA0Gph+\n+Mge3Vlzz5EkKX5X4YgSapmfRs2x9u8f2CtfQEGujiMVHtsNU/P9qf5HqmXAvcsKPUs/+JuBgnwQ\nFAWB556cGak+/Fe1SxkJqf46OaXWlq4prU2BH7Y2BahfUiVCAEf2eAz3LEnd0S1GLcPDK4o8s196\n3MS2bTCoXU+iEc5OFnzTcWHX/n1Xq13LqTDGtvfrltnDGBts9xCF+clwzrUuZ+gvFZ+4o3ZyggyN\nszNkGA0jSlJw7LnVoMWjKwo9U5+5z8oO7qXhsEMU2bUlPVJXtYpznq52LScjhFjQbyjjLCHEgcHu\nh8L8JFzO0L2ffuKeRacT4sP+j922nywoSamToZlmHX65vMAz5qkfWJX6Y2qXk/AC//jD5EjVoT+r\nXUcsUZj3wzkf3d4a/CbvCtFH2jgRCgm0Vwe0X5uRl/QnsQAg326IPLYk11Pw85ut6GxTu5zk4O5G\n6L3XL+g6vP8StUuJFQrzfjrags9V7HaPUbsO8ln1x/yWc/OkiC3Jx56PzzIHfzYv3Z/z4A1WyLR2\ncTSFP9wgKbXVj3DOrWrXEgvJ/coYpLrajq8frpAX0QRa8alil9v68LKxSdvdMjPf5r9vqj6Y+cCN\nVgSDapeTlAIv/GlqpOboo2d+ZuKhMO/FOTd089CPWhpp9Eq88soRJpyCLSi0J91EJEtL0713FHrD\n6Q/fYoNCQ2FjRXS1s8ihfRdzzkepXUu0UZj3cvHQXQf3yqedLJ6o7/CnHtu3Zoz2q11HNK2clCnf\nbGlW7E/8iK7qHAHBtf8ojRw98Bu164g2CnMAnHOLyxm6ptsVTvkrDeOdEEDlHo/+nsXFHrVriYZr\nz8qVr5ErYP7DQxTkI8XnRXjX1qXO+rrpZ35y4qAwB8C7Qg8d2CNPVrsOMjBdHSFjscakFKUb1S5l\nWL4zP1++uGaDxvjPX1OQj7DQO2vzIg3HnlK7jmhK+TDnnGc4O4OXeORINKa4JCOk4mO3/b5zShPy\nZKiGAfcsKZTP/egFve71f9KUymqIRBDe/sFMZ2P9LLVLiRYK867QqoP75Alq10EGJxQU6KgOaMun\n5iZU/7ley/DQ8iLPvNf/z6Tdsi6xP1okuPC/381SGmofVLuOaEnpMOec63pc4S/4vDR6IBHVVfst\nXxidGTbrEuPP2KLX4NEVRZ5pf3vAgn076fyM2sIhhA/sOZtznhTTWw/4VcAYu5QxpjDGynq/LmWM\nVfTez+ozQUwLY6yx9/5uxpieMRbpN4nM3b3bfcAYO8wY28sY28YYO+1oEsbY+t7nHmCMPccY0w/n\nh3d3h79eddgzcTj7IOqq2Om2PLx8bNxPxJVh0uGx5aM9435zh1Ucq6QuvTgReueV0ZGqQ4+oXUc0\nDKZJczWAN3v//QwhRNeJCWIAPA3gyd6vZwshQgC8/SaRefzEpji+jNJMAH8C8Msz1HCFEGKmEGIq\ngHQMbOXsU5Ld4Ru6Ouiy/UTmkSMaLQfmjo7fsed5NoPy2NI8T9EvbrWirUXtckhfXg8iNZWLOedp\napcyXAMKc8aYDcB8AN/FwAJ0KC2P7QDGne4JQgi5tx49AAOAziEcBwDQ1to1u7HOP+hpJkn8ObRP\ntt1yVnyOPS+VTOFHFkjevAdvtKLHpXY55CRCG14fqzTVD2WJubgy0Jb5JQDWCyHqAXQwxmYP8jj9\nl1G6ss9jJ4L/QgD7z7Qjxtg7ANpwfAXs9YOs4z+6XeEf11X7pKFuT+KHEMDRfR7DXYvia+z5tFHW\nwP0zzP6s+2+0IRiX7zUEgGiqZ0pHy8Vq1zFcAw3zqwG81Hv/pd6vBzOBia9fN8uJfTEAzzPGjgF4\nAMCdZ9qREOKLAPIBGBlj1w2ihv/gnOvd3eHpdNV08uhsCxnG6s0i3x4fvWaLStK8d5WGQhkPfcsG\nJW57gEivSOWBiYl+IvSMYc4YywSwHMBzjLEaAHcBuBJD60rp70Sf+VgAz/bu+8wbCRHA8UVW5w7l\noF5PZGX9Md/YoWxL4lfFrh7b/YvHqD72/MIJkufWtI6I/Rc/oIuBEkR48/r8SO3RO9SuYzgG0jK/\nAsDfhRClQogxQohiALUAorUKz4k3hVUALmWMnXS/jDErYyy/974OwEUA9gzlgB53+OsdbUEa45tk\ngkGBrpqg5rIpOar1aVw1Pcd9XfgwrL9dRRO2JRDRzSHaW5eoXcdwDCTMrwKwtt/31gC4B0AZY6yh\nz+2K3sf7d8H07zPvOwWlAAAhhB/ArwHce4o6rABeY4ztA7AbQD2Avwyg/s/gnGtld2QirSKUnGqr\nfNb/KcpSZez5zXNHyV9p+rfW+Nf/Tcr5spNdpPJAKec8YZeKZCLFUq2trWvpzi2u9c0NAVrlPEnZ\n7FqlYLbJc/fG6hFpHWsYcOei0fL87Q6dduNrqbdYaZJgufkw3fnw3dnTZz2hdi1DkRiXzkWR3BMp\nb28NUpAnMdkd0ejdjM3Mt0VifSy9hmHVsiJ54fo/mijIE5tob4FwOc9Vu46hGvQlxeXl5Z95A3A4\nHFEfE8IY2w6gf5/2tUNZsbo/vy8yKRxKrU8jqejQXtn2vfML5RtbDsfsJKRJp8FD5xZ6Jvz9YQsq\nD6ZcwygZia72Us65RpKkhBvrNqAwLy8vPxvA7wCcBaBv60MA0Ea7KCHEgmjvEzjeX+7zRopisW8S\nXxQFqPrUq79jYZHnqW0NUe/DTjNq8fCy0Z6S391tFc310d49UUlk/+4i3eLzZwDYq3YtgzXQ1sT/\nA/A+gDkAxva5nfaKzXijKOKs9pZggdp1kJHR0Ro0TjRaoj72PMeqF79Ylu8pfuI7FORJJnJon11p\nrLtM7TqGYqDdLMUA7nM4HAndP9HjCl/R3hqksb8ppGJXj23VklL3besro3IytCjdGF41Twpk/+wm\nK3zeaOySxBHhcgJeT0IuHznQlvlaAF+MZSEjIRhQygL+hOsKI8MQDAjw+pD2kknZwx57PinHEnhw\nts2fveoGCvIkJnp4rto1DMVAW+ZmAGvLy8u34Pi8KCcIh8PxjeiXFRvBgJKldg1k5NVU+iwrz8uW\n36lywh8e2pv5vEK777biSDjtgRvpYqAkJzzuPM45kyQpoXoiBhrmB3tv/SXUDxsMCQrzFHVgl9v8\n4LIx8j0bqwfdzXb+uAzPdWlOxfroPRTkKUCpr8kEUILjV7onjAGFucPheDDGdcQc59zu9yrpatdB\n1OHuiWhLZIbpeValos0z4GGEl0/Nli8LHoX5qccoyFNEpK4qS7h7pkOSatWuZTBOGebl5eVLHQ7H\nv3vvrzjV8xwOx6ZYFBYD413OUKbaRRD1HNwj224/v0i+6e2BjT2/8ew8+YKGj5jB8Se6PD+FCJeT\niW4+/njjPHGcrmX+BwDTeu//BafuUhkT1YpixOeNTPDIYXpRpjBFAWoqvLrbFxR6fr298ZR/CwzA\n7QsL5EW7X9Xq3nmZrhZOMaLHBREOJkSu9XXKMHc4HNP63C8dkWpiKBRURoWCCdXFT2KgrSVomjM+\nXc6x6tHhCX3ucS0DfrK00DNr/TNGtuP9Ya0xSxJUwA8Eg9lqlzFYKXMJsqIgh8KcAMCnO3tsDy75\n/LznRi3Dz1YUeWY5HjdRkKc24fcl3Kf40/WZNwxge+FwOBJiykghkB0K0RhzcnzseU9DSPPliVmB\ntyq7jABgM2jx0LICz7in77UqDTVql0jUFgwkT5gD+Hqf+wLRWVlINUpE2GmZOHJC9RGf9bLzc+T3\nqrqMdpNePLRklLfgV7dbla52tUsj8SASifqcU7F2uj7zDwCgvLxcB+A5ADc7HI6EXZVWUUR8LA5J\n4saBXbLpiS9O8JqFDzm/+bFVhMNAOg14IgB0uoTrZjvjOHOHwxEuLy//AoCYzw0dU4wldv0kqjQa\nYMI0jb8gLWC2B6uD7M6vymrXROJHxFaYr3YNgzXQK0CfAvBweXn5Aw6HIxjLgmJFowEtkU4AAKXj\nDMGcQk/w/ffXmbxer/a7Vy+I2DvepgnYyH/4zLm71K5hsAYa5t8HkAfgzvLy8g78d8x5wpwA1WhY\ngDEgxVbJI31YbRrMmMvch47sZu87dv8nvKvatWy6qTCk8zcm3EdrEiss4c6wDTTMr41pFSPDo9Ey\nRMKU5qlo5nyjJxBuUV55dYPd7//sqZ+1b26wjrnpIjm98U/6hD7LT6KHaRKuW3agc7N8EOM6RoJH\nR2GecgqK9eGicX7/li1v65uamvovRQgAUBQFH+1r0p0/drbX0L3bMtI1kvgjNMbPXYcQ7wa6bJwJ\nwP0ArgKQ7XA40npPik50OBy/i2WB0aLXsyqTWYNAIOE+PZEhMJk0mLlA4z5We4CtXr3DJs7Qv/bR\njk9M82Zc5s7q2QcmEq5RRqJIMC2ExuRUu47BGugVoE/h+DwtXwNwIg0PALgtFkXFgi1NV2G1axN2\naCUZuGlnG7wTz3LJr7+52r5jx/YzBvkJr733icWffT6NaklxQpcOaPRH1K5jsAYa5l8BcI3D4diG\n3pOfDoejCcDoWBUWA3X2dB1XuwgSOzn5usiCFULef2ij5rXXX7V5PJ5BbV9TW6ftxDihaBPu4j8S\nRYpBUhRD5j616xisgYZ5AP26ZMrLy3MAdEa9otjpsNq0g3t1k4SgNwDzl+llk73Kt3r187aamhrT\nUPf1r1c32b25KxOuv5REj2LI7obGWKd2HYM10NEsLwH4W3l5+Z0AUF5eng/g/wD8K1aFRZskSUKn\n87rUroPWEeLLAAAZ40lEQVREV9l0g9didylvr3/X2tPTM+zBKN3d3ah1Wdkk46iwLtA60NcHSSLC\nkOMG0Kh2HYM10Jb5fQBqAHwKIB1AFYAWAA/HqK6YMJo0XWrXQKIjI1MrFq6AXNOwhb2y9mVbNIL8\nhJdfe9fmyVlJ51dSlKKzdUuS5FO7jsEaUJg7HI6Aw+G4A4Adx5ffuB7AnxwORyCGtUWd0aSp0ulo\nJHEi02iAuUsMbim/Xna89ILtyJEjUV88IhwOY/cRpzZkn5ZwL2gyfEKf1qR2DUNx2o+R5eXlhQB+\nC2AKgG0AfgVgM47P05JRXl5+ncPheDHmVUaJ1a57U8rWf7ujNUhX+iWgsWWGQGauO7Rh05tmp9MZ\n0y6QjZs/Ms/49mVypvsgGGg4a6oQWguELm2/2nUMxZla5k8DcAK4A8enwF0P4CaHw5EL4EoAP4lt\nedFlNGq25eUb2tSugwyOPV2LhSs07na+I/zSy6ttsQ7yE9ZtrjAFspbRSfMUEraM9SnG3FfUrmMo\nzhTmiwDc5nA43gZwK4BcAK/2PvY6gNLYlRZ9kiR1W226VrXrIAPDNMDZiwxy/phW+eU1L9grKipG\ndMzg4SNHdU7dFEVoaBnQVBGxTWyGxvCJ2nUMxZnCXH+iX9zhcHgBeBwOx4lx5gm5YIXZqkm4s9Sp\nqGisPjh3aVje8tEbxnfeWWcLBtWZrHP165vt3twv01DFFCH06U2SJCXkzLBn+riqLS8vX9F7nwHQ\n9fs64VbjsFq1azKz9SudnaGEqz0VWKwanDWfuSsr92lWr/5Y9Wlpu7q60OiR2HhDlqINdqXMmrmp\nSDAtFH16rdp1DNWZwrwdx1cZOqGr39cJ1/9stevWFo0xPezsDI1RuxbyWWfNM3hCSptY++oGu88X\nPwNJVq991/aD6y6W05r+qvqbC4mdiK3MJ/SZz6tdx1CdNswdDkfpCNUxYiRJ8qSl+6sBUJjHifxC\nfbh4QsC/det6Q2NjY9wt7xcMBlFR59fMS58Q0HuOnnTmRZL4QumzqoU+baPadQxVSn5stFi1m6w2\n6mVRm9GowfxzdbIwHPKvXv28LR6D/IR1735gkaULQiLxThORARBMB8WQ/akkSQk7ZWZKhnm6pP9b\n8Vhzi9p1pLIpMw3eSbN75Dffcti2bftowDMbqmnDtkpDUFpEQxWTUDhtmlsx5iXEdN6nkpJhLklS\nS3aeIeGmuEwG2bl6ZcEKyIer3te8+uorNllOnBln91UcMHDTTEVo4vYDBBmicNqMaugs29WuYzhS\nMswBwGbXviBl6WmR5xGi0wHzlurdlsxqj8PxvK26unrIMxuq6eW3PrL7cr5EQxWTiNAYoRiydkuS\nFP8fD08jZcPcnqb7x7gyS5XadaSCiVMNvhkLfPI7762xbt78gT0SSdhuSbS2tqI1kM8i+oyEfuGT\n/wplnO1UTPlPqV3HcKVsmEuS5E+XdNv0tIRvzEhZOixcweT6lg/FmjUv2VwuV1L8vb249l2bN+fi\nxOkfIqckwBBOP6tCyspLyPlY+kqKF9dQZeUYHh5XZqHL+6NMowHmLDbIWQWN8ksvv2A7dOhQUi2S\n7PP5cKRVaMPmkoS8UpD8Vzhtmlsx5PxS7TqiIaXDXJKk2vxC425NSv8WomvMBH3g7CVB+f3Nr5re\n2/CuLRQKqV1STLz65gaLnPWlIPW1JLaQtPCAMGSuV7uOaEj5GMvI1P94XJmlXe06Ep3NrsHC5Vq5\ny/1J2OH4l62zszPpV+nZsrteH8qY61W7DjI0YctYv2LM+WOin/g8IeXDPDcva39hieljap0P3awF\nRrlwQrt7zdoXbPv27U2Z1ZB3fLzH2G2ZpwiW9O9bSSmUveyQMOb8U+06ooUiDEBahv6ecWWWDrXr\nSDSjS/Sh+edG5G073zSsW/e2PRBIqIWnomLtu7ss/uwv0MnQBBMxFYQVY+7zkiQlzcojFOYARuVn\nVRSWmHZR63xgTGYNFizXyUFUBFY7XrC1tLSk7FU09fUNmg5RIhQdzcGVKASAQN6X9ium/N+qXUs0\nUXz1krL0P5g8w0ZznZ/BjDlGz/jp3P3a6/+y7dy5MyEuw4+1F9dutHtzL6YLiRJEOH1mt2LMfzBR\n5y0/FQrzXjm5WUfzC02vW6waSqeTyMvXhRcsF/Le/e9q33jjNbvXS+f9TnC73TjWZWJhUwFdURzn\nBNMjlLVke8aoCa+pXUu0UZj3kZmtv+usOWkH1K4jnhgMwPxlerfWWulf7XjeVldXl5CX4cfay6+9\nY/NkX+SnlkB8C+Z+oT5iLrlZ7TpigcK8D0mSvBmZ+l/mFxrphBaAyTMMvilny/Lb61+yffjhVpui\nJM25oqhTFAU7D3Zow/YZ8bOqBvkMxZClhO2TX5GycurUriUWKMz7safrnp80zbpTk8LTnWdm68SC\nFZCP1m7G2ldfsfX09NCcBwOweet2c0/akoigl1VcCoy6eL9iLvyJ2nXECv3V9SNJksjMMXzzrDlp\nNWrXMtK0OmDeEoOcllsrv/TSC7ajR4/SsvSD9MamvaZA9gr6ZBdnQhlznIpx1MOSJPnVriVWKMxP\nIjs7sz53lOGJUaONKTNCYfxkg3/mQr/87sY15vff32QPh+lc3lBUVR/TdWkmCqFNquloEppiyFKC\nWUtfTc+ftEbtWmKJ0dCyU6s60vbqlo3OS4KB5P0dpUs6TJkVce/79GPtgQMHKIGiQJIk3HLZNNna\n4qDB5yoT0MBXevOuiL1scbINReyPWuankZVruO7shekH1a4jFpgGOHuRQc4tbnK/vOZFOwV59HDO\nUe9OR8SQm7gTtyeJwKiVtRFz0bXJHuQAhflpSZLULWXpfzB+cnJNxFU6zhCcuyQkb976mundd9+x\nB4NJ/3c+4l569V2bJ3cljWxRUdg+2R2xl/1KyhldqXYtI4HC/AyKinPeGzPe8kxOniHhr5Kx2jRY\nuFzrdvl2h1Y7XrR1dHTQDFExEgwGsbfarQ3ZJiXtCbd4pujsCOR+8b30/Km/V7uWkUJhPgBSln7V\njDn2ty1WTcIOtJ453+gpLut0v/Lqi/Y9e3anzMyGanp34xazO2NFWIBGdo4kwbTwF16zV7GUXqd2\nLSOJToAOEOfc2NYS+GDrRr4gEk6c31lBsSFcNM7v37LlfX1TU5NR7XpSzbQpk0KXzo4ETc5/0xvo\nCBBg8Bd+rTKcftYFUlZuvdr1jCRqmQ+QJEmBvHzjV+YuSj+sdi0DYTJpsOBcnTui3e9fvfp5GwW5\nOvYfPKx3GacrQkO//pEQGLWyLmId+/VUC3KAWuaD1ljfsbChzv+vTz92F6tdy6lMm23wMn1nZOPG\n9+wej0ftclJebm4ubrxorNvautaudi3JLJi1tC2Uuei76fmTX1a7FjXQCbBBKizO2RZROr4TCoqn\nD30qj1a7nr5y8nSRcVNDvu3bN+pqampoqGGcaG9vR4tvAcboM4U25KQO9BgIpc1whaT5v0rVIAeo\nZT5ktcfav3as0vuro4e8o9SuRacHZi/Su5tbjrKPPvrQFonQ8OZ4YzKZcPvXl8n2pr/RhURRFjEX\n+/2jy59NL5j+PbVrURO1zIeodGzu80K0p4dC4qHaKl+2WnWUTTd4LWkuZd36d2lCrDjm9/txsCnM\nzraMDeq8x1J2ZaZoi5hGB/wFV7yqmAu/r3YtaqOW+TDVVLffc/BT+e7GWr80ksfNyNSKyTMVzye7\nt2uOHDlCXSoJ4offvlTOaHzaxkCvu+GKmIv8/oIrX1EsxV9PprU8h0r74IMPql1DQpMyrVt1+pBO\nUcRZLmc45qGq0QBzztG7oa8Prlv3pr29vV0f62OS6AkJI8YVZvu1/kZqnQ9Db5Cv6Q1yemcEdbNE\nxdjxuT9nrN2lN7CfHj0Yuz70sRMNgcw8d2jDpjfNTqeT/u8S0Me79xkWzb48mNP9CZgIqV1OQgpb\nx3kD+ZeuVsxFN1KQ/xd1s0RRbU371Y21/icO7I3uKBd7uhbTzhZyxf5PWEVFBV18kuBGjy4Q11+Q\nL5vb36ShioMUtk/pCeR96S+KuejOoQQ5Y+xSAK8AmCyEOMIYKwXwhhBiOmMsC8CG3qeOAhAB0AFA\nAJgPwA/g0z67e1EI8Thj7IPe5/sB+ADcKIQ45QR9fZ5/Yu6eC4QQnYP9Wfqj1l0UlY7JfVGj6XDp\n9Zo/7t3VUzLc/TENMGu+Qfb4mvDymo02mhArOTQ1NbO2yDxWrEuDJtyjdjkJI5QxxxnMPve36QXT\nHxzGbq4G8Gbvv5/ZjxCiC8AsAGCMPQDALYR48sTjjDGvEGLWSfYpAFwjhNjNGLsewC8BrDxNDf95\n/jB+js+hK0CjrLgkZ93oEuM185dmVGqHsfRc0Rh9cO6SsLx12xvG9e+soyBPMv9au8Hmyb04ZRY/\nGQ4BhkDeRQ3BnPPuGk6QM8ZsON7C/i6Arw5kkyEcZjuAcTHa92lRmMdAYVHOR4XFphWLz8v82GzR\nDOqjoMWqwcLlOtkb3hda7XjB1tbWRic4k5Asy6ju0GnCpkLqOD8NoTHAX/SNQ6GM2Zen50/5yzB3\ndwmA9UKIegAdjLHZg9zezBjb0+d2ZZ/HToTzhQD2D2Bf/693Hz8dZA2nRH3mMcQ5N3d1BFfv2dFz\ngbMzZDrT88+aa/CGRZuycdMGm89HU2EnO41GgztvukhOb/yTjS4Q+DxFn6n4C6/ZHrGN/4okScNe\nU4Ax9iaAp4QQGxlj3wNQDOB3AN4UQkzv99wHAMhCiP/t8z23EOJz5zn69IEbAEgApgshGk9TR4EQ\norn3k8IaAP8UQvxjuD8ftcxjSJIkX1aO4ZKzF6b/rnS8+ZQnOPIL9eEFyxX5k33vaN986w0K8hSh\nKAq272/RhdJmJ/xc+dEWtk7w+IqvezliG788SkGeCWA5gOcYYzUA7gJwJaLT3XGiD3wsgGd7933q\nJwvR3PuvDOAFAPOiUAOFeaxJkiTGjs+9q2ya9c6Z89JqNX1+4wajBvPP1blhOORf7XjB1tDQQFPr\npZitH+0y9dgXKoIN4wRLEhEAgllL2gP5l/xKsZRcFcXl3q4A8HchRKkQYowQohhALY63zqPhxJvC\nKgCXMsZOul/GmJYxlt17X4/jJ0orolEAjWYZIaVjcv9hMndtS8/QvfDxR91nl4zX+vVmp/LW2+/Z\n3W46D5bKXt+w23z10vNlc8c7KT1vi9Ba4C+4/FDEXHRXxqiyt6K8+6sA/KLf99YAuAdAGWOsoc/3\n7zhRUr/nmxlje/p8vU4IcW/f5woh/IyxXwO4F8AtJ6nDBGB9b5BrAbwH4JnB/jAnQ33mI4xzbnR3\n+9+ua6ia99Zbb6X0i5f81y3XfcVd4Px/dk0kNacsDtsmegK5X/pAsY75uiRJXO16EhGFuUqqqqqu\naG5u/vmGDRsm0rBDkp6ejluvmOm2tfwrpS4kEkyLwKiVtRHbxKcUU8Fv6YrOoaNuFpWMHz/+5ays\nrM2SJL2wefPmcxobG81q10TU093djbpuKyszjgrrAq0p8bqMGEeFAwWX74qYi66VsvOPqV1PtDHG\ntgPofx7sWiHEgZgcj1rm6uKcs46Ojtubm5u/8/77748PBAJql0RUotPpcMcNF8rpjc8kdfebAEMo\n+9zWUMbZLyrmwrslSQqrXVMyoDCPE5zz7Kampmf27Nmz7MCBAyM6nS6JH+ctO8e3OO8g08sHz3hd\nQiKKmIsDgbwv71VMo27PyC3doXY9yYTCPM5UV1ev7OzsfGTTpk3Turu7aehoCrrz25fJUuMfbQzJ\nM0W30JgRyF9ZFbGUPquYCp6g+cejj8I8DnHOTa2trf9bWVl56Y4dOwoUhf7uU8nkSWXhy+cyv6nr\n/YTvbhFgCEkLukLSvPcV65hbJUka9uyA5OQozONYY2PjjM7Ozt/v2rVrZnV1dcK/sMnA3fbNy+T8\njudsTPGrXcqQRUwFocColZ8qxrwfZeSN+0DtepIdhXmc45wzp9N5pdPp/PGHH344rbW1lVaoSQE5\nOTm4aeUEt7V1TcINVVR0aQjmXng0Yil5UTGP/hmd4BwZFOYJgnOu7ezs/F57e/uNW7ZsmeJyuag/\nPcldd9VKeax/jUUb7EqI/2tFa0Uw9ws1EcvYtxVL0X2SJHWrXVMqoTBPMJxzU1tb2wPNzc2Xb926\ndYLXS3M0JSuDwYAfXLfCndb017hunQuNCcGc8xvCtgkbFUvJXdQvrg4K8wTFOc9obm5+oqGh4YKd\nO3eWUKgnpy9/cbl3btpOrc5TFXeTsAmmRzB7eXPYPnmLYh1zpyRJzWrXlMoozBMc5zynpaXloba2\nthU7duyY6HK5aGrsJPPDb18qZzQ+bWOfm/dJHUJjQjBrSUvEPmlXxFxyh5SVk3RXbyYiCvMkwTm3\ntre3393Z2Xnprl27Jre2ttIKRUli5oxpwZXTvSEj/1DVxbwVfaYI5iyvjpiLPlIspaskSapXsx7y\nWRTmSYZzru/q6vqW0+m8fs+ePVNramosatdEhu97N14u57b+2cbEyE7KJgBELGOCoaylhxRj3huK\nueBxSZJozuY4RGGepDjnzOVyXco5/35tbe3kffv25dG8L4krPz8f3/xiodvS/vqInAwV0CCcMbs7\nlDH7gGLIfkYYc/8hSVJkJI5NhobCPAVwzse0tLTc43Q6F3366acT6uvr4+5kGjmzG752ibvU/aJd\nE47diD/FkCuCWYtqFVPhfsWY+3hGbsnWmB2MRBWFeQrhnOtcLtflLpfrpsbGxil79uwpoFEwicNi\nseB715zjtjf/Paqtc6ExISTN6wjbyiqFIesNxTTqaRojnngozFMU57ygtbX1bs75uUeOHBlXXV1t\nC4fpQr1495WLzvecZfy3QeerG9YJbgGGiK3MF5LmVimG7B2KafTjUlbO0WjVSUYehXmK45xr/H7/\nwq6urltcLteMqqqqMVVVVXYK9vj1o29fIqc3Pm0b7BhUAQbFUhoOpc+qU0wFhxVj9tNCn7GO+sKT\nA4U5+Q/OOQsEAvO6urpuc7lcM6qrq8cePXo0LRQKqV0a6WP+vNmBL45vjxhcu844Ukkw3fEWeNr0\nGmHMrlT0mf8ShszXJUnyjUStZORQmJOT4pyzYDA4u7Oz87bu7u6ZDQ0NxVVVVdluN41Kiwe333SZ\nO7vlT3YmPv8JSmjMCKdPd4VtZTWKIeugYsh5FjrrFmqBJzcKczIgnPNxHR0d18iyvKinp6f02LFj\nRbW1tVZajFodxcVFyteXZ3nNHetsAhoo5qJIOG1ak2LMbVD0mXsUc8HTYNqDtEBy6qAwJ4PGOdeG\nQqG5nZ2d17rd7mmc85KjR48WtrS06GghjdhjjCE3N1dc/ZULvFbRfkTRZ1QKg/Sq0Gesp1EoqYvC\nnAwb59zmdru/0NPTc4ksy8Ver7egqalpVGNjY1p3N2XLcBmNRuTl5YVLSkpaJElqstvttXa7/e30\n9PR3JElqV7s+Eh8ozEnUcc61ACZ1dnb+j9frnS/L8mi3251fV1c3qrm52UhXop6a2WzGqFGjgkVF\nRW1paWntFoul1Ww2V2ZkZKwzmUw7qeVNToXCnIwIzrklGAzO5Zxf5PP5xvt8vhy/35/T2dmZ2dra\nmtXV1cVSKeSNRiMkSUJ2drYrJyfHZbVa261Wa6vZbD4kSdI6g8Gwm+ZAIYNBYU5UwznXACj2eDyz\nZFleFAgESn0+X3YgEMjyer0ZnHOby+VKd7vdGrfbjUQb+242m5Geno7s7OzunJwcl9lsdhkMhi6z\n2ew0Go31Fotlh91urwBwTJKk1HknIzFBYU7iEufcAqAgFAoVd3d3TwmHw2WhUCg3EAikBYNBeygU\nSgsGg3a3223y+Xwmn89n9vv9xmAwiEAggEAggGAwiGj8fTPGoNfrP3MzmUyK3W6X09LSZJvN5tfp\ndLJer5d1Op3HYDDIBoPBrdVqmy0Wyx4KbDISKMxJwuKc6wBkA0gHkBYKhSSPx5MfCoVyFUXJURQl\nMxKJWCKRiCkSieh7/9aZEIIBYH3vn/iXMSY0Gk1Qq9UGNRpNSKvVhrRarZ8x1gOgW6vVunQ6HbfZ\nbM06na4JQBsATkMAidoozAkhJAkkxKrfhBBCTo/CPMkxxi5ljCmMsbLer0sZYxW997MYY3t6by2M\nscbe+7sZY3rGWKTP43sYY3f3bvcBY+wwY2wvY2wbY2zKAGt5/cSxCSHRpVO7ABJzVwN4s/ffB/s+\nIIToAjALABhjDwBwCyGePPE4Y8wrhJh1kn0KANcIIXYzxq4H8EsAK09XBGPsMgDu3m0JIVFGLfMk\nxhizAZgP4LsAvjqQTYZwmO0Axg2gjjsAPDLEYxBCzoDCPLldAmC9EKIeQAdjbPYgtzf362a5ss9j\nJ0L5QgD7z7CfnwH4FQBa1oiQGKFuluR2NYCneu+/1Pv17waxve8U3SwMwPOMMQMACcD0U+2AMTYT\nwFghxB2MsdJBHJsQMggU5kmKMZYJYDmAaYwxAUALQAHw+yjsvm+f+RMA7gJw+ymeuwDAHMZYDY7/\nveUyxjYJIVZEoQ5CSC/qZkleVwD4uxCiVAgxRghRDKAWQHGU9n+im2UVgEsZYyfdrxDiaSHEaCHE\nGACLAVRSkBMSfRTmyesqAGv7fW8NgHsAlDHGGvrcruh9vP9Ik/595o/2eUwAgBDCD+DXAO4dQE3s\nJMcghEQBXQFKCCFJgFrmhBCSBOgEKIkaxth2AMZ+375WCHFAjXoISSXUzUIIIUmAulkIISQJUJgT\nQkgSoDAnhJAkQGFOCCFJgMKcEEKSAIU5IYQkAQpzQghJAhTmhBCSBCjMCSEkCVCYE0JIEqAwJ4SQ\nJEBhTgghSYDCnBBCkgCFOSGEJAEKc0IISQL/H2BDOxwsKHsBAAAAAElFTkSuQmCC\n",
      "text/plain": [
       "<matplotlib.figure.Figure at 0x7f260b6d9090>"
=======
      "image/png": "iVBORw0KGgoAAAANSUhEUgAAAXYAAADtCAYAAACriF5RAAAABHNCSVQICAgIfAhkiAAAAAlwSFlz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\nKQm2jjo2VgAAAABJRU5ErkJggg==\n",
      "text/plain": [
       "<matplotlib.figure.Figure at 0x7fd12f2e0510>"
>>>>>>> upstream/master
      ]
     },
     "metadata": {},
     "output_type": "display_data"
    }
   ],
   "source": [
<<<<<<< HEAD
    "berlin_ages.plot(kind='pie')"
=======
    "ber=b.iloc[13]\n",
    "ber.plot(kind='pie')"
>>>>>>> upstream/master
   ]
  },
  {
   "cell_type": "markdown",
   "metadata": {},
   "source": [
    "###Task 8: Import a health care data set from Zeit online \n",
    "\n",
    "The file is in the git repository: `multiresistente_keime.xlsx`. Import it using the `read_excel` function.\n"
   ]
  },
  {
   "cell_type": "code",
<<<<<<< HEAD
   "execution_count": 109,
   "metadata": {
    "collapsed": false
   },
   "outputs": [
    {
     "data": {
      "text/html": [
       "<div style=\"max-height:1000px;max-width:1500px;overflow:auto;\">\n",
       "<table border=\"1\" class=\"dataframe\">\n",
       "  <thead>\n",
       "    <tr style=\"text-align: right;\">\n",
       "      <th></th>\n",
       "      <th>Kreisschlussel</th>\n",
       "      <th>Bundesland</th>\n",
       "      <th>Landkreis/Kreisfreie Stadt</th>\n",
       "      <th>Krankenhaus- Patienten 2013</th>\n",
       "      <th>MRE-Fälle 2013</th>\n",
       "      <th>MRE-Fälle pro 1000 Krankenhauspatienten 2013</th>\n",
       "      <th>ESBL-Diagnosen 2013</th>\n",
       "      <th>ESBL-Diagnosen pro 1000 Krankenhauspatienten 2013</th>\n",
       "      <th>VRE-Diagnosen 2013</th>\n",
       "      <th>VRE Diagnosen pro 1000 Krankenhauspatienten 2013</th>\n",
       "      <th>MRSA-Diagnosen 2013</th>\n",
       "      <th>MRSA Diagnosen pro 1000 Krankenhauspatienten 2013</th>\n",
       "      <th>MRE Veränderung 2010-2013 in %</th>\n",
       "      <th>ESBL Veränderung 2010-2013 in %</th>\n",
       "      <th>VRE Veränderung 2010-2013 in %</th>\n",
       "      <th>MRSA Veränderung 2010-2013 in %</th>\n",
       "      <th>MRSA Meldungen an Robert Koch-Institut 2013</th>\n",
       "    </tr>\n",
       "  </thead>\n",
       "  <tbody>\n",
       "    <tr>\n",
       "      <th>0</th>\n",
       "      <td> 1057</td>\n",
       "      <td> Schleswig-Holstein</td>\n",
       "      <td>                                  Plön</td>\n",
       "      <td> 26634</td>\n",
       "      <td>  97</td>\n",
       "      <td> 3.641961</td>\n",
       "      <td> 126</td>\n",
       "      <td>  4.730795</td>\n",
       "      <td>  33</td>\n",
       "      <td> 1.239018</td>\n",
       "      <td> 184</td>\n",
       "      <td>  6.908463</td>\n",
       "      <td> -13</td>\n",
       "      <td>  26</td>\n",
       "      <td>  57</td>\n",
       "      <td>  -2</td>\n",
       "      <td> -</td>\n",
       "    </tr>\n",
       "    <tr>\n",
       "      <th>1</th>\n",
       "      <td> 6431</td>\n",
       "      <td>             Hessen</td>\n",
       "      <td>                            Bergstraße</td>\n",
       "      <td> 54563</td>\n",
       "      <td> 315</td>\n",
       "      <td> 5.773143</td>\n",
       "      <td> 289</td>\n",
       "      <td>  5.296630</td>\n",
       "      <td> 113</td>\n",
       "      <td> 2.071000</td>\n",
       "      <td> 315</td>\n",
       "      <td>  5.773143</td>\n",
       "      <td>  -8</td>\n",
       "      <td>  46</td>\n",
       "      <td>  92</td>\n",
       "      <td> -17</td>\n",
       "      <td> -</td>\n",
       "    </tr>\n",
       "    <tr>\n",
       "      <th>2</th>\n",
       "      <td> 6635</td>\n",
       "      <td>             Hessen</td>\n",
       "      <td>                   Waldeck-Frankenberg</td>\n",
       "      <td> 44049</td>\n",
       "      <td> 385</td>\n",
       "      <td> 8.740267</td>\n",
       "      <td> 450</td>\n",
       "      <td> 10.215896</td>\n",
       "      <td> 114</td>\n",
       "      <td> 2.588027</td>\n",
       "      <td> 478</td>\n",
       "      <td> 10.851552</td>\n",
       "      <td> 107</td>\n",
       "      <td> 217</td>\n",
       "      <td> 268</td>\n",
       "      <td>  90</td>\n",
       "      <td> -</td>\n",
       "    </tr>\n",
       "    <tr>\n",
       "      <th>3</th>\n",
       "      <td> 7111</td>\n",
       "      <td>    Rheinland-Pfalz</td>\n",
       "      <td>             Koblenz, kreisfreie Stadt</td>\n",
       "      <td> 24518</td>\n",
       "      <td> 167</td>\n",
       "      <td> 6.811322</td>\n",
       "      <td> 155</td>\n",
       "      <td>  6.321886</td>\n",
       "      <td>  40</td>\n",
       "      <td> 1.631454</td>\n",
       "      <td> 180</td>\n",
       "      <td>  7.341545</td>\n",
       "      <td>  24</td>\n",
       "      <td>  52</td>\n",
       "      <td> 400</td>\n",
       "      <td>  14</td>\n",
       "      <td> -</td>\n",
       "    </tr>\n",
       "    <tr>\n",
       "      <th>4</th>\n",
       "      <td> 7313</td>\n",
       "      <td>    Rheinland-Pfalz</td>\n",
       "      <td> Landau in der Pfalz, kreisfreie Stadt</td>\n",
       "      <td> 11227</td>\n",
       "      <td>  51</td>\n",
       "      <td> 4.542620</td>\n",
       "      <td> 135</td>\n",
       "      <td> 12.024584</td>\n",
       "      <td>  24</td>\n",
       "      <td> 2.137704</td>\n",
       "      <td>  37</td>\n",
       "      <td>  3.295627</td>\n",
       "      <td>  19</td>\n",
       "      <td> 146</td>\n",
       "      <td>  -4</td>\n",
       "      <td>  -5</td>\n",
       "      <td> -</td>\n",
       "    </tr>\n",
       "  </tbody>\n",
       "</table>\n",
       "</div>"
      ],
      "text/plain": [
       "   Kreisschlussel          Bundesland             Landkreis/Kreisfreie Stadt  \\\n",
       "0            1057  Schleswig-Holstein                                   Plön   \n",
       "1            6431              Hessen                             Bergstraße   \n",
       "2            6635              Hessen                    Waldeck-Frankenberg   \n",
       "3            7111     Rheinland-Pfalz              Koblenz, kreisfreie Stadt   \n",
       "4            7313     Rheinland-Pfalz  Landau in der Pfalz, kreisfreie Stadt   \n",
       "\n",
       "   Krankenhaus- Patienten 2013  MRE-Fälle 2013  \\\n",
       "0                        26634              97   \n",
       "1                        54563             315   \n",
       "2                        44049             385   \n",
       "3                        24518             167   \n",
       "4                        11227              51   \n",
       "\n",
       "   MRE-Fälle pro 1000 Krankenhauspatienten 2013  ESBL-Diagnosen 2013  \\\n",
       "0                                      3.641961                  126   \n",
       "1                                      5.773143                  289   \n",
       "2                                      8.740267                  450   \n",
       "3                                      6.811322                  155   \n",
       "4                                      4.542620                  135   \n",
       "\n",
       "   ESBL-Diagnosen pro 1000 Krankenhauspatienten 2013  VRE-Diagnosen 2013  \\\n",
       "0                                           4.730795                  33   \n",
       "1                                           5.296630                 113   \n",
       "2                                          10.215896                 114   \n",
       "3                                           6.321886                  40   \n",
       "4                                          12.024584                  24   \n",
       "\n",
       "   VRE Diagnosen pro 1000 Krankenhauspatienten 2013  MRSA-Diagnosen 2013  \\\n",
       "0                                          1.239018                  184   \n",
       "1                                          2.071000                  315   \n",
       "2                                          2.588027                  478   \n",
       "3                                          1.631454                  180   \n",
       "4                                          2.137704                   37   \n",
       "\n",
       "   MRSA Diagnosen pro 1000 Krankenhauspatienten 2013  \\\n",
       "0                                           6.908463   \n",
       "1                                           5.773143   \n",
       "2                                          10.851552   \n",
       "3                                           7.341545   \n",
       "4                                           3.295627   \n",
       "\n",
       "  MRE Veränderung 2010-2013 in % ESBL Veränderung 2010-2013 in %  \\\n",
       "0                            -13                              26   \n",
       "1                             -8                              46   \n",
       "2                            107                             217   \n",
       "3                             24                              52   \n",
       "4                             19                             146   \n",
       "\n",
       "  VRE Veränderung 2010-2013 in % MRSA Veränderung 2010-2013 in %  \\\n",
       "0                             57                              -2   \n",
       "1                             92                             -17   \n",
       "2                            268                              90   \n",
       "3                            400                              14   \n",
       "4                             -4                              -5   \n",
       "\n",
       "  MRSA Meldungen an Robert Koch-Institut 2013  \n",
       "0                                           -  \n",
       "1                                           -  \n",
       "2                                           -  \n",
       "3                                           -  \n",
       "4                                           -  "
      ]
     },
     "execution_count": 109,
     "metadata": {},
     "output_type": "execute_result"
    }
   ],
   "source": [
    "ohno_landkreis = pd.read_excel('multiresistente_keime.xlsx', sheetname='Landkreis-Daten' )\n",
    "ohno_landkreis.head()"
=======
   "execution_count": 170,
   "metadata": {
    "collapsed": false,
    "scrolled": true
   },
   "outputs": [],
   "source": [
    "# -*- coding: utf-8 -*-\n",
    "imp1 = pd.read_excel('multiresistente_keime.xlsx', sheetname=0, header=0)\n",
    "#imp.head()\n",
    "imp2  = pd.read_excel('demo_excel.xls', sheetname=2, header=3, index_col=1)\n",
    "\n",
    "mer = pd.merge(imp2, imp1, left_index=True, right_on=\"Kreisschlussel\")\n",
    "#mer\n",
    "\n"
>>>>>>> upstream/master
   ]
  },
  {
   "cell_type": "markdown",
   "metadata": {},
   "source": [
    "### Task 9: Merge the two data sets (hint: \"Kreisschlüssel\" is the same as \"AGS\")"
   ]
  },
  {
   "cell_type": "code",
<<<<<<< HEAD
   "execution_count": 124,
   "metadata": {
    "collapsed": false
   },
   "outputs": [
    {
     "data": {
      "text/html": [
       "<div style=\"max-height:1000px;max-width:1500px;overflow:auto;\">\n",
       "<table border=\"1\" class=\"dataframe\">\n",
       "  <thead>\n",
       "    <tr style=\"text-align: right;\">\n",
       "      <th></th>\n",
       "      <th>SATZART</th>\n",
       "      <th>NAME</th>\n",
       "      <th>EWZ</th>\n",
       "      <th>EW_M</th>\n",
       "      <th>EW_W</th>\n",
       "      <th>EW_D</th>\n",
       "      <th>EW_A</th>\n",
       "      <th>ALTER_1</th>\n",
       "      <th>ALTER_2</th>\n",
       "      <th>ALTER_3</th>\n",
       "      <th>...</th>\n",
       "      <th>ESBL-Diagnosen pro 1000 Krankenhauspatienten 2013</th>\n",
       "      <th>VRE-Diagnosen 2013</th>\n",
       "      <th>VRE Diagnosen pro 1000 Krankenhauspatienten 2013</th>\n",
       "      <th>MRSA-Diagnosen 2013</th>\n",
       "      <th>MRSA Diagnosen pro 1000 Krankenhauspatienten 2013</th>\n",
       "      <th>MRE Veränderung 2010-2013 in %</th>\n",
       "      <th>ESBL Veränderung 2010-2013 in %</th>\n",
       "      <th>VRE Veränderung 2010-2013 in %</th>\n",
       "      <th>MRSA Veränderung 2010-2013 in %</th>\n",
       "      <th>MRSA Meldungen an Robert Koch-Institut 2013</th>\n",
       "    </tr>\n",
       "  </thead>\n",
       "  <tbody>\n",
       "    <tr>\n",
       "      <th>180</th>\n",
       "      <td> 40</td>\n",
       "      <td>       Flensburg, Stadt</td>\n",
       "      <td>  82258</td>\n",
       "      <td>  40660</td>\n",
       "      <td>  41590</td>\n",
       "      <td>  77140</td>\n",
       "      <td>  5120</td>\n",
       "      <td> 12150</td>\n",
       "      <td> 15640</td>\n",
       "      <td> 22130</td>\n",
       "      <td>...</td>\n",
       "      <td> 3.482856</td>\n",
       "      <td>   4</td>\n",
       "      <td> 0.240197</td>\n",
       "      <td> 166</td>\n",
       "      <td>  9.968174</td>\n",
       "      <td>  43</td>\n",
       "      <td>  23</td>\n",
       "      <td> -43</td>\n",
       "      <td> 80</td>\n",
       "      <td>  8</td>\n",
       "    </tr>\n",
       "    <tr>\n",
       "      <th>156</th>\n",
       "      <td> 40</td>\n",
       "      <td> Kiel, Landeshauptstadt</td>\n",
       "      <td> 235782</td>\n",
       "      <td> 113400</td>\n",
       "      <td> 122380</td>\n",
       "      <td> 219670</td>\n",
       "      <td> 16120</td>\n",
       "      <td> 33940</td>\n",
       "      <td> 49130</td>\n",
       "      <td> 67910</td>\n",
       "      <td>...</td>\n",
       "      <td> 4.106988</td>\n",
       "      <td> 116</td>\n",
       "      <td> 2.394023</td>\n",
       "      <td> 377</td>\n",
       "      <td>  7.780575</td>\n",
       "      <td>  16</td>\n",
       "      <td> 107</td>\n",
       "      <td> 404</td>\n",
       "      <td> 41</td>\n",
       "      <td> 10</td>\n",
       "    </tr>\n",
       "    <tr>\n",
       "      <th>82 </th>\n",
       "      <td> 40</td>\n",
       "      <td>     Lübeck, Hansestadt</td>\n",
       "      <td> 210305</td>\n",
       "      <td>  99880</td>\n",
       "      <td> 110420</td>\n",
       "      <td> 197390</td>\n",
       "      <td> 12910</td>\n",
       "      <td> 31590</td>\n",
       "      <td> 31520</td>\n",
       "      <td> 58380</td>\n",
       "      <td>...</td>\n",
       "      <td> 5.908388</td>\n",
       "      <td>  84</td>\n",
       "      <td> 1.804744</td>\n",
       "      <td> 540</td>\n",
       "      <td> 11.601925</td>\n",
       "      <td>  32</td>\n",
       "      <td>  65</td>\n",
       "      <td>  87</td>\n",
       "      <td> 55</td>\n",
       "      <td> 20</td>\n",
       "    </tr>\n",
       "    <tr>\n",
       "      <th>241</th>\n",
       "      <td> 40</td>\n",
       "      <td>      Neumünster, Stadt</td>\n",
       "      <td>  77249</td>\n",
       "      <td>  37650</td>\n",
       "      <td>  39600</td>\n",
       "      <td>  72470</td>\n",
       "      <td>  4780</td>\n",
       "      <td> 12900</td>\n",
       "      <td> 11320</td>\n",
       "      <td> 20820</td>\n",
       "      <td>...</td>\n",
       "      <td> 5.589520</td>\n",
       "      <td>  26</td>\n",
       "      <td> 1.513828</td>\n",
       "      <td> 216</td>\n",
       "      <td> 12.576419</td>\n",
       "      <td>  84</td>\n",
       "      <td>   8</td>\n",
       "      <td> 550</td>\n",
       "      <td> 19</td>\n",
       "      <td>  5</td>\n",
       "    </tr>\n",
       "    <tr>\n",
       "      <th>166</th>\n",
       "      <td> 40</td>\n",
       "      <td>           Dithmarschen</td>\n",
       "      <td> 133900</td>\n",
       "      <td>  65480</td>\n",
       "      <td>  68420</td>\n",
       "      <td> 130720</td>\n",
       "      <td>  3180</td>\n",
       "      <td> 23830</td>\n",
       "      <td> 16270</td>\n",
       "      <td> 35430</td>\n",
       "      <td>...</td>\n",
       "      <td> 3.389161</td>\n",
       "      <td>   4</td>\n",
       "      <td> 0.131618</td>\n",
       "      <td> 312</td>\n",
       "      <td> 10.266197</td>\n",
       "      <td> -15</td>\n",
       "      <td>   8</td>\n",
       "      <td> -43</td>\n",
       "      <td> -3</td>\n",
       "      <td>  9</td>\n",
       "    </tr>\n",
       "  </tbody>\n",
       "</table>\n",
       "<p>5 rows × 29 columns</p>\n",
       "</div>"
      ],
      "text/plain": [
       "     SATZART                    NAME     EWZ    EW_M    EW_W    EW_D   EW_A  \\\n",
       "180       40        Flensburg, Stadt   82258   40660   41590   77140   5120   \n",
       "156       40  Kiel, Landeshauptstadt  235782  113400  122380  219670  16120   \n",
       "82        40      Lübeck, Hansestadt  210305   99880  110420  197390  12910   \n",
       "241       40       Neumünster, Stadt   77249   37650   39600   72470   4780   \n",
       "166       40            Dithmarschen  133900   65480   68420  130720   3180   \n",
       "\n",
       "     ALTER_1  ALTER_2  ALTER_3                     ...                       \\\n",
       "180    12150    15640    22130                     ...                        \n",
       "156    33940    49130    67910                     ...                        \n",
       "82     31590    31520    58380                     ...                        \n",
       "241    12900    11320    20820                     ...                        \n",
       "166    23830    16270    35430                     ...                        \n",
       "\n",
       "     ESBL-Diagnosen pro 1000 Krankenhauspatienten 2013  VRE-Diagnosen 2013  \\\n",
       "180                                           3.482856                   4   \n",
       "156                                           4.106988                 116   \n",
       "82                                            5.908388                  84   \n",
       "241                                           5.589520                  26   \n",
       "166                                           3.389161                   4   \n",
       "\n",
       "     VRE Diagnosen pro 1000 Krankenhauspatienten 2013 MRSA-Diagnosen 2013  \\\n",
       "180                                          0.240197                 166   \n",
       "156                                          2.394023                 377   \n",
       "82                                           1.804744                 540   \n",
       "241                                          1.513828                 216   \n",
       "166                                          0.131618                 312   \n",
       "\n",
       "    MRSA Diagnosen pro 1000 Krankenhauspatienten 2013  \\\n",
       "180                                          9.968174   \n",
       "156                                          7.780575   \n",
       "82                                          11.601925   \n",
       "241                                         12.576419   \n",
       "166                                         10.266197   \n",
       "\n",
       "     MRE Veränderung 2010-2013 in %  ESBL Veränderung 2010-2013 in %  \\\n",
       "180                              43                               23   \n",
       "156                              16                              107   \n",
       "82                               32                               65   \n",
       "241                              84                                8   \n",
       "166                             -15                                8   \n",
       "\n",
       "     VRE Veränderung 2010-2013 in %  MRSA Veränderung 2010-2013 in %  \\\n",
       "180                             -43                               80   \n",
       "156                             404                               41   \n",
       "82                               87                               55   \n",
       "241                             550                               19   \n",
       "166                             -43                               -3   \n",
       "\n",
       "     MRSA Meldungen an Robert Koch-Institut 2013  \n",
       "180                                            8  \n",
       "156                                           10  \n",
       "82                                            20  \n",
       "241                                            5  \n",
       "166                                            9  \n",
       "\n",
       "[5 rows x 29 columns]"
      ]
     },
     "execution_count": 124,
     "metadata": {},
     "output_type": "execute_result"
    }
   ],
   "source": [
    "kernel_multi = pd.merge(kernel, ohno_landkreis, left_index=True, right_on=\"Kreisschlussel\")\n",
    "kernel_multi.head()"
   ]
=======
   "execution_count": 120,
   "metadata": {
    "collapsed": false
   },
   "outputs": [],
   "source": []
>>>>>>> upstream/master
  },
  {
   "cell_type": "markdown",
   "metadata": {},
   "source": [
    "###  Task 10: Plot number of hospitalized patients per inhabitant against relative number of old people (65+)"
   ]
  },
  {
   "cell_type": "code",
<<<<<<< HEAD
   "execution_count": 142,
=======
   "execution_count": 189,
>>>>>>> upstream/master
   "metadata": {
    "collapsed": false
   },
   "outputs": [
    {
     "data": {
      "text/plain": [
<<<<<<< HEAD
       "[<matplotlib.lines.Line2D at 0x7f260b834450>]"
      ]
     },
     "execution_count": 142,
=======
       "<matplotlib.collections.PathCollection at 0x7fd12ce2a710>"
      ]
     },
     "execution_count": 189,
>>>>>>> upstream/master
     "metadata": {},
     "output_type": "execute_result"
    },
    {
     "data": {
<<<<<<< HEAD
      "image/png": "iVBORw0KGgoAAAANSUhEUgAAAYQAAAEECAYAAAAoDUMLAAAABHNCSVQICAgIfAhkiAAAAAlwSFlz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\njxgEQRAEAYD/HwQmlr6kOnTlAAAAAElFTkSuQmCC\n",
      "text/plain": [
       "<matplotlib.figure.Figure at 0x7f260b6a1710>"
=======
      "image/png": "iVBORw0KGgoAAAANSUhEUgAAAYQAAAEECAYAAAAoDUMLAAAABHNCSVQICAgIfAhkiAAAAAlwSFlz\nAAALEgAACxIB0t1+/AAAIABJREFUeJztvX18VNW97//JTB7Ig5QJ0BsriA+FDs49eNreS6CNNtyf\nV9IWj0fpXsLPFq3YcigKQdoGqpSdxnMUJQ1QKFcEbPG2xpUSxCqC9WgkERiV1noaQaHWB1ReBGYm\nD5OHSWb2/WNmJTs7e2b2ZGYyO5Pv+/VaL9h7r7X2Wit71net71rr+81QFAUEQRAEYUl1AQiCIAhz\nQAKBIAiCAEACgSAIgghBAoEgCIIAQAKBIAiCCEECgSAIggAAZEaLwBgrA7AZgBXALs75Rs3zmwH8\nAkAgFH7COX/ZSFqCIAjCPEScITDGrAC2ASgDcA2AxYyxmZpoL3HOr+WcfxnAnQB2xpBW752lMdYh\nbaG2GIDaYgBqiwGoLQZIRFtEUxnNBnCGc/4B57wXQC2Am9UROOde1WUBgAtG04ah1EjBxwilqS6A\niShNdQFMRGmqC2AiSlNdABNRGm8G0VRGlwH4WHV9FkCxNhJj7F8BPATgUgA3xpKWIAiCMAfRZgiG\n7Fpwzp/hnM8EcBOAJxljGXGXjCAIghhRos0QPgEwVXU9FcGRvi6c80bGWCaAwlC8qGlDeq9SVR4b\nAGyIUq4xAeccoLYAQG2hhtpiAGqLATjnYIypbzVwzhtiySMjknG7UOf+LoD/D8CnAF4HsJhzflIV\n52oA73POFcbYVwDUcc6vNpI2DAoAmmEEkUOBoLZQI4PaQiCD2kIQd98ZUWXEOe8DcA+AwwDeAfA0\n5/wkY2wZY2xZKNpCAP/FGPsLgC0AFkVKG09hCYIgiOQRcYaQImiGMIAMGv0IZFBbCGRQWwhkUFsI\nkjtDIAiCIMYOJBAIgiAIACQQCIIgiBAkEAiCIAgAJBAIgiCIECQQCIIgCAAkEAiCIIgQJBAIgiAI\nACQQCIIgiBAkEAiCIAgAJBAIgiCIECQQCIIgCAAkEAiCIIgQJBAIgiAIACQQCIIgiBDRXGgSBEEA\nANxu96TmZusqAHA4/FtsNtuFVJeJSCxRBQJjrAzAZgBWALs45xs1z28H8FMEHTO0A1jOOX879Gwd\ngO8CCAD4LwDf55z3JLQGBEEkHbfbPenw4ayG1avzHABQU9N5y/z57lISCulFRJURY8wKYBuAMgDX\nAFjMGJupifY+gOs557MAVAHYGUp7BYAfAPgK5/yfEBQoixJaeoIgRoTmZuuq1avzHOfOWXDunAWr\nV+c5xGyBSB+izRBmAzjDOf8AABhjtQBuBtDvG5lzfkwV3wlgSuj/bQB6AeQxxvwA8gB8kphiEwRB\nEIkm2qLyZQA+Vl2fDd0Lx1IABwGAc+4CUA3gIwCfAvBwzl8aflEJgkgVDod/S01NZ3NRUQBFRQHU\n1HQ2Oxz+LakuF5FYos0QFKMZMcbmAbgLwNdD11cDKAdwBYBWAHWMsds557/TpCsFUCquOecAOc0W\nlILaQlAKagtBKUa4LWw2GyTJf/Daa7svAsCMGblOq7XgnpEsQxhKQd9FP4wxWXXZwDlviCV9NIHw\nCYCpquupCM4StIWYBeBxAGWcc3fo9v8AcJRzfjEUpx7A1wAMEgihAqsLvQH0BxbIoLYQyKC2EMhI\nQVtYrVbMnJk30q+Nhgz6LgQbOOdyPBlEEwhvApgeWiD+FMBtABarIzDGLgdQD+C7nPMzqkenAKxn\njOUC6AZwA4DX4yksQRAEkTwiriFwzvsA3APgMIB3ADzNOT/JGFvGGFsWivZzADYAOxhjf2GMvR5K\n+1cAexEUKm+H4u5MQh0IgiCIBJChKIaXCUYKBcEzDQRNh9XIoLYQyKC2EMigthDE3XeS6QqCIAgC\nAAkEgiAIIgQJBIIgCAIAGbcjCCIOyOBdekECgSCIYUEG7waTDsKRVEYEQejidrsnNTW1VTU1tVW5\n3e5J2udk8G4AIRwlqeABSSp44PDhrAa9NjM7JBAIIoFE60RHC+nSwY0U6SIcSSAQRIJIh05UCLTm\nZsv+aB0cGbxLP2gNgSCiYFQ3rB4lAsDq1XmOurqOVSUlWD+CxR026jWBRYui+7Gy2WwX5s93l9bV\ndYxqvXkiCAnHW1TrKaNSOJJAIIgIjKWFU7VA27s3B+vXd2HjxlwA4Ts4m812YbQIvGSSLsKRBAJB\nRCCWUb8ZRomJ2uniclnw2GM5qKtrbwIyGszQwZl9F086CEcSCASRIFI9Sox3NqMVaBs2dDc7HIFb\nzNDxRqhbqouWXiiKYragmKAMZgmyCcpglpCStnC5XJOeeqr9b0VFfqWoyK889VT731wu1yQztkVj\nY2tVUZFfARQFUJSiIr/S2Nhapa1PY2NrVWNja5VePaI9D9dGsaaJNUSoW0q+C5MGJd48aIZAEBFI\n9ag/kRiZQcSi9nC73ZNOn7as/fDDzCUrV+ZPVucJBNVtwOhuszGHCaRawqVcGgXZBGUwS6C2iNIW\nLpdrxlNPtXUPzGbaul0u1wzxXG+UffSoZ9NwRvdi5lRe3qno5ZnoWVWEmRp9FwNBiTcPOodAEGlC\nc7P1e5WVuTkLFviwYIEPlZW5Oc3N1u9FSuPxZCwZzrkJsdje0THU/L7fj+JEH9IKztR6S+vqOh6s\nq+t4cP783rTc6ZVqoqqMGGNlADYDsALYxTnfqHl+O4CfIuiYoR3Acs7526FnEwDsAuBA0HnDXZzz\n4wmtAUEQ/Xg8FuzaNQ4AUFQUGPRMu2i8dav3YmNj5uQFC3yor88e1rmJ+vpsrFvXjerq4Dtrajqb\ns7PhBFCSqDoJ0mEXj9mJOENgjFkBbANQBuAaAIsZYzM10d4HcD3nfBaAKgx2k7kFwEHO+UwAswCc\nTFTBCYIYTLSTw+pRdn19e3VWlqI88cQ4PPdcsFOfMCEQKXvdd2VnA7t3Z2PPno6W+vr26vnze0un\nTw88TCeYRyfRZgizAZzhnH8AAIyxWgA3Q9Wxc86PqeI7AUwJxf0cgOs453eE4vUBaE1YyQmCGISR\nBXAxym5qaqtavrxgkjhfUV09Dnv2dLQY7bijvStdFuLHGtEEwmUAPlZdnwVQHCH+UgAHQ/+/EkAL\nY+wJANcCOAFgFee8c5hlJQgiCvGoVSZMUPbG0nFHehepd0Yn0QSCYjQjxtg8AHcB+Loq768AuIdz\n/gZjbDOAtQB+rklXCqBUXHPOAXKaLSgFtYWgFNQWglLE0RZ+vz9v4kRryW9/29G5alVensdjwY4d\nXS2zZxcE4sk3RZRi9JU5aTDGZNVlA+e8IZb00QTCJwCmqq6nIjhL0BZiFoDHAZRxzt2h22cBnOWc\nvxG6/gOCAmEQoQKrC70B9AcWyKC2EMigthDIiKEt3G73jOZmy24AcDgCPz58OGu3amG5Zdq0wN7p\n0wMPW635o0KtozZhMXdu/utWq1VOcZHMwgbOuRxPBtG2nb4JYDpj7ArGWDaA2wA8q47AGLscQD2A\n73LOz4j7nPNzAD5mjM0I3boBQHM8hSWI0YJZ/CK43e4Zhw9nvi1Jl5RI0iUlf/pT5muVleP6t4Su\nXJk/2efL6BotOn6tifE//rH7ztFmYtzMRBQIoYXgewAcBvAOgKc55ycZY8sYY8tC0X4OwAZgB2Ps\nL4yx11VZ3Avgd4yxvyK4y+g/El4DgghDqjplM/lFaG627F69Oj9HCIBVq/KtZWW9qShKQmhutq6q\nrBznEGct1q3LmTwaHdGYFhOcrkv4abs0CrIJymCWEFNbpMoGUdCuj6cxmk2hkWoLvbK88EKr12S2\nmQwHp9OzqaamQxHlr6npUJxOz6ZUl8skQYk3D7JlRKQlqXBWI2YGTqfVAQCFhQHceqsPBQUKsrOV\n3GS9NxIOR2BpTY337dWr83MAoKbG21Nc7P9fdXUdC4LPR9eWUL8f2LgxF+LvunFjLurr21NcqvSB\nBAJBJAghhHw+QJa7+jsvAJgzp2/B9OnuhxPV+Rr1DWCz2d6bP989q66uXSwqL7XZbO+VlMCZiHKM\nNH5/RpeRe8QwMcE0J+HTnjQKsgnKYJYQU1ukQmWkNh53771Djb4lSm3U19f3SDLrlgwT2Ykqg/bv\nun9/x/nRpPJKclDizSPVFUhKpdIoyCYog1lCzG0xEh2X9n2is9KzApoogfDOO95X48k7UrtEE6Qj\nIWiNlEGUv6+v7xETfJtmCUq8eaS6AkmpVBoF2QRlMEsYFW0hOiun07OptrbtVDI6zngEQrTONpqT\nHSNOeOINMb5jVHwXIxSUePOgNQSCSCBqkw3Tp7sf1trzSYRf4Bkzcpw1NZ0Ttb6bjeQ9vMV2pdTt\ndk8aTYvPxDAxgVRLuJRLoyCboAxmCaO+LRKobpG1ah+jeUcbfWvzqanpUOz23v78XC7XJPXMp7a2\n7VSkOgzXJWcM7TTqv4sEBiXePFJdgaRUKo2CbIIymCWM+rZIoLplSFsYzdtIZ+tyuWYcOeL5sLy8\nUyks9A/Kz+VyTdq3r+1keXmnUl7eqezb13YyXGcdjwCMQZCM+u8igUGJNw9SGRHEGCKa2erQWYp6\np9N6eW1tDlyuwcYMmputq1asyLcLlVNtbcAeTuUUz1kQspaaGsiFJkGMENEc2IxU3sHOdvz6kpLx\n67XrAqIT37s3B2vWdIOc3IwtaIZAECOEEQc2glgXn2PJ2wgulwUPPTQOS5b0YOFCX5PDEbjFZrNd\ncDjcg9xwRhIUWpedJFTMDwkEgjAZwgSGqiO9Zf58d1Sn8olQs2g78eJif7MQBuIdRgVPooUUMQKY\nYCEk4QsjaRRkE5TBLGHUt0WidgIluy1G+kDfWP8uEhiUePOgGQJBjBCpMLhnBD31VKrLRKQGEggE\nkWK0HbLDgYTo3o2sQ7jd7kmvvJLZ2NiYaQeA8+czvjNvnvs6Uu2MTUggEMQIEWaR9cnDh7MaKivH\nOcrKetHejmVz5vhL5s/vjUv3rl2H2L7d+51LL2193u/P6FLnd/q0Ze1HH1nstbU5AIBp0wL206ct\na2fPxo9jeVe8p68JcxBVIDDGygBsBmAFsItzvlHz/HYAPwWQAaAdwHLO+duq51YEXXGe5ZzflMCy\nE8SoQm+RVXgAW7rUh+rqcaitzZm8dau36YYb+q4pKRk/bLWNWj1VWBjARx9Z7CtW5NuBwYvUPh+K\ntf4F6urai42+x+gCeCxCgwRM6oh4DiHUmW8DUAbgGgCLGWMzNdHeB3A953wWgCoAOzXPVyHoflNJ\nSIkJYhSjdwagrKwX1dXjoPZznEi3kLfe6ut3KnPunAWrV+c5RP5W61C/CHr3wqEWPNq8BbG4FE2U\n+1Gz+LQebUQ7mDYbwBnO+Qec814AtQBuVkfgnB/jnLeGLp0ApohnjLEpAL4FYBeCMwiCIFQ4HP4t\nN97Y26K9b7XG52FNfVCtoCD8WMxuDzy8ebP3XXEAbfNm77t2e+DheN6txYjQGE7ccJjJp/VoI5pA\nuAzAx6rrs6F74VgK4KDqugbATwAEhlU6gkhzbDbbhTlz/CVbt3ovik65oqILn31m+ba6E1OPeP1+\nf56RfEPrEA8uXuyrVnf66kVqm8124cYb+0rq6joerKvrePDGG/tKYlHRaE9Ib97sfTc7W8lN5cg8\nEUJlrBJtDcGwmocxNg/AXQC+HrpeAOA85/wvjLHSCOlKAfQ/55wDgGz0vWlOKagtBKVI07aw2WyY\nNcv77qJFPV/r6MhAVVUusrNhf/nl7n3jx/udZ850f725OeufV6zIywOAnTu7Or/1rXGwWq2d0fIt\nKYEfQMdXv+p/dtas7mIAmDEj12m1FtyjEw8A7tHLK9I7JMl/8Npruy8CStb772dMv/nmS9YAwI4d\nXctuusn/m7lz87FjR1fL8uW5k0P3W+bOzc+Bzt9z7tz8HKNxQ5Rqn02cmHm9NlLoXrg80gbGmKy6\nbOCcN8SSPkNRwvf5jLE5AGTOeVnoeh2AgM7C8iwA9QDKOOdnQvf+A8D3APQBGAdgPIB9nPMlUcqk\ngNRLAhlj4CM2iIw0boumprYqSSp4QCzuFhUFcOBAe/X771vLnE6ro7Y2B+pndXUdD4pFacAci696\ndair63iwpGT8+iQuKsvQfBc6C93N8+f3Rj3pnQbE3XdGmyG8CWA6Y+wKAJ8CuA3AYnUExtjlCAqD\n7wphAACc858B+FkozjcA/NiAMCCIuBitO1T0tqT6/cHDawsW+IbEt1qV3OGYt0gm2dlK7qJFPejo\nyEB9ffagZ7Ecdov3YByZzBg+EQUC57yPMXYPgMMIbjvdzTk/yRhbFnr+GICfA7AB2MEYA4Bezvls\nnexolxGRVIZrAyhZZQknmPSehduSCgD19dlYt64b1dXjAATVKFZrUFjonXoejlCMV5C63e5J//hH\n5gJxnmH9+i5cfnngVKqM2dFp62FiAvsbCbfHkUZBNkEZzBKitsVI+Ps1EiLZLIrFaYw6rt3eqxw8\n2Hr+6FHPpr6+vkfC1XU4TmkS4clNrzxHj3o2meG7GENBiTcP8odAEAkm0i6XWHbAqHcKPf5454Nz\n5vivmTv3cz+2Wq2d4fwfDGeHTbJ25fj9GV3x5kGMLGS6gkgb0tH+fjjVh1AxHTjQvtbnQ3Esh8mS\nQTq2/ZjEBNOchE970ijIJiiDWYKhtnC5XDOOHXMfO3LE8+Hx457tqTDfHI/KyKDpaTlCXjNSoTIS\n+Rw96tnU2OhpdDo9m0ao7Q19F2MkKPHmkeoKJKVSaRRkE5TBLCFqWwgH8DU1HYro3Gpr2065XK7i\nxkZPY2Ojp9Hlcs1IZLnCdeCROvZIaQx2zLKihF8zGY4/g0T4QEiUYEn0dzGGghJvHqQyItKG5mbr\nqsbGTLt6z74s534pI6PrtVWr8q0AUFPjfXv+fPcsm832Xrh8jO64iWVX0+A8sUVtuG7gmaW0snJc\n3P4ShrPDJhG7crQG9ZxOq2PKFP9+h8N9C237HCWYQKolXMqlUZBNUAazBFlRIo9kGxtbq8rLOxX1\nqFl7HRxFexrDvSeWUa7RnT779rWdrK1tOyWuOW87L2Yq2rg1NR1KYaE/2i4pOdayjkQQ7VFY6Fce\nfdSrjFC5ZBN8m2YJSrx5pLoCSalUGgXZBGUwS5CN6N+1KqODB1s7YxEI2k7ebu9VguqmYEevFkhH\nj3o26QkEbR56QungwdbzIi/tMxE/mspI1DkR7i4TqTLSF8JDBVuCyi4PM106BiXePEhlRIwaormg\ntNlsF+bNc193+rRlbV1de7HVCqfdHqirqfG+unp1fg4A1NR4exyOwFIj7yssDGDZsh5I0iUlAEo2\nb/ZKWVlQhF+B7du9pzZv9r5bXp7/pWDewZ01p05Z1kbL+8UXsyZPmKCsBZQhvgduu63n+MKFvj4j\nO4eGo+rRqsQAIBEH+sTOpylT/Ptra3NKopXBLIcICRUmkGoJl3JpFGQTlMEsQY42eg+X1uVyzTC6\nqKyeheiNdCsqvIPe/9prnmPaXTVOp2eTepby61+3K3V1bZ3i+tFHvf0Hzez2XkUdV6teCjNLGPZ3\noafOamz0HIs2oo9lNG9ElZXAQ4T0GxkISrx5pLoCSalUGgXZBGUwSxikMrLbe5WnnmrrToaeeqDz\n8zRqO62nn25TCguDenJ1R65+f2Nja5Xd3qvcfXeXcvfdXYrd3qucOOHefvBg6/ny8k7Fbu9VOG87\nb7f3KoCiFBYGhU9jo6cxnBoqEd9FsF6exvLyzkF1iKbiGe7p50gChARCUoISbx6prkBSKpVGQTZB\nGcwSZEWJ3Fkn2kyFy+WaxHnbee3Ivry8M2InGq4DVXeSTqex9YdECQSXyzVDLZAefdSrrFwZrIN2\nETi0Vbe/E0+0SRBxXkHMkOIU6DG3RRoHJd48aA2BGFUInXlTU1sVgIh66kS8a9q01r2LFvWs6ejI\nwEMPjUN2NrBwoa8JAMLpySNZ2xT6frfbPammprNM72RvrCd+o22Tdbvdk156KbNp5cr8yQCwZk03\ndu/Oxn33dYNzwOWy4KGHxmHJkh5cc40fV14ZeG44xu0MGvN78vDhrHpRv61bvS3TpgX2Tp8eeJjW\nD0yACaRawqVcGgXZBGUwSxjUFiO15TLSaD/e92vVKuLa6fRsCp74Dauvl6OVTx0/3E6ml1/2eJ94\nok3RzoD01g+i7e4yejL74MHW8wme2dFvZCAo8eaR6gokpVJpFGQTlMEsYUhbJGrLZbQwnNPIw3mH\nUZMWfX19j4j7RtQ5enFeeKHVa7f3Kldf3as89VSbIlRJ4QRbtPMf4cpgZAsuCYSEBSXePEhlRKSM\neG3wR9pymUhHOZEMzCXK5n6kLbXaLZo7dnS1fOMbvkeM1klreG7rVm/L5z8fqPN4LD86d86CFSvy\nsWRJDx5/3NvkcAQMnyoeaGOl1Gg9Dx3Kwtat3hahviIjeCbDiNSQJKlMkqRTkiSdliSpQuf57ZIk\n/VWSpLclSXpNkqRZoftTJUl6RZKkZkmS/iZJ0sqRkHJpFGQTlCEpQTsi5rztfBSDaIbbIkEG5EY0\nxDLKNrKArdcmqjrPiGVRN5oRvUg7vsKlTWD7p+1vZBhBiTePqDMExpgVwDYANwD4BMAbjLFnOecn\nVdHeB3A957yVMVYGYCeAOQB6AazmnL/FGCsAcIIx9idNWmIMoh0Rr1yZP3nRop41xcX+sngPKEUb\nbb/ySmZjY2OmHQDOn8/4zrx57uvE+2KxY5RIV53DNR9t1Ay2mM1oZxuqRd2dwfq0DamPfnu271b7\nUKiszM2pq2tvAjIaRHrRRtOm+Q8dONB+yOfL6BLPyJuZOTGiMpoN4Azn/AMAYIzVArgZQH+nzjk/\nporvBDAldP8cgHOh/3cwxk4C+II6LUEIOjoyhm3QzSinT1vWfvSRxS5cPU6bFrCfPm1ZO3s2fqwV\nFhcu4N++8IXW32p3wLjd7hnHj1ubXnwxa/KhQ1nYsKE76inbaAIk0s4krbDYsaOrRSss3n/fKnYs\nldTUdIYVqqJz9/mAW2/14ejRzMlXXtmTq975M5xTwx6PBUBGgzDalw6O7kerf+54MCIQLgPwser6\nLIAhx+1VLAVwUHuTMXYFgC8DqXXkQZgDbSe3Zk13/7bO4SJ+wNnZSq6eSQkA8PlQvHFjbr811I0b\nc1FX114M6AqLSa+/nrFm1qxAfwert4Vz8+Zsx5Qp/v1AW0O4bZ9GzDREc4YjhMXcufk5bW0+hLbe\nIjvbkqsdwdfXt6/1+9u6RFur3zVhQgBLl/r6fTR//et9d1ZWjssLZxJEf/YSWFpT01kfbkajFTxO\np9Vx1VX+tbNn48cx/llTwpg1rRFNpyRJ0kJJkh5XXX9XkqRfhYk7T5KkdyRJsmnuF0iS9KYkSf86\nEnqwNAqyCcqQtBDLASXhRzic3lnPJIPe1k29k8DC96/eYbdt29qVoiK/4nQG82ps9DSKE8bCfMWe\nPe0RLXsm+mCXz+f7lfrAXF1dm1ddJvX2Tj2dvt7Wz/LyzphNV0TbeSQOwKnXiZKwZpOU34hZ/HPH\nGJR48zAyQ/gEwFTV9VQEZwmDYIzNAvA4gDLOuVt1PwvAPgD/l3P+jE66UgCl4ppzDgCyEWE2BihF\nGreFzWbD3Lno8Pv9v6mv7ykGgBkzcp1Wa8E96nh+vz/v4MHuFT/8YUEeAOzY0bXsppv8v7FarZ0i\nzrlz2TdWVuY4FizwAQDuvz/XXl/vOz9zZt4rAPrzmz27ILBjR+fF5cvzJgbz6rw4e3ZBAIA8cWKm\nVVvGd9+1YsKEAM6etf5oxYq8XAD42c+6IMsWuFwWlJX14mc/y4N6dP3yy937bDa8IvKYODHzem2+\noXtyrG3m9/vzGhq6lv3853lZoq7r1+fmVVd3BpYuLbAAwPbtnZ333Zc3WV2mhoauA+fOdfYBObji\nCuUDAJPV+X7zm72dtbU5eSL95MnW/+X3+3NEG9tsNpSUwB+Kfg8AjB8/Pm/ixODfbfz4/BwA/X+P\nuXPzc7Zs8XbecUdBnnqdSNs2CaAUSfiNJPJvNpIwxmTVZQPnvCGmDKJJDEmSMiVJ+rskSVdIkpQt\nSdJbkiTN1MS5XJKkM5IkzdHcz5Akaa8kSTUjKeXSKMgmKEPKQ7TRmsvlmvTii54WtW2hmpoOxekM\njvy1IdK5ArVhua1bOxS7vVc5dKi1Rfv+igpv/35+Yf7h7ru7lPLyzkHvdblck5xOzyb1iD6WQ2za\nsh496tm0bp1X0dZVljv6Df1pzWII20nq2ZOOAb1E7DwaFNegXSZT/kbM5mvCYFDizSPqDIFz3scY\nuwfAYQBWALs55ycZY8tCzx8D8HMANgA7GGMA0Ms5nw3g6wC+C+BtxthfQlmu45wfiklqEWMGvYU8\nq1XJjZSmudm66j//M3PSb387btDaQH19u278SLr6G290l9TVdayyWpVcqxX48pf9XYByA4BJ6rjf\n/nbvRwsW9O11OPxPbt/uPfDRRxb7xo3BYs6Z07dg+nT3w8CAWekJEwLYs6ejZcIEZa/dHlykNmJy\nQq3H3rzZKxUWBiYGAsH6qet6xx3dyM6G0+cD/P6gaW5hpvuXv+xsueuugv4Zw4oV+fYDB9qr6+o6\n6tTv9vvbutTxIi3wRzNFDgB2e+DhcOY5YiEVi7uRFvnTGhNItYRLuTQKsgnKkJQQTiett2c9jJ/k\nQcbXohibM2z+Wq98J064t0eafRh1lBPr+QG99BUVXuWpp9qG1PXQodYW9ai/trbtlFj3MDpSj0Vv\nbjRuvGc+DLRT2v5GhhGUePNIdQWSUqk0CrIJypDwEO5Hrt/JBBd6w6lkRH5aocF52wWXyzUjeIBK\nfWiqrTsWnwiic3322db3hJXTffvaTqo7pePHPdv1Fqr16iPuG7HWGs4G0dVX9yq7drWr63r+jTfc\nQ8oQEoCG7S7FoiYZTrsOJxgQPGn5GxlmUOLNg0xXECNGJGfy9fXtut7DBC6XBbt2jUNRUQALF/Z2\nqZ8JT2l//3tG5T/9U9+df/pTVl51dc7EggKlqaBA8a1enZ8zsP0xM+eqq/y/mz0b/zPcu7TqkPLy\n/C/94Q/fm9bXAAAgAElEQVTtby5e7KtWH64SdfrsMyurqOiCUBn97GddsFoBu93/5J49HcvEeQVZ\n7nr3s88s316xIt++aFFP1LayWi25e/Z0tNx3X95kj8eCzZu972ZlQamtzbFv2jRukApKqFTU7NuX\nXXL2rL9h/vze0vnze6OqP2JRkzQ3W79XWZmbIxa2Kytzc6ZM6fweHTgb5ZhAqiVcyqVRkE1QhoQE\n7ehT60xez3uY1kRCtFGrnpN3tf1/1YjaH2k0G25kHlJVDTK7oH6nmMGsW+dVnE7PJq1pjhMnBkbx\nkRzs6Jn1OHHCvf3o0aAV1FOnOl7TWxBXp3n0Ua9SWOhP2nbJ4WzLHI76iFRGMQUl3jxSXYGkVCqN\ngmyCMiQkRHImH857mLqDfOcd76vROhLxjrvv7lLUHe/TTw/VuTc2ehrD5aN1jLN1a4dy772dIZPR\n7gtq1ZGeo5uDB1vP6+vtB6uJwrkA1XMVqi7P/v0duvv5XRqPaMncPx/rLpx4du1EESRp8xtJQFDi\nzYNURkTScbvdkwBL6aJFPdi7NwcuV1AVs3Chr2nhwt6G7Gwl1+OxrAGCqqHa2hwsXuxzDtjWwZbQ\neQJZnad254k4Uet0Wh0instlwZ//POR4gW4ZB/LDlmnTAnt/8YvONf/4hwV9fUBdXfD08uzZfRMP\nHcqCx2PBtGkB++WX+1+uqelsVtsGmjPHX9LcbP2e9h1WK5w1NZ02EXfDhu5mrXVR0VbqdGVlvVi5\nMr9/98/y5bmT6+r8Q3b/BNvAfcvZs/6G2lo4iooCujt74tm1M5DWivnze2+tq+v4npF8jOxKCgfZ\nPhpBTCDVEi7l0ijIJihDXEFPVaS1u6+N8+yzre+98ELrBbWNfrUPgGgOWbT7/uvrW0/X1oZfAI20\nu0lvdnH33V1DFm4N7piapI2rtUL61FPtfysu7lGefHLAcc3zz7f2xqKe0eRZrN5hZfREd7S/pd3e\n2z8TMjLST+LJ31H/G0lgUOLNI9UVSEql0ijIJihDXCGc6kSvM3Q6PZuOHXMfq6tr61Trwu32XuWd\nd7yvijyNdC46HW/YrafhdgO5XK5Jr73mORZJIAizF3ohms5cb63Abu9V7r67SxH/rlzZqchyh6Ju\nk2eeab8otpRGUdMM2Qmk3o0Ubh0jXFvprdEYVf8k8aDXqP+NJDAo8eaR6gokpVJpFGQTlGHYIZzd\nHNGRqUebL7zQeuHQodaWdeu8Q0bk5eWdMQsEbTkidcx6C8MvvuhpEUJLvb//ySfbFHGSV3seYrjv\n1dZVrIGoO167vVd5+uk2paLCq+zb19pn5DSx3tbWI0c8H4p76rUW8fz4cc/2cNtJhXDXS2dktB/v\nmYQweYzq30iCgxJvHqmuQFIqlUZBNkEZIoZIP/JIBs7CjTZ37WpX9Ay1GVUZ6ZUvjJpjhjh01tTk\neaOhwe0ThuzEQvKJE+7tjY2tVceOuY+Jjvrqq3uHLHpHe2+4MuoJBPVuK73DdqIzHqy2Cnd4bKhA\neO01zzFRLr381QJDO6MTZz2S4AbT8LembVP1d0FBUeLNI9UVSEql0ijIJihD2BCt09MbeYtDZXo7\ngkTnIk7iqgTIDG1bGB1thldztHX/7//d3a+r1+vkDh5s7Qz3LFoHaFStFc6bWFAlpK+uUguEcDuV\nQvnrHh4Tu5HWrfMqv/zloMN8548dcw95p8jfbu9VVq7sVB5/vE154ok2JdzfPVlBr03VM0cKihJv\nHqmuQFIqlUZBNkEZwgYjRuciLf4+9VT73/Q624oKr96CpSzShRME4pnTGdyvrzb0pid4/vCH1v57\nes/F9s177+1Unn56QFVkZCE2EaYdtOoqsSDPeZt/3TqvUlzcE9Z1pSoP3fUA0f52e3DGc/Bg63lX\nhJPdTqdnk3q94de/bldee81zLB71TyK+NxIIg4ISbx6prkBSKpVGQTZBGcKGcIux6jjhOjyXK2i5\n87XXPMf27w9aExWj1DC+lWUjAkZ7uK22tu3Uvn1tJ/UEj1ogaBdY6+raOouLewbNKp55ptV39Kj7\njRdeaL0QTYevt3OqsdFzTL3bx8gM58QJ9/adO9uVxx5rV9au9fYffAuVcYgfhFhUNxH+NkOESCQ/\nEiMVSGUUNSjx5pHqCiSlUmkUZBOUYVDQ7gxSj2B//et25dCh1pZoWxG1P2y1IbYI6eRIo+5IKqij\nRz2bhpqgbuu+9dYu5fe/H1B9/OEPrYHXX/fsEWsL6i2nWoGhPgk8YJ9oqNATeWlH3c8+2/qeuA43\n43BpDsiJHVfbtrUrK1d2KhUVXmXnznZDh9DiXdBN4rbReL4/WlQeHJR480h1BZJSqTQKsgnK0B/0\nRmgnTri3l5d3KitXdg7SRxsxMRFj5zJsgSDiaIVZY6Onsbi4R9m2rV3Ztq1dKS7uGRRX7QdBL19x\nL5J3ssbG1qojRzwfakfy+/e39i9ShzNhoVffP/6xVSku7hniD0F7tiPa3y1WoZDEbaNp9RtJcVDi\nzSPVFUhKpdIoyCYoQ3/Q75CDO1li6IjDWDWNLhDC6bfFO/RURvEIJpfLNUOM0PVUTuXlnYPMboTb\nVis6bfVIXuSnt6tKK+S06yv6bR1+11OiRveJ2Daa7r+RFAcl3jzIdAURF8Icg9pchBp9Z+W9tw51\n2h40rxDJrEIkC5vCUueUKYFV2dlKrnCOY7UGzSY4HO5BFkqbm62rrFYlV+1IRmvmwWazvXfDDe6S\nurr23ZmZSubcuX2TVq3K/yIAbN3qvTh1qv80gExo3FGGyjrIVMPGjblYsqQHtbU5qKjoQlVVLlwu\nCx54IA+LFvXg1KmhP0Wtc/utW70tP/957uSSkj6dls5oSLYDFzIhMQaIJjEkSSqTJOmUJEmnJUmq\n0Hl+uyRJf5Uk6W1Jkl6TJGmW0bTJknJpFGQTlKE/hFMbuHTMRUT2cTAwUzBi7kG0hdPp2STOA0Sz\n5BmprEbXL1wu14yDB1vPV1R4lXXrvMqLL3pajh/3bD961LNp3762kyKP3/9+YAeSmLXo1fuVVzy+\n/ftbh8wIXnih9UK4GY1WzRXrLMhAu472YKrfSIqDEm8eGYqihBUWjDErgHcB3ADgEwBvAFjMOT+p\nijMXwDuc81bGWBkAmXM+x0jacDIKQEYcMi6dkGEyp96RRvB6z5qa2qokqeABMVIuKgqgrq7jwZKS\n8UNGmpHi9vb2/uo//7Nr8eHDWRMPHcrCsmU9uPzywKl58/qu0xsZh8sLAPTuOxz+LeqyA8BLL2W+\ns3Jl/mQAqKjowsGDmVi7trs3Kwvnf/jD/MtOncpEYWEAS5b0oKSkF0eOZOHFF7Pw+OOdDzoc/i3q\nmZEY3Z8/b8G6dd2orh4HIDgrmT+/91ZhDC+akTi32z3p3Lmcfe3tvW/4/YDfP9g/w3D+brHETYU7\nyyjIMNlvJIXE3XdGUxnNBnCGc/4BADDGagHcDKC/U+ecH1PFdwKYYjQtMfqIpDYIWdvc0txsXSXU\nNA4Hnqup8d6/enV+BgDU1HgVh8P/nF56Pd/JGRnK991u93OvvJJ114oVBXkAsGZNNx57LAd79nif\nN+KbuLAwgKBDGqXUaoVT771atdaVV/pfVVsY3bgxFzt3duD22y/JAnBZRUUXtm0D/u3ffKiuHofa\n2hysWdM9qC3UzmaERVeXy4KHHhqHJUt6sHChr0lYOw3Xpnp1s9nwCmLsBI2qe/RVfO5S0c7hnsVS\nFsK8WKI8vwzAx6rrs6F74VgK4OAw0xKjHNFhSFLBA5JU8MBLL2W+c/JkxrbKytyMBQt8WLDAh8rK\n3IzmZssmvfRWa3AkXlQUQFFRABUVXXj++azLjh2zNq1YkZd37pwF585ZUF09DmVlvfD7M7q07zx8\nOKvB7XZPCunfm+32Pqxf34Xa2hxI0iUln31m+fbmzd53xTtqajqbrdagOeZz5yzw+YC33rI4vF78\nYMKEwKDyvfxyFkQZNm7MRUVFcKSvLtf27d4uh8P/XFNTW1VQKPq3lJSMXz99euDhmprO5qKiALKz\ngeJi/xDT19HaU9RNG6epqa2qqamtSvssXJ6R4qvXPs6ds2D16jyHEEiRnhHpQbQZQnh9kgbG2DwA\ndwH4eqxpifRAu5C6cmX+5Keeap/g8QTdXwJBFU04fL6Mrscey4FYNH7ssRyUlPThT3/KGvKd3nhj\nb4vD4d9y+rRlrdNpdSxY4EN9fbbKzv749cFFZv9+SbqkRJRpxYp8+4ED7dV1dR11QHDUffq0Ze2i\nRT0IBIArrgjgkUdy8dvfjst65BEv/uM/cuHxWFBd7UVV1eAJjN3ubwXwOfW9P/4xO/f8+b5XKytz\nczwey6BR9Pz57tIDB9rX9vXh64EAcPq0Ze306e6HtYvdolwRfAj4RfxYRuw0wieiEU0gfAJgqup6\nKoIj/UEwxmYBeBxAGefcHWPaUgCl4ppzDpBOUFCKUdQWEydmXq+99+qrmVmbN3sD5eX5FgDYvNnr\nLy7Oe8vv9z/y3ns9xQAwY0aO02q1ds6dm5/z0EPdLcuX504Ggqqh//N/svGd7/jwm990KOXleRke\njwXbtnl7r7rK8kFBQe6Gs2d77qqtDTqvWbeuG7t3Z4tyyDabDRMndg6RQBkZltvmzs17ymq1dvr9\n/p9++mnXnbW1Objjjm488kguRAf805/m44EHOvHxxxb89//uPyfLXZ9X12P27HF1O3Z03awu70MP\njUNtbU7OggU+7No1DqtX5zlefrl7n82GV8aPH5/36adddy5fnjcRACoquua0tCh3lJX5nwi2Vfad\nIq8dO7qWfelLOKMte05OxpJAIHDWYrHg3LmceatXD/ZNLd6l9/cxEn/u3PycHTu6WlTlaJk7Nz8H\ngCyerVuXM7msrBff/GZvZ3Fx7gSk9hstTfH7TQVjTFZdNnDOG2LKINKKsyRJmZIk/V2SpCskScqW\nJOktSZJmauJcLknSGUmS5sSaNlkr5WkU5GTlnYw95eFO1gathoZ30qI9zHX8uGf788+39moPYHHe\nduHFFz0tYkeP3hmAkE2eQbt09OwBCdPVauN3wqiedt+/aodS8ZEjng+PHPF86HK5igfacajbSq3P\nhGBbD7U+GrScGvw7aJ9p/TKLsgsXmrGeL0iQfaUZervJ0vE3MgqDEm8eUSNIkvRNSZLeDXX660L3\nlkmStCz0/12SJF2UJOkvofB6pLQjUak0CnIy8k3mNkSxVVPt7Uzd2R896tmkZ2JZOJBvbPQ0njjh\n3v766549R454PHodaKRrPfs6Tqdn0+7dbYqer2H1CWetqe49e9qVZ55p9blcrmIjdpTUB+bUPhPE\nFtVwh9vCCYSB7bn6fpJj/Tsm4u9uFhMWyf6NjNKgxJtHqiuQlEqlUZCTkW+yf9ThzhiIkbpex6je\niy+c0ITrQIVtofLyTuWllzzeaIbmnE7PJj1XmOpOVbxLbap75cqgUHvpJY/3tdc8xyIZkhtqFiP4\nf2FtVZR569bBJif27Ws7qXc+Qm0Ku7HR0xju3bHO9NLFplGyfyOjNCjx5pHqCiSlUmkU5GTka8Rs\ndaROYzidivqdWkNxnLdd0HZ44vCZxnJp969/HTT1oEkfzkIqFCVoqVPHUc8FtbAKHazrF0qPPuod\nYmdIa37CSEeobWu7vTdkNtrTqC2z3iE0vVmHUBml4ps04SG3pPxGRmlQ4s0j1RVISqXSKMjJyDc2\n9cfQk7OxdghC7aHtGHfubFcaGz3HXnzR06IVUEIgrFvnVY4c8Xz4xhttH9vtvUphoV8Rns1i1Z3r\nOerRlvP4cc/2F15o9UWaoei1WSSfBsPpQMPZjWpsbK1Ktclnk9k0SspvZJQGJd48Ul2BpFQqjYKc\nrLzD/agbG4Oese6+u6tfr67ubGNVGQhVkd3eq6sucTqDo3e1pdQnn2wbYtFz3772ftv/ap/DkTp4\ndRnCmbEI5w/g4MHW8zt36gmewd7JjHT4rsH+BYqNdKaR2rmvr++RSOa2xX2Tddyj7jcyCoMSbx6p\nrkBSKpVGQR7pd2o9Y9XUdAzqbGMVCGrHKoWFwV07R454zgp1iXr0fu+9ncrOne3K66+73tBzH/nS\nS54L5eVBPwAHDni6tY5woi2oajvLaDOhcPaZ1PkaUb+FU/0MXicY2rmH8Wg2af/+jiFl0rPRpLa3\nZALVTtr8RkwclHjzSHUFklKpNArySL8zmmesWFUgelstGxs9jdHy03a0xcU9ysGDrX6xe+mFF1ov\nxrO4maAtmENUYdp89N6j9occSeDobfHU+/uE26Wk3YGV4sXftPmNmDgo8eZB5q+JQfj9GV2R7mlt\n9EQzcJadDWdFRVfJxo3BU74VFV3Izh6wJ6SXXzCdkvurX3m77r03P3fChADKy3tw110FFiB4AKyh\nIbNQ+y49W0ixoZS63e5J6vqEswEkTv1WVo5zVFR0QdRPa0I7EmVlvVDbS1KdRF4PAKdOWX449Hm7\nO3yOBBEnJpBqCZdyaRTkkX5n5O2PseuiXS7XJOHTuLy8s3+bpZH3/+Y3wbMDeovI69Z5FfWuIO0W\nzmjl1dZT63UsWh7aXVNiC6xL5cg+9B7NuYwBlZHwtBZuO6nec6fTsymMymjQbIJURmMyKPHmQTME\nYhA6I/YnDx/Oqhf2b7Zv937n0ktbnzdqdtlms12YN8993ec/r0ScUQzY8bGUVlYGzSv8+c+ZuPLK\nAM6csQ7J97rr+lr+238L1C1a1POjjo4MVFXlIjsb9gMH2te+/761LJq9noF6tu/fty+7RDisWb06\nz1Ff3772ww+H5gEE7TUBwRmMyMvlsiBkPiPvkkt8P/T52ro0bTcZCJrAvuGGvpumTOlcIJ7X1HTW\n6zkKam62rrrvvrzJa9YMmMreutXbMn164OGvfnVcYNKkjh7RngBw+HBWfWXluMmLFvXgxht7W+bM\n8f8LAJfRmRxBAKAZgsmDnOoyRDo/kKhRp95ovbAwuND861+3K+vWeZU9e9oHnTtwhXFCE02nH6l+\nkfJQm5EIrWFcOHx44FDco496leLinkFrAuHca2rrHm63V4SdVHL0OqTleoFekFP8fjMFJd48aIZA\nGObWW33YuHHA+JtW5x0LasueVqslN5y7yb6+DHR0ZOD0aQv27Ws/HghkvCRGuw6He4vWFWfI30GJ\nkfc6HP4tDgeG5BFa4xiUh8+H4tWr8xw+H7B0qQ/f/37BRADYssXrf+stq3X37mz88pedLXfdVTBZ\nbe01nHtMQbg1CrX7zOeey0ZNTWfz9OmBh422b3a2ktvU1FYl8qLZAWEIE0i1hEu5NApyqsugHr3r\nHdQyOuINl2d4Xbrn2MGDreejnc6NZTup0fMIevGOH/dsFzuEwp1N0NsBJOoWbmvrME+Ey5Hac9++\ntpNqg35pvH5git+IiYISbx4RXWimCAXkQlMgwwSmfcWoOjtbyf3HPywLysvzvwT0u38sVdvzV9vb\n37zZ++6VVwae8/kG1huCeVn279uXXbJ3bw5cLgvs9j784hddLcJd5fbt3lOXXhp4Hgg6zfH5Mrrm\nzs3PsVqtP42lvMDg0bG+W832Jj1HNZo8nnzllcwDH31ksX/4YXC9QM8F5z/+kVH5/vvWO++9Nz9P\n1T667jF1fBMMassoyNB8F4NnXErurbdessaI29I0QIYJfiMmIf6+0wRSLeFSLo2CbIIyDAqRRrXh\n9sKrdyupR7KPPupVCgv9/Tp6YQzu6afbTuscOJONliNcCFe+cCPogXcE1xQKC/3KypWdg9YzRL32\n7Ws7KXYqlZd3Ki+80HpBu+MoWlli0PtH/C7G2JpCxLYYY0GJN49UVyAplUqjIJugDFAUYx1wpENY\n4RZrtR1yhINxsrosw7EPpE2nFkh6qq9wqrKgOY8BExaNja1VRtRp0doqUQLBhAbokhkitsUYC0q8\neUTzqUwQhnz7Av0Loc1qn8j19dm6eQrH97fe6vto/vzeW4U6qa8Pkjau349i9bW+b1/LfrfbPSOa\nf+Fp0/yHOG//6PvfD3o3c7n0fwLqd+zdmzPI1/OGDd3NDkfglpKS8euHu1irbatYDrRFI7iltre0\nrq7jwbq6jgdjUEURYx0TSLWES7k0CrIJyhDTaFaMmI8e9WzSORg1Q9jn0dm+qvtM2FLy+Xy/Egbi\nTpxwb9eWJ+jZrK1bvbAqPJWJhWL1Qmtt7RCbQhHVX2JW4HQKRz6DDdwJlZGOqmtQu2jTDfPAnym+\nC5MEaouBoMSbR9RFZcZYGYDNAKwAdnHON2qe2wE8AeDLAO7nnFernq0D8F0AAQD/BeD7nPOeaDIK\ntKgskGGCBTPtYqzd3ofHH/c2ARkNkbY06i3uikVlteN7sbgr7hUWBrBkSQ+uucaPiROVU/Pm9d35\n4ouZr5WX51sBoKbG25Ofr3z0wx8WTAeCpiw+/jgDnAcXewsLA1i/frA5iS9+se/Vm24a/yOfL7h9\ntqBAwW239XxmsWT8fvr0wMN6i8o6i763qg/pqReC3W73pNOnLWt9PhRbrXDa7QN5xrmArIcME3wX\nJkEGtYUg7r4zosqIMWYFsA1AGYBrACxmjM3URLsI4F4AmzRprwDwAwBf4Zz/E4ICZVE8hSVSg1q9\nYbf3YcOGrh5JuqQkkvoIEHvsx683olpRFFwu/i9O/s6c6W+aN6/vuuZmy6by8nzrgIooP2fCBCVv\n//6244sW9eChh8ahs3Pgd6A+LyFUSl1dGbdPmBDAunXdeO65bNTW5uD9962Xnj1r+Xa4smvVLs3N\n1u8NVVUFBZ7NZrswe/bnflxS8rnr5s793I/V9dVXcQXTEYSZiLaGMBvAGc75B5zzXgC1AG5WR+Cc\nt3DO3wTQq0nbFrqXxxjLBJAH4JPEFJsYSdSd4+OPe5tWr87PGU7nJkbKP/hBfolaJ19R0YWf/CT3\n8poab89gnfrQ7aCCU6esl334odV23XV9p7KzgaamTIj0BQVDZ71nzlg+V1nZherqcf2CYs2afLz+\nutXe3GzZr7fuYESgxW9QjyDMQzSBcBmAj1XXZ0P3osI5dwGoBvARgE8BeDjnLw2nkETqEZ0jkNEw\n3DzESPnUqUxUVeVi0aIe/OIXnaiqyoXTmY3Kytycurr2Ju1CqMMRWLp5s9cvhMUjj3ixceM4lJfn\nf+nSSwPPBwVV54Pz5/fNqqvreHDxYl/15s3ed0X8NWu68e//novc3MCQMs2Z0wcjs51gOfxb1PlW\nVHThs88s346URqRL1gIyQSSSaKYrhn1qjTF2NYByAFcAaAVQxxi7nXP+O028UgCl4ppzDpBOUFAK\nk7XF3Ln5OTt2dLUsX54bOkTW2VlcnDsBBso5cWLm9eL/Qi20aFFP/04fj8eCyZMzLYFAxvXnzmVe\nP36832m1WjttNhsWLuw7MXVqx5eamy2fq6zMxd//nomiogAmTMj6nzNn5r0Syvb/LymBH0DHV7/q\nf/aqq7y3/f73mZeL3UStrRlQm6quqOhCa2vGIFMcL7/cvc9mwyvQwWaz4Z//2Xtx0aIeqA3qRUoj\n0kmS/+C113ZfBIAZM3KdVmvBPVEbOzylMNl3kUJKQW3RD2NMVl02cM4bYkkfTSB8AmCq6noqgrME\nI/wPAEc55xcBgDFWD+BrAAYJhFCBG1S3NoD+wAIZJmsLq9WKb3zDt2vPHn/Tiy9mTb7//nF5Pl/3\nvPnzO6IukhYV9WyrqQkMOsmclQWltjZgB4InlN96CxNVJ6EniplCZmYmZs70f/ujjywNXq/FIUba\nRUW9C4G8Ie+1Wq344hf7HikuzmiorYWjqCiAL3xB6fz3f8/JW7DABwB47LEc3Hdf96B0Fy/2HUGo\nzfUWxVta/Nba2tyvqRfE1WkitdvMmXlR29cgcrT3jSFkUFsINnDO5XgyiCYQ3gQwPbRA/CmA2wAs\nDhNXu7p9CsB6xlgugG4ANwB4ffhFJcxCc7P1e2ojbkaN3IVzhiOurVYl96678teIDruycpxjypRA\nf76xOudRx8/OVnLPn8ct99/fddVPfpKPCRMCqK7u9GdnK612e1+hx2MRqpwnm5raqoJmOjLVZjpu\nmT/fXapnDI/UP0S6EFEgcM77GGP3ADiM4C6h3Zzzk4yxZaHnjzHGigC8AWA8gABjbBWAazjnf2WM\n7UVQqAQA/BnAziTWhRgF6Fn3FNevv966admyHgz2rjZ40TacddBo72tqaqv6wQ8KrsrPD6Cqyou8\nPGDp0gIrgMKtW70t06YF9k6fHtgptpUuWtQzyGaR8JPg92d0TZvmP3TgQPshtY2mOJuFIMyBCQ5T\nJPxwRRoF2QRlGBKSZRohij/nuNpCfdBM32LpYL/EenEiWS6l7yJlgdpiICjx5kGmK4iYSZZphGj+\nnONBvdNHb1sqoJSqZyP19dmDzFVs3eptue++vMl0loBIZ8hBDjEsYlXdGEHtFAZIrH5eu54wZ05f\n//pARUUXfvCD/BJZ7pq8fbv31IoV+XYAyMlRcMcd3fjGN/paJk8O1Hk8lh+Fyz+cyW2CGFWYYJqT\n8GlPGgXZBGUY0WDUKUxi3uNpLC/vVAoL/YNUVHr31S40jTreoe9iRAK1xUBQ4s2DZghEwolltKwX\nN9zMI5Gj8GDatoba2pwStcXTkIpqyH2fL6MrpCYb8n61aQogPteiBJFKSCAQCUXHkNst8+e7ddcY\nYonr9/vzjMY1SiQVlfr+9u3eU1arktvcbF1F6iAirTHBNCfh0540CrIJyhBTiMVUtl5cYVpaqzJ6\n5x3vq8nwAhZORSXuO52eTdH8E5PKKKWB2mIgKPHmQTMEwlR4PBlL7rqrYDKQmFlANMKpqNTnF8rL\n878USR0U64E5gjArtO2USCixGHLTxlVv7fT5AKfTKjyhTZoxI8dpZgNxsZj6JgizEtVBTgogBzkD\nyBiFdlqGu6icna3k3nzzJWt8PmDdum5UV48DENTtS1Luwba2tkdGemtnEpzbxI3f73/k2DFvD0Cz\nEc+esDYAAAqHSURBVIzS30iSiLvvJIFgbmSMoY9ddL5Op9WhNhtRVBTAyy93H5k5M+8bqSqXWc4Y\nuN3uSa++mv2OsDZrBgGVYmSMod9IFJLrMY0gRhJxAnrhQl9TqsuixkzqoOZm66rly3PpxDSRFEgg\nEENwu92TmpraqvS8iCUbm812weEI3KJdL5gxI8c5kuUgiLEICQRiEEJtI0kFDxjxIpYM9GwlWa3W\nzpEsg1lxOPxbduzoajHr4joxuqFtp8QgzHLqVm87qJl0+anCZrNduOkm/28mTeqgRWUi4ZBASBDU\nWSWXZJxUHq1YrdbOkpLxcqrLQaQfpDJKAGZQsyQKszqEf++9nmIxc6HFVIJIDlFnCIyxMgCbEfSY\ntotzvlHz3A7gCQBfBnA/57xa9WwCgF0AHAhuibqLc348ccU3B2ZRsyQCOnVLEGOXiDMExpgVwDYA\nZQCuAbCYMTZTE+0igHsBbNLJYguAg5zzmQBmATgZd4mJpGOmbZYCs59UJoh0INoMYTaAM5zzDwCA\nMVYL4GaoOnbOeQuAFsbYt9UJGWOfA3Ad5/yOULw+AK2JK7p5SKZjFyKI1WrtDGd+miCIxBBNIFwG\n4GPV9VkAxQbzvhJBQfEEgGsBnACwinOedtsHR0LNQovWyfHSRhDEANEEQjx2LTIBfAXAPZzzNxhj\nmwGsBfBzdSTGWCmAUnHNOQdG4VF0m82GkhL4Q5f3JCjbUgCy3+/Pe/XV7DuFuYIdO7qW3XST/zdj\nbG9+KUbhd5EkSkFtISgFtUU/jDFZddnAOW+IJX00gfAJgKmq66kIzhKMcBbAWc75G6HrPyAoEAYR\nKnCD6tYG0B9YIAOQjx3zVi1fXjBZLFovX547edKkjp4xtvVQBn0XAhnUFgIZ1BaCDZxzOZ4Mom07\nfRPAdMbYFYyxbAC3AXg2TNxBRpU45+cAfMwYmxG6dQOA5ngKSxDxkEqTHAQxGog4Q+Cc9zHG7gFw\nGMFtp7s55ycZY8tCzx9jjBUBeAPAeAABxtgqANdwzjsQ3H30u5Aw+TuA7yexLmkLLVrHj1F3nbRW\nQ4xpTOD2LeFu4NIoyOL/4Vw9jqEgx5PeiGvPFLjCTElbpFmgthgISrx5kOmKUQLtsEk+6XTAkCCG\nA5muIMYEZjXJQRBmgmYIxJjAyFkRWqshxjokEAgiBNlxIsY6JBCIMYHRXUaJXquhXUvEaILWEIgx\ngXrBeKTMZ6eTWXRibEACgSCSRCqEEEHEAwkEYkxAu4wIIjq0hkCMCVKxYEy7lojRBgkEYsww0of7\naNcSMdoggUAQSYROmBOjCVpDIAiCIACQQCAIgiBCkEAgCIIgAJBAIAiCIEKQQCAIgiAAGNhlxBgr\nA7AZQY9puzjnGzXP7QCeAPBlAPdzzqs1z60IuuI8yzm/KVEFJwiCIBJLxBlCqDPfBqAMwDUAFjPG\nZmqiXUTQVeamMNmsAvAOACW+ohIEQRDJJJrKaDaAM5zzDzjnvQBqAdysjsA5b+GcvwmgV5uYMTYF\nwLcA7AKQkZgiEwRBEMkgmkC4DMDHquuzoXtGqQHwEwCBGMtFEARBjDDR1hCGreZhjC0AcJ5z/hfG\nWGmEeKUA+p9zzgFAHu5704xSUFsISkFtISgFtYWgFNQW/TDGZNVlA+e8IZb00QTCJwCmqq6nIjhL\nMMLXAPwLY+xbAMYBGM8Y28s5X6KOFCpwg+rWBtAfWCCD2kIgg9pCIIPaQiCD2kKwgXMux5NBNIHw\nJoDpjLErAHwK4DYAi8PEHbRGwDn/GYCfAQBj7BsAfqwVBgRBEIR5iCgQOOd9jLF7ABxGcNvpbs75\nScbYstDzxxhjRQDeADAeQIAxtgrANZzzDk12tMuIIAjCxGQoiun6aQW0I0kgg6bDAhnUFgIZ1BYC\nGdQWgrj7TjqpTBAEQQAggUAQBEGEIIFAEARBACCBQBAEQYQggUAQBEEAIIFAEARBhCCBQBAEQQAg\ngUAQBEGEIIFAEARBACCBQBAEQYQggUAQBEEAIIFAEARBhCCBQBAEQQAggUAQBEGEIIFAEARBAIju\nMQ0AwBgrA7AZQSc5uzjnGzXP7QCeAPBlAPdzzqtD96cC2Avg8wja6t7JOd+auOITBEEQiSLqDIEx\nZgWwDUAZgGsALGaMzdREuwjgXgCbNPd7AazmnDsAzAGwQictQRAEYQKMqIxmAzjDOf+Ac94LoBbA\nzeoInPMWzvmbCAoA9f1znPO3Qv/vAHASwBcSUnKCIAgioRgRCJcB+Fh1fTZ0LyYYY1cgqFJyxpqW\nIAiCSD5GBELcTpcZYwUA/gBgVWimQBAEQZgMI4vKnwCYqrqeiuAswRCMsSwA+wD8X875MzrPSwGU\nimvOOZAAIZRGbEh1AUwEtcUA1BYDUFuEYIzJqssGznlDLOmNCIQ3AUwPqXw+BXAbgMVh4mZoCpcB\nYDeAdzjnm/UShArcoEoDzrlsoFxpD2NMprYIQm0xALXFANQWAySiLaIKBM55H2PsHgCHEdx2uptz\nfpIxtiz0/DHGWBGANwCMBxBgjK1CcEfSPwP4LoC3GWN/CWW5jnN+KJ5CEwRBEInH0DkEzvkLAF7Q\n3HtM9f9zGKxWEjSBDr8RBEGMCszYWTekugAmoiHVBTARDakugIloSHUBTERDqgtgIhrizSBDUWj9\nliAIgjDnDIEgCIJIASQQCIIgCAAGF5UTxXCN5BlJO9qIsy0+ANAGwA+gl3M+e6TKnQwMtMXtAH6K\n4LbmdgDLOedvG0k72oizLT7A2PoubgbwCwCBUPgJ5/xlI2lHG3G2xQcw+F2M2AwhHiN5BtOOGuI0\nGAgED+6Vcs6/nAY/eiNt8T6A6znnswBUAdgZQ9pRQzxtEWKsfRcvcc6v5Zx/GcCdGNvfhW5bhDD8\nXYzkDKHfSB4AMMaEkbyTIgLnvAVAC2Ps27GmHWXE0xaCjDD3RxtG2uKYKr4TwBSjaUcZ8bSFYCx9\nF15V/AIAF4ymHWXE0xYCQ9/FSAoEPSN5xSOQ1ozEWx8FwEuMMT+AxzjnjyeycCNMrG2xFMDBYaY1\nO/G0BTAGvwvG2L8CeAjApQBujCXtKCKetgBi+C5GclE5nv2t6bY3Nt76fD00Nfwmgj4mrktAmVKF\n4bZgjM0DcBeAiljTjhLiaQtgDH4XnPNnOOczAdwE4MmQuZx0Y1htoXpk+LsYSYEQj5G8uAzsmZC4\n6sM5/yz0bwuA/QhOKUcrhtqCMTYLwOMA/oVz7o4l7SginrYYk9+FgHPeiKDGozAUb8x9FwLRFoyx\niaFrw9/FSKqMhm0kL8a0o4F4DAbmAbByztsZY/kITg0rk1jWZBO1LRhjlwOoB/BdzvmZWNKOMobd\nFmP0u7gawPucc4Ux9hUA4JxfZIy1Rks7yoinLWL6Lkb0pDJj7JsY2Dq1m3P+UCQjeQhuq7uGc96h\nl3bECp4EhtsWCPqnrg9lkwngd2OgLXYBuAXAR6Ek/VvnxuB3odsWjLGrMPa+i58CWIKgp8YOAPdx\nzt8IlzYVdUgUw22LWL8LMl1BEARBAKCTygRBEEQIEggEQRAEABIIBEEQRAgSCARBEAQAEggEQRBE\nCBIIBEEQBAASCARBEEQIEggEQRAEAOD/AVSwKRQ729bRAAAAAElFTkSuQmCC\n",
      "text/plain": [
       "<matplotlib.figure.Figure at 0x7fd12cef00d0>"
>>>>>>> upstream/master
      ]
     },
     "metadata": {},
     "output_type": "display_data"
    }
   ],
   "source": [
<<<<<<< HEAD
    "x = kernel_multi['ALTER_5'].div(kernel_multi['EWZ'], axis=0)\n",
    "y = kernel_multi['Krankenhaus- Patienten 2013'].div(kernel_multi['EWZ'], axis=0)\n",
    "plt.plot(x,y, 'ro')"
=======
    "#neu= mer['EWZ']\n",
    "neu=mer['Krankenhaus- Patienten 2013'].div(mer['EWZ'],axis=0)\n",
    "relalt=mer['ALTER_5'].div(mer['EWZ'],axis=0)\n",
    "#x=pd.merge(neu,relalt, left_on='Krankenhaus- Patienten 2013', right_on=)\n",
    "%matplotlib inline\n",
    "from pylab import *\n",
    "scatter(neu,relalt)"
>>>>>>> upstream/master
   ]
  },
  {
   "cell_type": "markdown",
   "metadata": {},
   "source": [
    "### Task 11: Compute the correlation"
   ]
  },
  {
   "cell_type": "code",
<<<<<<< HEAD
   "execution_count": 150,
   "metadata": {
    "collapsed": false
   },
   "outputs": [
    {
     "data": {
      "text/plain": [
       "0.99151066490596751"
      ]
     },
     "execution_count": 150,
     "metadata": {},
     "output_type": "execute_result"
    }
   ],
   "source": [
    "corr_matrix = kernel_multi.corr()\n",
    "corr = corr_matrix.loc['Krankenhaus- Patienten 2013','ALTER_5']\n",
    "corr\n"
   ]
  },
  {
   "cell_type": "code",
   "execution_count": 154,
=======
   "execution_count": 199,
>>>>>>> upstream/master
   "metadata": {
    "collapsed": false
   },
   "outputs": [
    {
     "data": {
<<<<<<< HEAD
      "text/plain": [
       "array([ 19.32833412])"
      ]
     },
     "execution_count": 154,
=======
      "text/html": [
       "<div style=\"max-height:1000px;max-width:1500px;overflow:auto;\">\n",
       "<table border=\"1\" class=\"dataframe\">\n",
       "  <thead>\n",
       "    <tr style=\"text-align: right;\">\n",
       "      <th></th>\n",
       "      <th>Krankenhaus- Patienten 2013</th>\n",
       "      <th>ALTER_5</th>\n",
       "    </tr>\n",
       "  </thead>\n",
       "  <tbody>\n",
       "    <tr>\n",
       "      <th>Krankenhaus- Patienten 2013</th>\n",
       "      <td> 1.000000</td>\n",
       "      <td> 0.576673</td>\n",
       "    </tr>\n",
       "    <tr>\n",
       "      <th>ALTER_5</th>\n",
       "      <td> 0.576673</td>\n",
       "      <td> 1.000000</td>\n",
       "    </tr>\n",
       "  </tbody>\n",
       "</table>\n",
       "</div>"
      ],
      "text/plain": [
       "                             Krankenhaus- Patienten 2013   ALTER_5\n",
       "Krankenhaus- Patienten 2013                     1.000000  0.576673\n",
       "ALTER_5                                         0.576673  1.000000"
      ]
     },
     "execution_count": 199,
>>>>>>> upstream/master
     "metadata": {},
     "output_type": "execute_result"
    }
   ],
   "source": [
<<<<<<< HEAD
    "import numpy as np\n",
    "np.correlate(x, y)"
=======
    "liste=[neu,relalt]\n",
    "result= pd.concat(liste, axis=1)\n",
    "result.corr()"
>>>>>>> upstream/master
   ]
  },
  {
   "cell_type": "code",
   "execution_count": null,
   "metadata": {
    "collapsed": true
   },
   "outputs": [],
   "source": []
  }
 ],
 "metadata": {
  "kernelspec": {
   "display_name": "Python 2",
   "language": "python",
   "name": "python2"
  },
  "language_info": {
   "codemirror_mode": {
    "name": "ipython",
    "version": 2
   },
   "file_extension": ".py",
   "mimetype": "text/x-python",
   "name": "python",
   "nbconvert_exporter": "python",
   "pygments_lexer": "ipython2",
   "version": "2.7.6"
  }
 },
 "nbformat": 4,
 "nbformat_minor": 0
}
