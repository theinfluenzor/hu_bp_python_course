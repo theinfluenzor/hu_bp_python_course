{
 "metadata": {
  "name": "",
  "signature": "sha256:dca8dda60162bba9e9a591a0514584cddae1ee5a2c04674ba81430ca76d9488e"
 },
 "nbformat": 3,
 "nbformat_minor": 0,
 "worksheets": [
  {
   "cells": [
    {
     "cell_type": "heading",
     "level": 3,
     "metadata": {},
     "source": [
      "Import matplotlib, numpy etc"
     ]
    },
    {
     "cell_type": "code",
     "collapsed": false,
     "input": [
      "import numpy as np\n",
      "from matplotlib import pyplot as plt\n",
      "plt.style.use('ggplot')\n",
      "%matplotlib inline"
     ],
     "language": "python",
     "metadata": {},
     "outputs": [],
     "prompt_number": 2
    },
    {
     "cell_type": "heading",
     "level": 3,
     "metadata": {},
     "source": [
      "Import pandas"
     ]
    },
    {
     "cell_type": "code",
     "collapsed": false,
     "input": [
      "import pandas as pd"
     ],
     "language": "python",
     "metadata": {},
     "outputs": [],
     "prompt_number": 3
    },
    {
     "cell_type": "heading",
     "level": 3,
     "metadata": {},
     "source": [
      "Create numpy array with your data"
     ]
    },
    {
     "cell_type": "code",
     "collapsed": false,
     "input": [
      "A = np.array([[1,2,3,4,5], [10,20,30,40,50], [11,22,33,44,55]])\n",
      "A"
     ],
     "language": "python",
     "metadata": {},
     "outputs": [
      {
       "metadata": {},
       "output_type": "pyout",
       "prompt_number": 4,
       "text": [
        "array([[ 1,  2,  3,  4,  5],\n",
        "       [10, 20, 30, 40, 50],\n",
        "       [11, 22, 33, 44, 55]])"
       ]
      }
     ],
     "prompt_number": 4
    },
    {
     "cell_type": "heading",
     "level": 3,
     "metadata": {},
     "source": [
      "and a list with your index (row names) and column names"
     ]
    },
    {
     "cell_type": "code",
     "collapsed": false,
     "input": [
      "index = ['a','b','c']\n",
      "cols = ['A','B','C','D','E']"
     ],
     "language": "python",
     "metadata": {},
     "outputs": [],
     "prompt_number": 5
    },
    {
     "cell_type": "heading",
     "level": 3,
     "metadata": {},
     "source": [
      "using pandas you can store all this into a 'DataFrame'"
     ]
    },
    {
     "cell_type": "code",
     "collapsed": false,
     "input": [
      "df = pd.DataFrame(data=A, index=index, columns=cols)\n",
      "df"
     ],
     "language": "python",
     "metadata": {},
     "outputs": [
      {
       "html": [
        "<div style=\"max-height:1000px;max-width:1500px;overflow:auto;\">\n",
        "<table border=\"1\" class=\"dataframe\">\n",
        "  <thead>\n",
        "    <tr style=\"text-align: right;\">\n",
        "      <th></th>\n",
        "      <th>A</th>\n",
        "      <th>B</th>\n",
        "      <th>C</th>\n",
        "      <th>D</th>\n",
        "      <th>E</th>\n",
        "    </tr>\n",
        "  </thead>\n",
        "  <tbody>\n",
        "    <tr>\n",
        "      <th>a</th>\n",
        "      <td>  1</td>\n",
        "      <td>  2</td>\n",
        "      <td>  3</td>\n",
        "      <td>  4</td>\n",
        "      <td>  5</td>\n",
        "    </tr>\n",
        "    <tr>\n",
        "      <th>b</th>\n",
        "      <td> 10</td>\n",
        "      <td> 20</td>\n",
        "      <td> 30</td>\n",
        "      <td> 40</td>\n",
        "      <td> 50</td>\n",
        "    </tr>\n",
        "    <tr>\n",
        "      <th>c</th>\n",
        "      <td> 11</td>\n",
        "      <td> 22</td>\n",
        "      <td> 33</td>\n",
        "      <td> 44</td>\n",
        "      <td> 55</td>\n",
        "    </tr>\n",
        "  </tbody>\n",
        "</table>\n",
        "</div>"
       ],
       "metadata": {},
       "output_type": "pyout",
       "prompt_number": 6,
       "text": [
        "    A   B   C   D   E\n",
        "a   1   2   3   4   5\n",
        "b  10  20  30  40  50\n",
        "c  11  22  33  44  55"
       ]
      }
     ],
     "prompt_number": 6
    },
    {
     "cell_type": "heading",
     "level": 3,
     "metadata": {},
     "source": [
      "Access via column names"
     ]
    },
    {
     "cell_type": "code",
     "collapsed": false,
     "input": [
      "df['B']"
     ],
     "language": "python",
     "metadata": {},
     "outputs": [
      {
       "metadata": {},
       "output_type": "pyout",
       "prompt_number": 7,
       "text": [
        "a     2\n",
        "b    20\n",
        "c    22\n",
        "Name: B, dtype: int64"
       ]
      }
     ],
     "prompt_number": 7
    },
    {
     "cell_type": "heading",
     "level": 3,
     "metadata": {},
     "source": [
      "Access via row name"
     ]
    },
    {
     "cell_type": "code",
     "collapsed": false,
     "input": [
      "df.loc['a']"
     ],
     "language": "python",
     "metadata": {},
     "outputs": [
      {
       "metadata": {},
       "output_type": "pyout",
       "prompt_number": 8,
       "text": [
        "A    1\n",
        "B    2\n",
        "C    3\n",
        "D    4\n",
        "E    5\n",
        "Name: a, dtype: int64"
       ]
      }
     ],
     "prompt_number": 8
    },
    {
     "cell_type": "heading",
     "level": 3,
     "metadata": {},
     "source": [
      "Access via row position"
     ]
    },
    {
     "cell_type": "code",
     "collapsed": false,
     "input": [
      "df.iloc[1]"
     ],
     "language": "python",
     "metadata": {},
     "outputs": [
      {
       "metadata": {},
       "output_type": "pyout",
       "prompt_number": 9,
       "text": [
        "A    10\n",
        "B    20\n",
        "C    30\n",
        "D    40\n",
        "E    50\n",
        "Name: b, dtype: int64"
       ]
      }
     ],
     "prompt_number": 9
    },
    {
     "cell_type": "heading",
     "level": 3,
     "metadata": {},
     "source": [
      "or columns by index"
     ]
    },
    {
     "cell_type": "code",
     "collapsed": false,
     "input": [
      "df.ix[:,0]"
     ],
     "language": "python",
     "metadata": {},
     "outputs": [
      {
       "metadata": {},
       "output_type": "pyout",
       "prompt_number": 10,
       "text": [
        "a     1\n",
        "b    10\n",
        "c    11\n",
        "Name: A, dtype: int64"
       ]
      }
     ],
     "prompt_number": 10
    },
    {
     "cell_type": "heading",
     "level": 3,
     "metadata": {},
     "source": [
      "Acessing single elements"
     ]
    },
    {
     "cell_type": "code",
     "collapsed": false,
     "input": [
      "df.loc['a','B']"
     ],
     "language": "python",
     "metadata": {},
     "outputs": [
      {
       "metadata": {},
       "output_type": "pyout",
       "prompt_number": 11,
       "text": [
        "2"
       ]
      }
     ],
     "prompt_number": 11
    },
    {
     "cell_type": "code",
     "collapsed": false,
     "input": [
      "df.iloc[0,1]"
     ],
     "language": "python",
     "metadata": {},
     "outputs": [
      {
       "metadata": {},
       "output_type": "pyout",
       "prompt_number": 12,
       "text": [
        "2"
       ]
      }
     ],
     "prompt_number": 12
    },
    {
     "cell_type": "heading",
     "level": 3,
     "metadata": {},
     "source": [
      "Mixed acess"
     ]
    },
    {
     "cell_type": "code",
     "collapsed": false,
     "input": [
      "df.ix['a',1]"
     ],
     "language": "python",
     "metadata": {},
     "outputs": [
      {
       "metadata": {},
       "output_type": "pyout",
       "prompt_number": 13,
       "text": [
        "2"
       ]
      }
     ],
     "prompt_number": 13
    },
    {
     "cell_type": "heading",
     "level": 3,
     "metadata": {},
     "source": [
      "Fast access to single values"
     ]
    },
    {
     "cell_type": "code",
     "collapsed": false,
     "input": [
      "df.at['a','C']"
     ],
     "language": "python",
     "metadata": {},
     "outputs": [
      {
       "metadata": {},
       "output_type": "pyout",
       "prompt_number": 14,
       "text": [
        "3"
       ]
      }
     ],
     "prompt_number": 14
    },
    {
     "cell_type": "code",
     "collapsed": false,
     "input": [
      "df.iat[0,2]"
     ],
     "language": "python",
     "metadata": {},
     "outputs": [
      {
       "metadata": {},
       "output_type": "pyout",
       "prompt_number": 15,
       "text": [
        "3"
       ]
      }
     ],
     "prompt_number": 15
    },
    {
     "cell_type": "heading",
     "level": 3,
     "metadata": {},
     "source": [
      "Slicing"
     ]
    },
    {
     "cell_type": "code",
     "collapsed": false,
     "input": [
      "df.iloc[:,0:3]"
     ],
     "language": "python",
     "metadata": {},
     "outputs": [
      {
       "html": [
        "<div style=\"max-height:1000px;max-width:1500px;overflow:auto;\">\n",
        "<table border=\"1\" class=\"dataframe\">\n",
        "  <thead>\n",
        "    <tr style=\"text-align: right;\">\n",
        "      <th></th>\n",
        "      <th>A</th>\n",
        "      <th>B</th>\n",
        "      <th>C</th>\n",
        "    </tr>\n",
        "  </thead>\n",
        "  <tbody>\n",
        "    <tr>\n",
        "      <th>a</th>\n",
        "      <td>  1</td>\n",
        "      <td>  2</td>\n",
        "      <td>  3</td>\n",
        "    </tr>\n",
        "    <tr>\n",
        "      <th>b</th>\n",
        "      <td> 10</td>\n",
        "      <td> 20</td>\n",
        "      <td> 30</td>\n",
        "    </tr>\n",
        "    <tr>\n",
        "      <th>c</th>\n",
        "      <td> 11</td>\n",
        "      <td> 22</td>\n",
        "      <td> 33</td>\n",
        "    </tr>\n",
        "  </tbody>\n",
        "</table>\n",
        "</div>"
       ],
       "metadata": {},
       "output_type": "pyout",
       "prompt_number": 16,
       "text": [
        "    A   B   C\n",
        "a   1   2   3\n",
        "b  10  20  30\n",
        "c  11  22  33"
       ]
      }
     ],
     "prompt_number": 16
    },
    {
     "cell_type": "heading",
     "level": 3,
     "metadata": {},
     "source": [
      "Slicing with skipped rows"
     ]
    },
    {
     "cell_type": "code",
     "collapsed": false,
     "input": [
      "df.iloc[::2,:]"
     ],
     "language": "python",
     "metadata": {},
     "outputs": [
      {
       "html": [
        "<div style=\"max-height:1000px;max-width:1500px;overflow:auto;\">\n",
        "<table border=\"1\" class=\"dataframe\">\n",
        "  <thead>\n",
        "    <tr style=\"text-align: right;\">\n",
        "      <th></th>\n",
        "      <th>A</th>\n",
        "      <th>B</th>\n",
        "      <th>C</th>\n",
        "      <th>D</th>\n",
        "      <th>E</th>\n",
        "    </tr>\n",
        "  </thead>\n",
        "  <tbody>\n",
        "    <tr>\n",
        "      <th>a</th>\n",
        "      <td>  1</td>\n",
        "      <td>  2</td>\n",
        "      <td>  3</td>\n",
        "      <td>  4</td>\n",
        "      <td>  5</td>\n",
        "    </tr>\n",
        "    <tr>\n",
        "      <th>c</th>\n",
        "      <td> 11</td>\n",
        "      <td> 22</td>\n",
        "      <td> 33</td>\n",
        "      <td> 44</td>\n",
        "      <td> 55</td>\n",
        "    </tr>\n",
        "  </tbody>\n",
        "</table>\n",
        "</div>"
       ],
       "metadata": {},
       "output_type": "pyout",
       "prompt_number": 17,
       "text": [
        "    A   B   C   D   E\n",
        "a   1   2   3   4   5\n",
        "c  11  22  33  44  55"
       ]
      }
     ],
     "prompt_number": 17
    },
    {
     "cell_type": "heading",
     "level": 3,
     "metadata": {},
     "source": [
      "or you use boolean indexing!"
     ]
    },
    {
     "cell_type": "heading",
     "level": 4,
     "metadata": {},
     "source": [
      "logical comparison returns a DataFrame with boolean entries"
     ]
    },
    {
     "cell_type": "code",
     "collapsed": false,
     "input": [
      "df[['A','C']]>10"
     ],
     "language": "python",
     "metadata": {},
     "outputs": [
      {
       "html": [
        "<div style=\"max-height:1000px;max-width:1500px;overflow:auto;\">\n",
        "<table border=\"1\" class=\"dataframe\">\n",
        "  <thead>\n",
        "    <tr style=\"text-align: right;\">\n",
        "      <th></th>\n",
        "      <th>A</th>\n",
        "      <th>C</th>\n",
        "    </tr>\n",
        "  </thead>\n",
        "  <tbody>\n",
        "    <tr>\n",
        "      <th>a</th>\n",
        "      <td> False</td>\n",
        "      <td> False</td>\n",
        "    </tr>\n",
        "    <tr>\n",
        "      <th>b</th>\n",
        "      <td> False</td>\n",
        "      <td>  True</td>\n",
        "    </tr>\n",
        "    <tr>\n",
        "      <th>c</th>\n",
        "      <td>  True</td>\n",
        "      <td>  True</td>\n",
        "    </tr>\n",
        "  </tbody>\n",
        "</table>\n",
        "</div>"
       ],
       "metadata": {},
       "output_type": "pyout",
       "prompt_number": 18,
       "text": [
        "       A      C\n",
        "a  False  False\n",
        "b  False   True\n",
        "c   True   True"
       ]
      }
     ],
     "prompt_number": 18
    },
    {
     "cell_type": "heading",
     "level": 4,
     "metadata": {},
     "source": [
      "these can be used for indexing"
     ]
    },
    {
     "cell_type": "code",
     "collapsed": false,
     "input": [
      "df_g2 = df[df[['A','B']]>2]\n",
      "df_g2"
     ],
     "language": "python",
     "metadata": {},
     "outputs": [
      {
       "html": [
        "<div style=\"max-height:1000px;max-width:1500px;overflow:auto;\">\n",
        "<table border=\"1\" class=\"dataframe\">\n",
        "  <thead>\n",
        "    <tr style=\"text-align: right;\">\n",
        "      <th></th>\n",
        "      <th>A</th>\n",
        "      <th>B</th>\n",
        "      <th>C</th>\n",
        "      <th>D</th>\n",
        "      <th>E</th>\n",
        "    </tr>\n",
        "  </thead>\n",
        "  <tbody>\n",
        "    <tr>\n",
        "      <th>a</th>\n",
        "      <td>NaN</td>\n",
        "      <td>NaN</td>\n",
        "      <td>NaN</td>\n",
        "      <td>NaN</td>\n",
        "      <td>NaN</td>\n",
        "    </tr>\n",
        "    <tr>\n",
        "      <th>b</th>\n",
        "      <td> 10</td>\n",
        "      <td> 20</td>\n",
        "      <td>NaN</td>\n",
        "      <td>NaN</td>\n",
        "      <td>NaN</td>\n",
        "    </tr>\n",
        "    <tr>\n",
        "      <th>c</th>\n",
        "      <td> 11</td>\n",
        "      <td> 22</td>\n",
        "      <td>NaN</td>\n",
        "      <td>NaN</td>\n",
        "      <td>NaN</td>\n",
        "    </tr>\n",
        "  </tbody>\n",
        "</table>\n",
        "</div>"
       ],
       "metadata": {},
       "output_type": "pyout",
       "prompt_number": 19,
       "text": [
        "    A   B   C   D   E\n",
        "a NaN NaN NaN NaN NaN\n",
        "b  10  20 NaN NaN NaN\n",
        "c  11  22 NaN NaN NaN"
       ]
      }
     ],
     "prompt_number": 19
    },
    {
     "cell_type": "heading",
     "level": 3,
     "metadata": {},
     "source": [
      "you can drop all rows that have only NaN entries"
     ]
    },
    {
     "cell_type": "code",
     "collapsed": false,
     "input": [
      "df_g2.dropna( axis=0, how='all')"
     ],
     "language": "python",
     "metadata": {},
     "outputs": [
      {
       "html": [
        "<div style=\"max-height:1000px;max-width:1500px;overflow:auto;\">\n",
        "<table border=\"1\" class=\"dataframe\">\n",
        "  <thead>\n",
        "    <tr style=\"text-align: right;\">\n",
        "      <th></th>\n",
        "      <th>A</th>\n",
        "      <th>B</th>\n",
        "      <th>C</th>\n",
        "      <th>D</th>\n",
        "      <th>E</th>\n",
        "    </tr>\n",
        "  </thead>\n",
        "  <tbody>\n",
        "    <tr>\n",
        "      <th>b</th>\n",
        "      <td> 10</td>\n",
        "      <td> 20</td>\n",
        "      <td>NaN</td>\n",
        "      <td>NaN</td>\n",
        "      <td>NaN</td>\n",
        "    </tr>\n",
        "    <tr>\n",
        "      <th>c</th>\n",
        "      <td> 11</td>\n",
        "      <td> 22</td>\n",
        "      <td>NaN</td>\n",
        "      <td>NaN</td>\n",
        "      <td>NaN</td>\n",
        "    </tr>\n",
        "  </tbody>\n",
        "</table>\n",
        "</div>"
       ],
       "metadata": {},
       "output_type": "pyout",
       "prompt_number": 20,
       "text": [
        "    A   B   C   D   E\n",
        "b  10  20 NaN NaN NaN\n",
        "c  11  22 NaN NaN NaN"
       ]
      }
     ],
     "prompt_number": 20
    },
    {
     "cell_type": "heading",
     "level": 3,
     "metadata": {},
     "source": [
      "or all columns with at least one NaN entry"
     ]
    },
    {
     "cell_type": "code",
     "collapsed": false,
     "input": [
      "df_g2.dropna( axis=1, how='any')"
     ],
     "language": "python",
     "metadata": {},
     "outputs": [
      {
       "html": [
        "<div style=\"max-height:1000px;max-width:1500px;overflow:auto;\">\n",
        "<table border=\"1\" class=\"dataframe\">\n",
        "  <thead>\n",
        "    <tr style=\"text-align: right;\">\n",
        "      <th></th>\n",
        "    </tr>\n",
        "  </thead>\n",
        "  <tbody>\n",
        "    <tr>\n",
        "      <th>a</th>\n",
        "    </tr>\n",
        "    <tr>\n",
        "      <th>b</th>\n",
        "    </tr>\n",
        "    <tr>\n",
        "      <th>c</th>\n",
        "    </tr>\n",
        "  </tbody>\n",
        "</table>\n",
        "</div>"
       ],
       "metadata": {},
       "output_type": "pyout",
       "prompt_number": 21,
       "text": [
        "Empty DataFrame\n",
        "Columns: []\n",
        "Index: [a, b, c]"
       ]
      }
     ],
     "prompt_number": 21
    },
    {
     "cell_type": "heading",
     "level": 3,
     "metadata": {},
     "source": [
      "selecting rows which contain certain values"
     ]
    },
    {
     "cell_type": "code",
     "collapsed": false,
     "input": [
      "df[ df[\"A\"].isin([1, 11]) ]"
     ],
     "language": "python",
     "metadata": {},
     "outputs": [
      {
       "html": [
        "<div style=\"max-height:1000px;max-width:1500px;overflow:auto;\">\n",
        "<table border=\"1\" class=\"dataframe\">\n",
        "  <thead>\n",
        "    <tr style=\"text-align: right;\">\n",
        "      <th></th>\n",
        "      <th>A</th>\n",
        "      <th>B</th>\n",
        "      <th>C</th>\n",
        "      <th>D</th>\n",
        "      <th>E</th>\n",
        "    </tr>\n",
        "  </thead>\n",
        "  <tbody>\n",
        "    <tr>\n",
        "      <th>a</th>\n",
        "      <td>  1</td>\n",
        "      <td>  2</td>\n",
        "      <td>  3</td>\n",
        "      <td>  4</td>\n",
        "      <td>  5</td>\n",
        "    </tr>\n",
        "    <tr>\n",
        "      <th>c</th>\n",
        "      <td> 11</td>\n",
        "      <td> 22</td>\n",
        "      <td> 33</td>\n",
        "      <td> 44</td>\n",
        "      <td> 55</td>\n",
        "    </tr>\n",
        "  </tbody>\n",
        "</table>\n",
        "</div>"
       ],
       "metadata": {},
       "output_type": "pyout",
       "prompt_number": 22,
       "text": [
        "    A   B   C   D   E\n",
        "a   1   2   3   4   5\n",
        "c  11  22  33  44  55"
       ]
      }
     ],
     "prompt_number": 22
    },
    {
     "cell_type": "heading",
     "level": 3,
     "metadata": {},
     "source": [
      "Acessing the \"raw\" numpy data"
     ]
    },
    {
     "cell_type": "code",
     "collapsed": false,
     "input": [
      "df.values"
     ],
     "language": "python",
     "metadata": {},
     "outputs": [
      {
       "metadata": {},
       "output_type": "pyout",
       "prompt_number": 23,
       "text": [
        "array([[ 1,  2,  3,  4,  5],\n",
        "       [10, 20, 30, 40, 50],\n",
        "       [11, 22, 33, 44, 55]])"
       ]
      }
     ],
     "prompt_number": 23
    },
    {
     "cell_type": "heading",
     "level": 3,
     "metadata": {},
     "source": [
      "Sorting"
     ]
    },
    {
     "cell_type": "code",
     "collapsed": false,
     "input": [
      "df.sort(columns=\"A\", ascending=False)"
     ],
     "language": "python",
     "metadata": {},
     "outputs": [
      {
       "html": [
        "<div style=\"max-height:1000px;max-width:1500px;overflow:auto;\">\n",
        "<table border=\"1\" class=\"dataframe\">\n",
        "  <thead>\n",
        "    <tr style=\"text-align: right;\">\n",
        "      <th></th>\n",
        "      <th>A</th>\n",
        "      <th>B</th>\n",
        "      <th>C</th>\n",
        "      <th>D</th>\n",
        "      <th>E</th>\n",
        "    </tr>\n",
        "  </thead>\n",
        "  <tbody>\n",
        "    <tr>\n",
        "      <th>c</th>\n",
        "      <td> 11</td>\n",
        "      <td> 22</td>\n",
        "      <td> 33</td>\n",
        "      <td> 44</td>\n",
        "      <td> 55</td>\n",
        "    </tr>\n",
        "    <tr>\n",
        "      <th>b</th>\n",
        "      <td> 10</td>\n",
        "      <td> 20</td>\n",
        "      <td> 30</td>\n",
        "      <td> 40</td>\n",
        "      <td> 50</td>\n",
        "    </tr>\n",
        "    <tr>\n",
        "      <th>a</th>\n",
        "      <td>  1</td>\n",
        "      <td>  2</td>\n",
        "      <td>  3</td>\n",
        "      <td>  4</td>\n",
        "      <td>  5</td>\n",
        "    </tr>\n",
        "  </tbody>\n",
        "</table>\n",
        "</div>"
       ],
       "metadata": {},
       "output_type": "pyout",
       "prompt_number": 24,
       "text": [
        "    A   B   C   D   E\n",
        "c  11  22  33  44  55\n",
        "b  10  20  30  40  50\n",
        "a   1   2   3   4   5"
       ]
      }
     ],
     "prompt_number": 24
    },
    {
     "cell_type": "heading",
     "level": 3,
     "metadata": {},
     "source": [
      "Appending two data frames"
     ]
    },
    {
     "cell_type": "code",
     "collapsed": false,
     "input": [
      "df2 = pd.DataFrame( np.random.rand(3,5), columns=df.columns )\n",
      "pd.concat( [df, df2])"
     ],
     "language": "python",
     "metadata": {},
     "outputs": [
      {
       "html": [
        "<div style=\"max-height:1000px;max-width:1500px;overflow:auto;\">\n",
        "<table border=\"1\" class=\"dataframe\">\n",
        "  <thead>\n",
        "    <tr style=\"text-align: right;\">\n",
        "      <th></th>\n",
        "      <th>A</th>\n",
        "      <th>B</th>\n",
        "      <th>C</th>\n",
        "      <th>D</th>\n",
        "      <th>E</th>\n",
        "    </tr>\n",
        "  </thead>\n",
        "  <tbody>\n",
        "    <tr>\n",
        "      <th>a</th>\n",
        "      <td>  1.000000</td>\n",
        "      <td>  2.000000</td>\n",
        "      <td>  3.000000</td>\n",
        "      <td>  4.000000</td>\n",
        "      <td>  5.000000</td>\n",
        "    </tr>\n",
        "    <tr>\n",
        "      <th>b</th>\n",
        "      <td> 10.000000</td>\n",
        "      <td> 20.000000</td>\n",
        "      <td> 30.000000</td>\n",
        "      <td> 40.000000</td>\n",
        "      <td> 50.000000</td>\n",
        "    </tr>\n",
        "    <tr>\n",
        "      <th>c</th>\n",
        "      <td> 11.000000</td>\n",
        "      <td> 22.000000</td>\n",
        "      <td> 33.000000</td>\n",
        "      <td> 44.000000</td>\n",
        "      <td> 55.000000</td>\n",
        "    </tr>\n",
        "    <tr>\n",
        "      <th>0</th>\n",
        "      <td>  0.813027</td>\n",
        "      <td>  0.399764</td>\n",
        "      <td>  0.303286</td>\n",
        "      <td>  0.282056</td>\n",
        "      <td>  0.918059</td>\n",
        "    </tr>\n",
        "    <tr>\n",
        "      <th>1</th>\n",
        "      <td>  0.874801</td>\n",
        "      <td>  0.156160</td>\n",
        "      <td>  0.401347</td>\n",
        "      <td>  0.538413</td>\n",
        "      <td>  0.020815</td>\n",
        "    </tr>\n",
        "    <tr>\n",
        "      <th>2</th>\n",
        "      <td>  0.211238</td>\n",
        "      <td>  0.954010</td>\n",
        "      <td>  0.780380</td>\n",
        "      <td>  0.952843</td>\n",
        "      <td>  0.023174</td>\n",
        "    </tr>\n",
        "  </tbody>\n",
        "</table>\n",
        "</div>"
       ],
       "metadata": {},
       "output_type": "pyout",
       "prompt_number": 26,
       "text": [
        "           A          B          C          D          E\n",
        "a   1.000000   2.000000   3.000000   4.000000   5.000000\n",
        "b  10.000000  20.000000  30.000000  40.000000  50.000000\n",
        "c  11.000000  22.000000  33.000000  44.000000  55.000000\n",
        "0   0.813027   0.399764   0.303286   0.282056   0.918059\n",
        "1   0.874801   0.156160   0.401347   0.538413   0.020815\n",
        "2   0.211238   0.954010   0.780380   0.952843   0.023174"
       ]
      }
     ],
     "prompt_number": 26
    },
    {
     "cell_type": "heading",
     "level": 3,
     "metadata": {},
     "source": [
      "Dataframes can also be merged (joined)"
     ]
    },
    {
     "cell_type": "code",
     "collapsed": false,
     "input": [
      "df2 = pd.DataFrame( [[50, 'eins'], [5, 'zwei'], [55, 'drei']], columns=[\"E2\", \"no\"])\n",
      "df3 = pd.merge(df, df2, left_on=\"E\", right_on=\"E2\")\n",
      "df3.drop(\"E2\", axis=1, inplace=True)\n",
      "df3"
     ],
     "language": "python",
     "metadata": {},
     "outputs": [
      {
       "html": [
        "<div style=\"max-height:1000px;max-width:1500px;overflow:auto;\">\n",
        "<table border=\"1\" class=\"dataframe\">\n",
        "  <thead>\n",
        "    <tr style=\"text-align: right;\">\n",
        "      <th></th>\n",
        "      <th>A</th>\n",
        "      <th>B</th>\n",
        "      <th>C</th>\n",
        "      <th>D</th>\n",
        "      <th>E</th>\n",
        "      <th>no</th>\n",
        "    </tr>\n",
        "  </thead>\n",
        "  <tbody>\n",
        "    <tr>\n",
        "      <th>0</th>\n",
        "      <td>  1</td>\n",
        "      <td>  2</td>\n",
        "      <td>  3</td>\n",
        "      <td>  4</td>\n",
        "      <td>  5</td>\n",
        "      <td> zwei</td>\n",
        "    </tr>\n",
        "    <tr>\n",
        "      <th>1</th>\n",
        "      <td> 10</td>\n",
        "      <td> 20</td>\n",
        "      <td> 30</td>\n",
        "      <td> 40</td>\n",
        "      <td> 50</td>\n",
        "      <td> eins</td>\n",
        "    </tr>\n",
        "    <tr>\n",
        "      <th>2</th>\n",
        "      <td> 11</td>\n",
        "      <td> 22</td>\n",
        "      <td> 33</td>\n",
        "      <td> 44</td>\n",
        "      <td> 55</td>\n",
        "      <td> drei</td>\n",
        "    </tr>\n",
        "  </tbody>\n",
        "</table>\n",
        "</div>"
       ],
       "metadata": {},
       "output_type": "pyout",
       "prompt_number": 27,
       "text": [
        "    A   B   C   D   E    no\n",
        "0   1   2   3   4   5  zwei\n",
        "1  10  20  30  40  50  eins\n",
        "2  11  22  33  44  55  drei"
       ]
      }
     ],
     "prompt_number": 27
    },
    {
     "cell_type": "heading",
     "level": 1,
     "metadata": {},
     "source": [
      "Importing data using pandas (repetition from Data I/O session)"
     ]
    },
    {
     "cell_type": "code",
     "collapsed": false,
     "input": [
      "diamonds = pd.read_csv('diamonds.csv',index_col=0)"
     ],
     "language": "python",
     "metadata": {},
     "outputs": [],
     "prompt_number": 29
    },
    {
     "cell_type": "heading",
     "level": 3,
     "metadata": {},
     "source": [
      "Show only the first 5 rows of this huge data set"
     ]
    },
    {
     "cell_type": "code",
     "collapsed": false,
     "input": [
      "diamonds.head()"
     ],
     "language": "python",
     "metadata": {},
     "outputs": [
      {
       "html": [
        "<div style=\"max-height:1000px;max-width:1500px;overflow:auto;\">\n",
        "<table border=\"1\" class=\"dataframe\">\n",
        "  <thead>\n",
        "    <tr style=\"text-align: right;\">\n",
        "      <th></th>\n",
        "      <th>carat</th>\n",
        "      <th>cut</th>\n",
        "      <th>color</th>\n",
        "      <th>clarity</th>\n",
        "      <th>depth</th>\n",
        "      <th>table</th>\n",
        "      <th>price</th>\n",
        "      <th>x</th>\n",
        "      <th>y</th>\n",
        "      <th>z</th>\n",
        "    </tr>\n",
        "  </thead>\n",
        "  <tbody>\n",
        "    <tr>\n",
        "      <th>1</th>\n",
        "      <td> 0.23</td>\n",
        "      <td>   Ideal</td>\n",
        "      <td> E</td>\n",
        "      <td> SI2</td>\n",
        "      <td> 61.5</td>\n",
        "      <td> 55</td>\n",
        "      <td> 326</td>\n",
        "      <td> 3.95</td>\n",
        "      <td> 3.98</td>\n",
        "      <td> 2.43</td>\n",
        "    </tr>\n",
        "    <tr>\n",
        "      <th>2</th>\n",
        "      <td> 0.21</td>\n",
        "      <td> Premium</td>\n",
        "      <td> E</td>\n",
        "      <td> SI1</td>\n",
        "      <td> 59.8</td>\n",
        "      <td> 61</td>\n",
        "      <td> 326</td>\n",
        "      <td> 3.89</td>\n",
        "      <td> 3.84</td>\n",
        "      <td> 2.31</td>\n",
        "    </tr>\n",
        "    <tr>\n",
        "      <th>3</th>\n",
        "      <td> 0.23</td>\n",
        "      <td>    Good</td>\n",
        "      <td> E</td>\n",
        "      <td> VS1</td>\n",
        "      <td> 56.9</td>\n",
        "      <td> 65</td>\n",
        "      <td> 327</td>\n",
        "      <td> 4.05</td>\n",
        "      <td> 4.07</td>\n",
        "      <td> 2.31</td>\n",
        "    </tr>\n",
        "    <tr>\n",
        "      <th>4</th>\n",
        "      <td> 0.29</td>\n",
        "      <td> Premium</td>\n",
        "      <td> I</td>\n",
        "      <td> VS2</td>\n",
        "      <td> 62.4</td>\n",
        "      <td> 58</td>\n",
        "      <td> 334</td>\n",
        "      <td> 4.20</td>\n",
        "      <td> 4.23</td>\n",
        "      <td> 2.63</td>\n",
        "    </tr>\n",
        "    <tr>\n",
        "      <th>5</th>\n",
        "      <td> 0.31</td>\n",
        "      <td>    Good</td>\n",
        "      <td> J</td>\n",
        "      <td> SI2</td>\n",
        "      <td> 63.3</td>\n",
        "      <td> 58</td>\n",
        "      <td> 335</td>\n",
        "      <td> 4.34</td>\n",
        "      <td> 4.35</td>\n",
        "      <td> 2.75</td>\n",
        "    </tr>\n",
        "  </tbody>\n",
        "</table>\n",
        "</div>"
       ],
       "metadata": {},
       "output_type": "pyout",
       "prompt_number": 30,
       "text": [
        "   carat      cut color clarity  depth  table  price     x     y     z\n",
        "1   0.23    Ideal     E     SI2   61.5     55    326  3.95  3.98  2.43\n",
        "2   0.21  Premium     E     SI1   59.8     61    326  3.89  3.84  2.31\n",
        "3   0.23     Good     E     VS1   56.9     65    327  4.05  4.07  2.31\n",
        "4   0.29  Premium     I     VS2   62.4     58    334  4.20  4.23  2.63\n",
        "5   0.31     Good     J     SI2   63.3     58    335  4.34  4.35  2.75"
       ]
      }
     ],
     "prompt_number": 30
    },
    {
     "cell_type": "heading",
     "level": 3,
     "metadata": {},
     "source": [
      "or the last 5"
     ]
    },
    {
     "cell_type": "code",
     "collapsed": false,
     "input": [
      "diamonds.tail()"
     ],
     "language": "python",
     "metadata": {},
     "outputs": [
      {
       "html": [
        "<div style=\"max-height:1000px;max-width:1500px;overflow:auto;\">\n",
        "<table border=\"1\" class=\"dataframe\">\n",
        "  <thead>\n",
        "    <tr style=\"text-align: right;\">\n",
        "      <th></th>\n",
        "      <th>carat</th>\n",
        "      <th>cut</th>\n",
        "      <th>color</th>\n",
        "      <th>clarity</th>\n",
        "      <th>depth</th>\n",
        "      <th>table</th>\n",
        "      <th>price</th>\n",
        "      <th>x</th>\n",
        "      <th>y</th>\n",
        "      <th>z</th>\n",
        "    </tr>\n",
        "  </thead>\n",
        "  <tbody>\n",
        "    <tr>\n",
        "      <th>53936</th>\n",
        "      <td> 0.72</td>\n",
        "      <td>     Ideal</td>\n",
        "      <td> D</td>\n",
        "      <td> SI1</td>\n",
        "      <td> 60.8</td>\n",
        "      <td> 57</td>\n",
        "      <td> 2757</td>\n",
        "      <td> 5.75</td>\n",
        "      <td> 5.76</td>\n",
        "      <td> 3.50</td>\n",
        "    </tr>\n",
        "    <tr>\n",
        "      <th>53937</th>\n",
        "      <td> 0.72</td>\n",
        "      <td>      Good</td>\n",
        "      <td> D</td>\n",
        "      <td> SI1</td>\n",
        "      <td> 63.1</td>\n",
        "      <td> 55</td>\n",
        "      <td> 2757</td>\n",
        "      <td> 5.69</td>\n",
        "      <td> 5.75</td>\n",
        "      <td> 3.61</td>\n",
        "    </tr>\n",
        "    <tr>\n",
        "      <th>53938</th>\n",
        "      <td> 0.70</td>\n",
        "      <td> Very Good</td>\n",
        "      <td> D</td>\n",
        "      <td> SI1</td>\n",
        "      <td> 62.8</td>\n",
        "      <td> 60</td>\n",
        "      <td> 2757</td>\n",
        "      <td> 5.66</td>\n",
        "      <td> 5.68</td>\n",
        "      <td> 3.56</td>\n",
        "    </tr>\n",
        "    <tr>\n",
        "      <th>53939</th>\n",
        "      <td> 0.86</td>\n",
        "      <td>   Premium</td>\n",
        "      <td> H</td>\n",
        "      <td> SI2</td>\n",
        "      <td> 61.0</td>\n",
        "      <td> 58</td>\n",
        "      <td> 2757</td>\n",
        "      <td> 6.15</td>\n",
        "      <td> 6.12</td>\n",
        "      <td> 3.74</td>\n",
        "    </tr>\n",
        "    <tr>\n",
        "      <th>53940</th>\n",
        "      <td> 0.75</td>\n",
        "      <td>     Ideal</td>\n",
        "      <td> D</td>\n",
        "      <td> SI2</td>\n",
        "      <td> 62.2</td>\n",
        "      <td> 55</td>\n",
        "      <td> 2757</td>\n",
        "      <td> 5.83</td>\n",
        "      <td> 5.87</td>\n",
        "      <td> 3.64</td>\n",
        "    </tr>\n",
        "  </tbody>\n",
        "</table>\n",
        "</div>"
       ],
       "metadata": {},
       "output_type": "pyout",
       "prompt_number": 31,
       "text": [
        "       carat        cut color clarity  depth  table  price     x     y     z\n",
        "53936   0.72      Ideal     D     SI1   60.8     57   2757  5.75  5.76  3.50\n",
        "53937   0.72       Good     D     SI1   63.1     55   2757  5.69  5.75  3.61\n",
        "53938   0.70  Very Good     D     SI1   62.8     60   2757  5.66  5.68  3.56\n",
        "53939   0.86    Premium     H     SI2   61.0     58   2757  6.15  6.12  3.74\n",
        "53940   0.75      Ideal     D     SI2   62.2     55   2757  5.83  5.87  3.64"
       ]
      }
     ],
     "prompt_number": 31
    },
    {
     "cell_type": "heading",
     "level": 3,
     "metadata": {},
     "source": [
      "get some infos about the DataFrame"
     ]
    },
    {
     "cell_type": "code",
     "collapsed": false,
     "input": [
      "diamonds.info()"
     ],
     "language": "python",
     "metadata": {},
     "outputs": [
      {
       "output_type": "stream",
       "stream": "stdout",
       "text": [
        "<class 'pandas.core.frame.DataFrame'>\n",
        "Int64Index: 53940 entries, 1 to 53940\n",
        "Data columns (total 10 columns):\n",
        "carat      53940 non-null float64\n",
        "cut        53940 non-null object\n",
        "color      53940 non-null object\n",
        "clarity    53940 non-null object\n",
        "depth      53940 non-null float64\n",
        "table      53940 non-null float64\n",
        "price      53940 non-null int64\n",
        "x          53940 non-null float64\n",
        "y          53940 non-null float64\n",
        "z          53940 non-null float64\n",
        "dtypes: float64(6), int64(1), object(3)\n",
        "memory usage: 4.5+ MB\n"
       ]
      }
     ],
     "prompt_number": 73
    },
    {
     "cell_type": "heading",
     "level": 3,
     "metadata": {},
     "source": [
      "or some basic statistics"
     ]
    },
    {
     "cell_type": "code",
     "collapsed": false,
     "input": [
      "diamonds.describe()"
     ],
     "language": "python",
     "metadata": {},
     "outputs": [
      {
       "html": [
        "<div style=\"max-height:1000px;max-width:1500px;overflow:auto;\">\n",
        "<table border=\"1\" class=\"dataframe\">\n",
        "  <thead>\n",
        "    <tr style=\"text-align: right;\">\n",
        "      <th></th>\n",
        "      <th>carat</th>\n",
        "      <th>depth</th>\n",
        "      <th>table</th>\n",
        "      <th>price</th>\n",
        "      <th>x</th>\n",
        "      <th>y</th>\n",
        "      <th>z</th>\n",
        "    </tr>\n",
        "  </thead>\n",
        "  <tbody>\n",
        "    <tr>\n",
        "      <th>count</th>\n",
        "      <td> 53940.000000</td>\n",
        "      <td> 53940.000000</td>\n",
        "      <td> 53940.000000</td>\n",
        "      <td> 53940.000000</td>\n",
        "      <td> 53940.000000</td>\n",
        "      <td> 53940.000000</td>\n",
        "      <td> 53940.000000</td>\n",
        "    </tr>\n",
        "    <tr>\n",
        "      <th>mean</th>\n",
        "      <td>     0.797940</td>\n",
        "      <td>    61.749405</td>\n",
        "      <td>    57.457184</td>\n",
        "      <td>  3932.799722</td>\n",
        "      <td>     5.731157</td>\n",
        "      <td>     5.734526</td>\n",
        "      <td>     3.538734</td>\n",
        "    </tr>\n",
        "    <tr>\n",
        "      <th>std</th>\n",
        "      <td>     0.474011</td>\n",
        "      <td>     1.432621</td>\n",
        "      <td>     2.234491</td>\n",
        "      <td>  3989.439738</td>\n",
        "      <td>     1.121761</td>\n",
        "      <td>     1.142135</td>\n",
        "      <td>     0.705699</td>\n",
        "    </tr>\n",
        "    <tr>\n",
        "      <th>min</th>\n",
        "      <td>     0.200000</td>\n",
        "      <td>    43.000000</td>\n",
        "      <td>    43.000000</td>\n",
        "      <td>   326.000000</td>\n",
        "      <td>     0.000000</td>\n",
        "      <td>     0.000000</td>\n",
        "      <td>     0.000000</td>\n",
        "    </tr>\n",
        "    <tr>\n",
        "      <th>25%</th>\n",
        "      <td>     0.400000</td>\n",
        "      <td>    61.000000</td>\n",
        "      <td>    56.000000</td>\n",
        "      <td>   950.000000</td>\n",
        "      <td>     4.710000</td>\n",
        "      <td>     4.720000</td>\n",
        "      <td>     2.910000</td>\n",
        "    </tr>\n",
        "    <tr>\n",
        "      <th>50%</th>\n",
        "      <td>     0.700000</td>\n",
        "      <td>    61.800000</td>\n",
        "      <td>    57.000000</td>\n",
        "      <td>  2401.000000</td>\n",
        "      <td>     5.700000</td>\n",
        "      <td>     5.710000</td>\n",
        "      <td>     3.530000</td>\n",
        "    </tr>\n",
        "    <tr>\n",
        "      <th>75%</th>\n",
        "      <td>     1.040000</td>\n",
        "      <td>    62.500000</td>\n",
        "      <td>    59.000000</td>\n",
        "      <td>  5324.250000</td>\n",
        "      <td>     6.540000</td>\n",
        "      <td>     6.540000</td>\n",
        "      <td>     4.040000</td>\n",
        "    </tr>\n",
        "    <tr>\n",
        "      <th>max</th>\n",
        "      <td>     5.010000</td>\n",
        "      <td>    79.000000</td>\n",
        "      <td>    95.000000</td>\n",
        "      <td> 18823.000000</td>\n",
        "      <td>    10.740000</td>\n",
        "      <td>    58.900000</td>\n",
        "      <td>    31.800000</td>\n",
        "    </tr>\n",
        "  </tbody>\n",
        "</table>\n",
        "</div>"
       ],
       "metadata": {},
       "output_type": "pyout",
       "prompt_number": 74,
       "text": [
        "              carat         depth         table         price             x  \\\n",
        "count  53940.000000  53940.000000  53940.000000  53940.000000  53940.000000   \n",
        "mean       0.797940     61.749405     57.457184   3932.799722      5.731157   \n",
        "std        0.474011      1.432621      2.234491   3989.439738      1.121761   \n",
        "min        0.200000     43.000000     43.000000    326.000000      0.000000   \n",
        "25%        0.400000     61.000000     56.000000    950.000000      4.710000   \n",
        "50%        0.700000     61.800000     57.000000   2401.000000      5.700000   \n",
        "75%        1.040000     62.500000     59.000000   5324.250000      6.540000   \n",
        "max        5.010000     79.000000     95.000000  18823.000000     10.740000   \n",
        "\n",
        "                  y             z  \n",
        "count  53940.000000  53940.000000  \n",
        "mean       5.734526      3.538734  \n",
        "std        1.142135      0.705699  \n",
        "min        0.000000      0.000000  \n",
        "25%        4.720000      2.910000  \n",
        "50%        5.710000      3.530000  \n",
        "75%        6.540000      4.040000  \n",
        "max       58.900000     31.800000  "
       ]
      }
     ],
     "prompt_number": 74
    },
    {
     "cell_type": "heading",
     "level": 3,
     "metadata": {},
     "source": [
      "or even the correlation between the columns"
     ]
    },
    {
     "cell_type": "code",
     "collapsed": false,
     "input": [
      "diamonds.corr()"
     ],
     "language": "python",
     "metadata": {},
     "outputs": [
      {
       "html": [
        "<div style=\"max-height:1000px;max-width:1500px;overflow:auto;\">\n",
        "<table border=\"1\" class=\"dataframe\">\n",
        "  <thead>\n",
        "    <tr style=\"text-align: right;\">\n",
        "      <th></th>\n",
        "      <th>carat</th>\n",
        "      <th>depth</th>\n",
        "      <th>table</th>\n",
        "      <th>price</th>\n",
        "      <th>x</th>\n",
        "      <th>y</th>\n",
        "      <th>z</th>\n",
        "    </tr>\n",
        "  </thead>\n",
        "  <tbody>\n",
        "    <tr>\n",
        "      <th>carat</th>\n",
        "      <td> 1.000000</td>\n",
        "      <td> 0.028224</td>\n",
        "      <td> 0.181618</td>\n",
        "      <td> 0.921591</td>\n",
        "      <td> 0.975094</td>\n",
        "      <td> 0.951722</td>\n",
        "      <td> 0.953387</td>\n",
        "    </tr>\n",
        "    <tr>\n",
        "      <th>depth</th>\n",
        "      <td> 0.028224</td>\n",
        "      <td> 1.000000</td>\n",
        "      <td>-0.295779</td>\n",
        "      <td>-0.010647</td>\n",
        "      <td>-0.025289</td>\n",
        "      <td>-0.029341</td>\n",
        "      <td> 0.094924</td>\n",
        "    </tr>\n",
        "    <tr>\n",
        "      <th>table</th>\n",
        "      <td> 0.181618</td>\n",
        "      <td>-0.295779</td>\n",
        "      <td> 1.000000</td>\n",
        "      <td> 0.127134</td>\n",
        "      <td> 0.195344</td>\n",
        "      <td> 0.183760</td>\n",
        "      <td> 0.150929</td>\n",
        "    </tr>\n",
        "    <tr>\n",
        "      <th>price</th>\n",
        "      <td> 0.921591</td>\n",
        "      <td>-0.010647</td>\n",
        "      <td> 0.127134</td>\n",
        "      <td> 1.000000</td>\n",
        "      <td> 0.884435</td>\n",
        "      <td> 0.865421</td>\n",
        "      <td> 0.861249</td>\n",
        "    </tr>\n",
        "    <tr>\n",
        "      <th>x</th>\n",
        "      <td> 0.975094</td>\n",
        "      <td>-0.025289</td>\n",
        "      <td> 0.195344</td>\n",
        "      <td> 0.884435</td>\n",
        "      <td> 1.000000</td>\n",
        "      <td> 0.974701</td>\n",
        "      <td> 0.970772</td>\n",
        "    </tr>\n",
        "    <tr>\n",
        "      <th>y</th>\n",
        "      <td> 0.951722</td>\n",
        "      <td>-0.029341</td>\n",
        "      <td> 0.183760</td>\n",
        "      <td> 0.865421</td>\n",
        "      <td> 0.974701</td>\n",
        "      <td> 1.000000</td>\n",
        "      <td> 0.952006</td>\n",
        "    </tr>\n",
        "    <tr>\n",
        "      <th>z</th>\n",
        "      <td> 0.953387</td>\n",
        "      <td> 0.094924</td>\n",
        "      <td> 0.150929</td>\n",
        "      <td> 0.861249</td>\n",
        "      <td> 0.970772</td>\n",
        "      <td> 0.952006</td>\n",
        "      <td> 1.000000</td>\n",
        "    </tr>\n",
        "  </tbody>\n",
        "</table>\n",
        "</div>"
       ],
       "metadata": {},
       "output_type": "pyout",
       "prompt_number": 75,
       "text": [
        "          carat     depth     table     price         x         y         z\n",
        "carat  1.000000  0.028224  0.181618  0.921591  0.975094  0.951722  0.953387\n",
        "depth  0.028224  1.000000 -0.295779 -0.010647 -0.025289 -0.029341  0.094924\n",
        "table  0.181618 -0.295779  1.000000  0.127134  0.195344  0.183760  0.150929\n",
        "price  0.921591 -0.010647  0.127134  1.000000  0.884435  0.865421  0.861249\n",
        "x      0.975094 -0.025289  0.195344  0.884435  1.000000  0.974701  0.970772\n",
        "y      0.951722 -0.029341  0.183760  0.865421  0.974701  1.000000  0.952006\n",
        "z      0.953387  0.094924  0.150929  0.861249  0.970772  0.952006  1.000000"
       ]
      }
     ],
     "prompt_number": 75
    },
    {
     "cell_type": "heading",
     "level": 3,
     "metadata": {},
     "source": [
      "Compute mean values for each cut"
     ]
    },
    {
     "cell_type": "code",
     "collapsed": false,
     "input": [
      "diamonds.groupby(\"cut\").mean()"
     ],
     "language": "python",
     "metadata": {},
     "outputs": [
      {
       "html": [
        "<div style=\"max-height:1000px;max-width:1500px;overflow:auto;\">\n",
        "<table border=\"1\" class=\"dataframe\">\n",
        "  <thead>\n",
        "    <tr style=\"text-align: right;\">\n",
        "      <th></th>\n",
        "      <th>carat</th>\n",
        "      <th>depth</th>\n",
        "      <th>table</th>\n",
        "      <th>price</th>\n",
        "      <th>x</th>\n",
        "      <th>y</th>\n",
        "      <th>z</th>\n",
        "    </tr>\n",
        "    <tr>\n",
        "      <th>cut</th>\n",
        "      <th></th>\n",
        "      <th></th>\n",
        "      <th></th>\n",
        "      <th></th>\n",
        "      <th></th>\n",
        "      <th></th>\n",
        "      <th></th>\n",
        "    </tr>\n",
        "  </thead>\n",
        "  <tbody>\n",
        "    <tr>\n",
        "      <th>Fair</th>\n",
        "      <td> 1.046137</td>\n",
        "      <td> 64.041677</td>\n",
        "      <td> 59.053789</td>\n",
        "      <td> 4358.757764</td>\n",
        "      <td> 6.246894</td>\n",
        "      <td> 6.182652</td>\n",
        "      <td> 3.982770</td>\n",
        "    </tr>\n",
        "    <tr>\n",
        "      <th>Good</th>\n",
        "      <td> 0.849185</td>\n",
        "      <td> 62.365879</td>\n",
        "      <td> 58.694639</td>\n",
        "      <td> 3928.864452</td>\n",
        "      <td> 5.838785</td>\n",
        "      <td> 5.850744</td>\n",
        "      <td> 3.639507</td>\n",
        "    </tr>\n",
        "    <tr>\n",
        "      <th>Ideal</th>\n",
        "      <td> 0.702837</td>\n",
        "      <td> 61.709401</td>\n",
        "      <td> 55.951668</td>\n",
        "      <td> 3457.541970</td>\n",
        "      <td> 5.507451</td>\n",
        "      <td> 5.520080</td>\n",
        "      <td> 3.401448</td>\n",
        "    </tr>\n",
        "    <tr>\n",
        "      <th>Premium</th>\n",
        "      <td> 0.891955</td>\n",
        "      <td> 61.264673</td>\n",
        "      <td> 58.746095</td>\n",
        "      <td> 4584.257704</td>\n",
        "      <td> 5.973887</td>\n",
        "      <td> 5.944879</td>\n",
        "      <td> 3.647124</td>\n",
        "    </tr>\n",
        "    <tr>\n",
        "      <th>Very Good</th>\n",
        "      <td> 0.806381</td>\n",
        "      <td> 61.818275</td>\n",
        "      <td> 57.956150</td>\n",
        "      <td> 3981.759891</td>\n",
        "      <td> 5.740696</td>\n",
        "      <td> 5.770026</td>\n",
        "      <td> 3.559801</td>\n",
        "    </tr>\n",
        "  </tbody>\n",
        "</table>\n",
        "</div>"
       ],
       "metadata": {},
       "output_type": "pyout",
       "prompt_number": 76,
       "text": [
        "              carat      depth      table        price         x         y  \\\n",
        "cut                                                                          \n",
        "Fair       1.046137  64.041677  59.053789  4358.757764  6.246894  6.182652   \n",
        "Good       0.849185  62.365879  58.694639  3928.864452  5.838785  5.850744   \n",
        "Ideal      0.702837  61.709401  55.951668  3457.541970  5.507451  5.520080   \n",
        "Premium    0.891955  61.264673  58.746095  4584.257704  5.973887  5.944879   \n",
        "Very Good  0.806381  61.818275  57.956150  3981.759891  5.740696  5.770026   \n",
        "\n",
        "                  z  \n",
        "cut                  \n",
        "Fair       3.982770  \n",
        "Good       3.639507  \n",
        "Ideal      3.401448  \n",
        "Premium    3.647124  \n",
        "Very Good  3.559801  "
       ]
      }
     ],
     "prompt_number": 76
    },
    {
     "cell_type": "heading",
     "level": 1,
     "metadata": {},
     "source": [
      "Plotting"
     ]
    },
    {
     "cell_type": "heading",
     "level": 3,
     "metadata": {},
     "source": [
      "Pandas DataFrames have include the pyplot.plot function"
     ]
    },
    {
     "cell_type": "code",
     "collapsed": false,
     "input": [
      "x = np.linspace(0, 6, 100)\n",
      "a = np.array( [x, np.sin(x), x*x] ).transpose()\n",
      "df = pd.DataFrame( a, columns=[\"x\", \"sinx\", \"sqx\"] )\n",
      "df.plot(x=\"x\", y=[\"sinx\", \"sqx\"])"
     ],
     "language": "python",
     "metadata": {},
     "outputs": [
      {
       "metadata": {},
       "output_type": "pyout",
       "prompt_number": 77,
       "text": [
        "<matplotlib.axes._subplots.AxesSubplot at 0x7fa339d9fb10>"
       ]
      },
      {
       "metadata": {},
       "output_type": "display_data",
       "png": "[encoded data removed]",
       "text": [
        "<matplotlib.figure.Figure at 0x7fa339d9f4d0>"
       ]
      }
     ],
     "prompt_number": 77
    },
    {
     "cell_type": "heading",
     "level": 3,
     "metadata": {},
     "source": [
      "Scatterplot"
     ]
    },
    {
     "cell_type": "code",
     "collapsed": false,
     "input": [
      "diamonds.plot(x=\"carat\", y=\"price\", kind='scatter')"
     ],
     "language": "python",
     "metadata": {},
     "outputs": [
      {
       "metadata": {},
       "output_type": "pyout",
       "prompt_number": 78,
       "text": [
        "<matplotlib.axes._subplots.AxesSubplot at 0x7fa339d32550>"
       ]
      },
      {
       "metadata": {},
       "output_type": "display_data",
       "png": "[encoded data removed]",
       "text": [
        "<matplotlib.figure.Figure at 0x7fa339d93e90>"
       ]
      }
     ],
     "prompt_number": 78
    },
    {
     "cell_type": "heading",
     "level": 3,
     "metadata": {},
     "source": [
      "Histogramm of diamond prices"
     ]
    },
    {
     "cell_type": "code",
     "collapsed": false,
     "input": [
      "diamonds[\"price\"].plot(kind=\"hist\")"
     ],
     "language": "python",
     "metadata": {},
     "outputs": [
      {
       "metadata": {},
       "output_type": "pyout",
       "prompt_number": 79,
       "text": [
        "<matplotlib.axes._subplots.AxesSubplot at 0x7fa339ccd490>"
       ]
      },
      {
       "metadata": {},
       "output_type": "display_data",
       "png": "[encoded data removed]",
       "text": [
        "<matplotlib.figure.Figure at 0x7fa33990f850>"
       ]
      }
     ],
     "prompt_number": 79
    },
    {
     "cell_type": "heading",
     "level": 3,
     "metadata": {},
     "source": [
      "Bar plot"
     ]
    },
    {
     "cell_type": "code",
     "collapsed": false,
     "input": [
      "diamonds.groupby(\"cut\")[\"price\"].sum().plot(kind=\"barh\")"
     ],
     "language": "python",
     "metadata": {},
     "outputs": [
      {
       "metadata": {},
       "output_type": "pyout",
       "prompt_number": 80,
       "text": [
        "<matplotlib.axes._subplots.AxesSubplot at 0x7fa3397f0250>"
       ]
      },
      {
       "metadata": {},
       "output_type": "display_data",
       "png": "[encoded data removed]",
       "text": [
        "<matplotlib.figure.Figure at 0x7fa3397fb690>"
       ]
      }
     ],
     "prompt_number": 80
    },
    {
     "cell_type": "heading",
     "level": 3,
     "metadata": {},
     "source": [
      "Stacked bar plot"
     ]
    },
    {
     "cell_type": "code",
     "collapsed": false,
     "input": [
      "price_per_color = diamonds.groupby( [\"cut\", \"color\"] )[\"price\"].sum().unstack()\n",
      "price_per_color.plot(kind=\"barh\", stacked=True)\n",
      "#price_per_color"
     ],
     "language": "python",
     "metadata": {},
     "outputs": [
      {
       "metadata": {},
       "output_type": "pyout",
       "prompt_number": 81,
       "text": [
        "<matplotlib.axes._subplots.AxesSubplot at 0x7fa3397d9f50>"
       ]
      },
      {
       "metadata": {},
       "output_type": "display_data",
       "png": "[encoded data removed]",
       "text": [
        "<matplotlib.figure.Figure at 0x7fa33a27aa90>"
       ]
      }
     ],
     "prompt_number": 81
    }
   ],
   "metadata": {}
  }
 ]
}