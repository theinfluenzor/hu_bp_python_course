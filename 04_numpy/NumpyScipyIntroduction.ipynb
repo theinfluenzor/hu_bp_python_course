{
 "metadata": {
  "name": "",
  "signature": "sha256:c6135017b6dff60cc749edc1bc735f40da1e336886c04251f1f749108ac8ef9b"
 },
 "nbformat": 3,
 "nbformat_minor": 0,
 "worksheets": [
  {
   "cells": [
    {
     "cell_type": "heading",
     "level": 3,
     "metadata": {},
     "source": [
      "Importing"
     ]
    },
    {
     "cell_type": "code",
     "collapsed": false,
     "input": [
      "import numpy as np"
     ],
     "language": "python",
     "metadata": {},
     "outputs": [],
     "prompt_number": 1
    },
    {
     "cell_type": "heading",
     "level": 3,
     "metadata": {},
     "source": [
      "Numpy arrays"
     ]
    },
    {
     "cell_type": "code",
     "collapsed": false,
     "input": [
      "a = np.array( [1, 2, 3, 4, 5], float)\n",
      "a"
     ],
     "language": "python",
     "metadata": {},
     "outputs": [
      {
       "metadata": {},
       "output_type": "pyout",
       "prompt_number": 16,
       "text": [
        "array([ 1.,  2.,  3.,  4.,  5.])"
       ]
      }
     ],
     "prompt_number": 16
    },
    {
     "cell_type": "code",
     "collapsed": false,
     "input": [
      "b = np.array( [9,8,9], int)\n",
      "print b.dtype"
     ],
     "language": "python",
     "metadata": {},
     "outputs": [
      {
       "output_type": "stream",
       "stream": "stdout",
       "text": [
        "int64\n"
       ]
      }
     ],
     "prompt_number": 21
    },
    {
     "cell_type": "heading",
     "level": 3,
     "metadata": {},
     "source": [
      "Numpy arrays behave similar to pPython arrays"
     ]
    },
    {
     "cell_type": "code",
     "collapsed": false,
     "input": [
      "print a[2:]\n",
      "print a[-1]\n",
      "print a[2:4]\n",
      "a[0] = 5\n",
      "print a"
     ],
     "language": "python",
     "metadata": {},
     "outputs": [
      {
       "output_type": "stream",
       "stream": "stdout",
       "text": [
        "[ 3.  4.  5.]\n",
        "5.0\n",
        "[ 3.  4.]\n",
        "[ 5.  2.  3.  4.  5.]\n"
       ]
      }
     ],
     "prompt_number": 29
    },
    {
     "cell_type": "code",
     "collapsed": false,
     "input": [
      "for elem in a:\n",
      "    print elem"
     ],
     "language": "python",
     "metadata": {},
     "outputs": [
      {
       "output_type": "stream",
       "stream": "stdout",
       "text": [
        "5.0\n",
        "2.0\n",
        "3.0\n",
        "4.0\n",
        "5.0\n"
       ]
      }
     ],
     "prompt_number": 30
    },
    {
     "cell_type": "heading",
     "level": 3,
     "metadata": {},
     "source": [
      "Multi-dimensional arrays"
     ]
    },
    {
     "cell_type": "code",
     "collapsed": false,
     "input": [
      "A = np.array( [[1,2,3], [4,5,6], [7,8,9]])\n",
      "A"
     ],
     "language": "python",
     "metadata": {},
     "outputs": [
      {
       "metadata": {},
       "output_type": "pyout",
       "prompt_number": 243,
       "text": [
        "array([[1, 2, 3],\n",
        "       [4, 5, 6],\n",
        "       [7, 8, 9]])"
       ]
      }
     ],
     "prompt_number": 243
    },
    {
     "cell_type": "code",
     "collapsed": false,
     "input": [
      "print A[0,0]\n",
      "print A[2,:]\n",
      "print A[:,0]\n",
      "print \n",
      "print A[::1,1]"
     ],
     "language": "python",
     "metadata": {},
     "outputs": [
      {
       "output_type": "stream",
       "stream": "stdout",
       "text": [
        "1\n",
        "[7 8 9]\n",
        "[1 4 7]\n",
        "\n",
        "[2 5 8]\n"
       ]
      }
     ],
     "prompt_number": 251
    },
    {
     "cell_type": "heading",
     "level": 3,
     "metadata": {},
     "source": [
      "Slicing"
     ]
    },
    {
     "cell_type": "code",
     "collapsed": false,
     "input": [
      "a = np.array( range(15) )\n",
      "print a[1:10:2]\n",
      "a[1::2] = 0\n",
      "print a"
     ],
     "language": "python",
     "metadata": {},
     "outputs": [
      {
       "output_type": "stream",
       "stream": "stdout",
       "text": [
        "[1 3 5 7 9]\n",
        "[ 0  0  2  0  4  0  6  0  8  0 10  0 12  0 14]\n"
       ]
      }
     ],
     "prompt_number": 264
    },
    {
     "cell_type": "heading",
     "level": 3,
     "metadata": {},
     "source": [
      "Array dimensions"
     ]
    },
    {
     "cell_type": "code",
     "collapsed": false,
     "input": [
      "print len(A)     # length of 1st dimension\n",
      "print A.shape    # shape of the arrays"
     ],
     "language": "python",
     "metadata": {},
     "outputs": [
      {
       "output_type": "stream",
       "stream": "stdout",
       "text": [
        "3\n",
        "(3, 3)\n"
       ]
      }
     ],
     "prompt_number": 44
    },
    {
     "cell_type": "heading",
     "level": 3,
     "metadata": {},
     "source": [
      "Check occurrence"
     ]
    },
    {
     "cell_type": "code",
     "collapsed": false,
     "input": [
      "print 2 in A\n",
      "print 13 in A"
     ],
     "language": "python",
     "metadata": {},
     "outputs": [
      {
       "output_type": "stream",
       "stream": "stdout",
       "text": [
        "True\n",
        "False\n"
       ]
      }
     ],
     "prompt_number": 47
    },
    {
     "cell_type": "heading",
     "level": 3,
     "metadata": {},
     "source": [
      "Changing the shape of an array"
     ]
    },
    {
     "cell_type": "code",
     "collapsed": false,
     "input": [
      "c = np.array([1,2,3,4,5,6])\n",
      "print c\n",
      "c.reshape( (3,2) ) # reshape takes a dimension tuple as input (#rows,#cols)"
     ],
     "language": "python",
     "metadata": {},
     "outputs": [
      {
       "output_type": "stream",
       "stream": "stdout",
       "text": [
        "[1 2 3 4 5 6]\n"
       ]
      },
      {
       "metadata": {},
       "output_type": "pyout",
       "prompt_number": 53,
       "text": [
        "array([[1, 2],\n",
        "       [3, 4],\n",
        "       [5, 6]])"
       ]
      }
     ],
     "prompt_number": 53
    },
    {
     "cell_type": "heading",
     "level": 3,
     "metadata": {},
     "source": [
      "Attention: deep-copy vs. shallow-copy"
     ]
    },
    {
     "cell_type": "code",
     "collapsed": false,
     "input": [
      "a = np.array([1,2,3])\n",
      "b = a\n",
      "c = a.copy()\n",
      "a[0]=6\n",
      "print a\n",
      "print b\n",
      "print c"
     ],
     "language": "python",
     "metadata": {},
     "outputs": [
      {
       "output_type": "stream",
       "stream": "stdout",
       "text": [
        "[6 2 3]\n",
        "[6 2 3]\n",
        "[1 2 3]\n"
       ]
      }
     ],
     "prompt_number": 64
    },
    {
     "cell_type": "heading",
     "level": 3,
     "metadata": {},
     "source": [
      "Further array functions"
     ]
    },
    {
     "cell_type": "code",
     "collapsed": false,
     "input": [
      "# convert to python list\n",
      "a.tolist()\n",
      "\n",
      "# fill up with new value\n",
      "a.fill(12)\n",
      "\n",
      "print A\n",
      "print A.transpose() # transpose matrix\n",
      "print A.T           # same as A.transpose()"
     ],
     "language": "python",
     "metadata": {},
     "outputs": [
      {
       "output_type": "stream",
       "stream": "stdout",
       "text": [
        "[[1 2 3]\n",
        " [4 5 6]\n",
        " [7 8 9]]\n",
        "[[1 4 7]\n",
        " [2 5 8]\n",
        " [3 6 9]]\n",
        "[[1 4 7]\n",
        " [2 5 8]\n",
        " [3 6 9]]\n"
       ]
      }
     ],
     "prompt_number": 72
    },
    {
     "cell_type": "code",
     "collapsed": false,
     "input": [
      "# concatenate arrays\n",
      "B = A.transpose()\n",
      "\n",
      "np.concatenate( (A,B) )\n",
      "np.concatenate( (A,B), axis=1 )\n"
     ],
     "language": "python",
     "metadata": {},
     "outputs": [
      {
       "metadata": {},
       "output_type": "pyout",
       "prompt_number": 77,
       "text": [
        "array([[1, 2, 3, 1, 4, 7],\n",
        "       [4, 5, 6, 2, 5, 8],\n",
        "       [7, 8, 9, 3, 6, 9]])"
       ]
      }
     ],
     "prompt_number": 77
    },
    {
     "cell_type": "heading",
     "level": 3,
     "metadata": {},
     "source": [
      "Convenient functions to construct arrays"
     ]
    },
    {
     "cell_type": "code",
     "collapsed": false,
     "input": [
      "# equally spaced values within an interval: arange( start, stop, step )\n",
      "np.arange(0, 5, 0.1)"
     ],
     "language": "python",
     "metadata": {},
     "outputs": [
      {
       "metadata": {},
       "output_type": "pyout",
       "prompt_number": 81,
       "text": [
        "array([ 0. ,  0.1,  0.2,  0.3,  0.4,  0.5,  0.6,  0.7,  0.8,  0.9,  1. ,\n",
        "        1.1,  1.2,  1.3,  1.4,  1.5,  1.6,  1.7,  1.8,  1.9,  2. ,  2.1,\n",
        "        2.2,  2.3,  2.4,  2.5,  2.6,  2.7,  2.8,  2.9,  3. ,  3.1,  3.2,\n",
        "        3.3,  3.4,  3.5,  3.6,  3.7,  3.8,  3.9,  4. ,  4.1,  4.2,  4.3,\n",
        "        4.4,  4.5,  4.6,  4.7,  4.8,  4.9])"
       ]
      }
     ],
     "prompt_number": 81
    },
    {
     "cell_type": "code",
     "collapsed": false,
     "input": [
      "# generate 1 or 0-arrays\n",
      "print np.ones( (2,3) )\n",
      "print np.zeros( (3,4) )"
     ],
     "language": "python",
     "metadata": {},
     "outputs": [
      {
       "output_type": "stream",
       "stream": "stdout",
       "text": [
        "[[ 1.  1.  1.]\n",
        " [ 1.  1.  1.]]\n",
        "[[ 0.  0.  0.  0.]\n",
        " [ 0.  0.  0.  0.]\n",
        " [ 0.  0.  0.  0.]]\n"
       ]
      }
     ],
     "prompt_number": 84
    },
    {
     "cell_type": "code",
     "collapsed": false,
     "input": [
      "# construct an array with a similar shape to another one\n",
      "np.zeros_like(A)"
     ],
     "language": "python",
     "metadata": {},
     "outputs": [
      {
       "metadata": {},
       "output_type": "pyout",
       "prompt_number": 85,
       "text": [
        "array([[0, 0, 0],\n",
        "       [0, 0, 0],\n",
        "       [0, 0, 0]])"
       ]
      }
     ],
     "prompt_number": 85
    },
    {
     "cell_type": "code",
     "collapsed": false,
     "input": [
      "# identity matrix\n",
      "Id = np.identity(4)\n",
      "Id"
     ],
     "language": "python",
     "metadata": {},
     "outputs": [
      {
       "metadata": {},
       "output_type": "pyout",
       "prompt_number": 86,
       "text": [
        "array([[ 1.,  0.,  0.,  0.],\n",
        "       [ 0.,  1.,  0.,  0.],\n",
        "       [ 0.,  0.,  1.,  0.],\n",
        "       [ 0.,  0.,  0.,  1.]])"
       ]
      }
     ],
     "prompt_number": 86
    },
    {
     "cell_type": "heading",
     "level": 1,
     "metadata": {},
     "source": [
      "numpy mathematics"
     ]
    },
    {
     "cell_type": "heading",
     "level": 3,
     "metadata": {},
     "source": [
      "All operations on arrays are elementwise per default"
     ]
    },
    {
     "cell_type": "code",
     "collapsed": false,
     "input": [
      "A = np.array([[1,2],[3,4]])\n",
      "B = np.array([[0,1],[1,0]])\n",
      "A + B\n",
      "A - B\n",
      "A * B\n",
      "B / A\n",
      "A ** B"
     ],
     "language": "python",
     "metadata": {},
     "outputs": [
      {
       "metadata": {},
       "output_type": "pyout",
       "prompt_number": 265,
       "text": [
        "array([[1, 2],\n",
        "       [3, 1]])"
       ]
      }
     ],
     "prompt_number": 265
    },
    {
     "cell_type": "heading",
     "level": 3,
     "metadata": {},
     "source": [
      "smaller arrays are broadcasted automatically"
     ]
    },
    {
     "cell_type": "code",
     "collapsed": false,
     "input": [
      "A = np.ones( (3,3) )\n",
      "c = np.array([1,2,3])\n",
      "# per default arrays are added row-wise\n",
      "A + c\n",
      "# like this col-wise\n",
      "A + c[:,np.newaxis]"
     ],
     "language": "python",
     "metadata": {},
     "outputs": [
      {
       "metadata": {},
       "output_type": "pyout",
       "prompt_number": 111,
       "text": [
        "array([[ 2.,  2.,  2.],\n",
        "       [ 3.,  3.,  3.],\n",
        "       [ 4.,  4.,  4.]])"
       ]
      }
     ],
     "prompt_number": 111
    },
    {
     "cell_type": "heading",
     "level": 3,
     "metadata": {},
     "source": [
      "useful array functions\n"
     ]
    },
    {
     "cell_type": "code",
     "collapsed": false,
     "input": [
      "# element-wise functions\n",
      "np.sqrt(a) # square root\n",
      "np.sign(a) # sign\n",
      "np.log(a) # natural logarithm\n",
      "np.log10(a) # decadic logarithm\n",
      "np.exp(a) #exponential\n",
      "np.sin(a) # trigonometric (also cos, tan, arcsin, arccos, arctan)\n",
      "\n",
      "# non-element-wise\n",
      "a.sum() # sum of all elements \n",
      "a.prod() # product of all elements\n",
      "a.mean() # mean\n",
      "a.var() # variance\n",
      "a.std() # standard deviation\n",
      "a.max() # maximum\n",
      "a.min() # minimum\n",
      "a.sort()\n",
      "\n",
      "np.unique( [1,1,3,3,5] ) # get unique elements"
     ],
     "language": "python",
     "metadata": {},
     "outputs": [
      {
       "metadata": {},
       "output_type": "pyout",
       "prompt_number": 129,
       "text": [
        "array([1, 3, 5])"
       ]
      }
     ],
     "prompt_number": 129
    },
    {
     "cell_type": "heading",
     "level": 3,
     "metadata": {},
     "source": [
      "Matrix multiplication"
     ]
    },
    {
     "cell_type": "code",
     "collapsed": false,
     "input": [
      "A = np.array( [[0,1], [1,0]] )\n",
      "v = np.array( [6,7] )\n",
      "np.dot( A,v ) # matrix product"
     ],
     "language": "python",
     "metadata": {},
     "outputs": [
      {
       "metadata": {},
       "output_type": "pyout",
       "prompt_number": 134,
       "text": [
        "array([7, 6])"
       ]
      }
     ],
     "prompt_number": 134
    },
    {
     "cell_type": "heading",
     "level": 3,
     "metadata": {},
     "source": [
      "Linear algebra in numpy"
     ]
    },
    {
     "cell_type": "code",
     "collapsed": false,
     "input": [
      "np.linalg.det(A) # determinant\n",
      "np.linalg.eig(A) # eigenvalues and eigenvectors\n",
      "np.linalg.inv(A) # matrix inverse\n",
      "np.linalg.svd(A) # singular value decomposition"
     ],
     "language": "python",
     "metadata": {},
     "outputs": [
      {
       "metadata": {},
       "output_type": "pyout",
       "prompt_number": 141,
       "text": [
        "(array([[ 0., -1.],\n",
        "        [-1.,  0.]]), array([ 1.,  1.]), array([[-1., -0.],\n",
        "        [-0., -1.]]))"
       ]
      }
     ],
     "prompt_number": 141
    },
    {
     "cell_type": "heading",
     "level": 3,
     "metadata": {},
     "source": [
      "Advaned array acessing"
     ]
    },
    {
     "cell_type": "code",
     "collapsed": false,
     "input": [
      "a = np.array( [1,6,3,4,9,6,7,3,2,4,5] )\n",
      "a[ a>4 ] # get all elements larger than 4\n",
      "a[ np.logical_and(a>4, a<12) ]\n",
      "\n",
      "# acessing via index\n",
      "indices = [1,3]\n",
      "a[indices]"
     ],
     "language": "python",
     "metadata": {},
     "outputs": [
      {
       "metadata": {},
       "output_type": "pyout",
       "prompt_number": 152,
       "text": [
        "array([6, 4])"
       ]
      }
     ],
     "prompt_number": 152
    },
    {
     "cell_type": "heading",
     "level": 1,
     "metadata": {},
     "source": [
      "Scipy"
     ]
    },
    {
     "cell_type": "markdown",
     "metadata": {},
     "source": [
      "Scipy is a collection of useful scientific algorithms\n",
      "\n",
      "* scipy.integrate\n",
      "* scipy.optimize\n",
      "* scipy.interpolate\n",
      "* etc...\n"
     ]
    },
    {
     "cell_type": "code",
     "collapsed": false,
     "input": [
      "import scipy as sp \n",
      "import scipy.optimize"
     ],
     "language": "python",
     "metadata": {},
     "outputs": [],
     "prompt_number": 159
    },
    {
     "cell_type": "code",
     "collapsed": false,
     "input": [
      "from matplotlib import pyplot as plt\n",
      "plt.style.use('ggplot')\n",
      "%matplotlib inline"
     ],
     "language": "python",
     "metadata": {},
     "outputs": [],
     "prompt_number": 180
    },
    {
     "cell_type": "heading",
     "level": 3,
     "metadata": {},
     "source": [
      "Example 1: numerical minimization of a function"
     ]
    },
    {
     "cell_type": "code",
     "collapsed": false,
     "input": [
      "# define a function\n",
      "def myfunc( x ):\n",
      "    return ( 3 + x ) * (3 - x)  * -12\n",
      "\n",
      "\n",
      "# minimize using scipy\n",
      "sp.optimize.minimize_scalar( myfunc )"
     ],
     "language": "python",
     "metadata": {},
     "outputs": [
      {
       "metadata": {},
       "output_type": "pyout",
       "prompt_number": 188,
       "text": [
        "  fun: -108.0\n",
        " nfev: 39\n",
        "  nit: 38\n",
        "    x: -3.195989243713537e-11"
       ]
      }
     ],
     "prompt_number": 188
    },
    {
     "cell_type": "code",
     "collapsed": false,
     "input": [
      "# plot the function \n",
      "x = np.arange( -100, 100, 1 )\n",
      "plt.plot(x, myfunc(x) )\n"
     ],
     "language": "python",
     "metadata": {},
     "outputs": [
      {
       "metadata": {},
       "output_type": "pyout",
       "prompt_number": 190,
       "text": [
        "[<matplotlib.lines.Line2D at 0x7f51b5070150>]"
       ]
      },
      {
       "metadata": {},
       "output_type": "display_data",
       "png": "[encoded data removed]",
       "text": [
        "<matplotlib.figure.Figure at 0x7f51b4c892d0>"
       ]
      }
     ],
     "prompt_number": 190
    },
    {
     "cell_type": "heading",
     "level": 3,
     "metadata": {},
     "source": [
      "Example 2: numerical integration"
     ]
    },
    {
     "cell_type": "markdown",
     "metadata": {},
     "source": [
      "Consider a growing bacterial population with a doubling time of *2 hours*\n",
      "\n",
      "this means that the growth rate is $$ k_g = \\frac {ln( 2 )} {2} = 0.34657359027997264 $$\n",
      "\n",
      "\n",
      "and the growth model: \n",
      "$$ \\frac {dx} {dt} = k_g \\cdot x $$\n",
      "\n",
      "lets integrate this ODE using scipy.integrate.odeint\n",
      " "
     ]
    },
    {
     "cell_type": "code",
     "collapsed": false,
     "input": [
      "import scipy.integrate\n",
      "\n",
      "k_g = math.log(2)/2\n",
      "x0  = 1e-5\n",
      "time = np.arange(0,10,1)\n",
      "\n",
      "\n",
      "def dxdt( x, t ):\n",
      "    return k_g * x\n",
      "\n",
      "\n",
      "result = scipy.integrate.odeint(dxdt, x0, time )\n",
      "\n",
      "plt.plot( time, result)\n",
      "\n"
     ],
     "language": "python",
     "metadata": {},
     "outputs": [
      {
       "metadata": {},
       "output_type": "pyout",
       "prompt_number": 234,
       "text": [
        "[<matplotlib.lines.Line2D at 0x7f51b2e6ad90>]"
       ]
      },
      {
       "metadata": {},
       "output_type": "display_data",
       "png": "[encoded data removed]",
       "text": [
        "<matplotlib.figure.Figure at 0x7f51b2dd20d0>"
       ]
      }
     ],
     "prompt_number": 234
    },
    {
     "cell_type": "heading",
     "level": 3,
     "metadata": {},
     "source": [
      "Compare exact and numerical solutions"
     ]
    },
    {
     "cell_type": "code",
     "collapsed": false,
     "input": [
      "exact = x0 * np.exp( k_g*time )\n",
      "exact - result.T\n",
      "\n",
      "plt.plot( time, (exact - result.T).T )"
     ],
     "language": "python",
     "metadata": {},
     "outputs": [
      {
       "metadata": {},
       "output_type": "pyout",
       "prompt_number": 235,
       "text": [
        "[<matplotlib.lines.Line2D at 0x7f51b2d70850>]"
       ]
      },
      {
       "metadata": {},
       "output_type": "display_data",
       "png": "[encoded data removed]",
       "text": [
        "<matplotlib.figure.Figure at 0x7f51b2f00a10>"
       ]
      }
     ],
     "prompt_number": 235
    }
   ],
   "metadata": {}
  }
 ]
}