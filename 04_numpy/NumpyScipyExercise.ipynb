{
 "metadata": {
  "name": "",
  "signature": "sha256:a811e0a3b222dc6eaf65e01428901222fd6c04d79283bd19013355123137625e"
 },
 "nbformat": 3,
 "nbformat_minor": 0,
 "worksheets": [
  {
   "cells": [
    {
     "cell_type": "heading",
     "level": 1,
     "metadata": {},
     "source": [
      "Exercise Numpy/Scipy"
     ]
    },
    {
     "cell_type": "markdown",
     "metadata": {},
     "source": [
      "### 1. Basics\n",
      "1. generate a 1-vector of size 10\n",
      "2. generate a zero-matrix of size 4x3\n",
      "3. generate a 3x3 identity matrix\n",
      "4. contruct a vector of length 100 with alternating ones and zeros ( hint: use slice indexing )\n",
      "5. construct a 8x8 matrix with a checkboard pattern of zeros and ones\n",
      "6. create a random vector of size 100 and sort it\n",
      "7. compute the inverse, eigenvectors and eigenvalues of the following matrix:\n",
      "$$\\mathbf{A} = \\left[\\begin{array}\n",
      "{rrr}\n",
      "1 & 2 & 3 \\\\\n",
      "4 & 5 & 6 \\\\\n",
      "7 & 8 & 9\n",
      "\\end{array}\\right]\n",
      "$$\n"
     ]
    },
    {
     "cell_type": "code",
     "collapsed": false,
     "input": [
      "import numpy as np\n",
      "import scipy as sp"
     ],
     "language": "python",
     "metadata": {},
     "outputs": [],
     "prompt_number": 1
    },
    {
     "cell_type": "code",
     "collapsed": false,
     "input": [],
     "language": "python",
     "metadata": {},
     "outputs": [],
     "prompt_number": 0
    },
    {
     "cell_type": "markdown",
     "metadata": {},
     "source": [
      "### 2. Solving ordinary differential equations (ODEs) using scipy\n",
      "\n",
      "Consider the following hypothetical reaction system which was first proposed by Alfred J. Lotka (Lotka-Voltera System):\n",
      "$$ \\begin{align} \n",
      "r1:& \\;\\; X \\rightarrow 2 X \\\\ \n",
      "r2:& \\;\\; X + Y \\rightarrow 2 Y \\\\\n",
      "r3:& \\;\\; Y \\rightarrow \\varnothing \n",
      "\\end{align} $$\n",
      "\n",
      "1. set up the stoichiometric matrix of the system (this can be done without Python)\n",
      "2. the rate of change of the species participating in a reaction system can be written as\n",
      "$$ \\frac {dS} {dt} = N \\cdot v(S,p) $$\n",
      "with the vector of species concentrations $S$, the stoichiometric matrix N and the vector of reaction velocities $v(S,p)$ ($p$ denotes a vector of parmameters)\n",
      "define a function `dSdt( S, t )` which computes the rate of change for each species, given the vector of current species concentrations $S$ and the current time $t$. Assume that all reactions follow irreversible mass-action kinetics with parameters $k_1 = 1.5$, $k_2 = 0.8 $ and $k_3 = 0.9$, each equal to \n",
      "3. Use the scipy ODE integrator scipy.integrate.odeint to solve the reaction system numerically on the time interval $t \\in [0, 30]$ using the following initial conditions: $X(0)= Y(0) = 1$"
     ]
    },
    {
     "cell_type": "code",
     "collapsed": false,
     "input": [
      "import scipy.integrate\n",
      "from matplotlib import pyplot as plt\n",
      "plt.style.use('ggplot')\n",
      "%matplotlib inline\n"
     ],
     "language": "python",
     "metadata": {},
     "outputs": [],
     "prompt_number": 1
    },
    {
     "cell_type": "markdown",
     "metadata": {},
     "source": [
      "### 3. Parameter fitting\n",
      "\n",
      "You have been provided with an experimenal time-course measurement of the X and Y species (pickled object `experimental_data.p`). The data has the form of a numpy array with the first column representing the experimental time (in seconds), column 2 the measurement of X (in mM) and column 3 Y.\n",
      "\n",
      "* modify the `dSdt` function from above, such that a parameter vector `p`$= [k1, k2, k3]$ can be passed in addition to `S` and `t`\n",
      "\n",
      "* define an objective function `obj_fct( p, S_exp, t_exp )` which computes the squared distance between the experimental data and a model simulation for the parameters `p`$= [k1, k2, k3]$ for the time point vector `t_exp` (assume that the initial conditions are known and as defined above), (hint: additional arguments can be passed to the function integrated by `scipy.optimize.odeint` using the `args = (p,)` argument. Dont forget the comma in the tuple!\n",
      "\n",
      "* try to identify the parameters of the reaction system using this objective function and the `sicipy.optimize.fmin` minimization algorithm. Fit only parameters k2 and k3 and keep k1 at 1.5. Use the parameters given above as starting values.\n",
      "\n",
      "* plot a simulation of t"
     ]
    },
    {
     "cell_type": "code",
     "collapsed": false,
     "input": [
      "import pickle\n",
      "import scipy.optimize"
     ],
     "language": "python",
     "metadata": {},
     "outputs": [],
     "prompt_number": 2
    }
   ],
   "metadata": {}
  }
 ]
}